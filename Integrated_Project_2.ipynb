{
 "cells": [
  {
   "cell_type": "markdown",
   "metadata": {},
   "source": [
    "# Optimizing Gold Smelting Processes: A Machine Learning Approach for Zyfra\n",
    "Zyfra, a company focused on creating efficiency solutions for heavy industry, needs to optimize the efficiency of its gold smelting process.  A machine learning model can accurately predict the amount of gold extracted from ore to improve the operational efficiency of gold extraction and purification.  This project will rely on extraction and purification data.  First, I will clean and prepare this data for use in building a machine learning model.  Next, I will analyze the data to identify patterns and particular features that may influence the model's accuracy.  Finally, I will train a model to make reliable predictions of gold recovery processes.\n",
    "## Data Preparation\n",
    "This project will rely on pandas for data manipulation, numpy, matplotlib, and seaborn for visualizing data, and scikit-learn for building and training the model."
   ]
  },
  {
   "cell_type": "code",
   "execution_count": 180,
   "metadata": {},
   "outputs": [],
   "source": [
    "import pandas as pd\n",
    "import numpy as np\n",
    "from sklearn.ensemble import RandomForestRegressor\n",
    "from sklearn.multioutput import MultiOutputRegressor as mor\n",
    "from sklearn.linear_model import LinearRegression\n",
    "from sklearn.metrics import mean_squared_error as mse, mean_absolute_error, make_scorer as ms\n",
    "import matplotlib.pyplot as plt\n",
    "from sklearn.utils import shuffle\n",
    "from sklearn.preprocessing import StandardScaler\n",
    "import seaborn as sns\n",
    "from sklearn.impute import SimpleImputer\n",
    "from sklearn.model_selection import cross_val_score as cvs, KFold, RandomizedSearchCV"
   ]
  },
  {
   "cell_type": "markdown",
   "metadata": {},
   "source": [
    "### Opening and Examining Data Sets"
   ]
  },
  {
   "cell_type": "code",
   "execution_count": 181,
   "metadata": {},
   "outputs": [],
   "source": [
    "train_set = pd.read_csv('/datasets/gold_recovery_train.csv')\n",
    "test_set = pd.read_csv('/datasets/gold_recovery_test.csv')\n",
    "full_set = pd.read_csv('/datasets/gold_recovery_full.csv')"
   ]
  },
  {
   "cell_type": "code",
   "execution_count": 182,
   "metadata": {},
   "outputs": [
    {
     "data": {
      "text/html": [
       "<div>\n",
       "<style scoped>\n",
       "    .dataframe tbody tr th:only-of-type {\n",
       "        vertical-align: middle;\n",
       "    }\n",
       "\n",
       "    .dataframe tbody tr th {\n",
       "        vertical-align: top;\n",
       "    }\n",
       "\n",
       "    .dataframe thead th {\n",
       "        text-align: right;\n",
       "    }\n",
       "</style>\n",
       "<table border=\"1\" class=\"dataframe\">\n",
       "  <thead>\n",
       "    <tr style=\"text-align: right;\">\n",
       "      <th></th>\n",
       "      <th>date</th>\n",
       "      <th>final.output.concentrate_ag</th>\n",
       "      <th>final.output.concentrate_pb</th>\n",
       "      <th>final.output.concentrate_sol</th>\n",
       "      <th>final.output.concentrate_au</th>\n",
       "      <th>final.output.recovery</th>\n",
       "      <th>final.output.tail_ag</th>\n",
       "      <th>final.output.tail_pb</th>\n",
       "      <th>final.output.tail_sol</th>\n",
       "      <th>final.output.tail_au</th>\n",
       "      <th>...</th>\n",
       "      <th>secondary_cleaner.state.floatbank4_a_air</th>\n",
       "      <th>secondary_cleaner.state.floatbank4_a_level</th>\n",
       "      <th>secondary_cleaner.state.floatbank4_b_air</th>\n",
       "      <th>secondary_cleaner.state.floatbank4_b_level</th>\n",
       "      <th>secondary_cleaner.state.floatbank5_a_air</th>\n",
       "      <th>secondary_cleaner.state.floatbank5_a_level</th>\n",
       "      <th>secondary_cleaner.state.floatbank5_b_air</th>\n",
       "      <th>secondary_cleaner.state.floatbank5_b_level</th>\n",
       "      <th>secondary_cleaner.state.floatbank6_a_air</th>\n",
       "      <th>secondary_cleaner.state.floatbank6_a_level</th>\n",
       "    </tr>\n",
       "  </thead>\n",
       "  <tbody>\n",
       "    <tr>\n",
       "      <th>0</th>\n",
       "      <td>2016-01-15 00:00:00</td>\n",
       "      <td>6.055403</td>\n",
       "      <td>9.889648</td>\n",
       "      <td>5.507324</td>\n",
       "      <td>42.192020</td>\n",
       "      <td>70.541216</td>\n",
       "      <td>10.411962</td>\n",
       "      <td>0.895447</td>\n",
       "      <td>16.904297</td>\n",
       "      <td>2.143149</td>\n",
       "      <td>...</td>\n",
       "      <td>14.016835</td>\n",
       "      <td>-502.488007</td>\n",
       "      <td>12.099931</td>\n",
       "      <td>-504.715942</td>\n",
       "      <td>9.925633</td>\n",
       "      <td>-498.310211</td>\n",
       "      <td>8.079666</td>\n",
       "      <td>-500.470978</td>\n",
       "      <td>14.151341</td>\n",
       "      <td>-605.841980</td>\n",
       "    </tr>\n",
       "    <tr>\n",
       "      <th>1</th>\n",
       "      <td>2016-01-15 01:00:00</td>\n",
       "      <td>6.029369</td>\n",
       "      <td>9.968944</td>\n",
       "      <td>5.257781</td>\n",
       "      <td>42.701629</td>\n",
       "      <td>69.266198</td>\n",
       "      <td>10.462676</td>\n",
       "      <td>0.927452</td>\n",
       "      <td>16.634514</td>\n",
       "      <td>2.224930</td>\n",
       "      <td>...</td>\n",
       "      <td>13.992281</td>\n",
       "      <td>-505.503262</td>\n",
       "      <td>11.950531</td>\n",
       "      <td>-501.331529</td>\n",
       "      <td>10.039245</td>\n",
       "      <td>-500.169983</td>\n",
       "      <td>7.984757</td>\n",
       "      <td>-500.582168</td>\n",
       "      <td>13.998353</td>\n",
       "      <td>-599.787184</td>\n",
       "    </tr>\n",
       "    <tr>\n",
       "      <th>2</th>\n",
       "      <td>2016-01-15 02:00:00</td>\n",
       "      <td>6.055926</td>\n",
       "      <td>10.213995</td>\n",
       "      <td>5.383759</td>\n",
       "      <td>42.657501</td>\n",
       "      <td>68.116445</td>\n",
       "      <td>10.507046</td>\n",
       "      <td>0.953716</td>\n",
       "      <td>16.208849</td>\n",
       "      <td>2.257889</td>\n",
       "      <td>...</td>\n",
       "      <td>14.015015</td>\n",
       "      <td>-502.520901</td>\n",
       "      <td>11.912783</td>\n",
       "      <td>-501.133383</td>\n",
       "      <td>10.070913</td>\n",
       "      <td>-500.129135</td>\n",
       "      <td>8.013877</td>\n",
       "      <td>-500.517572</td>\n",
       "      <td>14.028663</td>\n",
       "      <td>-601.427363</td>\n",
       "    </tr>\n",
       "    <tr>\n",
       "      <th>3</th>\n",
       "      <td>2016-01-15 03:00:00</td>\n",
       "      <td>6.047977</td>\n",
       "      <td>9.977019</td>\n",
       "      <td>4.858634</td>\n",
       "      <td>42.689819</td>\n",
       "      <td>68.347543</td>\n",
       "      <td>10.422762</td>\n",
       "      <td>0.883763</td>\n",
       "      <td>16.532835</td>\n",
       "      <td>2.146849</td>\n",
       "      <td>...</td>\n",
       "      <td>14.036510</td>\n",
       "      <td>-500.857308</td>\n",
       "      <td>11.999550</td>\n",
       "      <td>-501.193686</td>\n",
       "      <td>9.970366</td>\n",
       "      <td>-499.201640</td>\n",
       "      <td>7.977324</td>\n",
       "      <td>-500.255908</td>\n",
       "      <td>14.005551</td>\n",
       "      <td>-599.996129</td>\n",
       "    </tr>\n",
       "    <tr>\n",
       "      <th>4</th>\n",
       "      <td>2016-01-15 04:00:00</td>\n",
       "      <td>6.148599</td>\n",
       "      <td>10.142511</td>\n",
       "      <td>4.939416</td>\n",
       "      <td>42.774141</td>\n",
       "      <td>66.927016</td>\n",
       "      <td>10.360302</td>\n",
       "      <td>0.792826</td>\n",
       "      <td>16.525686</td>\n",
       "      <td>2.055292</td>\n",
       "      <td>...</td>\n",
       "      <td>14.027298</td>\n",
       "      <td>-499.838632</td>\n",
       "      <td>11.953070</td>\n",
       "      <td>-501.053894</td>\n",
       "      <td>9.925709</td>\n",
       "      <td>-501.686727</td>\n",
       "      <td>7.894242</td>\n",
       "      <td>-500.356035</td>\n",
       "      <td>13.996647</td>\n",
       "      <td>-601.496691</td>\n",
       "    </tr>\n",
       "    <tr>\n",
       "      <th>...</th>\n",
       "      <td>...</td>\n",
       "      <td>...</td>\n",
       "      <td>...</td>\n",
       "      <td>...</td>\n",
       "      <td>...</td>\n",
       "      <td>...</td>\n",
       "      <td>...</td>\n",
       "      <td>...</td>\n",
       "      <td>...</td>\n",
       "      <td>...</td>\n",
       "      <td>...</td>\n",
       "      <td>...</td>\n",
       "      <td>...</td>\n",
       "      <td>...</td>\n",
       "      <td>...</td>\n",
       "      <td>...</td>\n",
       "      <td>...</td>\n",
       "      <td>...</td>\n",
       "      <td>...</td>\n",
       "      <td>...</td>\n",
       "      <td>...</td>\n",
       "    </tr>\n",
       "    <tr>\n",
       "      <th>16855</th>\n",
       "      <td>2018-08-18 06:59:59</td>\n",
       "      <td>3.224920</td>\n",
       "      <td>11.356233</td>\n",
       "      <td>6.803482</td>\n",
       "      <td>46.713954</td>\n",
       "      <td>73.755150</td>\n",
       "      <td>8.769645</td>\n",
       "      <td>3.141541</td>\n",
       "      <td>10.403181</td>\n",
       "      <td>1.529220</td>\n",
       "      <td>...</td>\n",
       "      <td>23.031497</td>\n",
       "      <td>-501.167942</td>\n",
       "      <td>20.007571</td>\n",
       "      <td>-499.740028</td>\n",
       "      <td>18.006038</td>\n",
       "      <td>-499.834374</td>\n",
       "      <td>13.001114</td>\n",
       "      <td>-500.155694</td>\n",
       "      <td>20.007840</td>\n",
       "      <td>-501.296428</td>\n",
       "    </tr>\n",
       "    <tr>\n",
       "      <th>16856</th>\n",
       "      <td>2018-08-18 07:59:59</td>\n",
       "      <td>3.195978</td>\n",
       "      <td>11.349355</td>\n",
       "      <td>6.862249</td>\n",
       "      <td>46.866780</td>\n",
       "      <td>69.049291</td>\n",
       "      <td>8.897321</td>\n",
       "      <td>3.130493</td>\n",
       "      <td>10.549470</td>\n",
       "      <td>1.612542</td>\n",
       "      <td>...</td>\n",
       "      <td>22.960095</td>\n",
       "      <td>-501.612783</td>\n",
       "      <td>20.035660</td>\n",
       "      <td>-500.251357</td>\n",
       "      <td>17.998535</td>\n",
       "      <td>-500.395178</td>\n",
       "      <td>12.954048</td>\n",
       "      <td>-499.895163</td>\n",
       "      <td>19.968498</td>\n",
       "      <td>-501.041608</td>\n",
       "    </tr>\n",
       "    <tr>\n",
       "      <th>16857</th>\n",
       "      <td>2018-08-18 08:59:59</td>\n",
       "      <td>3.109998</td>\n",
       "      <td>11.434366</td>\n",
       "      <td>6.886013</td>\n",
       "      <td>46.795691</td>\n",
       "      <td>67.002189</td>\n",
       "      <td>8.529606</td>\n",
       "      <td>2.911418</td>\n",
       "      <td>11.115147</td>\n",
       "      <td>1.596616</td>\n",
       "      <td>...</td>\n",
       "      <td>23.015718</td>\n",
       "      <td>-501.711599</td>\n",
       "      <td>19.951231</td>\n",
       "      <td>-499.857027</td>\n",
       "      <td>18.019543</td>\n",
       "      <td>-500.451156</td>\n",
       "      <td>13.023431</td>\n",
       "      <td>-499.914391</td>\n",
       "      <td>19.990885</td>\n",
       "      <td>-501.518452</td>\n",
       "    </tr>\n",
       "    <tr>\n",
       "      <th>16858</th>\n",
       "      <td>2018-08-18 09:59:59</td>\n",
       "      <td>3.367241</td>\n",
       "      <td>11.625587</td>\n",
       "      <td>6.799433</td>\n",
       "      <td>46.408188</td>\n",
       "      <td>65.523246</td>\n",
       "      <td>8.777171</td>\n",
       "      <td>2.819214</td>\n",
       "      <td>10.463847</td>\n",
       "      <td>1.602879</td>\n",
       "      <td>...</td>\n",
       "      <td>23.024963</td>\n",
       "      <td>-501.153409</td>\n",
       "      <td>20.054122</td>\n",
       "      <td>-500.314711</td>\n",
       "      <td>17.979515</td>\n",
       "      <td>-499.272871</td>\n",
       "      <td>12.992404</td>\n",
       "      <td>-499.976268</td>\n",
       "      <td>20.013986</td>\n",
       "      <td>-500.625471</td>\n",
       "    </tr>\n",
       "    <tr>\n",
       "      <th>16859</th>\n",
       "      <td>2018-08-18 10:59:59</td>\n",
       "      <td>3.598375</td>\n",
       "      <td>11.737832</td>\n",
       "      <td>6.717509</td>\n",
       "      <td>46.299438</td>\n",
       "      <td>70.281454</td>\n",
       "      <td>8.406690</td>\n",
       "      <td>2.517518</td>\n",
       "      <td>10.652193</td>\n",
       "      <td>1.389434</td>\n",
       "      <td>...</td>\n",
       "      <td>23.018622</td>\n",
       "      <td>-500.492702</td>\n",
       "      <td>20.020205</td>\n",
       "      <td>-500.220296</td>\n",
       "      <td>17.963512</td>\n",
       "      <td>-499.939490</td>\n",
       "      <td>12.990306</td>\n",
       "      <td>-500.080993</td>\n",
       "      <td>19.990336</td>\n",
       "      <td>-499.191575</td>\n",
       "    </tr>\n",
       "  </tbody>\n",
       "</table>\n",
       "<p>16860 rows × 87 columns</p>\n",
       "</div>"
      ],
      "text/plain": [
       "                      date  final.output.concentrate_ag  \\\n",
       "0      2016-01-15 00:00:00                     6.055403   \n",
       "1      2016-01-15 01:00:00                     6.029369   \n",
       "2      2016-01-15 02:00:00                     6.055926   \n",
       "3      2016-01-15 03:00:00                     6.047977   \n",
       "4      2016-01-15 04:00:00                     6.148599   \n",
       "...                    ...                          ...   \n",
       "16855  2018-08-18 06:59:59                     3.224920   \n",
       "16856  2018-08-18 07:59:59                     3.195978   \n",
       "16857  2018-08-18 08:59:59                     3.109998   \n",
       "16858  2018-08-18 09:59:59                     3.367241   \n",
       "16859  2018-08-18 10:59:59                     3.598375   \n",
       "\n",
       "       final.output.concentrate_pb  final.output.concentrate_sol  \\\n",
       "0                         9.889648                      5.507324   \n",
       "1                         9.968944                      5.257781   \n",
       "2                        10.213995                      5.383759   \n",
       "3                         9.977019                      4.858634   \n",
       "4                        10.142511                      4.939416   \n",
       "...                            ...                           ...   \n",
       "16855                    11.356233                      6.803482   \n",
       "16856                    11.349355                      6.862249   \n",
       "16857                    11.434366                      6.886013   \n",
       "16858                    11.625587                      6.799433   \n",
       "16859                    11.737832                      6.717509   \n",
       "\n",
       "       final.output.concentrate_au  final.output.recovery  \\\n",
       "0                        42.192020              70.541216   \n",
       "1                        42.701629              69.266198   \n",
       "2                        42.657501              68.116445   \n",
       "3                        42.689819              68.347543   \n",
       "4                        42.774141              66.927016   \n",
       "...                            ...                    ...   \n",
       "16855                    46.713954              73.755150   \n",
       "16856                    46.866780              69.049291   \n",
       "16857                    46.795691              67.002189   \n",
       "16858                    46.408188              65.523246   \n",
       "16859                    46.299438              70.281454   \n",
       "\n",
       "       final.output.tail_ag  final.output.tail_pb  final.output.tail_sol  \\\n",
       "0                 10.411962              0.895447              16.904297   \n",
       "1                 10.462676              0.927452              16.634514   \n",
       "2                 10.507046              0.953716              16.208849   \n",
       "3                 10.422762              0.883763              16.532835   \n",
       "4                 10.360302              0.792826              16.525686   \n",
       "...                     ...                   ...                    ...   \n",
       "16855              8.769645              3.141541              10.403181   \n",
       "16856              8.897321              3.130493              10.549470   \n",
       "16857              8.529606              2.911418              11.115147   \n",
       "16858              8.777171              2.819214              10.463847   \n",
       "16859              8.406690              2.517518              10.652193   \n",
       "\n",
       "       final.output.tail_au  ...  secondary_cleaner.state.floatbank4_a_air  \\\n",
       "0                  2.143149  ...                                 14.016835   \n",
       "1                  2.224930  ...                                 13.992281   \n",
       "2                  2.257889  ...                                 14.015015   \n",
       "3                  2.146849  ...                                 14.036510   \n",
       "4                  2.055292  ...                                 14.027298   \n",
       "...                     ...  ...                                       ...   \n",
       "16855              1.529220  ...                                 23.031497   \n",
       "16856              1.612542  ...                                 22.960095   \n",
       "16857              1.596616  ...                                 23.015718   \n",
       "16858              1.602879  ...                                 23.024963   \n",
       "16859              1.389434  ...                                 23.018622   \n",
       "\n",
       "       secondary_cleaner.state.floatbank4_a_level  \\\n",
       "0                                     -502.488007   \n",
       "1                                     -505.503262   \n",
       "2                                     -502.520901   \n",
       "3                                     -500.857308   \n",
       "4                                     -499.838632   \n",
       "...                                           ...   \n",
       "16855                                 -501.167942   \n",
       "16856                                 -501.612783   \n",
       "16857                                 -501.711599   \n",
       "16858                                 -501.153409   \n",
       "16859                                 -500.492702   \n",
       "\n",
       "       secondary_cleaner.state.floatbank4_b_air  \\\n",
       "0                                     12.099931   \n",
       "1                                     11.950531   \n",
       "2                                     11.912783   \n",
       "3                                     11.999550   \n",
       "4                                     11.953070   \n",
       "...                                         ...   \n",
       "16855                                 20.007571   \n",
       "16856                                 20.035660   \n",
       "16857                                 19.951231   \n",
       "16858                                 20.054122   \n",
       "16859                                 20.020205   \n",
       "\n",
       "       secondary_cleaner.state.floatbank4_b_level  \\\n",
       "0                                     -504.715942   \n",
       "1                                     -501.331529   \n",
       "2                                     -501.133383   \n",
       "3                                     -501.193686   \n",
       "4                                     -501.053894   \n",
       "...                                           ...   \n",
       "16855                                 -499.740028   \n",
       "16856                                 -500.251357   \n",
       "16857                                 -499.857027   \n",
       "16858                                 -500.314711   \n",
       "16859                                 -500.220296   \n",
       "\n",
       "       secondary_cleaner.state.floatbank5_a_air  \\\n",
       "0                                      9.925633   \n",
       "1                                     10.039245   \n",
       "2                                     10.070913   \n",
       "3                                      9.970366   \n",
       "4                                      9.925709   \n",
       "...                                         ...   \n",
       "16855                                 18.006038   \n",
       "16856                                 17.998535   \n",
       "16857                                 18.019543   \n",
       "16858                                 17.979515   \n",
       "16859                                 17.963512   \n",
       "\n",
       "       secondary_cleaner.state.floatbank5_a_level  \\\n",
       "0                                     -498.310211   \n",
       "1                                     -500.169983   \n",
       "2                                     -500.129135   \n",
       "3                                     -499.201640   \n",
       "4                                     -501.686727   \n",
       "...                                           ...   \n",
       "16855                                 -499.834374   \n",
       "16856                                 -500.395178   \n",
       "16857                                 -500.451156   \n",
       "16858                                 -499.272871   \n",
       "16859                                 -499.939490   \n",
       "\n",
       "       secondary_cleaner.state.floatbank5_b_air  \\\n",
       "0                                      8.079666   \n",
       "1                                      7.984757   \n",
       "2                                      8.013877   \n",
       "3                                      7.977324   \n",
       "4                                      7.894242   \n",
       "...                                         ...   \n",
       "16855                                 13.001114   \n",
       "16856                                 12.954048   \n",
       "16857                                 13.023431   \n",
       "16858                                 12.992404   \n",
       "16859                                 12.990306   \n",
       "\n",
       "       secondary_cleaner.state.floatbank5_b_level  \\\n",
       "0                                     -500.470978   \n",
       "1                                     -500.582168   \n",
       "2                                     -500.517572   \n",
       "3                                     -500.255908   \n",
       "4                                     -500.356035   \n",
       "...                                           ...   \n",
       "16855                                 -500.155694   \n",
       "16856                                 -499.895163   \n",
       "16857                                 -499.914391   \n",
       "16858                                 -499.976268   \n",
       "16859                                 -500.080993   \n",
       "\n",
       "       secondary_cleaner.state.floatbank6_a_air  \\\n",
       "0                                     14.151341   \n",
       "1                                     13.998353   \n",
       "2                                     14.028663   \n",
       "3                                     14.005551   \n",
       "4                                     13.996647   \n",
       "...                                         ...   \n",
       "16855                                 20.007840   \n",
       "16856                                 19.968498   \n",
       "16857                                 19.990885   \n",
       "16858                                 20.013986   \n",
       "16859                                 19.990336   \n",
       "\n",
       "       secondary_cleaner.state.floatbank6_a_level  \n",
       "0                                     -605.841980  \n",
       "1                                     -599.787184  \n",
       "2                                     -601.427363  \n",
       "3                                     -599.996129  \n",
       "4                                     -601.496691  \n",
       "...                                           ...  \n",
       "16855                                 -501.296428  \n",
       "16856                                 -501.041608  \n",
       "16857                                 -501.518452  \n",
       "16858                                 -500.625471  \n",
       "16859                                 -499.191575  \n",
       "\n",
       "[16860 rows x 87 columns]"
      ]
     },
     "execution_count": 182,
     "metadata": {},
     "output_type": "execute_result"
    }
   ],
   "source": [
    "train_set"
   ]
  },
  {
   "cell_type": "code",
   "execution_count": 183,
   "metadata": {},
   "outputs": [
    {
     "name": "stdout",
     "output_type": "stream",
     "text": [
      "<class 'pandas.core.frame.DataFrame'>\n",
      "RangeIndex: 16860 entries, 0 to 16859\n",
      "Data columns (total 87 columns):\n",
      " #   Column                                              Non-Null Count  Dtype  \n",
      "---  ------                                              --------------  -----  \n",
      " 0   date                                                16860 non-null  object \n",
      " 1   final.output.concentrate_ag                         16788 non-null  float64\n",
      " 2   final.output.concentrate_pb                         16788 non-null  float64\n",
      " 3   final.output.concentrate_sol                        16490 non-null  float64\n",
      " 4   final.output.concentrate_au                         16789 non-null  float64\n",
      " 5   final.output.recovery                               15339 non-null  float64\n",
      " 6   final.output.tail_ag                                16794 non-null  float64\n",
      " 7   final.output.tail_pb                                16677 non-null  float64\n",
      " 8   final.output.tail_sol                               16715 non-null  float64\n",
      " 9   final.output.tail_au                                16794 non-null  float64\n",
      " 10  primary_cleaner.input.sulfate                       15553 non-null  float64\n",
      " 11  primary_cleaner.input.depressant                    15598 non-null  float64\n",
      " 12  primary_cleaner.input.feed_size                     16860 non-null  float64\n",
      " 13  primary_cleaner.input.xanthate                      15875 non-null  float64\n",
      " 14  primary_cleaner.output.concentrate_ag               16778 non-null  float64\n",
      " 15  primary_cleaner.output.concentrate_pb               16502 non-null  float64\n",
      " 16  primary_cleaner.output.concentrate_sol              16224 non-null  float64\n",
      " 17  primary_cleaner.output.concentrate_au               16778 non-null  float64\n",
      " 18  primary_cleaner.output.tail_ag                      16777 non-null  float64\n",
      " 19  primary_cleaner.output.tail_pb                      16761 non-null  float64\n",
      " 20  primary_cleaner.output.tail_sol                     16579 non-null  float64\n",
      " 21  primary_cleaner.output.tail_au                      16777 non-null  float64\n",
      " 22  primary_cleaner.state.floatbank8_a_air              16820 non-null  float64\n",
      " 23  primary_cleaner.state.floatbank8_a_level            16827 non-null  float64\n",
      " 24  primary_cleaner.state.floatbank8_b_air              16820 non-null  float64\n",
      " 25  primary_cleaner.state.floatbank8_b_level            16833 non-null  float64\n",
      " 26  primary_cleaner.state.floatbank8_c_air              16822 non-null  float64\n",
      " 27  primary_cleaner.state.floatbank8_c_level            16833 non-null  float64\n",
      " 28  primary_cleaner.state.floatbank8_d_air              16821 non-null  float64\n",
      " 29  primary_cleaner.state.floatbank8_d_level            16833 non-null  float64\n",
      " 30  rougher.calculation.sulfate_to_au_concentrate       16833 non-null  float64\n",
      " 31  rougher.calculation.floatbank10_sulfate_to_au_feed  16833 non-null  float64\n",
      " 32  rougher.calculation.floatbank11_sulfate_to_au_feed  16833 non-null  float64\n",
      " 33  rougher.calculation.au_pb_ratio                     15618 non-null  float64\n",
      " 34  rougher.input.feed_ag                               16778 non-null  float64\n",
      " 35  rougher.input.feed_pb                               16632 non-null  float64\n",
      " 36  rougher.input.feed_rate                             16347 non-null  float64\n",
      " 37  rougher.input.feed_size                             16443 non-null  float64\n",
      " 38  rougher.input.feed_sol                              16568 non-null  float64\n",
      " 39  rougher.input.feed_au                               16777 non-null  float64\n",
      " 40  rougher.input.floatbank10_sulfate                   15816 non-null  float64\n",
      " 41  rougher.input.floatbank10_xanthate                  16514 non-null  float64\n",
      " 42  rougher.input.floatbank11_sulfate                   16237 non-null  float64\n",
      " 43  rougher.input.floatbank11_xanthate                  14956 non-null  float64\n",
      " 44  rougher.output.concentrate_ag                       16778 non-null  float64\n",
      " 45  rougher.output.concentrate_pb                       16778 non-null  float64\n",
      " 46  rougher.output.concentrate_sol                      16698 non-null  float64\n",
      " 47  rougher.output.concentrate_au                       16778 non-null  float64\n",
      " 48  rougher.output.recovery                             14287 non-null  float64\n",
      " 49  rougher.output.tail_ag                              14610 non-null  float64\n",
      " 50  rougher.output.tail_pb                              16778 non-null  float64\n",
      " 51  rougher.output.tail_sol                             14611 non-null  float64\n",
      " 52  rougher.output.tail_au                              14611 non-null  float64\n",
      " 53  rougher.state.floatbank10_a_air                     16807 non-null  float64\n",
      " 54  rougher.state.floatbank10_a_level                   16807 non-null  float64\n",
      " 55  rougher.state.floatbank10_b_air                     16807 non-null  float64\n",
      " 56  rougher.state.floatbank10_b_level                   16807 non-null  float64\n",
      " 57  rougher.state.floatbank10_c_air                     16807 non-null  float64\n",
      " 58  rougher.state.floatbank10_c_level                   16814 non-null  float64\n",
      " 59  rougher.state.floatbank10_d_air                     16802 non-null  float64\n",
      " 60  rougher.state.floatbank10_d_level                   16809 non-null  float64\n",
      " 61  rougher.state.floatbank10_e_air                     16257 non-null  float64\n",
      " 62  rougher.state.floatbank10_e_level                   16809 non-null  float64\n",
      " 63  rougher.state.floatbank10_f_air                     16802 non-null  float64\n",
      " 64  rougher.state.floatbank10_f_level                   16802 non-null  float64\n",
      " 65  secondary_cleaner.output.tail_ag                    16776 non-null  float64\n",
      " 66  secondary_cleaner.output.tail_pb                    16764 non-null  float64\n",
      " 67  secondary_cleaner.output.tail_sol                   14874 non-null  float64\n",
      " 68  secondary_cleaner.output.tail_au                    16778 non-null  float64\n",
      " 69  secondary_cleaner.state.floatbank2_a_air            16497 non-null  float64\n",
      " 70  secondary_cleaner.state.floatbank2_a_level          16751 non-null  float64\n",
      " 71  secondary_cleaner.state.floatbank2_b_air            16705 non-null  float64\n",
      " 72  secondary_cleaner.state.floatbank2_b_level          16748 non-null  float64\n",
      " 73  secondary_cleaner.state.floatbank3_a_air            16763 non-null  float64\n",
      " 74  secondary_cleaner.state.floatbank3_a_level          16747 non-null  float64\n",
      " 75  secondary_cleaner.state.floatbank3_b_air            16752 non-null  float64\n",
      " 76  secondary_cleaner.state.floatbank3_b_level          16750 non-null  float64\n",
      " 77  secondary_cleaner.state.floatbank4_a_air            16731 non-null  float64\n",
      " 78  secondary_cleaner.state.floatbank4_a_level          16747 non-null  float64\n",
      " 79  secondary_cleaner.state.floatbank4_b_air            16768 non-null  float64\n",
      " 80  secondary_cleaner.state.floatbank4_b_level          16767 non-null  float64\n",
      " 81  secondary_cleaner.state.floatbank5_a_air            16775 non-null  float64\n",
      " 82  secondary_cleaner.state.floatbank5_a_level          16775 non-null  float64\n",
      " 83  secondary_cleaner.state.floatbank5_b_air            16775 non-null  float64\n",
      " 84  secondary_cleaner.state.floatbank5_b_level          16776 non-null  float64\n",
      " 85  secondary_cleaner.state.floatbank6_a_air            16757 non-null  float64\n",
      " 86  secondary_cleaner.state.floatbank6_a_level          16775 non-null  float64\n",
      "dtypes: float64(86), object(1)\n",
      "memory usage: 11.2+ MB\n"
     ]
    }
   ],
   "source": [
    "train_set.info()"
   ]
  },
  {
   "cell_type": "code",
   "execution_count": 184,
   "metadata": {},
   "outputs": [
    {
     "data": {
      "text/html": [
       "<div>\n",
       "<style scoped>\n",
       "    .dataframe tbody tr th:only-of-type {\n",
       "        vertical-align: middle;\n",
       "    }\n",
       "\n",
       "    .dataframe tbody tr th {\n",
       "        vertical-align: top;\n",
       "    }\n",
       "\n",
       "    .dataframe thead th {\n",
       "        text-align: right;\n",
       "    }\n",
       "</style>\n",
       "<table border=\"1\" class=\"dataframe\">\n",
       "  <thead>\n",
       "    <tr style=\"text-align: right;\">\n",
       "      <th></th>\n",
       "      <th>final.output.concentrate_ag</th>\n",
       "      <th>final.output.concentrate_pb</th>\n",
       "      <th>final.output.concentrate_sol</th>\n",
       "      <th>final.output.concentrate_au</th>\n",
       "      <th>final.output.recovery</th>\n",
       "      <th>final.output.tail_ag</th>\n",
       "      <th>final.output.tail_pb</th>\n",
       "      <th>final.output.tail_sol</th>\n",
       "      <th>final.output.tail_au</th>\n",
       "      <th>primary_cleaner.input.sulfate</th>\n",
       "      <th>...</th>\n",
       "      <th>secondary_cleaner.state.floatbank4_a_air</th>\n",
       "      <th>secondary_cleaner.state.floatbank4_a_level</th>\n",
       "      <th>secondary_cleaner.state.floatbank4_b_air</th>\n",
       "      <th>secondary_cleaner.state.floatbank4_b_level</th>\n",
       "      <th>secondary_cleaner.state.floatbank5_a_air</th>\n",
       "      <th>secondary_cleaner.state.floatbank5_a_level</th>\n",
       "      <th>secondary_cleaner.state.floatbank5_b_air</th>\n",
       "      <th>secondary_cleaner.state.floatbank5_b_level</th>\n",
       "      <th>secondary_cleaner.state.floatbank6_a_air</th>\n",
       "      <th>secondary_cleaner.state.floatbank6_a_level</th>\n",
       "    </tr>\n",
       "  </thead>\n",
       "  <tbody>\n",
       "    <tr>\n",
       "      <th>count</th>\n",
       "      <td>16788.000000</td>\n",
       "      <td>16788.000000</td>\n",
       "      <td>16490.000000</td>\n",
       "      <td>16789.000000</td>\n",
       "      <td>15339.000000</td>\n",
       "      <td>16794.000000</td>\n",
       "      <td>16677.000000</td>\n",
       "      <td>16715.000000</td>\n",
       "      <td>16794.000000</td>\n",
       "      <td>15553.000000</td>\n",
       "      <td>...</td>\n",
       "      <td>16731.000000</td>\n",
       "      <td>16747.000000</td>\n",
       "      <td>16768.000000</td>\n",
       "      <td>16767.000000</td>\n",
       "      <td>16775.000000</td>\n",
       "      <td>16775.000000</td>\n",
       "      <td>16775.000000</td>\n",
       "      <td>16776.000000</td>\n",
       "      <td>16757.000000</td>\n",
       "      <td>16775.000000</td>\n",
       "    </tr>\n",
       "    <tr>\n",
       "      <th>mean</th>\n",
       "      <td>4.716907</td>\n",
       "      <td>9.113559</td>\n",
       "      <td>8.301123</td>\n",
       "      <td>39.467217</td>\n",
       "      <td>67.213166</td>\n",
       "      <td>8.757048</td>\n",
       "      <td>2.360327</td>\n",
       "      <td>9.303932</td>\n",
       "      <td>2.687512</td>\n",
       "      <td>129.479789</td>\n",
       "      <td>...</td>\n",
       "      <td>19.101874</td>\n",
       "      <td>-494.164481</td>\n",
       "      <td>14.778164</td>\n",
       "      <td>-476.600082</td>\n",
       "      <td>15.779488</td>\n",
       "      <td>-500.230146</td>\n",
       "      <td>12.377241</td>\n",
       "      <td>-498.956257</td>\n",
       "      <td>18.429208</td>\n",
       "      <td>-521.801826</td>\n",
       "    </tr>\n",
       "    <tr>\n",
       "      <th>std</th>\n",
       "      <td>2.096718</td>\n",
       "      <td>3.389495</td>\n",
       "      <td>3.825760</td>\n",
       "      <td>13.917227</td>\n",
       "      <td>11.960446</td>\n",
       "      <td>3.634103</td>\n",
       "      <td>1.215576</td>\n",
       "      <td>4.263208</td>\n",
       "      <td>1.272757</td>\n",
       "      <td>45.386931</td>\n",
       "      <td>...</td>\n",
       "      <td>6.883163</td>\n",
       "      <td>84.803334</td>\n",
       "      <td>5.999149</td>\n",
       "      <td>89.381172</td>\n",
       "      <td>6.834703</td>\n",
       "      <td>76.983542</td>\n",
       "      <td>6.219989</td>\n",
       "      <td>82.146207</td>\n",
       "      <td>6.958294</td>\n",
       "      <td>77.170888</td>\n",
       "    </tr>\n",
       "    <tr>\n",
       "      <th>min</th>\n",
       "      <td>0.000000</td>\n",
       "      <td>0.000000</td>\n",
       "      <td>0.000000</td>\n",
       "      <td>0.000000</td>\n",
       "      <td>0.000000</td>\n",
       "      <td>0.000000</td>\n",
       "      <td>0.000000</td>\n",
       "      <td>0.000000</td>\n",
       "      <td>0.000000</td>\n",
       "      <td>0.000003</td>\n",
       "      <td>...</td>\n",
       "      <td>0.000000</td>\n",
       "      <td>-799.920713</td>\n",
       "      <td>0.000000</td>\n",
       "      <td>-800.021781</td>\n",
       "      <td>-0.423260</td>\n",
       "      <td>-799.741097</td>\n",
       "      <td>0.427084</td>\n",
       "      <td>-800.258209</td>\n",
       "      <td>0.024270</td>\n",
       "      <td>-810.473526</td>\n",
       "    </tr>\n",
       "    <tr>\n",
       "      <th>25%</th>\n",
       "      <td>3.971262</td>\n",
       "      <td>8.825748</td>\n",
       "      <td>6.939185</td>\n",
       "      <td>42.055722</td>\n",
       "      <td>62.625685</td>\n",
       "      <td>7.610544</td>\n",
       "      <td>1.641604</td>\n",
       "      <td>7.870275</td>\n",
       "      <td>2.172953</td>\n",
       "      <td>103.064021</td>\n",
       "      <td>...</td>\n",
       "      <td>14.508299</td>\n",
       "      <td>-500.837689</td>\n",
       "      <td>10.741388</td>\n",
       "      <td>-500.269182</td>\n",
       "      <td>10.977713</td>\n",
       "      <td>-500.530594</td>\n",
       "      <td>8.925586</td>\n",
       "      <td>-500.147603</td>\n",
       "      <td>13.977626</td>\n",
       "      <td>-501.080595</td>\n",
       "    </tr>\n",
       "    <tr>\n",
       "      <th>50%</th>\n",
       "      <td>4.869346</td>\n",
       "      <td>10.065316</td>\n",
       "      <td>8.557228</td>\n",
       "      <td>44.498874</td>\n",
       "      <td>67.644601</td>\n",
       "      <td>9.220393</td>\n",
       "      <td>2.453690</td>\n",
       "      <td>10.021968</td>\n",
       "      <td>2.781132</td>\n",
       "      <td>131.783108</td>\n",
       "      <td>...</td>\n",
       "      <td>19.986958</td>\n",
       "      <td>-499.778379</td>\n",
       "      <td>14.943933</td>\n",
       "      <td>-499.593286</td>\n",
       "      <td>15.998340</td>\n",
       "      <td>-499.784231</td>\n",
       "      <td>11.092839</td>\n",
       "      <td>-499.933330</td>\n",
       "      <td>18.034960</td>\n",
       "      <td>-500.109898</td>\n",
       "    </tr>\n",
       "    <tr>\n",
       "      <th>75%</th>\n",
       "      <td>5.821176</td>\n",
       "      <td>11.054809</td>\n",
       "      <td>10.289741</td>\n",
       "      <td>45.976222</td>\n",
       "      <td>72.824595</td>\n",
       "      <td>10.971110</td>\n",
       "      <td>3.192404</td>\n",
       "      <td>11.648573</td>\n",
       "      <td>3.416936</td>\n",
       "      <td>159.539839</td>\n",
       "      <td>...</td>\n",
       "      <td>24.983961</td>\n",
       "      <td>-494.648754</td>\n",
       "      <td>20.023751</td>\n",
       "      <td>-400.137948</td>\n",
       "      <td>20.000701</td>\n",
       "      <td>-496.531781</td>\n",
       "      <td>15.979467</td>\n",
       "      <td>-498.418000</td>\n",
       "      <td>24.984992</td>\n",
       "      <td>-499.565540</td>\n",
       "    </tr>\n",
       "    <tr>\n",
       "      <th>max</th>\n",
       "      <td>16.001945</td>\n",
       "      <td>17.031899</td>\n",
       "      <td>18.124851</td>\n",
       "      <td>53.611374</td>\n",
       "      <td>100.000000</td>\n",
       "      <td>19.552149</td>\n",
       "      <td>6.086532</td>\n",
       "      <td>22.317730</td>\n",
       "      <td>9.789625</td>\n",
       "      <td>251.999948</td>\n",
       "      <td>...</td>\n",
       "      <td>60.000000</td>\n",
       "      <td>-127.692333</td>\n",
       "      <td>28.003828</td>\n",
       "      <td>-71.472472</td>\n",
       "      <td>63.116298</td>\n",
       "      <td>-275.073125</td>\n",
       "      <td>39.846228</td>\n",
       "      <td>-120.190931</td>\n",
       "      <td>54.876806</td>\n",
       "      <td>-39.784927</td>\n",
       "    </tr>\n",
       "  </tbody>\n",
       "</table>\n",
       "<p>8 rows × 86 columns</p>\n",
       "</div>"
      ],
      "text/plain": [
       "       final.output.concentrate_ag  final.output.concentrate_pb  \\\n",
       "count                 16788.000000                 16788.000000   \n",
       "mean                      4.716907                     9.113559   \n",
       "std                       2.096718                     3.389495   \n",
       "min                       0.000000                     0.000000   \n",
       "25%                       3.971262                     8.825748   \n",
       "50%                       4.869346                    10.065316   \n",
       "75%                       5.821176                    11.054809   \n",
       "max                      16.001945                    17.031899   \n",
       "\n",
       "       final.output.concentrate_sol  final.output.concentrate_au  \\\n",
       "count                  16490.000000                 16789.000000   \n",
       "mean                       8.301123                    39.467217   \n",
       "std                        3.825760                    13.917227   \n",
       "min                        0.000000                     0.000000   \n",
       "25%                        6.939185                    42.055722   \n",
       "50%                        8.557228                    44.498874   \n",
       "75%                       10.289741                    45.976222   \n",
       "max                       18.124851                    53.611374   \n",
       "\n",
       "       final.output.recovery  final.output.tail_ag  final.output.tail_pb  \\\n",
       "count           15339.000000          16794.000000          16677.000000   \n",
       "mean               67.213166              8.757048              2.360327   \n",
       "std                11.960446              3.634103              1.215576   \n",
       "min                 0.000000              0.000000              0.000000   \n",
       "25%                62.625685              7.610544              1.641604   \n",
       "50%                67.644601              9.220393              2.453690   \n",
       "75%                72.824595             10.971110              3.192404   \n",
       "max               100.000000             19.552149              6.086532   \n",
       "\n",
       "       final.output.tail_sol  final.output.tail_au  \\\n",
       "count           16715.000000          16794.000000   \n",
       "mean                9.303932              2.687512   \n",
       "std                 4.263208              1.272757   \n",
       "min                 0.000000              0.000000   \n",
       "25%                 7.870275              2.172953   \n",
       "50%                10.021968              2.781132   \n",
       "75%                11.648573              3.416936   \n",
       "max                22.317730              9.789625   \n",
       "\n",
       "       primary_cleaner.input.sulfate  ...  \\\n",
       "count                   15553.000000  ...   \n",
       "mean                      129.479789  ...   \n",
       "std                        45.386931  ...   \n",
       "min                         0.000003  ...   \n",
       "25%                       103.064021  ...   \n",
       "50%                       131.783108  ...   \n",
       "75%                       159.539839  ...   \n",
       "max                       251.999948  ...   \n",
       "\n",
       "       secondary_cleaner.state.floatbank4_a_air  \\\n",
       "count                              16731.000000   \n",
       "mean                                  19.101874   \n",
       "std                                    6.883163   \n",
       "min                                    0.000000   \n",
       "25%                                   14.508299   \n",
       "50%                                   19.986958   \n",
       "75%                                   24.983961   \n",
       "max                                   60.000000   \n",
       "\n",
       "       secondary_cleaner.state.floatbank4_a_level  \\\n",
       "count                                16747.000000   \n",
       "mean                                  -494.164481   \n",
       "std                                     84.803334   \n",
       "min                                   -799.920713   \n",
       "25%                                   -500.837689   \n",
       "50%                                   -499.778379   \n",
       "75%                                   -494.648754   \n",
       "max                                   -127.692333   \n",
       "\n",
       "       secondary_cleaner.state.floatbank4_b_air  \\\n",
       "count                              16768.000000   \n",
       "mean                                  14.778164   \n",
       "std                                    5.999149   \n",
       "min                                    0.000000   \n",
       "25%                                   10.741388   \n",
       "50%                                   14.943933   \n",
       "75%                                   20.023751   \n",
       "max                                   28.003828   \n",
       "\n",
       "       secondary_cleaner.state.floatbank4_b_level  \\\n",
       "count                                16767.000000   \n",
       "mean                                  -476.600082   \n",
       "std                                     89.381172   \n",
       "min                                   -800.021781   \n",
       "25%                                   -500.269182   \n",
       "50%                                   -499.593286   \n",
       "75%                                   -400.137948   \n",
       "max                                    -71.472472   \n",
       "\n",
       "       secondary_cleaner.state.floatbank5_a_air  \\\n",
       "count                              16775.000000   \n",
       "mean                                  15.779488   \n",
       "std                                    6.834703   \n",
       "min                                   -0.423260   \n",
       "25%                                   10.977713   \n",
       "50%                                   15.998340   \n",
       "75%                                   20.000701   \n",
       "max                                   63.116298   \n",
       "\n",
       "       secondary_cleaner.state.floatbank5_a_level  \\\n",
       "count                                16775.000000   \n",
       "mean                                  -500.230146   \n",
       "std                                     76.983542   \n",
       "min                                   -799.741097   \n",
       "25%                                   -500.530594   \n",
       "50%                                   -499.784231   \n",
       "75%                                   -496.531781   \n",
       "max                                   -275.073125   \n",
       "\n",
       "       secondary_cleaner.state.floatbank5_b_air  \\\n",
       "count                              16775.000000   \n",
       "mean                                  12.377241   \n",
       "std                                    6.219989   \n",
       "min                                    0.427084   \n",
       "25%                                    8.925586   \n",
       "50%                                   11.092839   \n",
       "75%                                   15.979467   \n",
       "max                                   39.846228   \n",
       "\n",
       "       secondary_cleaner.state.floatbank5_b_level  \\\n",
       "count                                16776.000000   \n",
       "mean                                  -498.956257   \n",
       "std                                     82.146207   \n",
       "min                                   -800.258209   \n",
       "25%                                   -500.147603   \n",
       "50%                                   -499.933330   \n",
       "75%                                   -498.418000   \n",
       "max                                   -120.190931   \n",
       "\n",
       "       secondary_cleaner.state.floatbank6_a_air  \\\n",
       "count                              16757.000000   \n",
       "mean                                  18.429208   \n",
       "std                                    6.958294   \n",
       "min                                    0.024270   \n",
       "25%                                   13.977626   \n",
       "50%                                   18.034960   \n",
       "75%                                   24.984992   \n",
       "max                                   54.876806   \n",
       "\n",
       "       secondary_cleaner.state.floatbank6_a_level  \n",
       "count                                16775.000000  \n",
       "mean                                  -521.801826  \n",
       "std                                     77.170888  \n",
       "min                                   -810.473526  \n",
       "25%                                   -501.080595  \n",
       "50%                                   -500.109898  \n",
       "75%                                   -499.565540  \n",
       "max                                    -39.784927  \n",
       "\n",
       "[8 rows x 86 columns]"
      ]
     },
     "execution_count": 184,
     "metadata": {},
     "output_type": "execute_result"
    }
   ],
   "source": [
    "train_set.describe()"
   ]
  },
  {
   "cell_type": "code",
   "execution_count": 185,
   "metadata": {},
   "outputs": [
    {
     "data": {
      "text/html": [
       "<div>\n",
       "<style scoped>\n",
       "    .dataframe tbody tr th:only-of-type {\n",
       "        vertical-align: middle;\n",
       "    }\n",
       "\n",
       "    .dataframe tbody tr th {\n",
       "        vertical-align: top;\n",
       "    }\n",
       "\n",
       "    .dataframe thead th {\n",
       "        text-align: right;\n",
       "    }\n",
       "</style>\n",
       "<table border=\"1\" class=\"dataframe\">\n",
       "  <thead>\n",
       "    <tr style=\"text-align: right;\">\n",
       "      <th></th>\n",
       "      <th>date</th>\n",
       "      <th>primary_cleaner.input.sulfate</th>\n",
       "      <th>primary_cleaner.input.depressant</th>\n",
       "      <th>primary_cleaner.input.feed_size</th>\n",
       "      <th>primary_cleaner.input.xanthate</th>\n",
       "      <th>primary_cleaner.state.floatbank8_a_air</th>\n",
       "      <th>primary_cleaner.state.floatbank8_a_level</th>\n",
       "      <th>primary_cleaner.state.floatbank8_b_air</th>\n",
       "      <th>primary_cleaner.state.floatbank8_b_level</th>\n",
       "      <th>primary_cleaner.state.floatbank8_c_air</th>\n",
       "      <th>...</th>\n",
       "      <th>secondary_cleaner.state.floatbank4_a_air</th>\n",
       "      <th>secondary_cleaner.state.floatbank4_a_level</th>\n",
       "      <th>secondary_cleaner.state.floatbank4_b_air</th>\n",
       "      <th>secondary_cleaner.state.floatbank4_b_level</th>\n",
       "      <th>secondary_cleaner.state.floatbank5_a_air</th>\n",
       "      <th>secondary_cleaner.state.floatbank5_a_level</th>\n",
       "      <th>secondary_cleaner.state.floatbank5_b_air</th>\n",
       "      <th>secondary_cleaner.state.floatbank5_b_level</th>\n",
       "      <th>secondary_cleaner.state.floatbank6_a_air</th>\n",
       "      <th>secondary_cleaner.state.floatbank6_a_level</th>\n",
       "    </tr>\n",
       "  </thead>\n",
       "  <tbody>\n",
       "    <tr>\n",
       "      <th>0</th>\n",
       "      <td>2016-09-01 00:59:59</td>\n",
       "      <td>210.800909</td>\n",
       "      <td>14.993118</td>\n",
       "      <td>8.080000</td>\n",
       "      <td>1.005021</td>\n",
       "      <td>1398.981301</td>\n",
       "      <td>-500.225577</td>\n",
       "      <td>1399.144926</td>\n",
       "      <td>-499.919735</td>\n",
       "      <td>1400.102998</td>\n",
       "      <td>...</td>\n",
       "      <td>12.023554</td>\n",
       "      <td>-497.795834</td>\n",
       "      <td>8.016656</td>\n",
       "      <td>-501.289139</td>\n",
       "      <td>7.946562</td>\n",
       "      <td>-432.317850</td>\n",
       "      <td>4.872511</td>\n",
       "      <td>-500.037437</td>\n",
       "      <td>26.705889</td>\n",
       "      <td>-499.709414</td>\n",
       "    </tr>\n",
       "    <tr>\n",
       "      <th>1</th>\n",
       "      <td>2016-09-01 01:59:59</td>\n",
       "      <td>215.392455</td>\n",
       "      <td>14.987471</td>\n",
       "      <td>8.080000</td>\n",
       "      <td>0.990469</td>\n",
       "      <td>1398.777912</td>\n",
       "      <td>-500.057435</td>\n",
       "      <td>1398.055362</td>\n",
       "      <td>-499.778182</td>\n",
       "      <td>1396.151033</td>\n",
       "      <td>...</td>\n",
       "      <td>12.058140</td>\n",
       "      <td>-498.695773</td>\n",
       "      <td>8.130979</td>\n",
       "      <td>-499.634209</td>\n",
       "      <td>7.958270</td>\n",
       "      <td>-525.839648</td>\n",
       "      <td>4.878850</td>\n",
       "      <td>-500.162375</td>\n",
       "      <td>25.019940</td>\n",
       "      <td>-499.819438</td>\n",
       "    </tr>\n",
       "    <tr>\n",
       "      <th>2</th>\n",
       "      <td>2016-09-01 02:59:59</td>\n",
       "      <td>215.259946</td>\n",
       "      <td>12.884934</td>\n",
       "      <td>7.786667</td>\n",
       "      <td>0.996043</td>\n",
       "      <td>1398.493666</td>\n",
       "      <td>-500.868360</td>\n",
       "      <td>1398.860436</td>\n",
       "      <td>-499.764529</td>\n",
       "      <td>1398.075709</td>\n",
       "      <td>...</td>\n",
       "      <td>11.962366</td>\n",
       "      <td>-498.767484</td>\n",
       "      <td>8.096893</td>\n",
       "      <td>-500.827423</td>\n",
       "      <td>8.071056</td>\n",
       "      <td>-500.801673</td>\n",
       "      <td>4.905125</td>\n",
       "      <td>-499.828510</td>\n",
       "      <td>24.994862</td>\n",
       "      <td>-500.622559</td>\n",
       "    </tr>\n",
       "    <tr>\n",
       "      <th>3</th>\n",
       "      <td>2016-09-01 03:59:59</td>\n",
       "      <td>215.336236</td>\n",
       "      <td>12.006805</td>\n",
       "      <td>7.640000</td>\n",
       "      <td>0.863514</td>\n",
       "      <td>1399.618111</td>\n",
       "      <td>-498.863574</td>\n",
       "      <td>1397.440120</td>\n",
       "      <td>-499.211024</td>\n",
       "      <td>1400.129303</td>\n",
       "      <td>...</td>\n",
       "      <td>12.033091</td>\n",
       "      <td>-498.350935</td>\n",
       "      <td>8.074946</td>\n",
       "      <td>-499.474407</td>\n",
       "      <td>7.897085</td>\n",
       "      <td>-500.868509</td>\n",
       "      <td>4.931400</td>\n",
       "      <td>-499.963623</td>\n",
       "      <td>24.948919</td>\n",
       "      <td>-498.709987</td>\n",
       "    </tr>\n",
       "    <tr>\n",
       "      <th>4</th>\n",
       "      <td>2016-09-01 04:59:59</td>\n",
       "      <td>199.099327</td>\n",
       "      <td>10.682530</td>\n",
       "      <td>7.530000</td>\n",
       "      <td>0.805575</td>\n",
       "      <td>1401.268123</td>\n",
       "      <td>-500.808305</td>\n",
       "      <td>1398.128818</td>\n",
       "      <td>-499.504543</td>\n",
       "      <td>1402.172226</td>\n",
       "      <td>...</td>\n",
       "      <td>12.025367</td>\n",
       "      <td>-500.786497</td>\n",
       "      <td>8.054678</td>\n",
       "      <td>-500.397500</td>\n",
       "      <td>8.107890</td>\n",
       "      <td>-509.526725</td>\n",
       "      <td>4.957674</td>\n",
       "      <td>-500.360026</td>\n",
       "      <td>25.003331</td>\n",
       "      <td>-500.856333</td>\n",
       "    </tr>\n",
       "    <tr>\n",
       "      <th>...</th>\n",
       "      <td>...</td>\n",
       "      <td>...</td>\n",
       "      <td>...</td>\n",
       "      <td>...</td>\n",
       "      <td>...</td>\n",
       "      <td>...</td>\n",
       "      <td>...</td>\n",
       "      <td>...</td>\n",
       "      <td>...</td>\n",
       "      <td>...</td>\n",
       "      <td>...</td>\n",
       "      <td>...</td>\n",
       "      <td>...</td>\n",
       "      <td>...</td>\n",
       "      <td>...</td>\n",
       "      <td>...</td>\n",
       "      <td>...</td>\n",
       "      <td>...</td>\n",
       "      <td>...</td>\n",
       "      <td>...</td>\n",
       "      <td>...</td>\n",
       "    </tr>\n",
       "    <tr>\n",
       "      <th>5851</th>\n",
       "      <td>2017-12-31 19:59:59</td>\n",
       "      <td>173.957757</td>\n",
       "      <td>15.963399</td>\n",
       "      <td>8.070000</td>\n",
       "      <td>0.896701</td>\n",
       "      <td>1401.930554</td>\n",
       "      <td>-499.728848</td>\n",
       "      <td>1401.441445</td>\n",
       "      <td>-499.193423</td>\n",
       "      <td>1399.810313</td>\n",
       "      <td>...</td>\n",
       "      <td>13.995957</td>\n",
       "      <td>-500.157454</td>\n",
       "      <td>12.069155</td>\n",
       "      <td>-499.673279</td>\n",
       "      <td>7.977259</td>\n",
       "      <td>-499.516126</td>\n",
       "      <td>5.933319</td>\n",
       "      <td>-499.965973</td>\n",
       "      <td>8.987171</td>\n",
       "      <td>-499.755909</td>\n",
       "    </tr>\n",
       "    <tr>\n",
       "      <th>5852</th>\n",
       "      <td>2017-12-31 20:59:59</td>\n",
       "      <td>172.910270</td>\n",
       "      <td>16.002605</td>\n",
       "      <td>8.070000</td>\n",
       "      <td>0.896519</td>\n",
       "      <td>1447.075722</td>\n",
       "      <td>-494.716823</td>\n",
       "      <td>1448.851892</td>\n",
       "      <td>-465.963026</td>\n",
       "      <td>1443.890424</td>\n",
       "      <td>...</td>\n",
       "      <td>16.749781</td>\n",
       "      <td>-496.031539</td>\n",
       "      <td>13.365371</td>\n",
       "      <td>-499.122723</td>\n",
       "      <td>9.288553</td>\n",
       "      <td>-496.892967</td>\n",
       "      <td>7.372897</td>\n",
       "      <td>-499.942956</td>\n",
       "      <td>8.986832</td>\n",
       "      <td>-499.903761</td>\n",
       "    </tr>\n",
       "    <tr>\n",
       "      <th>5853</th>\n",
       "      <td>2017-12-31 21:59:59</td>\n",
       "      <td>171.135718</td>\n",
       "      <td>15.993669</td>\n",
       "      <td>8.070000</td>\n",
       "      <td>1.165996</td>\n",
       "      <td>1498.836182</td>\n",
       "      <td>-501.770403</td>\n",
       "      <td>1499.572353</td>\n",
       "      <td>-495.516347</td>\n",
       "      <td>1502.749213</td>\n",
       "      <td>...</td>\n",
       "      <td>19.994130</td>\n",
       "      <td>-499.791312</td>\n",
       "      <td>15.101425</td>\n",
       "      <td>-499.936252</td>\n",
       "      <td>10.989181</td>\n",
       "      <td>-498.347898</td>\n",
       "      <td>9.020944</td>\n",
       "      <td>-500.040448</td>\n",
       "      <td>8.982038</td>\n",
       "      <td>-497.789882</td>\n",
       "    </tr>\n",
       "    <tr>\n",
       "      <th>5854</th>\n",
       "      <td>2017-12-31 22:59:59</td>\n",
       "      <td>179.697158</td>\n",
       "      <td>15.438979</td>\n",
       "      <td>8.070000</td>\n",
       "      <td>1.501068</td>\n",
       "      <td>1498.466243</td>\n",
       "      <td>-500.483984</td>\n",
       "      <td>1497.986986</td>\n",
       "      <td>-519.200340</td>\n",
       "      <td>1496.569047</td>\n",
       "      <td>...</td>\n",
       "      <td>19.958760</td>\n",
       "      <td>-499.958750</td>\n",
       "      <td>15.026853</td>\n",
       "      <td>-499.723143</td>\n",
       "      <td>11.011607</td>\n",
       "      <td>-499.985046</td>\n",
       "      <td>9.009783</td>\n",
       "      <td>-499.937902</td>\n",
       "      <td>9.012660</td>\n",
       "      <td>-500.154284</td>\n",
       "    </tr>\n",
       "    <tr>\n",
       "      <th>5855</th>\n",
       "      <td>2017-12-31 23:59:59</td>\n",
       "      <td>181.556856</td>\n",
       "      <td>14.995850</td>\n",
       "      <td>8.070000</td>\n",
       "      <td>1.623454</td>\n",
       "      <td>1498.096303</td>\n",
       "      <td>-499.796922</td>\n",
       "      <td>1501.743791</td>\n",
       "      <td>-505.146931</td>\n",
       "      <td>1499.535978</td>\n",
       "      <td>...</td>\n",
       "      <td>20.034715</td>\n",
       "      <td>-500.728588</td>\n",
       "      <td>14.914199</td>\n",
       "      <td>-499.948518</td>\n",
       "      <td>10.986607</td>\n",
       "      <td>-500.658027</td>\n",
       "      <td>8.989497</td>\n",
       "      <td>-500.337588</td>\n",
       "      <td>8.988632</td>\n",
       "      <td>-500.764937</td>\n",
       "    </tr>\n",
       "  </tbody>\n",
       "</table>\n",
       "<p>5856 rows × 53 columns</p>\n",
       "</div>"
      ],
      "text/plain": [
       "                     date  primary_cleaner.input.sulfate  \\\n",
       "0     2016-09-01 00:59:59                     210.800909   \n",
       "1     2016-09-01 01:59:59                     215.392455   \n",
       "2     2016-09-01 02:59:59                     215.259946   \n",
       "3     2016-09-01 03:59:59                     215.336236   \n",
       "4     2016-09-01 04:59:59                     199.099327   \n",
       "...                   ...                            ...   \n",
       "5851  2017-12-31 19:59:59                     173.957757   \n",
       "5852  2017-12-31 20:59:59                     172.910270   \n",
       "5853  2017-12-31 21:59:59                     171.135718   \n",
       "5854  2017-12-31 22:59:59                     179.697158   \n",
       "5855  2017-12-31 23:59:59                     181.556856   \n",
       "\n",
       "      primary_cleaner.input.depressant  primary_cleaner.input.feed_size  \\\n",
       "0                            14.993118                         8.080000   \n",
       "1                            14.987471                         8.080000   \n",
       "2                            12.884934                         7.786667   \n",
       "3                            12.006805                         7.640000   \n",
       "4                            10.682530                         7.530000   \n",
       "...                                ...                              ...   \n",
       "5851                         15.963399                         8.070000   \n",
       "5852                         16.002605                         8.070000   \n",
       "5853                         15.993669                         8.070000   \n",
       "5854                         15.438979                         8.070000   \n",
       "5855                         14.995850                         8.070000   \n",
       "\n",
       "      primary_cleaner.input.xanthate  primary_cleaner.state.floatbank8_a_air  \\\n",
       "0                           1.005021                             1398.981301   \n",
       "1                           0.990469                             1398.777912   \n",
       "2                           0.996043                             1398.493666   \n",
       "3                           0.863514                             1399.618111   \n",
       "4                           0.805575                             1401.268123   \n",
       "...                              ...                                     ...   \n",
       "5851                        0.896701                             1401.930554   \n",
       "5852                        0.896519                             1447.075722   \n",
       "5853                        1.165996                             1498.836182   \n",
       "5854                        1.501068                             1498.466243   \n",
       "5855                        1.623454                             1498.096303   \n",
       "\n",
       "      primary_cleaner.state.floatbank8_a_level  \\\n",
       "0                                  -500.225577   \n",
       "1                                  -500.057435   \n",
       "2                                  -500.868360   \n",
       "3                                  -498.863574   \n",
       "4                                  -500.808305   \n",
       "...                                        ...   \n",
       "5851                               -499.728848   \n",
       "5852                               -494.716823   \n",
       "5853                               -501.770403   \n",
       "5854                               -500.483984   \n",
       "5855                               -499.796922   \n",
       "\n",
       "      primary_cleaner.state.floatbank8_b_air  \\\n",
       "0                                1399.144926   \n",
       "1                                1398.055362   \n",
       "2                                1398.860436   \n",
       "3                                1397.440120   \n",
       "4                                1398.128818   \n",
       "...                                      ...   \n",
       "5851                             1401.441445   \n",
       "5852                             1448.851892   \n",
       "5853                             1499.572353   \n",
       "5854                             1497.986986   \n",
       "5855                             1501.743791   \n",
       "\n",
       "      primary_cleaner.state.floatbank8_b_level  \\\n",
       "0                                  -499.919735   \n",
       "1                                  -499.778182   \n",
       "2                                  -499.764529   \n",
       "3                                  -499.211024   \n",
       "4                                  -499.504543   \n",
       "...                                        ...   \n",
       "5851                               -499.193423   \n",
       "5852                               -465.963026   \n",
       "5853                               -495.516347   \n",
       "5854                               -519.200340   \n",
       "5855                               -505.146931   \n",
       "\n",
       "      primary_cleaner.state.floatbank8_c_air  ...  \\\n",
       "0                                1400.102998  ...   \n",
       "1                                1396.151033  ...   \n",
       "2                                1398.075709  ...   \n",
       "3                                1400.129303  ...   \n",
       "4                                1402.172226  ...   \n",
       "...                                      ...  ...   \n",
       "5851                             1399.810313  ...   \n",
       "5852                             1443.890424  ...   \n",
       "5853                             1502.749213  ...   \n",
       "5854                             1496.569047  ...   \n",
       "5855                             1499.535978  ...   \n",
       "\n",
       "      secondary_cleaner.state.floatbank4_a_air  \\\n",
       "0                                    12.023554   \n",
       "1                                    12.058140   \n",
       "2                                    11.962366   \n",
       "3                                    12.033091   \n",
       "4                                    12.025367   \n",
       "...                                        ...   \n",
       "5851                                 13.995957   \n",
       "5852                                 16.749781   \n",
       "5853                                 19.994130   \n",
       "5854                                 19.958760   \n",
       "5855                                 20.034715   \n",
       "\n",
       "      secondary_cleaner.state.floatbank4_a_level  \\\n",
       "0                                    -497.795834   \n",
       "1                                    -498.695773   \n",
       "2                                    -498.767484   \n",
       "3                                    -498.350935   \n",
       "4                                    -500.786497   \n",
       "...                                          ...   \n",
       "5851                                 -500.157454   \n",
       "5852                                 -496.031539   \n",
       "5853                                 -499.791312   \n",
       "5854                                 -499.958750   \n",
       "5855                                 -500.728588   \n",
       "\n",
       "      secondary_cleaner.state.floatbank4_b_air  \\\n",
       "0                                     8.016656   \n",
       "1                                     8.130979   \n",
       "2                                     8.096893   \n",
       "3                                     8.074946   \n",
       "4                                     8.054678   \n",
       "...                                        ...   \n",
       "5851                                 12.069155   \n",
       "5852                                 13.365371   \n",
       "5853                                 15.101425   \n",
       "5854                                 15.026853   \n",
       "5855                                 14.914199   \n",
       "\n",
       "      secondary_cleaner.state.floatbank4_b_level  \\\n",
       "0                                    -501.289139   \n",
       "1                                    -499.634209   \n",
       "2                                    -500.827423   \n",
       "3                                    -499.474407   \n",
       "4                                    -500.397500   \n",
       "...                                          ...   \n",
       "5851                                 -499.673279   \n",
       "5852                                 -499.122723   \n",
       "5853                                 -499.936252   \n",
       "5854                                 -499.723143   \n",
       "5855                                 -499.948518   \n",
       "\n",
       "      secondary_cleaner.state.floatbank5_a_air  \\\n",
       "0                                     7.946562   \n",
       "1                                     7.958270   \n",
       "2                                     8.071056   \n",
       "3                                     7.897085   \n",
       "4                                     8.107890   \n",
       "...                                        ...   \n",
       "5851                                  7.977259   \n",
       "5852                                  9.288553   \n",
       "5853                                 10.989181   \n",
       "5854                                 11.011607   \n",
       "5855                                 10.986607   \n",
       "\n",
       "      secondary_cleaner.state.floatbank5_a_level  \\\n",
       "0                                    -432.317850   \n",
       "1                                    -525.839648   \n",
       "2                                    -500.801673   \n",
       "3                                    -500.868509   \n",
       "4                                    -509.526725   \n",
       "...                                          ...   \n",
       "5851                                 -499.516126   \n",
       "5852                                 -496.892967   \n",
       "5853                                 -498.347898   \n",
       "5854                                 -499.985046   \n",
       "5855                                 -500.658027   \n",
       "\n",
       "      secondary_cleaner.state.floatbank5_b_air  \\\n",
       "0                                     4.872511   \n",
       "1                                     4.878850   \n",
       "2                                     4.905125   \n",
       "3                                     4.931400   \n",
       "4                                     4.957674   \n",
       "...                                        ...   \n",
       "5851                                  5.933319   \n",
       "5852                                  7.372897   \n",
       "5853                                  9.020944   \n",
       "5854                                  9.009783   \n",
       "5855                                  8.989497   \n",
       "\n",
       "      secondary_cleaner.state.floatbank5_b_level  \\\n",
       "0                                    -500.037437   \n",
       "1                                    -500.162375   \n",
       "2                                    -499.828510   \n",
       "3                                    -499.963623   \n",
       "4                                    -500.360026   \n",
       "...                                          ...   \n",
       "5851                                 -499.965973   \n",
       "5852                                 -499.942956   \n",
       "5853                                 -500.040448   \n",
       "5854                                 -499.937902   \n",
       "5855                                 -500.337588   \n",
       "\n",
       "      secondary_cleaner.state.floatbank6_a_air  \\\n",
       "0                                    26.705889   \n",
       "1                                    25.019940   \n",
       "2                                    24.994862   \n",
       "3                                    24.948919   \n",
       "4                                    25.003331   \n",
       "...                                        ...   \n",
       "5851                                  8.987171   \n",
       "5852                                  8.986832   \n",
       "5853                                  8.982038   \n",
       "5854                                  9.012660   \n",
       "5855                                  8.988632   \n",
       "\n",
       "      secondary_cleaner.state.floatbank6_a_level  \n",
       "0                                    -499.709414  \n",
       "1                                    -499.819438  \n",
       "2                                    -500.622559  \n",
       "3                                    -498.709987  \n",
       "4                                    -500.856333  \n",
       "...                                          ...  \n",
       "5851                                 -499.755909  \n",
       "5852                                 -499.903761  \n",
       "5853                                 -497.789882  \n",
       "5854                                 -500.154284  \n",
       "5855                                 -500.764937  \n",
       "\n",
       "[5856 rows x 53 columns]"
      ]
     },
     "execution_count": 185,
     "metadata": {},
     "output_type": "execute_result"
    }
   ],
   "source": [
    "test_set"
   ]
  },
  {
   "cell_type": "code",
   "execution_count": 186,
   "metadata": {
    "scrolled": true
   },
   "outputs": [
    {
     "name": "stdout",
     "output_type": "stream",
     "text": [
      "<class 'pandas.core.frame.DataFrame'>\n",
      "RangeIndex: 5856 entries, 0 to 5855\n",
      "Data columns (total 53 columns):\n",
      " #   Column                                      Non-Null Count  Dtype  \n",
      "---  ------                                      --------------  -----  \n",
      " 0   date                                        5856 non-null   object \n",
      " 1   primary_cleaner.input.sulfate               5554 non-null   float64\n",
      " 2   primary_cleaner.input.depressant            5572 non-null   float64\n",
      " 3   primary_cleaner.input.feed_size             5856 non-null   float64\n",
      " 4   primary_cleaner.input.xanthate              5690 non-null   float64\n",
      " 5   primary_cleaner.state.floatbank8_a_air      5840 non-null   float64\n",
      " 6   primary_cleaner.state.floatbank8_a_level    5840 non-null   float64\n",
      " 7   primary_cleaner.state.floatbank8_b_air      5840 non-null   float64\n",
      " 8   primary_cleaner.state.floatbank8_b_level    5840 non-null   float64\n",
      " 9   primary_cleaner.state.floatbank8_c_air      5840 non-null   float64\n",
      " 10  primary_cleaner.state.floatbank8_c_level    5840 non-null   float64\n",
      " 11  primary_cleaner.state.floatbank8_d_air      5840 non-null   float64\n",
      " 12  primary_cleaner.state.floatbank8_d_level    5840 non-null   float64\n",
      " 13  rougher.input.feed_ag                       5840 non-null   float64\n",
      " 14  rougher.input.feed_pb                       5840 non-null   float64\n",
      " 15  rougher.input.feed_rate                     5816 non-null   float64\n",
      " 16  rougher.input.feed_size                     5834 non-null   float64\n",
      " 17  rougher.input.feed_sol                      5789 non-null   float64\n",
      " 18  rougher.input.feed_au                       5840 non-null   float64\n",
      " 19  rougher.input.floatbank10_sulfate           5599 non-null   float64\n",
      " 20  rougher.input.floatbank10_xanthate          5733 non-null   float64\n",
      " 21  rougher.input.floatbank11_sulfate           5801 non-null   float64\n",
      " 22  rougher.input.floatbank11_xanthate          5503 non-null   float64\n",
      " 23  rougher.state.floatbank10_a_air             5839 non-null   float64\n",
      " 24  rougher.state.floatbank10_a_level           5840 non-null   float64\n",
      " 25  rougher.state.floatbank10_b_air             5839 non-null   float64\n",
      " 26  rougher.state.floatbank10_b_level           5840 non-null   float64\n",
      " 27  rougher.state.floatbank10_c_air             5839 non-null   float64\n",
      " 28  rougher.state.floatbank10_c_level           5840 non-null   float64\n",
      " 29  rougher.state.floatbank10_d_air             5839 non-null   float64\n",
      " 30  rougher.state.floatbank10_d_level           5840 non-null   float64\n",
      " 31  rougher.state.floatbank10_e_air             5839 non-null   float64\n",
      " 32  rougher.state.floatbank10_e_level           5840 non-null   float64\n",
      " 33  rougher.state.floatbank10_f_air             5839 non-null   float64\n",
      " 34  rougher.state.floatbank10_f_level           5840 non-null   float64\n",
      " 35  secondary_cleaner.state.floatbank2_a_air    5836 non-null   float64\n",
      " 36  secondary_cleaner.state.floatbank2_a_level  5840 non-null   float64\n",
      " 37  secondary_cleaner.state.floatbank2_b_air    5833 non-null   float64\n",
      " 38  secondary_cleaner.state.floatbank2_b_level  5840 non-null   float64\n",
      " 39  secondary_cleaner.state.floatbank3_a_air    5822 non-null   float64\n",
      " 40  secondary_cleaner.state.floatbank3_a_level  5840 non-null   float64\n",
      " 41  secondary_cleaner.state.floatbank3_b_air    5840 non-null   float64\n",
      " 42  secondary_cleaner.state.floatbank3_b_level  5840 non-null   float64\n",
      " 43  secondary_cleaner.state.floatbank4_a_air    5840 non-null   float64\n",
      " 44  secondary_cleaner.state.floatbank4_a_level  5840 non-null   float64\n",
      " 45  secondary_cleaner.state.floatbank4_b_air    5840 non-null   float64\n",
      " 46  secondary_cleaner.state.floatbank4_b_level  5840 non-null   float64\n",
      " 47  secondary_cleaner.state.floatbank5_a_air    5840 non-null   float64\n",
      " 48  secondary_cleaner.state.floatbank5_a_level  5840 non-null   float64\n",
      " 49  secondary_cleaner.state.floatbank5_b_air    5840 non-null   float64\n",
      " 50  secondary_cleaner.state.floatbank5_b_level  5840 non-null   float64\n",
      " 51  secondary_cleaner.state.floatbank6_a_air    5840 non-null   float64\n",
      " 52  secondary_cleaner.state.floatbank6_a_level  5840 non-null   float64\n",
      "dtypes: float64(52), object(1)\n",
      "memory usage: 2.4+ MB\n"
     ]
    }
   ],
   "source": [
    "test_set.info()"
   ]
  },
  {
   "cell_type": "code",
   "execution_count": 187,
   "metadata": {},
   "outputs": [
    {
     "data": {
      "text/html": [
       "<div>\n",
       "<style scoped>\n",
       "    .dataframe tbody tr th:only-of-type {\n",
       "        vertical-align: middle;\n",
       "    }\n",
       "\n",
       "    .dataframe tbody tr th {\n",
       "        vertical-align: top;\n",
       "    }\n",
       "\n",
       "    .dataframe thead th {\n",
       "        text-align: right;\n",
       "    }\n",
       "</style>\n",
       "<table border=\"1\" class=\"dataframe\">\n",
       "  <thead>\n",
       "    <tr style=\"text-align: right;\">\n",
       "      <th></th>\n",
       "      <th>primary_cleaner.input.sulfate</th>\n",
       "      <th>primary_cleaner.input.depressant</th>\n",
       "      <th>primary_cleaner.input.feed_size</th>\n",
       "      <th>primary_cleaner.input.xanthate</th>\n",
       "      <th>primary_cleaner.state.floatbank8_a_air</th>\n",
       "      <th>primary_cleaner.state.floatbank8_a_level</th>\n",
       "      <th>primary_cleaner.state.floatbank8_b_air</th>\n",
       "      <th>primary_cleaner.state.floatbank8_b_level</th>\n",
       "      <th>primary_cleaner.state.floatbank8_c_air</th>\n",
       "      <th>primary_cleaner.state.floatbank8_c_level</th>\n",
       "      <th>...</th>\n",
       "      <th>secondary_cleaner.state.floatbank4_a_air</th>\n",
       "      <th>secondary_cleaner.state.floatbank4_a_level</th>\n",
       "      <th>secondary_cleaner.state.floatbank4_b_air</th>\n",
       "      <th>secondary_cleaner.state.floatbank4_b_level</th>\n",
       "      <th>secondary_cleaner.state.floatbank5_a_air</th>\n",
       "      <th>secondary_cleaner.state.floatbank5_a_level</th>\n",
       "      <th>secondary_cleaner.state.floatbank5_b_air</th>\n",
       "      <th>secondary_cleaner.state.floatbank5_b_level</th>\n",
       "      <th>secondary_cleaner.state.floatbank6_a_air</th>\n",
       "      <th>secondary_cleaner.state.floatbank6_a_level</th>\n",
       "    </tr>\n",
       "  </thead>\n",
       "  <tbody>\n",
       "    <tr>\n",
       "      <th>count</th>\n",
       "      <td>5554.000000</td>\n",
       "      <td>5572.000000</td>\n",
       "      <td>5856.000000</td>\n",
       "      <td>5690.000000</td>\n",
       "      <td>5840.000000</td>\n",
       "      <td>5840.000000</td>\n",
       "      <td>5840.000000</td>\n",
       "      <td>5840.000000</td>\n",
       "      <td>5840.000000</td>\n",
       "      <td>5840.000000</td>\n",
       "      <td>...</td>\n",
       "      <td>5840.000000</td>\n",
       "      <td>5840.000000</td>\n",
       "      <td>5840.000000</td>\n",
       "      <td>5840.000000</td>\n",
       "      <td>5840.000000</td>\n",
       "      <td>5840.000000</td>\n",
       "      <td>5840.000000</td>\n",
       "      <td>5840.000000</td>\n",
       "      <td>5840.000000</td>\n",
       "      <td>5840.000000</td>\n",
       "    </tr>\n",
       "    <tr>\n",
       "      <th>mean</th>\n",
       "      <td>170.515243</td>\n",
       "      <td>8.482873</td>\n",
       "      <td>7.264651</td>\n",
       "      <td>1.321420</td>\n",
       "      <td>1481.990241</td>\n",
       "      <td>-509.057796</td>\n",
       "      <td>1486.908670</td>\n",
       "      <td>-511.743956</td>\n",
       "      <td>1468.495216</td>\n",
       "      <td>-509.741212</td>\n",
       "      <td>...</td>\n",
       "      <td>15.636031</td>\n",
       "      <td>-516.266074</td>\n",
       "      <td>13.145702</td>\n",
       "      <td>-476.338907</td>\n",
       "      <td>12.308967</td>\n",
       "      <td>-512.208126</td>\n",
       "      <td>9.470986</td>\n",
       "      <td>-505.017827</td>\n",
       "      <td>16.678722</td>\n",
       "      <td>-512.351694</td>\n",
       "    </tr>\n",
       "    <tr>\n",
       "      <th>std</th>\n",
       "      <td>49.608602</td>\n",
       "      <td>3.353105</td>\n",
       "      <td>0.611526</td>\n",
       "      <td>0.693246</td>\n",
       "      <td>310.453166</td>\n",
       "      <td>61.339256</td>\n",
       "      <td>313.224286</td>\n",
       "      <td>67.139074</td>\n",
       "      <td>309.980748</td>\n",
       "      <td>62.671873</td>\n",
       "      <td>...</td>\n",
       "      <td>4.660835</td>\n",
       "      <td>62.756748</td>\n",
       "      <td>4.304086</td>\n",
       "      <td>105.549424</td>\n",
       "      <td>3.762827</td>\n",
       "      <td>58.864651</td>\n",
       "      <td>3.312471</td>\n",
       "      <td>68.785898</td>\n",
       "      <td>5.404514</td>\n",
       "      <td>69.919839</td>\n",
       "    </tr>\n",
       "    <tr>\n",
       "      <th>min</th>\n",
       "      <td>0.000103</td>\n",
       "      <td>0.000031</td>\n",
       "      <td>5.650000</td>\n",
       "      <td>0.000003</td>\n",
       "      <td>0.000000</td>\n",
       "      <td>-799.773788</td>\n",
       "      <td>0.000000</td>\n",
       "      <td>-800.029078</td>\n",
       "      <td>0.000000</td>\n",
       "      <td>-799.995127</td>\n",
       "      <td>...</td>\n",
       "      <td>0.000000</td>\n",
       "      <td>-799.798523</td>\n",
       "      <td>0.000000</td>\n",
       "      <td>-800.836914</td>\n",
       "      <td>-0.223393</td>\n",
       "      <td>-799.661076</td>\n",
       "      <td>0.528083</td>\n",
       "      <td>-800.220337</td>\n",
       "      <td>-0.079426</td>\n",
       "      <td>-809.859706</td>\n",
       "    </tr>\n",
       "    <tr>\n",
       "      <th>25%</th>\n",
       "      <td>143.340022</td>\n",
       "      <td>6.411500</td>\n",
       "      <td>6.885625</td>\n",
       "      <td>0.888769</td>\n",
       "      <td>1497.190681</td>\n",
       "      <td>-500.455211</td>\n",
       "      <td>1497.150234</td>\n",
       "      <td>-500.936639</td>\n",
       "      <td>1437.050321</td>\n",
       "      <td>-501.300441</td>\n",
       "      <td>...</td>\n",
       "      <td>12.057838</td>\n",
       "      <td>-501.054741</td>\n",
       "      <td>11.880119</td>\n",
       "      <td>-500.419113</td>\n",
       "      <td>10.123459</td>\n",
       "      <td>-500.879383</td>\n",
       "      <td>7.991208</td>\n",
       "      <td>-500.223089</td>\n",
       "      <td>13.012422</td>\n",
       "      <td>-500.833821</td>\n",
       "    </tr>\n",
       "    <tr>\n",
       "      <th>50%</th>\n",
       "      <td>176.103893</td>\n",
       "      <td>8.023252</td>\n",
       "      <td>7.259333</td>\n",
       "      <td>1.183362</td>\n",
       "      <td>1554.659783</td>\n",
       "      <td>-499.997402</td>\n",
       "      <td>1553.268084</td>\n",
       "      <td>-500.066588</td>\n",
       "      <td>1546.160672</td>\n",
       "      <td>-500.079537</td>\n",
       "      <td>...</td>\n",
       "      <td>17.001867</td>\n",
       "      <td>-500.160145</td>\n",
       "      <td>14.952102</td>\n",
       "      <td>-499.644328</td>\n",
       "      <td>12.062877</td>\n",
       "      <td>-500.047621</td>\n",
       "      <td>9.980774</td>\n",
       "      <td>-500.001338</td>\n",
       "      <td>16.007242</td>\n",
       "      <td>-500.041085</td>\n",
       "    </tr>\n",
       "    <tr>\n",
       "      <th>75%</th>\n",
       "      <td>207.240761</td>\n",
       "      <td>10.017725</td>\n",
       "      <td>7.650000</td>\n",
       "      <td>1.763797</td>\n",
       "      <td>1601.681656</td>\n",
       "      <td>-499.575313</td>\n",
       "      <td>1601.784707</td>\n",
       "      <td>-499.323361</td>\n",
       "      <td>1600.785573</td>\n",
       "      <td>-499.009545</td>\n",
       "      <td>...</td>\n",
       "      <td>18.030985</td>\n",
       "      <td>-499.441529</td>\n",
       "      <td>15.940011</td>\n",
       "      <td>-401.523664</td>\n",
       "      <td>15.017881</td>\n",
       "      <td>-499.297033</td>\n",
       "      <td>11.992176</td>\n",
       "      <td>-499.722835</td>\n",
       "      <td>21.009076</td>\n",
       "      <td>-499.395621</td>\n",
       "    </tr>\n",
       "    <tr>\n",
       "      <th>max</th>\n",
       "      <td>274.409626</td>\n",
       "      <td>40.024582</td>\n",
       "      <td>15.500000</td>\n",
       "      <td>5.433169</td>\n",
       "      <td>2212.432090</td>\n",
       "      <td>-57.195404</td>\n",
       "      <td>1975.147923</td>\n",
       "      <td>-142.527229</td>\n",
       "      <td>1715.053773</td>\n",
       "      <td>-150.937035</td>\n",
       "      <td>...</td>\n",
       "      <td>30.051797</td>\n",
       "      <td>-401.565212</td>\n",
       "      <td>31.269706</td>\n",
       "      <td>-6.506986</td>\n",
       "      <td>25.258848</td>\n",
       "      <td>-244.483566</td>\n",
       "      <td>14.090194</td>\n",
       "      <td>-126.463446</td>\n",
       "      <td>26.705889</td>\n",
       "      <td>-29.093593</td>\n",
       "    </tr>\n",
       "  </tbody>\n",
       "</table>\n",
       "<p>8 rows × 52 columns</p>\n",
       "</div>"
      ],
      "text/plain": [
       "       primary_cleaner.input.sulfate  primary_cleaner.input.depressant  \\\n",
       "count                    5554.000000                       5572.000000   \n",
       "mean                      170.515243                          8.482873   \n",
       "std                        49.608602                          3.353105   \n",
       "min                         0.000103                          0.000031   \n",
       "25%                       143.340022                          6.411500   \n",
       "50%                       176.103893                          8.023252   \n",
       "75%                       207.240761                         10.017725   \n",
       "max                       274.409626                         40.024582   \n",
       "\n",
       "       primary_cleaner.input.feed_size  primary_cleaner.input.xanthate  \\\n",
       "count                      5856.000000                     5690.000000   \n",
       "mean                          7.264651                        1.321420   \n",
       "std                           0.611526                        0.693246   \n",
       "min                           5.650000                        0.000003   \n",
       "25%                           6.885625                        0.888769   \n",
       "50%                           7.259333                        1.183362   \n",
       "75%                           7.650000                        1.763797   \n",
       "max                          15.500000                        5.433169   \n",
       "\n",
       "       primary_cleaner.state.floatbank8_a_air  \\\n",
       "count                             5840.000000   \n",
       "mean                              1481.990241   \n",
       "std                                310.453166   \n",
       "min                                  0.000000   \n",
       "25%                               1497.190681   \n",
       "50%                               1554.659783   \n",
       "75%                               1601.681656   \n",
       "max                               2212.432090   \n",
       "\n",
       "       primary_cleaner.state.floatbank8_a_level  \\\n",
       "count                               5840.000000   \n",
       "mean                                -509.057796   \n",
       "std                                   61.339256   \n",
       "min                                 -799.773788   \n",
       "25%                                 -500.455211   \n",
       "50%                                 -499.997402   \n",
       "75%                                 -499.575313   \n",
       "max                                  -57.195404   \n",
       "\n",
       "       primary_cleaner.state.floatbank8_b_air  \\\n",
       "count                             5840.000000   \n",
       "mean                              1486.908670   \n",
       "std                                313.224286   \n",
       "min                                  0.000000   \n",
       "25%                               1497.150234   \n",
       "50%                               1553.268084   \n",
       "75%                               1601.784707   \n",
       "max                               1975.147923   \n",
       "\n",
       "       primary_cleaner.state.floatbank8_b_level  \\\n",
       "count                               5840.000000   \n",
       "mean                                -511.743956   \n",
       "std                                   67.139074   \n",
       "min                                 -800.029078   \n",
       "25%                                 -500.936639   \n",
       "50%                                 -500.066588   \n",
       "75%                                 -499.323361   \n",
       "max                                 -142.527229   \n",
       "\n",
       "       primary_cleaner.state.floatbank8_c_air  \\\n",
       "count                             5840.000000   \n",
       "mean                              1468.495216   \n",
       "std                                309.980748   \n",
       "min                                  0.000000   \n",
       "25%                               1437.050321   \n",
       "50%                               1546.160672   \n",
       "75%                               1600.785573   \n",
       "max                               1715.053773   \n",
       "\n",
       "       primary_cleaner.state.floatbank8_c_level  ...  \\\n",
       "count                               5840.000000  ...   \n",
       "mean                                -509.741212  ...   \n",
       "std                                   62.671873  ...   \n",
       "min                                 -799.995127  ...   \n",
       "25%                                 -501.300441  ...   \n",
       "50%                                 -500.079537  ...   \n",
       "75%                                 -499.009545  ...   \n",
       "max                                 -150.937035  ...   \n",
       "\n",
       "       secondary_cleaner.state.floatbank4_a_air  \\\n",
       "count                               5840.000000   \n",
       "mean                                  15.636031   \n",
       "std                                    4.660835   \n",
       "min                                    0.000000   \n",
       "25%                                   12.057838   \n",
       "50%                                   17.001867   \n",
       "75%                                   18.030985   \n",
       "max                                   30.051797   \n",
       "\n",
       "       secondary_cleaner.state.floatbank4_a_level  \\\n",
       "count                                 5840.000000   \n",
       "mean                                  -516.266074   \n",
       "std                                     62.756748   \n",
       "min                                   -799.798523   \n",
       "25%                                   -501.054741   \n",
       "50%                                   -500.160145   \n",
       "75%                                   -499.441529   \n",
       "max                                   -401.565212   \n",
       "\n",
       "       secondary_cleaner.state.floatbank4_b_air  \\\n",
       "count                               5840.000000   \n",
       "mean                                  13.145702   \n",
       "std                                    4.304086   \n",
       "min                                    0.000000   \n",
       "25%                                   11.880119   \n",
       "50%                                   14.952102   \n",
       "75%                                   15.940011   \n",
       "max                                   31.269706   \n",
       "\n",
       "       secondary_cleaner.state.floatbank4_b_level  \\\n",
       "count                                 5840.000000   \n",
       "mean                                  -476.338907   \n",
       "std                                    105.549424   \n",
       "min                                   -800.836914   \n",
       "25%                                   -500.419113   \n",
       "50%                                   -499.644328   \n",
       "75%                                   -401.523664   \n",
       "max                                     -6.506986   \n",
       "\n",
       "       secondary_cleaner.state.floatbank5_a_air  \\\n",
       "count                               5840.000000   \n",
       "mean                                  12.308967   \n",
       "std                                    3.762827   \n",
       "min                                   -0.223393   \n",
       "25%                                   10.123459   \n",
       "50%                                   12.062877   \n",
       "75%                                   15.017881   \n",
       "max                                   25.258848   \n",
       "\n",
       "       secondary_cleaner.state.floatbank5_a_level  \\\n",
       "count                                 5840.000000   \n",
       "mean                                  -512.208126   \n",
       "std                                     58.864651   \n",
       "min                                   -799.661076   \n",
       "25%                                   -500.879383   \n",
       "50%                                   -500.047621   \n",
       "75%                                   -499.297033   \n",
       "max                                   -244.483566   \n",
       "\n",
       "       secondary_cleaner.state.floatbank5_b_air  \\\n",
       "count                               5840.000000   \n",
       "mean                                   9.470986   \n",
       "std                                    3.312471   \n",
       "min                                    0.528083   \n",
       "25%                                    7.991208   \n",
       "50%                                    9.980774   \n",
       "75%                                   11.992176   \n",
       "max                                   14.090194   \n",
       "\n",
       "       secondary_cleaner.state.floatbank5_b_level  \\\n",
       "count                                 5840.000000   \n",
       "mean                                  -505.017827   \n",
       "std                                     68.785898   \n",
       "min                                   -800.220337   \n",
       "25%                                   -500.223089   \n",
       "50%                                   -500.001338   \n",
       "75%                                   -499.722835   \n",
       "max                                   -126.463446   \n",
       "\n",
       "       secondary_cleaner.state.floatbank6_a_air  \\\n",
       "count                               5840.000000   \n",
       "mean                                  16.678722   \n",
       "std                                    5.404514   \n",
       "min                                   -0.079426   \n",
       "25%                                   13.012422   \n",
       "50%                                   16.007242   \n",
       "75%                                   21.009076   \n",
       "max                                   26.705889   \n",
       "\n",
       "       secondary_cleaner.state.floatbank6_a_level  \n",
       "count                                 5840.000000  \n",
       "mean                                  -512.351694  \n",
       "std                                     69.919839  \n",
       "min                                   -809.859706  \n",
       "25%                                   -500.833821  \n",
       "50%                                   -500.041085  \n",
       "75%                                   -499.395621  \n",
       "max                                    -29.093593  \n",
       "\n",
       "[8 rows x 52 columns]"
      ]
     },
     "execution_count": 187,
     "metadata": {},
     "output_type": "execute_result"
    }
   ],
   "source": [
    "test_set.describe()"
   ]
  },
  {
   "cell_type": "code",
   "execution_count": 188,
   "metadata": {},
   "outputs": [
    {
     "data": {
      "text/html": [
       "<div>\n",
       "<style scoped>\n",
       "    .dataframe tbody tr th:only-of-type {\n",
       "        vertical-align: middle;\n",
       "    }\n",
       "\n",
       "    .dataframe tbody tr th {\n",
       "        vertical-align: top;\n",
       "    }\n",
       "\n",
       "    .dataframe thead th {\n",
       "        text-align: right;\n",
       "    }\n",
       "</style>\n",
       "<table border=\"1\" class=\"dataframe\">\n",
       "  <thead>\n",
       "    <tr style=\"text-align: right;\">\n",
       "      <th></th>\n",
       "      <th>date</th>\n",
       "      <th>final.output.concentrate_ag</th>\n",
       "      <th>final.output.concentrate_pb</th>\n",
       "      <th>final.output.concentrate_sol</th>\n",
       "      <th>final.output.concentrate_au</th>\n",
       "      <th>final.output.recovery</th>\n",
       "      <th>final.output.tail_ag</th>\n",
       "      <th>final.output.tail_pb</th>\n",
       "      <th>final.output.tail_sol</th>\n",
       "      <th>final.output.tail_au</th>\n",
       "      <th>...</th>\n",
       "      <th>secondary_cleaner.state.floatbank4_a_air</th>\n",
       "      <th>secondary_cleaner.state.floatbank4_a_level</th>\n",
       "      <th>secondary_cleaner.state.floatbank4_b_air</th>\n",
       "      <th>secondary_cleaner.state.floatbank4_b_level</th>\n",
       "      <th>secondary_cleaner.state.floatbank5_a_air</th>\n",
       "      <th>secondary_cleaner.state.floatbank5_a_level</th>\n",
       "      <th>secondary_cleaner.state.floatbank5_b_air</th>\n",
       "      <th>secondary_cleaner.state.floatbank5_b_level</th>\n",
       "      <th>secondary_cleaner.state.floatbank6_a_air</th>\n",
       "      <th>secondary_cleaner.state.floatbank6_a_level</th>\n",
       "    </tr>\n",
       "  </thead>\n",
       "  <tbody>\n",
       "    <tr>\n",
       "      <th>0</th>\n",
       "      <td>2016-01-15 00:00:00</td>\n",
       "      <td>6.055403</td>\n",
       "      <td>9.889648</td>\n",
       "      <td>5.507324</td>\n",
       "      <td>42.192020</td>\n",
       "      <td>70.541216</td>\n",
       "      <td>10.411962</td>\n",
       "      <td>0.895447</td>\n",
       "      <td>16.904297</td>\n",
       "      <td>2.143149</td>\n",
       "      <td>...</td>\n",
       "      <td>14.016835</td>\n",
       "      <td>-502.488007</td>\n",
       "      <td>12.099931</td>\n",
       "      <td>-504.715942</td>\n",
       "      <td>9.925633</td>\n",
       "      <td>-498.310211</td>\n",
       "      <td>8.079666</td>\n",
       "      <td>-500.470978</td>\n",
       "      <td>14.151341</td>\n",
       "      <td>-605.841980</td>\n",
       "    </tr>\n",
       "    <tr>\n",
       "      <th>1</th>\n",
       "      <td>2016-01-15 01:00:00</td>\n",
       "      <td>6.029369</td>\n",
       "      <td>9.968944</td>\n",
       "      <td>5.257781</td>\n",
       "      <td>42.701629</td>\n",
       "      <td>69.266198</td>\n",
       "      <td>10.462676</td>\n",
       "      <td>0.927452</td>\n",
       "      <td>16.634514</td>\n",
       "      <td>2.224930</td>\n",
       "      <td>...</td>\n",
       "      <td>13.992281</td>\n",
       "      <td>-505.503262</td>\n",
       "      <td>11.950531</td>\n",
       "      <td>-501.331529</td>\n",
       "      <td>10.039245</td>\n",
       "      <td>-500.169983</td>\n",
       "      <td>7.984757</td>\n",
       "      <td>-500.582168</td>\n",
       "      <td>13.998353</td>\n",
       "      <td>-599.787184</td>\n",
       "    </tr>\n",
       "    <tr>\n",
       "      <th>2</th>\n",
       "      <td>2016-01-15 02:00:00</td>\n",
       "      <td>6.055926</td>\n",
       "      <td>10.213995</td>\n",
       "      <td>5.383759</td>\n",
       "      <td>42.657501</td>\n",
       "      <td>68.116445</td>\n",
       "      <td>10.507046</td>\n",
       "      <td>0.953716</td>\n",
       "      <td>16.208849</td>\n",
       "      <td>2.257889</td>\n",
       "      <td>...</td>\n",
       "      <td>14.015015</td>\n",
       "      <td>-502.520901</td>\n",
       "      <td>11.912783</td>\n",
       "      <td>-501.133383</td>\n",
       "      <td>10.070913</td>\n",
       "      <td>-500.129135</td>\n",
       "      <td>8.013877</td>\n",
       "      <td>-500.517572</td>\n",
       "      <td>14.028663</td>\n",
       "      <td>-601.427363</td>\n",
       "    </tr>\n",
       "    <tr>\n",
       "      <th>3</th>\n",
       "      <td>2016-01-15 03:00:00</td>\n",
       "      <td>6.047977</td>\n",
       "      <td>9.977019</td>\n",
       "      <td>4.858634</td>\n",
       "      <td>42.689819</td>\n",
       "      <td>68.347543</td>\n",
       "      <td>10.422762</td>\n",
       "      <td>0.883763</td>\n",
       "      <td>16.532835</td>\n",
       "      <td>2.146849</td>\n",
       "      <td>...</td>\n",
       "      <td>14.036510</td>\n",
       "      <td>-500.857308</td>\n",
       "      <td>11.999550</td>\n",
       "      <td>-501.193686</td>\n",
       "      <td>9.970366</td>\n",
       "      <td>-499.201640</td>\n",
       "      <td>7.977324</td>\n",
       "      <td>-500.255908</td>\n",
       "      <td>14.005551</td>\n",
       "      <td>-599.996129</td>\n",
       "    </tr>\n",
       "    <tr>\n",
       "      <th>4</th>\n",
       "      <td>2016-01-15 04:00:00</td>\n",
       "      <td>6.148599</td>\n",
       "      <td>10.142511</td>\n",
       "      <td>4.939416</td>\n",
       "      <td>42.774141</td>\n",
       "      <td>66.927016</td>\n",
       "      <td>10.360302</td>\n",
       "      <td>0.792826</td>\n",
       "      <td>16.525686</td>\n",
       "      <td>2.055292</td>\n",
       "      <td>...</td>\n",
       "      <td>14.027298</td>\n",
       "      <td>-499.838632</td>\n",
       "      <td>11.953070</td>\n",
       "      <td>-501.053894</td>\n",
       "      <td>9.925709</td>\n",
       "      <td>-501.686727</td>\n",
       "      <td>7.894242</td>\n",
       "      <td>-500.356035</td>\n",
       "      <td>13.996647</td>\n",
       "      <td>-601.496691</td>\n",
       "    </tr>\n",
       "    <tr>\n",
       "      <th>...</th>\n",
       "      <td>...</td>\n",
       "      <td>...</td>\n",
       "      <td>...</td>\n",
       "      <td>...</td>\n",
       "      <td>...</td>\n",
       "      <td>...</td>\n",
       "      <td>...</td>\n",
       "      <td>...</td>\n",
       "      <td>...</td>\n",
       "      <td>...</td>\n",
       "      <td>...</td>\n",
       "      <td>...</td>\n",
       "      <td>...</td>\n",
       "      <td>...</td>\n",
       "      <td>...</td>\n",
       "      <td>...</td>\n",
       "      <td>...</td>\n",
       "      <td>...</td>\n",
       "      <td>...</td>\n",
       "      <td>...</td>\n",
       "      <td>...</td>\n",
       "    </tr>\n",
       "    <tr>\n",
       "      <th>22711</th>\n",
       "      <td>2018-08-18 06:59:59</td>\n",
       "      <td>3.224920</td>\n",
       "      <td>11.356233</td>\n",
       "      <td>6.803482</td>\n",
       "      <td>46.713954</td>\n",
       "      <td>73.755150</td>\n",
       "      <td>8.769645</td>\n",
       "      <td>3.141541</td>\n",
       "      <td>10.403181</td>\n",
       "      <td>1.529220</td>\n",
       "      <td>...</td>\n",
       "      <td>23.031497</td>\n",
       "      <td>-501.167942</td>\n",
       "      <td>20.007571</td>\n",
       "      <td>-499.740028</td>\n",
       "      <td>18.006038</td>\n",
       "      <td>-499.834374</td>\n",
       "      <td>13.001114</td>\n",
       "      <td>-500.155694</td>\n",
       "      <td>20.007840</td>\n",
       "      <td>-501.296428</td>\n",
       "    </tr>\n",
       "    <tr>\n",
       "      <th>22712</th>\n",
       "      <td>2018-08-18 07:59:59</td>\n",
       "      <td>3.195978</td>\n",
       "      <td>11.349355</td>\n",
       "      <td>6.862249</td>\n",
       "      <td>46.866780</td>\n",
       "      <td>69.049291</td>\n",
       "      <td>8.897321</td>\n",
       "      <td>3.130493</td>\n",
       "      <td>10.549470</td>\n",
       "      <td>1.612542</td>\n",
       "      <td>...</td>\n",
       "      <td>22.960095</td>\n",
       "      <td>-501.612783</td>\n",
       "      <td>20.035660</td>\n",
       "      <td>-500.251357</td>\n",
       "      <td>17.998535</td>\n",
       "      <td>-500.395178</td>\n",
       "      <td>12.954048</td>\n",
       "      <td>-499.895163</td>\n",
       "      <td>19.968498</td>\n",
       "      <td>-501.041608</td>\n",
       "    </tr>\n",
       "    <tr>\n",
       "      <th>22713</th>\n",
       "      <td>2018-08-18 08:59:59</td>\n",
       "      <td>3.109998</td>\n",
       "      <td>11.434366</td>\n",
       "      <td>6.886013</td>\n",
       "      <td>46.795691</td>\n",
       "      <td>67.002189</td>\n",
       "      <td>8.529606</td>\n",
       "      <td>2.911418</td>\n",
       "      <td>11.115147</td>\n",
       "      <td>1.596616</td>\n",
       "      <td>...</td>\n",
       "      <td>23.015718</td>\n",
       "      <td>-501.711599</td>\n",
       "      <td>19.951231</td>\n",
       "      <td>-499.857027</td>\n",
       "      <td>18.019543</td>\n",
       "      <td>-500.451156</td>\n",
       "      <td>13.023431</td>\n",
       "      <td>-499.914391</td>\n",
       "      <td>19.990885</td>\n",
       "      <td>-501.518452</td>\n",
       "    </tr>\n",
       "    <tr>\n",
       "      <th>22714</th>\n",
       "      <td>2018-08-18 09:59:59</td>\n",
       "      <td>3.367241</td>\n",
       "      <td>11.625587</td>\n",
       "      <td>6.799433</td>\n",
       "      <td>46.408188</td>\n",
       "      <td>65.523246</td>\n",
       "      <td>8.777171</td>\n",
       "      <td>2.819214</td>\n",
       "      <td>10.463847</td>\n",
       "      <td>1.602879</td>\n",
       "      <td>...</td>\n",
       "      <td>23.024963</td>\n",
       "      <td>-501.153409</td>\n",
       "      <td>20.054122</td>\n",
       "      <td>-500.314711</td>\n",
       "      <td>17.979515</td>\n",
       "      <td>-499.272871</td>\n",
       "      <td>12.992404</td>\n",
       "      <td>-499.976268</td>\n",
       "      <td>20.013986</td>\n",
       "      <td>-500.625471</td>\n",
       "    </tr>\n",
       "    <tr>\n",
       "      <th>22715</th>\n",
       "      <td>2018-08-18 10:59:59</td>\n",
       "      <td>3.598375</td>\n",
       "      <td>11.737832</td>\n",
       "      <td>6.717509</td>\n",
       "      <td>46.299438</td>\n",
       "      <td>70.281454</td>\n",
       "      <td>8.406690</td>\n",
       "      <td>2.517518</td>\n",
       "      <td>10.652193</td>\n",
       "      <td>1.389434</td>\n",
       "      <td>...</td>\n",
       "      <td>23.018622</td>\n",
       "      <td>-500.492702</td>\n",
       "      <td>20.020205</td>\n",
       "      <td>-500.220296</td>\n",
       "      <td>17.963512</td>\n",
       "      <td>-499.939490</td>\n",
       "      <td>12.990306</td>\n",
       "      <td>-500.080993</td>\n",
       "      <td>19.990336</td>\n",
       "      <td>-499.191575</td>\n",
       "    </tr>\n",
       "  </tbody>\n",
       "</table>\n",
       "<p>22716 rows × 87 columns</p>\n",
       "</div>"
      ],
      "text/plain": [
       "                      date  final.output.concentrate_ag  \\\n",
       "0      2016-01-15 00:00:00                     6.055403   \n",
       "1      2016-01-15 01:00:00                     6.029369   \n",
       "2      2016-01-15 02:00:00                     6.055926   \n",
       "3      2016-01-15 03:00:00                     6.047977   \n",
       "4      2016-01-15 04:00:00                     6.148599   \n",
       "...                    ...                          ...   \n",
       "22711  2018-08-18 06:59:59                     3.224920   \n",
       "22712  2018-08-18 07:59:59                     3.195978   \n",
       "22713  2018-08-18 08:59:59                     3.109998   \n",
       "22714  2018-08-18 09:59:59                     3.367241   \n",
       "22715  2018-08-18 10:59:59                     3.598375   \n",
       "\n",
       "       final.output.concentrate_pb  final.output.concentrate_sol  \\\n",
       "0                         9.889648                      5.507324   \n",
       "1                         9.968944                      5.257781   \n",
       "2                        10.213995                      5.383759   \n",
       "3                         9.977019                      4.858634   \n",
       "4                        10.142511                      4.939416   \n",
       "...                            ...                           ...   \n",
       "22711                    11.356233                      6.803482   \n",
       "22712                    11.349355                      6.862249   \n",
       "22713                    11.434366                      6.886013   \n",
       "22714                    11.625587                      6.799433   \n",
       "22715                    11.737832                      6.717509   \n",
       "\n",
       "       final.output.concentrate_au  final.output.recovery  \\\n",
       "0                        42.192020              70.541216   \n",
       "1                        42.701629              69.266198   \n",
       "2                        42.657501              68.116445   \n",
       "3                        42.689819              68.347543   \n",
       "4                        42.774141              66.927016   \n",
       "...                            ...                    ...   \n",
       "22711                    46.713954              73.755150   \n",
       "22712                    46.866780              69.049291   \n",
       "22713                    46.795691              67.002189   \n",
       "22714                    46.408188              65.523246   \n",
       "22715                    46.299438              70.281454   \n",
       "\n",
       "       final.output.tail_ag  final.output.tail_pb  final.output.tail_sol  \\\n",
       "0                 10.411962              0.895447              16.904297   \n",
       "1                 10.462676              0.927452              16.634514   \n",
       "2                 10.507046              0.953716              16.208849   \n",
       "3                 10.422762              0.883763              16.532835   \n",
       "4                 10.360302              0.792826              16.525686   \n",
       "...                     ...                   ...                    ...   \n",
       "22711              8.769645              3.141541              10.403181   \n",
       "22712              8.897321              3.130493              10.549470   \n",
       "22713              8.529606              2.911418              11.115147   \n",
       "22714              8.777171              2.819214              10.463847   \n",
       "22715              8.406690              2.517518              10.652193   \n",
       "\n",
       "       final.output.tail_au  ...  secondary_cleaner.state.floatbank4_a_air  \\\n",
       "0                  2.143149  ...                                 14.016835   \n",
       "1                  2.224930  ...                                 13.992281   \n",
       "2                  2.257889  ...                                 14.015015   \n",
       "3                  2.146849  ...                                 14.036510   \n",
       "4                  2.055292  ...                                 14.027298   \n",
       "...                     ...  ...                                       ...   \n",
       "22711              1.529220  ...                                 23.031497   \n",
       "22712              1.612542  ...                                 22.960095   \n",
       "22713              1.596616  ...                                 23.015718   \n",
       "22714              1.602879  ...                                 23.024963   \n",
       "22715              1.389434  ...                                 23.018622   \n",
       "\n",
       "       secondary_cleaner.state.floatbank4_a_level  \\\n",
       "0                                     -502.488007   \n",
       "1                                     -505.503262   \n",
       "2                                     -502.520901   \n",
       "3                                     -500.857308   \n",
       "4                                     -499.838632   \n",
       "...                                           ...   \n",
       "22711                                 -501.167942   \n",
       "22712                                 -501.612783   \n",
       "22713                                 -501.711599   \n",
       "22714                                 -501.153409   \n",
       "22715                                 -500.492702   \n",
       "\n",
       "       secondary_cleaner.state.floatbank4_b_air  \\\n",
       "0                                     12.099931   \n",
       "1                                     11.950531   \n",
       "2                                     11.912783   \n",
       "3                                     11.999550   \n",
       "4                                     11.953070   \n",
       "...                                         ...   \n",
       "22711                                 20.007571   \n",
       "22712                                 20.035660   \n",
       "22713                                 19.951231   \n",
       "22714                                 20.054122   \n",
       "22715                                 20.020205   \n",
       "\n",
       "       secondary_cleaner.state.floatbank4_b_level  \\\n",
       "0                                     -504.715942   \n",
       "1                                     -501.331529   \n",
       "2                                     -501.133383   \n",
       "3                                     -501.193686   \n",
       "4                                     -501.053894   \n",
       "...                                           ...   \n",
       "22711                                 -499.740028   \n",
       "22712                                 -500.251357   \n",
       "22713                                 -499.857027   \n",
       "22714                                 -500.314711   \n",
       "22715                                 -500.220296   \n",
       "\n",
       "       secondary_cleaner.state.floatbank5_a_air  \\\n",
       "0                                      9.925633   \n",
       "1                                     10.039245   \n",
       "2                                     10.070913   \n",
       "3                                      9.970366   \n",
       "4                                      9.925709   \n",
       "...                                         ...   \n",
       "22711                                 18.006038   \n",
       "22712                                 17.998535   \n",
       "22713                                 18.019543   \n",
       "22714                                 17.979515   \n",
       "22715                                 17.963512   \n",
       "\n",
       "       secondary_cleaner.state.floatbank5_a_level  \\\n",
       "0                                     -498.310211   \n",
       "1                                     -500.169983   \n",
       "2                                     -500.129135   \n",
       "3                                     -499.201640   \n",
       "4                                     -501.686727   \n",
       "...                                           ...   \n",
       "22711                                 -499.834374   \n",
       "22712                                 -500.395178   \n",
       "22713                                 -500.451156   \n",
       "22714                                 -499.272871   \n",
       "22715                                 -499.939490   \n",
       "\n",
       "       secondary_cleaner.state.floatbank5_b_air  \\\n",
       "0                                      8.079666   \n",
       "1                                      7.984757   \n",
       "2                                      8.013877   \n",
       "3                                      7.977324   \n",
       "4                                      7.894242   \n",
       "...                                         ...   \n",
       "22711                                 13.001114   \n",
       "22712                                 12.954048   \n",
       "22713                                 13.023431   \n",
       "22714                                 12.992404   \n",
       "22715                                 12.990306   \n",
       "\n",
       "       secondary_cleaner.state.floatbank5_b_level  \\\n",
       "0                                     -500.470978   \n",
       "1                                     -500.582168   \n",
       "2                                     -500.517572   \n",
       "3                                     -500.255908   \n",
       "4                                     -500.356035   \n",
       "...                                           ...   \n",
       "22711                                 -500.155694   \n",
       "22712                                 -499.895163   \n",
       "22713                                 -499.914391   \n",
       "22714                                 -499.976268   \n",
       "22715                                 -500.080993   \n",
       "\n",
       "       secondary_cleaner.state.floatbank6_a_air  \\\n",
       "0                                     14.151341   \n",
       "1                                     13.998353   \n",
       "2                                     14.028663   \n",
       "3                                     14.005551   \n",
       "4                                     13.996647   \n",
       "...                                         ...   \n",
       "22711                                 20.007840   \n",
       "22712                                 19.968498   \n",
       "22713                                 19.990885   \n",
       "22714                                 20.013986   \n",
       "22715                                 19.990336   \n",
       "\n",
       "       secondary_cleaner.state.floatbank6_a_level  \n",
       "0                                     -605.841980  \n",
       "1                                     -599.787184  \n",
       "2                                     -601.427363  \n",
       "3                                     -599.996129  \n",
       "4                                     -601.496691  \n",
       "...                                           ...  \n",
       "22711                                 -501.296428  \n",
       "22712                                 -501.041608  \n",
       "22713                                 -501.518452  \n",
       "22714                                 -500.625471  \n",
       "22715                                 -499.191575  \n",
       "\n",
       "[22716 rows x 87 columns]"
      ]
     },
     "execution_count": 188,
     "metadata": {},
     "output_type": "execute_result"
    }
   ],
   "source": [
    "full_set"
   ]
  },
  {
   "cell_type": "code",
   "execution_count": 189,
   "metadata": {},
   "outputs": [
    {
     "name": "stdout",
     "output_type": "stream",
     "text": [
      "<class 'pandas.core.frame.DataFrame'>\n",
      "RangeIndex: 22716 entries, 0 to 22715\n",
      "Data columns (total 87 columns):\n",
      " #   Column                                              Non-Null Count  Dtype  \n",
      "---  ------                                              --------------  -----  \n",
      " 0   date                                                22716 non-null  object \n",
      " 1   final.output.concentrate_ag                         22627 non-null  float64\n",
      " 2   final.output.concentrate_pb                         22629 non-null  float64\n",
      " 3   final.output.concentrate_sol                        22331 non-null  float64\n",
      " 4   final.output.concentrate_au                         22630 non-null  float64\n",
      " 5   final.output.recovery                               20753 non-null  float64\n",
      " 6   final.output.tail_ag                                22633 non-null  float64\n",
      " 7   final.output.tail_pb                                22516 non-null  float64\n",
      " 8   final.output.tail_sol                               22445 non-null  float64\n",
      " 9   final.output.tail_au                                22635 non-null  float64\n",
      " 10  primary_cleaner.input.sulfate                       21107 non-null  float64\n",
      " 11  primary_cleaner.input.depressant                    21170 non-null  float64\n",
      " 12  primary_cleaner.input.feed_size                     22716 non-null  float64\n",
      " 13  primary_cleaner.input.xanthate                      21565 non-null  float64\n",
      " 14  primary_cleaner.output.concentrate_ag               22618 non-null  float64\n",
      " 15  primary_cleaner.output.concentrate_pb               22268 non-null  float64\n",
      " 16  primary_cleaner.output.concentrate_sol              21918 non-null  float64\n",
      " 17  primary_cleaner.output.concentrate_au               22618 non-null  float64\n",
      " 18  primary_cleaner.output.tail_ag                      22614 non-null  float64\n",
      " 19  primary_cleaner.output.tail_pb                      22594 non-null  float64\n",
      " 20  primary_cleaner.output.tail_sol                     22365 non-null  float64\n",
      " 21  primary_cleaner.output.tail_au                      22617 non-null  float64\n",
      " 22  primary_cleaner.state.floatbank8_a_air              22660 non-null  float64\n",
      " 23  primary_cleaner.state.floatbank8_a_level            22667 non-null  float64\n",
      " 24  primary_cleaner.state.floatbank8_b_air              22660 non-null  float64\n",
      " 25  primary_cleaner.state.floatbank8_b_level            22673 non-null  float64\n",
      " 26  primary_cleaner.state.floatbank8_c_air              22662 non-null  float64\n",
      " 27  primary_cleaner.state.floatbank8_c_level            22673 non-null  float64\n",
      " 28  primary_cleaner.state.floatbank8_d_air              22661 non-null  float64\n",
      " 29  primary_cleaner.state.floatbank8_d_level            22673 non-null  float64\n",
      " 30  rougher.calculation.sulfate_to_au_concentrate       22672 non-null  float64\n",
      " 31  rougher.calculation.floatbank10_sulfate_to_au_feed  22672 non-null  float64\n",
      " 32  rougher.calculation.floatbank11_sulfate_to_au_feed  22672 non-null  float64\n",
      " 33  rougher.calculation.au_pb_ratio                     21089 non-null  float64\n",
      " 34  rougher.input.feed_ag                               22618 non-null  float64\n",
      " 35  rougher.input.feed_pb                               22472 non-null  float64\n",
      " 36  rougher.input.feed_rate                             22163 non-null  float64\n",
      " 37  rougher.input.feed_size                             22277 non-null  float64\n",
      " 38  rougher.input.feed_sol                              22357 non-null  float64\n",
      " 39  rougher.input.feed_au                               22617 non-null  float64\n",
      " 40  rougher.input.floatbank10_sulfate                   21415 non-null  float64\n",
      " 41  rougher.input.floatbank10_xanthate                  22247 non-null  float64\n",
      " 42  rougher.input.floatbank11_sulfate                   22038 non-null  float64\n",
      " 43  rougher.input.floatbank11_xanthate                  20459 non-null  float64\n",
      " 44  rougher.output.concentrate_ag                       22618 non-null  float64\n",
      " 45  rougher.output.concentrate_pb                       22618 non-null  float64\n",
      " 46  rougher.output.concentrate_sol                      22526 non-null  float64\n",
      " 47  rougher.output.concentrate_au                       22618 non-null  float64\n",
      " 48  rougher.output.recovery                             19597 non-null  float64\n",
      " 49  rougher.output.tail_ag                              19979 non-null  float64\n",
      " 50  rougher.output.tail_pb                              22618 non-null  float64\n",
      " 51  rougher.output.tail_sol                             19980 non-null  float64\n",
      " 52  rougher.output.tail_au                              19980 non-null  float64\n",
      " 53  rougher.state.floatbank10_a_air                     22646 non-null  float64\n",
      " 54  rougher.state.floatbank10_a_level                   22647 non-null  float64\n",
      " 55  rougher.state.floatbank10_b_air                     22646 non-null  float64\n",
      " 56  rougher.state.floatbank10_b_level                   22647 non-null  float64\n",
      " 57  rougher.state.floatbank10_c_air                     22646 non-null  float64\n",
      " 58  rougher.state.floatbank10_c_level                   22654 non-null  float64\n",
      " 59  rougher.state.floatbank10_d_air                     22641 non-null  float64\n",
      " 60  rougher.state.floatbank10_d_level                   22649 non-null  float64\n",
      " 61  rougher.state.floatbank10_e_air                     22096 non-null  float64\n",
      " 62  rougher.state.floatbank10_e_level                   22649 non-null  float64\n",
      " 63  rougher.state.floatbank10_f_air                     22641 non-null  float64\n",
      " 64  rougher.state.floatbank10_f_level                   22642 non-null  float64\n",
      " 65  secondary_cleaner.output.tail_ag                    22616 non-null  float64\n",
      " 66  secondary_cleaner.output.tail_pb                    22600 non-null  float64\n",
      " 67  secondary_cleaner.output.tail_sol                   20501 non-null  float64\n",
      " 68  secondary_cleaner.output.tail_au                    22618 non-null  float64\n",
      " 69  secondary_cleaner.state.floatbank2_a_air            22333 non-null  float64\n",
      " 70  secondary_cleaner.state.floatbank2_a_level          22591 non-null  float64\n",
      " 71  secondary_cleaner.state.floatbank2_b_air            22538 non-null  float64\n",
      " 72  secondary_cleaner.state.floatbank2_b_level          22588 non-null  float64\n",
      " 73  secondary_cleaner.state.floatbank3_a_air            22585 non-null  float64\n",
      " 74  secondary_cleaner.state.floatbank3_a_level          22587 non-null  float64\n",
      " 75  secondary_cleaner.state.floatbank3_b_air            22592 non-null  float64\n",
      " 76  secondary_cleaner.state.floatbank3_b_level          22590 non-null  float64\n",
      " 77  secondary_cleaner.state.floatbank4_a_air            22571 non-null  float64\n",
      " 78  secondary_cleaner.state.floatbank4_a_level          22587 non-null  float64\n",
      " 79  secondary_cleaner.state.floatbank4_b_air            22608 non-null  float64\n",
      " 80  secondary_cleaner.state.floatbank4_b_level          22607 non-null  float64\n",
      " 81  secondary_cleaner.state.floatbank5_a_air            22615 non-null  float64\n",
      " 82  secondary_cleaner.state.floatbank5_a_level          22615 non-null  float64\n",
      " 83  secondary_cleaner.state.floatbank5_b_air            22615 non-null  float64\n",
      " 84  secondary_cleaner.state.floatbank5_b_level          22616 non-null  float64\n",
      " 85  secondary_cleaner.state.floatbank6_a_air            22597 non-null  float64\n",
      " 86  secondary_cleaner.state.floatbank6_a_level          22615 non-null  float64\n",
      "dtypes: float64(86), object(1)\n",
      "memory usage: 15.1+ MB\n"
     ]
    }
   ],
   "source": [
    "full_set.info()"
   ]
  },
  {
   "cell_type": "code",
   "execution_count": 190,
   "metadata": {},
   "outputs": [
    {
     "data": {
      "text/html": [
       "<div>\n",
       "<style scoped>\n",
       "    .dataframe tbody tr th:only-of-type {\n",
       "        vertical-align: middle;\n",
       "    }\n",
       "\n",
       "    .dataframe tbody tr th {\n",
       "        vertical-align: top;\n",
       "    }\n",
       "\n",
       "    .dataframe thead th {\n",
       "        text-align: right;\n",
       "    }\n",
       "</style>\n",
       "<table border=\"1\" class=\"dataframe\">\n",
       "  <thead>\n",
       "    <tr style=\"text-align: right;\">\n",
       "      <th></th>\n",
       "      <th>final.output.concentrate_ag</th>\n",
       "      <th>final.output.concentrate_pb</th>\n",
       "      <th>final.output.concentrate_sol</th>\n",
       "      <th>final.output.concentrate_au</th>\n",
       "      <th>final.output.recovery</th>\n",
       "      <th>final.output.tail_ag</th>\n",
       "      <th>final.output.tail_pb</th>\n",
       "      <th>final.output.tail_sol</th>\n",
       "      <th>final.output.tail_au</th>\n",
       "      <th>primary_cleaner.input.sulfate</th>\n",
       "      <th>...</th>\n",
       "      <th>secondary_cleaner.state.floatbank4_a_air</th>\n",
       "      <th>secondary_cleaner.state.floatbank4_a_level</th>\n",
       "      <th>secondary_cleaner.state.floatbank4_b_air</th>\n",
       "      <th>secondary_cleaner.state.floatbank4_b_level</th>\n",
       "      <th>secondary_cleaner.state.floatbank5_a_air</th>\n",
       "      <th>secondary_cleaner.state.floatbank5_a_level</th>\n",
       "      <th>secondary_cleaner.state.floatbank5_b_air</th>\n",
       "      <th>secondary_cleaner.state.floatbank5_b_level</th>\n",
       "      <th>secondary_cleaner.state.floatbank6_a_air</th>\n",
       "      <th>secondary_cleaner.state.floatbank6_a_level</th>\n",
       "    </tr>\n",
       "  </thead>\n",
       "  <tbody>\n",
       "    <tr>\n",
       "      <th>count</th>\n",
       "      <td>22627.000000</td>\n",
       "      <td>22629.000000</td>\n",
       "      <td>22331.000000</td>\n",
       "      <td>22630.000000</td>\n",
       "      <td>20753.000000</td>\n",
       "      <td>22633.000000</td>\n",
       "      <td>22516.000000</td>\n",
       "      <td>22445.000000</td>\n",
       "      <td>22635.000000</td>\n",
       "      <td>21107.000000</td>\n",
       "      <td>...</td>\n",
       "      <td>22571.000000</td>\n",
       "      <td>22587.000000</td>\n",
       "      <td>22608.000000</td>\n",
       "      <td>22607.000000</td>\n",
       "      <td>22615.000000</td>\n",
       "      <td>22615.000000</td>\n",
       "      <td>22615.000000</td>\n",
       "      <td>22616.000000</td>\n",
       "      <td>22597.000000</td>\n",
       "      <td>22615.000000</td>\n",
       "    </tr>\n",
       "    <tr>\n",
       "      <th>mean</th>\n",
       "      <td>4.781559</td>\n",
       "      <td>9.095308</td>\n",
       "      <td>8.640317</td>\n",
       "      <td>40.001172</td>\n",
       "      <td>67.447488</td>\n",
       "      <td>8.923690</td>\n",
       "      <td>2.488252</td>\n",
       "      <td>9.523632</td>\n",
       "      <td>2.827459</td>\n",
       "      <td>140.277672</td>\n",
       "      <td>...</td>\n",
       "      <td>18.205125</td>\n",
       "      <td>-499.878977</td>\n",
       "      <td>14.356474</td>\n",
       "      <td>-476.532613</td>\n",
       "      <td>14.883276</td>\n",
       "      <td>-503.323288</td>\n",
       "      <td>11.626743</td>\n",
       "      <td>-500.521502</td>\n",
       "      <td>17.976810</td>\n",
       "      <td>-519.361465</td>\n",
       "    </tr>\n",
       "    <tr>\n",
       "      <th>std</th>\n",
       "      <td>2.030128</td>\n",
       "      <td>3.230797</td>\n",
       "      <td>3.785035</td>\n",
       "      <td>13.398062</td>\n",
       "      <td>11.616034</td>\n",
       "      <td>3.517917</td>\n",
       "      <td>1.189407</td>\n",
       "      <td>4.079739</td>\n",
       "      <td>1.262834</td>\n",
       "      <td>49.919004</td>\n",
       "      <td>...</td>\n",
       "      <td>6.560700</td>\n",
       "      <td>80.273964</td>\n",
       "      <td>5.655791</td>\n",
       "      <td>93.822791</td>\n",
       "      <td>6.372811</td>\n",
       "      <td>72.925589</td>\n",
       "      <td>5.757449</td>\n",
       "      <td>78.956292</td>\n",
       "      <td>6.636203</td>\n",
       "      <td>75.477151</td>\n",
       "    </tr>\n",
       "    <tr>\n",
       "      <th>min</th>\n",
       "      <td>0.000000</td>\n",
       "      <td>0.000000</td>\n",
       "      <td>0.000000</td>\n",
       "      <td>0.000000</td>\n",
       "      <td>0.000000</td>\n",
       "      <td>0.000000</td>\n",
       "      <td>0.000000</td>\n",
       "      <td>0.000000</td>\n",
       "      <td>0.000000</td>\n",
       "      <td>0.000003</td>\n",
       "      <td>...</td>\n",
       "      <td>0.000000</td>\n",
       "      <td>-799.920713</td>\n",
       "      <td>0.000000</td>\n",
       "      <td>-800.836914</td>\n",
       "      <td>-0.423260</td>\n",
       "      <td>-799.741097</td>\n",
       "      <td>0.427084</td>\n",
       "      <td>-800.258209</td>\n",
       "      <td>-0.079426</td>\n",
       "      <td>-810.473526</td>\n",
       "    </tr>\n",
       "    <tr>\n",
       "      <th>25%</th>\n",
       "      <td>4.018525</td>\n",
       "      <td>8.750171</td>\n",
       "      <td>7.116799</td>\n",
       "      <td>42.383721</td>\n",
       "      <td>63.282393</td>\n",
       "      <td>7.684016</td>\n",
       "      <td>1.805376</td>\n",
       "      <td>8.143576</td>\n",
       "      <td>2.303108</td>\n",
       "      <td>110.177081</td>\n",
       "      <td>...</td>\n",
       "      <td>14.095940</td>\n",
       "      <td>-500.896232</td>\n",
       "      <td>10.882675</td>\n",
       "      <td>-500.309169</td>\n",
       "      <td>10.941299</td>\n",
       "      <td>-500.628697</td>\n",
       "      <td>8.037533</td>\n",
       "      <td>-500.167897</td>\n",
       "      <td>13.968418</td>\n",
       "      <td>-500.981671</td>\n",
       "    </tr>\n",
       "    <tr>\n",
       "      <th>50%</th>\n",
       "      <td>4.953729</td>\n",
       "      <td>9.914519</td>\n",
       "      <td>8.908792</td>\n",
       "      <td>44.653436</td>\n",
       "      <td>68.322258</td>\n",
       "      <td>9.484369</td>\n",
       "      <td>2.653001</td>\n",
       "      <td>10.212998</td>\n",
       "      <td>2.913794</td>\n",
       "      <td>141.330501</td>\n",
       "      <td>...</td>\n",
       "      <td>18.007326</td>\n",
       "      <td>-499.917108</td>\n",
       "      <td>14.947646</td>\n",
       "      <td>-499.612292</td>\n",
       "      <td>14.859117</td>\n",
       "      <td>-499.865158</td>\n",
       "      <td>10.989756</td>\n",
       "      <td>-499.951980</td>\n",
       "      <td>18.004215</td>\n",
       "      <td>-500.095463</td>\n",
       "    </tr>\n",
       "    <tr>\n",
       "      <th>75%</th>\n",
       "      <td>5.862593</td>\n",
       "      <td>10.929839</td>\n",
       "      <td>10.705824</td>\n",
       "      <td>46.111999</td>\n",
       "      <td>72.950836</td>\n",
       "      <td>11.084557</td>\n",
       "      <td>3.287790</td>\n",
       "      <td>11.860824</td>\n",
       "      <td>3.555077</td>\n",
       "      <td>174.049914</td>\n",
       "      <td>...</td>\n",
       "      <td>22.998194</td>\n",
       "      <td>-498.361545</td>\n",
       "      <td>17.977502</td>\n",
       "      <td>-400.224147</td>\n",
       "      <td>18.014914</td>\n",
       "      <td>-498.489381</td>\n",
       "      <td>14.001193</td>\n",
       "      <td>-499.492354</td>\n",
       "      <td>23.009704</td>\n",
       "      <td>-499.526388</td>\n",
       "    </tr>\n",
       "    <tr>\n",
       "      <th>max</th>\n",
       "      <td>16.001945</td>\n",
       "      <td>17.031899</td>\n",
       "      <td>19.615720</td>\n",
       "      <td>53.611374</td>\n",
       "      <td>100.000000</td>\n",
       "      <td>19.552149</td>\n",
       "      <td>6.086532</td>\n",
       "      <td>22.861749</td>\n",
       "      <td>9.789625</td>\n",
       "      <td>274.409626</td>\n",
       "      <td>...</td>\n",
       "      <td>60.000000</td>\n",
       "      <td>-127.692333</td>\n",
       "      <td>31.269706</td>\n",
       "      <td>-6.506986</td>\n",
       "      <td>63.116298</td>\n",
       "      <td>-244.483566</td>\n",
       "      <td>39.846228</td>\n",
       "      <td>-120.190931</td>\n",
       "      <td>54.876806</td>\n",
       "      <td>-29.093593</td>\n",
       "    </tr>\n",
       "  </tbody>\n",
       "</table>\n",
       "<p>8 rows × 86 columns</p>\n",
       "</div>"
      ],
      "text/plain": [
       "       final.output.concentrate_ag  final.output.concentrate_pb  \\\n",
       "count                 22627.000000                 22629.000000   \n",
       "mean                      4.781559                     9.095308   \n",
       "std                       2.030128                     3.230797   \n",
       "min                       0.000000                     0.000000   \n",
       "25%                       4.018525                     8.750171   \n",
       "50%                       4.953729                     9.914519   \n",
       "75%                       5.862593                    10.929839   \n",
       "max                      16.001945                    17.031899   \n",
       "\n",
       "       final.output.concentrate_sol  final.output.concentrate_au  \\\n",
       "count                  22331.000000                 22630.000000   \n",
       "mean                       8.640317                    40.001172   \n",
       "std                        3.785035                    13.398062   \n",
       "min                        0.000000                     0.000000   \n",
       "25%                        7.116799                    42.383721   \n",
       "50%                        8.908792                    44.653436   \n",
       "75%                       10.705824                    46.111999   \n",
       "max                       19.615720                    53.611374   \n",
       "\n",
       "       final.output.recovery  final.output.tail_ag  final.output.tail_pb  \\\n",
       "count           20753.000000          22633.000000          22516.000000   \n",
       "mean               67.447488              8.923690              2.488252   \n",
       "std                11.616034              3.517917              1.189407   \n",
       "min                 0.000000              0.000000              0.000000   \n",
       "25%                63.282393              7.684016              1.805376   \n",
       "50%                68.322258              9.484369              2.653001   \n",
       "75%                72.950836             11.084557              3.287790   \n",
       "max               100.000000             19.552149              6.086532   \n",
       "\n",
       "       final.output.tail_sol  final.output.tail_au  \\\n",
       "count           22445.000000          22635.000000   \n",
       "mean                9.523632              2.827459   \n",
       "std                 4.079739              1.262834   \n",
       "min                 0.000000              0.000000   \n",
       "25%                 8.143576              2.303108   \n",
       "50%                10.212998              2.913794   \n",
       "75%                11.860824              3.555077   \n",
       "max                22.861749              9.789625   \n",
       "\n",
       "       primary_cleaner.input.sulfate  ...  \\\n",
       "count                   21107.000000  ...   \n",
       "mean                      140.277672  ...   \n",
       "std                        49.919004  ...   \n",
       "min                         0.000003  ...   \n",
       "25%                       110.177081  ...   \n",
       "50%                       141.330501  ...   \n",
       "75%                       174.049914  ...   \n",
       "max                       274.409626  ...   \n",
       "\n",
       "       secondary_cleaner.state.floatbank4_a_air  \\\n",
       "count                              22571.000000   \n",
       "mean                                  18.205125   \n",
       "std                                    6.560700   \n",
       "min                                    0.000000   \n",
       "25%                                   14.095940   \n",
       "50%                                   18.007326   \n",
       "75%                                   22.998194   \n",
       "max                                   60.000000   \n",
       "\n",
       "       secondary_cleaner.state.floatbank4_a_level  \\\n",
       "count                                22587.000000   \n",
       "mean                                  -499.878977   \n",
       "std                                     80.273964   \n",
       "min                                   -799.920713   \n",
       "25%                                   -500.896232   \n",
       "50%                                   -499.917108   \n",
       "75%                                   -498.361545   \n",
       "max                                   -127.692333   \n",
       "\n",
       "       secondary_cleaner.state.floatbank4_b_air  \\\n",
       "count                              22608.000000   \n",
       "mean                                  14.356474   \n",
       "std                                    5.655791   \n",
       "min                                    0.000000   \n",
       "25%                                   10.882675   \n",
       "50%                                   14.947646   \n",
       "75%                                   17.977502   \n",
       "max                                   31.269706   \n",
       "\n",
       "       secondary_cleaner.state.floatbank4_b_level  \\\n",
       "count                                22607.000000   \n",
       "mean                                  -476.532613   \n",
       "std                                     93.822791   \n",
       "min                                   -800.836914   \n",
       "25%                                   -500.309169   \n",
       "50%                                   -499.612292   \n",
       "75%                                   -400.224147   \n",
       "max                                     -6.506986   \n",
       "\n",
       "       secondary_cleaner.state.floatbank5_a_air  \\\n",
       "count                              22615.000000   \n",
       "mean                                  14.883276   \n",
       "std                                    6.372811   \n",
       "min                                   -0.423260   \n",
       "25%                                   10.941299   \n",
       "50%                                   14.859117   \n",
       "75%                                   18.014914   \n",
       "max                                   63.116298   \n",
       "\n",
       "       secondary_cleaner.state.floatbank5_a_level  \\\n",
       "count                                22615.000000   \n",
       "mean                                  -503.323288   \n",
       "std                                     72.925589   \n",
       "min                                   -799.741097   \n",
       "25%                                   -500.628697   \n",
       "50%                                   -499.865158   \n",
       "75%                                   -498.489381   \n",
       "max                                   -244.483566   \n",
       "\n",
       "       secondary_cleaner.state.floatbank5_b_air  \\\n",
       "count                              22615.000000   \n",
       "mean                                  11.626743   \n",
       "std                                    5.757449   \n",
       "min                                    0.427084   \n",
       "25%                                    8.037533   \n",
       "50%                                   10.989756   \n",
       "75%                                   14.001193   \n",
       "max                                   39.846228   \n",
       "\n",
       "       secondary_cleaner.state.floatbank5_b_level  \\\n",
       "count                                22616.000000   \n",
       "mean                                  -500.521502   \n",
       "std                                     78.956292   \n",
       "min                                   -800.258209   \n",
       "25%                                   -500.167897   \n",
       "50%                                   -499.951980   \n",
       "75%                                   -499.492354   \n",
       "max                                   -120.190931   \n",
       "\n",
       "       secondary_cleaner.state.floatbank6_a_air  \\\n",
       "count                              22597.000000   \n",
       "mean                                  17.976810   \n",
       "std                                    6.636203   \n",
       "min                                   -0.079426   \n",
       "25%                                   13.968418   \n",
       "50%                                   18.004215   \n",
       "75%                                   23.009704   \n",
       "max                                   54.876806   \n",
       "\n",
       "       secondary_cleaner.state.floatbank6_a_level  \n",
       "count                                22615.000000  \n",
       "mean                                  -519.361465  \n",
       "std                                     75.477151  \n",
       "min                                   -810.473526  \n",
       "25%                                   -500.981671  \n",
       "50%                                   -500.095463  \n",
       "75%                                   -499.526388  \n",
       "max                                    -29.093593  \n",
       "\n",
       "[8 rows x 86 columns]"
      ]
     },
     "execution_count": 190,
     "metadata": {},
     "output_type": "execute_result"
    }
   ],
   "source": [
    "full_set.describe()"
   ]
  },
  {
   "cell_type": "markdown",
   "metadata": {},
   "source": [
    "The full dataset contains nearly 23000 data points indexed by date and time with measurements taken of 86 parameters measured throughout processing.  The majority of data points are intact, though some are null.  This data is split between the training and test sets at a ratio of 3:1.  The training set contains all 86 parameters, but the test set contains only 52 parameters because some parameters were measured and/or calculated much later.  Additionally, the test set does not contain targets.  The data was sent directly from the warehouse, so it will need preprocessing.  Due to the incredible size of the dataset, I will only focus on parameters necessary for this project's calculations."
   ]
  },
  {
   "cell_type": "markdown",
   "metadata": {},
   "source": [
    "### Checking Recovery Calculations\n",
    "First, using the training set, I will verify that recovery is calculated correctly using the rougher.output.recovery feature and determining the MAE between my calculations and the feature values.  I will first need to address null values in the necessary columns."
   ]
  },
  {
   "cell_type": "code",
   "execution_count": 191,
   "metadata": {},
   "outputs": [
    {
     "data": {
      "text/plain": [
       "0        87.107763\n",
       "1        86.843261\n",
       "2        86.842308\n",
       "3        87.226430\n",
       "4        86.688794\n",
       "           ...    \n",
       "16855    89.574376\n",
       "16856    87.724007\n",
       "16857    88.890579\n",
       "16858    89.858126\n",
       "16859    89.514960\n",
       "Name: rougher.output.recovery, Length: 16860, dtype: float64"
      ]
     },
     "execution_count": 191,
     "metadata": {},
     "output_type": "execute_result"
    }
   ],
   "source": [
    "actual_recovery = train_set['rougher.output.recovery']\n",
    "actual_recovery"
   ]
  },
  {
   "cell_type": "code",
   "execution_count": 192,
   "metadata": {
    "scrolled": true
   },
   "outputs": [
    {
     "data": {
      "text/plain": [
       "2573"
      ]
     },
     "execution_count": 192,
     "metadata": {},
     "output_type": "execute_result"
    }
   ],
   "source": [
    "actual_recovery.isna().sum()"
   ]
  },
  {
   "cell_type": "markdown",
   "metadata": {},
   "source": [
    "Since there are a considerable number of nan values, I will reinitiate this variable and drop nan values from all of the other variables needed to calculate recovery."
   ]
  },
  {
   "cell_type": "code",
   "execution_count": 193,
   "metadata": {},
   "outputs": [],
   "source": [
    "train_set = train_set.dropna(subset=['rougher.output.recovery'])\n",
    "feed = train_set['rougher.input.feed_au']\n",
    "concentrate = train_set['rougher.output.concentrate_au']\n",
    "tail = train_set['rougher.output.tail_au']\n",
    "actual_recovery = train_set['rougher.output.recovery']"
   ]
  },
  {
   "cell_type": "code",
   "execution_count": 194,
   "metadata": {},
   "outputs": [
    {
     "name": "stdout",
     "output_type": "stream",
     "text": [
      "0\n",
      "0\n",
      "0\n",
      "0\n"
     ]
    }
   ],
   "source": [
    "print(feed.isna().sum())\n",
    "print(concentrate.isna().sum())\n",
    "print(tail.isna().sum())\n",
    "print(actual_recovery.isna().sum())"
   ]
  },
  {
   "cell_type": "markdown",
   "metadata": {},
   "source": [
    "Nan values removed.  Now, I will calculate recovery."
   ]
  },
  {
   "cell_type": "code",
   "execution_count": 195,
   "metadata": {},
   "outputs": [
    {
     "data": {
      "text/plain": [
       "0        87.107763\n",
       "1        86.843261\n",
       "2        86.842308\n",
       "3        87.226430\n",
       "4        86.688794\n",
       "           ...    \n",
       "16855    89.574376\n",
       "16856    87.724007\n",
       "16857    88.890579\n",
       "16858    89.858126\n",
       "16859    89.514960\n",
       "Length: 14287, dtype: float64"
      ]
     },
     "execution_count": 195,
     "metadata": {},
     "output_type": "execute_result"
    }
   ],
   "source": [
    "calc_recovery = ((concentrate * (feed - tail)) / (feed * (concentrate - tail)) * 100)\n",
    "calc_recovery"
   ]
  },
  {
   "cell_type": "code",
   "execution_count": 196,
   "metadata": {},
   "outputs": [
    {
     "name": "stdout",
     "output_type": "stream",
     "text": [
      "14287 14287\n"
     ]
    }
   ],
   "source": [
    "actual_recovery, calc_recovery = actual_recovery.align(calc_recovery, join='inner')\n",
    "print(len(actual_recovery), len(calc_recovery))"
   ]
  },
  {
   "cell_type": "code",
   "execution_count": 197,
   "metadata": {},
   "outputs": [
    {
     "data": {
      "text/plain": [
       "9.303415616264301e-15"
      ]
     },
     "execution_count": 197,
     "metadata": {},
     "output_type": "execute_result"
    }
   ],
   "source": [
    "mae = mean_absolute_error(actual_recovery, calc_recovery)\n",
    "mae"
   ]
  },
  {
   "cell_type": "markdown",
   "metadata": {},
   "source": [
    "The MAE of Actual Recovery vs Calculated Recovery is extremely close to zero.  Everything seems to be in order."
   ]
  },
  {
   "cell_type": "markdown",
   "metadata": {},
   "source": [
    "### Analyzing Features Not in Test Set\n",
    "As previously noted, the test set contains only 52 parameters because some parameters were measured and/or calculated much later.  Before proceeding, it would be helpful to have a precise list of which parameters are not in the test set vs the training set."
   ]
  },
  {
   "cell_type": "code",
   "execution_count": 198,
   "metadata": {
    "scrolled": true
   },
   "outputs": [
    {
     "name": "stdout",
     "output_type": "stream",
     "text": [
      "Parameter: primary_cleaner.output.tail_sol, Type: float64\n",
      "Parameter: rougher.output.tail_sol, Type: float64\n",
      "Parameter: final.output.tail_au, Type: float64\n",
      "Parameter: primary_cleaner.output.tail_au, Type: float64\n",
      "Parameter: rougher.output.tail_au, Type: float64\n",
      "Parameter: final.output.concentrate_au, Type: float64\n",
      "Parameter: final.output.concentrate_pb, Type: float64\n",
      "Parameter: rougher.output.tail_ag, Type: float64\n",
      "Parameter: rougher.output.tail_pb, Type: float64\n",
      "Parameter: final.output.tail_pb, Type: float64\n",
      "Parameter: rougher.calculation.floatbank10_sulfate_to_au_feed, Type: float64\n",
      "Parameter: rougher.output.recovery, Type: float64\n",
      "Parameter: primary_cleaner.output.concentrate_au, Type: float64\n",
      "Parameter: final.output.tail_sol, Type: float64\n",
      "Parameter: secondary_cleaner.output.tail_pb, Type: float64\n",
      "Parameter: final.output.concentrate_ag, Type: float64\n",
      "Parameter: secondary_cleaner.output.tail_sol, Type: float64\n",
      "Parameter: rougher.calculation.sulfate_to_au_concentrate, Type: float64\n",
      "Parameter: final.output.recovery, Type: float64\n",
      "Parameter: rougher.output.concentrate_au, Type: float64\n",
      "Parameter: primary_cleaner.output.concentrate_pb, Type: float64\n",
      "Parameter: secondary_cleaner.output.tail_ag, Type: float64\n",
      "Parameter: primary_cleaner.output.concentrate_ag, Type: float64\n",
      "Parameter: secondary_cleaner.output.tail_au, Type: float64\n",
      "Parameter: rougher.output.concentrate_ag, Type: float64\n",
      "Parameter: final.output.tail_ag, Type: float64\n",
      "Parameter: primary_cleaner.output.tail_pb, Type: float64\n",
      "Parameter: primary_cleaner.output.concentrate_sol, Type: float64\n",
      "Parameter: final.output.concentrate_sol, Type: float64\n",
      "Parameter: rougher.calculation.floatbank11_sulfate_to_au_feed, Type: float64\n",
      "Parameter: rougher.output.concentrate_sol, Type: float64\n",
      "Parameter: rougher.output.concentrate_pb, Type: float64\n",
      "Parameter: primary_cleaner.output.tail_ag, Type: float64\n",
      "Parameter: rougher.calculation.au_pb_ratio, Type: float64\n"
     ]
    }
   ],
   "source": [
    "missing_params = set(train_set.columns) - set(test_set.columns)\n",
    "for param in missing_params:\n",
    "    print(f'Parameter: {param}, Type: {train_set[param].dtype}')"
   ]
  },
  {
   "cell_type": "markdown",
   "metadata": {},
   "source": [
    "The primary difference between the training set and the test set is that the test set does not contain output parameters, only those parameters having to do with input, calculation, and state.  Given we will ultimately need to make predictions without those additional 34 features included, I will go ahead and drop them from the training set with the exception of the targets."
   ]
  },
  {
   "cell_type": "code",
   "execution_count": 199,
   "metadata": {
    "scrolled": true
   },
   "outputs": [
    {
     "data": {
      "text/plain": [
       "53"
      ]
     },
     "execution_count": 199,
     "metadata": {},
     "output_type": "execute_result"
    }
   ],
   "source": [
    "common_features = list(set(train_set.columns) & set(test_set.columns))\n",
    "targets = ['rougher.output.recovery', 'final.output.recovery'] \n",
    "common_features = [col for col in common_features if col not in targets]\n",
    "len(common_features)"
   ]
  },
  {
   "cell_type": "code",
   "execution_count": 200,
   "metadata": {},
   "outputs": [
    {
     "name": "stdout",
     "output_type": "stream",
     "text": [
      "{'rougher.output.recovery', 'final.output.recovery'}\n"
     ]
    }
   ],
   "source": [
    "train_set = train_set[common_features + targets]\n",
    "test_set = test_set[common_features]\n",
    "print(set(train_set.columns) - set(test_set.columns))"
   ]
  },
  {
   "cell_type": "markdown",
   "metadata": {},
   "source": [
    "### Data Preprocessing\n",
    "Having investigated the key differences between the data sets, I will now perform preprocessing steps to ensure the data is ready for analysis and modeling.  First, I will verify there are no fully duplicate rows."
   ]
  },
  {
   "cell_type": "code",
   "execution_count": 201,
   "metadata": {
    "scrolled": true
   },
   "outputs": [
    {
     "data": {
      "text/plain": [
       "0"
      ]
     },
     "execution_count": 201,
     "metadata": {},
     "output_type": "execute_result"
    }
   ],
   "source": [
    "train_set.duplicated().sum()"
   ]
  },
  {
   "cell_type": "code",
   "execution_count": 202,
   "metadata": {},
   "outputs": [
    {
     "data": {
      "text/plain": [
       "0"
      ]
     },
     "execution_count": 202,
     "metadata": {},
     "output_type": "execute_result"
    }
   ],
   "source": [
    "test_set.duplicated().sum()"
   ]
  },
  {
   "cell_type": "markdown",
   "metadata": {},
   "source": [
    "There are no fully duplicate rows.  I will also verify that the parameters for each dataset are all a unique record of information by checking that no timestamps are duplicates."
   ]
  },
  {
   "cell_type": "code",
   "execution_count": 203,
   "metadata": {},
   "outputs": [
    {
     "data": {
      "text/plain": [
       "0"
      ]
     },
     "execution_count": 203,
     "metadata": {},
     "output_type": "execute_result"
    }
   ],
   "source": [
    "train_set.duplicated(['date']).sum()"
   ]
  },
  {
   "cell_type": "code",
   "execution_count": 204,
   "metadata": {},
   "outputs": [
    {
     "data": {
      "text/plain": [
       "0"
      ]
     },
     "execution_count": 204,
     "metadata": {},
     "output_type": "execute_result"
    }
   ],
   "source": [
    "test_set.duplicated(['date']).sum()"
   ]
  },
  {
   "cell_type": "markdown",
   "metadata": {},
   "source": [
    "There are no duplicated or contradictory records of information.  I will now clean up the data by checking for null values and replacing them with the last valid observation so the data is as accurate as possible despite occasional equipment malfunctions."
   ]
  },
  {
   "cell_type": "code",
   "execution_count": 205,
   "metadata": {},
   "outputs": [
    {
     "data": {
      "text/plain": [
       "rougher.state.floatbank10_f_air                 0\n",
       "primary_cleaner.input.depressant               38\n",
       "rougher.input.floatbank10_sulfate              31\n",
       "primary_cleaner.state.floatbank8_c_level        1\n",
       "rougher.state.floatbank10_a_air                 1\n",
       "secondary_cleaner.state.floatbank3_a_level      1\n",
       "rougher.state.floatbank10_e_level               0\n",
       "rougher.state.floatbank10_e_air               438\n",
       "rougher.input.feed_sol                         96\n",
       "secondary_cleaner.state.floatbank2_a_air      219\n",
       "secondary_cleaner.state.floatbank3_b_air        1\n",
       "secondary_cleaner.state.floatbank3_b_level      1\n",
       "rougher.input.floatbank10_xanthate              9\n",
       "primary_cleaner.input.sulfate                  26\n",
       "rougher.input.floatbank11_xanthate            434\n",
       "rougher.input.feed_size                       149\n",
       "rougher.state.floatbank10_a_level               1\n",
       "primary_cleaner.input.feed_size                 0\n",
       "date                                            0\n",
       "secondary_cleaner.state.floatbank5_a_level      1\n",
       "secondary_cleaner.state.floatbank6_a_level      1\n",
       "rougher.state.floatbank10_d_air                 0\n",
       "rougher.input.feed_pb                         123\n",
       "secondary_cleaner.state.floatbank4_b_air        1\n",
       "secondary_cleaner.state.floatbank5_b_level      1\n",
       "rougher.state.floatbank10_c_air                 1\n",
       "rougher.input.feed_ag                           0\n",
       "secondary_cleaner.state.floatbank6_a_air        3\n",
       "rougher.state.floatbank10_b_level               1\n",
       "rougher.state.floatbank10_b_air                 1\n",
       "secondary_cleaner.state.floatbank4_a_air        6\n",
       "primary_cleaner.state.floatbank8_a_level        1\n",
       "rougher.state.floatbank10_d_level               0\n",
       "primary_cleaner.state.floatbank8_c_air          2\n",
       "secondary_cleaner.state.floatbank3_a_air        4\n",
       "primary_cleaner.input.xanthate                105\n",
       "rougher.input.feed_au                           0\n",
       "secondary_cleaner.state.floatbank2_b_level      1\n",
       "rougher.state.floatbank10_f_level               0\n",
       "primary_cleaner.state.floatbank8_a_air          4\n",
       "secondary_cleaner.state.floatbank2_b_air       23\n",
       "primary_cleaner.state.floatbank8_b_air          4\n",
       "primary_cleaner.state.floatbank8_d_air          3\n",
       "rougher.input.feed_rate                        13\n",
       "rougher.input.floatbank11_sulfate              38\n",
       "primary_cleaner.state.floatbank8_d_level        1\n",
       "secondary_cleaner.state.floatbank4_a_level      1\n",
       "secondary_cleaner.state.floatbank4_b_level      1\n",
       "primary_cleaner.state.floatbank8_b_level        1\n",
       "rougher.state.floatbank10_c_level               1\n",
       "secondary_cleaner.state.floatbank5_b_air        1\n",
       "secondary_cleaner.state.floatbank2_a_level      1\n",
       "secondary_cleaner.state.floatbank5_a_air        1\n",
       "rougher.output.recovery                         0\n",
       "final.output.recovery                         138\n",
       "dtype: int64"
      ]
     },
     "execution_count": 205,
     "metadata": {},
     "output_type": "execute_result"
    }
   ],
   "source": [
    "train_set.isnull().sum()"
   ]
  },
  {
   "cell_type": "code",
   "execution_count": 206,
   "metadata": {},
   "outputs": [],
   "source": [
    "train_set = train_set.copy()\n",
    "train_set.fillna(method='ffill', inplace=True)"
   ]
  },
  {
   "cell_type": "code",
   "execution_count": 207,
   "metadata": {},
   "outputs": [
    {
     "data": {
      "text/plain": [
       "rougher.state.floatbank10_f_air               0\n",
       "primary_cleaner.input.depressant              0\n",
       "rougher.input.floatbank10_sulfate             0\n",
       "primary_cleaner.state.floatbank8_c_level      0\n",
       "rougher.state.floatbank10_a_air               0\n",
       "secondary_cleaner.state.floatbank3_a_level    0\n",
       "rougher.state.floatbank10_e_level             0\n",
       "rougher.state.floatbank10_e_air               0\n",
       "rougher.input.feed_sol                        0\n",
       "secondary_cleaner.state.floatbank2_a_air      0\n",
       "secondary_cleaner.state.floatbank3_b_air      0\n",
       "secondary_cleaner.state.floatbank3_b_level    0\n",
       "rougher.input.floatbank10_xanthate            0\n",
       "primary_cleaner.input.sulfate                 0\n",
       "rougher.input.floatbank11_xanthate            0\n",
       "rougher.input.feed_size                       0\n",
       "rougher.state.floatbank10_a_level             0\n",
       "primary_cleaner.input.feed_size               0\n",
       "date                                          0\n",
       "secondary_cleaner.state.floatbank5_a_level    0\n",
       "secondary_cleaner.state.floatbank6_a_level    0\n",
       "rougher.state.floatbank10_d_air               0\n",
       "rougher.input.feed_pb                         0\n",
       "secondary_cleaner.state.floatbank4_b_air      0\n",
       "secondary_cleaner.state.floatbank5_b_level    0\n",
       "rougher.state.floatbank10_c_air               0\n",
       "rougher.input.feed_ag                         0\n",
       "secondary_cleaner.state.floatbank6_a_air      0\n",
       "rougher.state.floatbank10_b_level             0\n",
       "rougher.state.floatbank10_b_air               0\n",
       "secondary_cleaner.state.floatbank4_a_air      0\n",
       "primary_cleaner.state.floatbank8_a_level      0\n",
       "rougher.state.floatbank10_d_level             0\n",
       "primary_cleaner.state.floatbank8_c_air        0\n",
       "secondary_cleaner.state.floatbank3_a_air      0\n",
       "primary_cleaner.input.xanthate                0\n",
       "rougher.input.feed_au                         0\n",
       "secondary_cleaner.state.floatbank2_b_level    0\n",
       "rougher.state.floatbank10_f_level             0\n",
       "primary_cleaner.state.floatbank8_a_air        0\n",
       "secondary_cleaner.state.floatbank2_b_air      0\n",
       "primary_cleaner.state.floatbank8_b_air        0\n",
       "primary_cleaner.state.floatbank8_d_air        0\n",
       "rougher.input.feed_rate                       0\n",
       "rougher.input.floatbank11_sulfate             0\n",
       "primary_cleaner.state.floatbank8_d_level      0\n",
       "secondary_cleaner.state.floatbank4_a_level    0\n",
       "secondary_cleaner.state.floatbank4_b_level    0\n",
       "primary_cleaner.state.floatbank8_b_level      0\n",
       "rougher.state.floatbank10_c_level             0\n",
       "secondary_cleaner.state.floatbank5_b_air      0\n",
       "secondary_cleaner.state.floatbank2_a_level    0\n",
       "secondary_cleaner.state.floatbank5_a_air      0\n",
       "rougher.output.recovery                       0\n",
       "final.output.recovery                         0\n",
       "dtype: int64"
      ]
     },
     "execution_count": 207,
     "metadata": {},
     "output_type": "execute_result"
    }
   ],
   "source": [
    "train_set.isnull().sum()"
   ]
  },
  {
   "cell_type": "code",
   "execution_count": 208,
   "metadata": {},
   "outputs": [
    {
     "data": {
      "text/plain": [
       "rougher.state.floatbank10_f_air                17\n",
       "primary_cleaner.input.depressant              284\n",
       "rougher.input.floatbank10_sulfate             257\n",
       "primary_cleaner.state.floatbank8_c_level       16\n",
       "rougher.state.floatbank10_a_air                17\n",
       "secondary_cleaner.state.floatbank3_a_level     16\n",
       "rougher.state.floatbank10_e_level              16\n",
       "rougher.state.floatbank10_e_air                17\n",
       "rougher.input.feed_sol                         67\n",
       "secondary_cleaner.state.floatbank2_a_air       20\n",
       "secondary_cleaner.state.floatbank3_b_air       16\n",
       "secondary_cleaner.state.floatbank3_b_level     16\n",
       "rougher.input.floatbank10_xanthate            123\n",
       "primary_cleaner.input.sulfate                 302\n",
       "rougher.input.floatbank11_xanthate            353\n",
       "rougher.input.feed_size                        22\n",
       "rougher.state.floatbank10_a_level              16\n",
       "primary_cleaner.input.feed_size                 0\n",
       "date                                            0\n",
       "secondary_cleaner.state.floatbank5_a_level     16\n",
       "secondary_cleaner.state.floatbank6_a_level     16\n",
       "rougher.state.floatbank10_d_air                17\n",
       "rougher.input.feed_pb                          16\n",
       "secondary_cleaner.state.floatbank4_b_air       16\n",
       "secondary_cleaner.state.floatbank5_b_level     16\n",
       "rougher.state.floatbank10_c_air                17\n",
       "rougher.input.feed_ag                          16\n",
       "secondary_cleaner.state.floatbank6_a_air       16\n",
       "rougher.state.floatbank10_b_level              16\n",
       "rougher.state.floatbank10_b_air                17\n",
       "secondary_cleaner.state.floatbank4_a_air       16\n",
       "primary_cleaner.state.floatbank8_a_level       16\n",
       "rougher.state.floatbank10_d_level              16\n",
       "primary_cleaner.state.floatbank8_c_air         16\n",
       "secondary_cleaner.state.floatbank3_a_air       34\n",
       "primary_cleaner.input.xanthate                166\n",
       "rougher.input.feed_au                          16\n",
       "secondary_cleaner.state.floatbank2_b_level     16\n",
       "rougher.state.floatbank10_f_level              16\n",
       "primary_cleaner.state.floatbank8_a_air         16\n",
       "secondary_cleaner.state.floatbank2_b_air       23\n",
       "primary_cleaner.state.floatbank8_b_air         16\n",
       "primary_cleaner.state.floatbank8_d_air         16\n",
       "rougher.input.feed_rate                        40\n",
       "rougher.input.floatbank11_sulfate              55\n",
       "primary_cleaner.state.floatbank8_d_level       16\n",
       "secondary_cleaner.state.floatbank4_a_level     16\n",
       "secondary_cleaner.state.floatbank4_b_level     16\n",
       "primary_cleaner.state.floatbank8_b_level       16\n",
       "rougher.state.floatbank10_c_level              16\n",
       "secondary_cleaner.state.floatbank5_b_air       16\n",
       "secondary_cleaner.state.floatbank2_a_level     16\n",
       "secondary_cleaner.state.floatbank5_a_air       16\n",
       "dtype: int64"
      ]
     },
     "execution_count": 208,
     "metadata": {},
     "output_type": "execute_result"
    }
   ],
   "source": [
    "test_set.isnull().sum()"
   ]
  },
  {
   "cell_type": "code",
   "execution_count": 209,
   "metadata": {},
   "outputs": [],
   "source": [
    "test_set = test_set.copy()\n",
    "test_set.fillna(method='ffill', inplace=True)"
   ]
  },
  {
   "cell_type": "code",
   "execution_count": 210,
   "metadata": {},
   "outputs": [
    {
     "data": {
      "text/plain": [
       "rougher.state.floatbank10_f_air               0\n",
       "primary_cleaner.input.depressant              0\n",
       "rougher.input.floatbank10_sulfate             0\n",
       "primary_cleaner.state.floatbank8_c_level      0\n",
       "rougher.state.floatbank10_a_air               0\n",
       "secondary_cleaner.state.floatbank3_a_level    0\n",
       "rougher.state.floatbank10_e_level             0\n",
       "rougher.state.floatbank10_e_air               0\n",
       "rougher.input.feed_sol                        0\n",
       "secondary_cleaner.state.floatbank2_a_air      0\n",
       "secondary_cleaner.state.floatbank3_b_air      0\n",
       "secondary_cleaner.state.floatbank3_b_level    0\n",
       "rougher.input.floatbank10_xanthate            0\n",
       "primary_cleaner.input.sulfate                 0\n",
       "rougher.input.floatbank11_xanthate            0\n",
       "rougher.input.feed_size                       0\n",
       "rougher.state.floatbank10_a_level             0\n",
       "primary_cleaner.input.feed_size               0\n",
       "date                                          0\n",
       "secondary_cleaner.state.floatbank5_a_level    0\n",
       "secondary_cleaner.state.floatbank6_a_level    0\n",
       "rougher.state.floatbank10_d_air               0\n",
       "rougher.input.feed_pb                         0\n",
       "secondary_cleaner.state.floatbank4_b_air      0\n",
       "secondary_cleaner.state.floatbank5_b_level    0\n",
       "rougher.state.floatbank10_c_air               0\n",
       "rougher.input.feed_ag                         0\n",
       "secondary_cleaner.state.floatbank6_a_air      0\n",
       "rougher.state.floatbank10_b_level             0\n",
       "rougher.state.floatbank10_b_air               0\n",
       "secondary_cleaner.state.floatbank4_a_air      0\n",
       "primary_cleaner.state.floatbank8_a_level      0\n",
       "rougher.state.floatbank10_d_level             0\n",
       "primary_cleaner.state.floatbank8_c_air        0\n",
       "secondary_cleaner.state.floatbank3_a_air      0\n",
       "primary_cleaner.input.xanthate                0\n",
       "rougher.input.feed_au                         0\n",
       "secondary_cleaner.state.floatbank2_b_level    0\n",
       "rougher.state.floatbank10_f_level             0\n",
       "primary_cleaner.state.floatbank8_a_air        0\n",
       "secondary_cleaner.state.floatbank2_b_air      0\n",
       "primary_cleaner.state.floatbank8_b_air        0\n",
       "primary_cleaner.state.floatbank8_d_air        0\n",
       "rougher.input.feed_rate                       0\n",
       "rougher.input.floatbank11_sulfate             0\n",
       "primary_cleaner.state.floatbank8_d_level      0\n",
       "secondary_cleaner.state.floatbank4_a_level    0\n",
       "secondary_cleaner.state.floatbank4_b_level    0\n",
       "primary_cleaner.state.floatbank8_b_level      0\n",
       "rougher.state.floatbank10_c_level             0\n",
       "secondary_cleaner.state.floatbank5_b_air      0\n",
       "secondary_cleaner.state.floatbank2_a_level    0\n",
       "secondary_cleaner.state.floatbank5_a_air      0\n",
       "dtype: int64"
      ]
     },
     "execution_count": 210,
     "metadata": {},
     "output_type": "execute_result"
    }
   ],
   "source": [
    "test_set.isnull().sum()"
   ]
  },
  {
   "cell_type": "markdown",
   "metadata": {},
   "source": [
    "Missing values have been replaced with last valid observation.  The data is ready.\n",
    "\n",
    "## Data Analysis\n",
    "Before building a model, I will explore the data a bit further to better understand how it reflects the gold smelting process, beginning with how the concentrations of metals change depending on the purification stage.\n",
    "\n",
    "### Metal Concentration vs Purification Stage"
   ]
  },
  {
   "cell_type": "code",
   "execution_count": 211,
   "metadata": {},
   "outputs": [
    {
     "data": {
      "text/html": [
       "<div>\n",
       "<style scoped>\n",
       "    .dataframe tbody tr th:only-of-type {\n",
       "        vertical-align: middle;\n",
       "    }\n",
       "\n",
       "    .dataframe tbody tr th {\n",
       "        vertical-align: top;\n",
       "    }\n",
       "\n",
       "    .dataframe thead th {\n",
       "        text-align: right;\n",
       "    }\n",
       "</style>\n",
       "<table border=\"1\" class=\"dataframe\">\n",
       "  <thead>\n",
       "    <tr style=\"text-align: right;\">\n",
       "      <th></th>\n",
       "      <th>conc</th>\n",
       "      <th>stage</th>\n",
       "      <th>metal</th>\n",
       "    </tr>\n",
       "  </thead>\n",
       "  <tbody>\n",
       "    <tr>\n",
       "      <th>0</th>\n",
       "      <td>11.500771</td>\n",
       "      <td>rougher</td>\n",
       "      <td>ag</td>\n",
       "    </tr>\n",
       "    <tr>\n",
       "      <th>1</th>\n",
       "      <td>11.615865</td>\n",
       "      <td>rougher</td>\n",
       "      <td>ag</td>\n",
       "    </tr>\n",
       "    <tr>\n",
       "      <th>2</th>\n",
       "      <td>11.695753</td>\n",
       "      <td>rougher</td>\n",
       "      <td>ag</td>\n",
       "    </tr>\n",
       "    <tr>\n",
       "      <th>3</th>\n",
       "      <td>11.915047</td>\n",
       "      <td>rougher</td>\n",
       "      <td>ag</td>\n",
       "    </tr>\n",
       "    <tr>\n",
       "      <th>4</th>\n",
       "      <td>12.411054</td>\n",
       "      <td>rougher</td>\n",
       "      <td>ag</td>\n",
       "    </tr>\n",
       "    <tr>\n",
       "      <th>...</th>\n",
       "      <td>...</td>\n",
       "      <td>...</td>\n",
       "      <td>...</td>\n",
       "    </tr>\n",
       "    <tr>\n",
       "      <th>204439</th>\n",
       "      <td>46.713954</td>\n",
       "      <td>final</td>\n",
       "      <td>au</td>\n",
       "    </tr>\n",
       "    <tr>\n",
       "      <th>204440</th>\n",
       "      <td>46.866780</td>\n",
       "      <td>final</td>\n",
       "      <td>au</td>\n",
       "    </tr>\n",
       "    <tr>\n",
       "      <th>204441</th>\n",
       "      <td>46.795691</td>\n",
       "      <td>final</td>\n",
       "      <td>au</td>\n",
       "    </tr>\n",
       "    <tr>\n",
       "      <th>204442</th>\n",
       "      <td>46.408188</td>\n",
       "      <td>final</td>\n",
       "      <td>au</td>\n",
       "    </tr>\n",
       "    <tr>\n",
       "      <th>204443</th>\n",
       "      <td>46.299438</td>\n",
       "      <td>final</td>\n",
       "      <td>au</td>\n",
       "    </tr>\n",
       "  </tbody>\n",
       "</table>\n",
       "<p>204444 rows × 3 columns</p>\n",
       "</div>"
      ],
      "text/plain": [
       "             conc    stage metal\n",
       "0       11.500771  rougher    ag\n",
       "1       11.615865  rougher    ag\n",
       "2       11.695753  rougher    ag\n",
       "3       11.915047  rougher    ag\n",
       "4       12.411054  rougher    ag\n",
       "...           ...      ...   ...\n",
       "204439  46.713954    final    au\n",
       "204440  46.866780    final    au\n",
       "204441  46.795691    final    au\n",
       "204442  46.408188    final    au\n",
       "204443  46.299438    final    au\n",
       "\n",
       "[204444 rows x 3 columns]"
      ]
     },
     "execution_count": 211,
     "metadata": {},
     "output_type": "execute_result"
    }
   ],
   "source": [
    "metal_conc_cols = ['rougher.output.concentrate_ag', 'primary_cleaner.output.concentrate_ag', 'final.output.concentrate_ag', 'rougher.output.concentrate_pb', 'primary_cleaner.output.concentrate_pb', 'final.output.concentrate_pb', 'rougher.output.concentrate_au', 'primary_cleaner.output.concentrate_au', 'final.output.concentrate_au']\n",
    "\n",
    "metal_conc_data = full_set[metal_conc_cols]\n",
    "melt_conc_data = metal_conc_data.melt(var_name='stage_metal', value_name='conc')\n",
    "melt_conc_data[['stage', 'metal']] = melt_conc_data['stage_metal'].str.extract(r'(\\w+)\\.output\\.concentrate_(\\w+)')\n",
    "melt_conc_data.drop('stage_metal', axis=1, inplace=True)\n",
    "\n",
    "melt_conc_data"
   ]
  },
  {
   "cell_type": "code",
   "execution_count": 212,
   "metadata": {},
   "outputs": [
    {
     "data": {
      "image/png": "[encoded data removed]",
      "text/plain": [
       "<Figure size 1500x1000 with 1 Axes>"
      ]
     },
     "metadata": {},
     "output_type": "display_data"
    }
   ],
   "source": [
    "plt.figure(figsize=(15, 10))\n",
    "sns.barplot(x='metal', y='conc', hue='stage', data=melt_conc_data)\n",
    "plt.title('Metal Concentrations vs Purification Stage')\n",
    "plt.xlabel('Metal')\n",
    "plt.ylabel('Concentration')\n",
    "plt.xticks(rotation=45)\n",
    "plt.legend(title='Stage')\n",
    "plt.show()"
   ]
  },
  {
   "cell_type": "markdown",
   "metadata": {},
   "source": [
    "As we can see from the graph, the concentration of Silver (ag) decreases throughout the purification process, Lead (pb) slightly increases, and Gold (au) increases substantially, as intended.\n",
    "\n",
    "### Feed Particle Size Distribution: Training vs Test Set\n",
    "The feed particle size distributions need to be roughly the same for the model to work as intended.  Therefore, I will confirm that the distributions are similar before building the model."
   ]
  },
  {
   "cell_type": "code",
   "execution_count": 214,
   "metadata": {},
   "outputs": [
    {
     "data": {
      "image/png": "[encoded data removed]",
      "text/plain": [
       "<Figure size 1200x800 with 1 Axes>"
      ]
     },
     "metadata": {},
     "output_type": "display_data"
    }
   ],
   "source": [
    "feed_size_train = train_set['rougher.input.feed_size']\n",
    "feed_size_test = test_set['rougher.input.feed_size']\n",
    "\n",
    "plt.figure(figsize=(12, 8))\n",
    "plt.boxplot([feed_size_train, feed_size_test], labels=['Training Set', 'Test Set'])\n",
    "plt.title('Feed Particle Size Distribution: Training vs Test Set')\n",
    "plt.ylabel('Particle Size')\n",
    "plt.ylim(0, 200)\n",
    "plt.show()"
   ]
  },
  {
   "cell_type": "code",
   "execution_count": 215,
   "metadata": {},
   "outputs": [
    {
     "data": {
      "text/plain": [
       "count    14287.000000\n",
       "mean        60.179089\n",
       "std         22.985089\n",
       "min          9.659576\n",
       "25%         48.932377\n",
       "50%         55.251872\n",
       "75%         65.976914\n",
       "max        484.967466\n",
       "Name: rougher.input.feed_size, dtype: float64"
      ]
     },
     "execution_count": 215,
     "metadata": {},
     "output_type": "execute_result"
    }
   ],
   "source": [
    "feed_size_train.describe()"
   ]
  },
  {
   "cell_type": "code",
   "execution_count": 216,
   "metadata": {},
   "outputs": [
    {
     "data": {
      "text/plain": [
       "count    5856.000000\n",
       "mean       55.898866\n",
       "std        22.707969\n",
       "min         0.046369\n",
       "25%        43.852884\n",
       "50%        49.964796\n",
       "75%        61.628003\n",
       "max       477.445473\n",
       "Name: rougher.input.feed_size, dtype: float64"
      ]
     },
     "execution_count": 216,
     "metadata": {},
     "output_type": "execute_result"
    }
   ],
   "source": [
    "feed_size_test.describe()"
   ]
  },
  {
   "cell_type": "markdown",
   "metadata": {},
   "source": [
    "<div class=\"alert alert-block alert-warning\">\n",
    "<b>Reviewer's comment V1</b> <a class=\"tocSkip\"></a>\n",
    "\n",
    "Correct. But, again, it's better to use histograms for tasks of this type. The best way is to plot two normalized histograms on the same graph with different colors. If you do it, you will see why it's better:)\n",
    "  \n",
    "</div>"
   ]
  },
  {
   "cell_type": "code",
   "execution_count": 217,
   "metadata": {},
   "outputs": [
    {
     "data": {
      "image/png": "[encoded data removed]",
      "text/plain": [
       "<Figure size 1200x800 with 1 Axes>"
      ]
     },
     "metadata": {},
     "output_type": "display_data"
    }
   ],
   "source": [
    "plt.figure(figsize=(12, 8))\n",
    "sns.histplot(feed_size_train, bins=30, color='blue', label='Training Set', stat='density', kde=True, alpha=0.5)\n",
    "sns.histplot(feed_size_test, bins=30, color='green', label='Test Set', stat='density', kde=True, alpha=0.5)\n",
    "plt.title('Feed Particle Size Distribution: Training vs Test Set')\n",
    "plt.xlabel('Particle Size')\n",
    "plt.ylabel('Frequency')\n",
    "plt.legend()\n",
    "plt.show()"
   ]
  },
  {
   "cell_type": "markdown",
   "metadata": {},
   "source": [
    "The training and test sets are similar enough in terms of distribution that they can be used for modelling.  The training set has a mean of 59 and median of 54 while the test set has a mean of 56 and a median of 50 (all rounded to the nearest integer).\n",
    "\n",
    "### Concentrations of All Substances Across Stages\n",
    "This section will verify that there are no abnormal values in the concentration data for each substance across stages and between the training and test set."
   ]
  },
  {
   "cell_type": "code",
   "execution_count": 218,
   "metadata": {},
   "outputs": [
    {
     "data": {
      "image/png": "[encoded data removed]",
      "text/plain": [
       "<Figure size 1200x800 with 1 Axes>"
      ]
     },
     "metadata": {},
     "output_type": "display_data"
    }
   ],
   "source": [
    "conc_cols_all = ['rougher.input.feed_ag', 'rougher.input.feed_pb', 'rougher.input.feed_sol', \n",
    "                 'rougher.input.feed_au', 'rougher.output.concentrate_ag', \n",
    "                 'rougher.output.concentrate_pb', 'rougher.output.concentrate_sol', \n",
    "                 'rougher.output.concentrate_au', 'final.output.concentrate_ag', \n",
    "                 'final.output.concentrate_pb', 'final.output.concentrate_sol', \n",
    "                 'final.output.concentrate_au']\n",
    "full_set['total_feed'] = full_set['rougher.input.feed_ag'] + full_set['rougher.input.feed_pb'] + full_set['rougher.input.feed_sol'] + full_set['rougher.input.feed_au']\n",
    "full_set['total_rougher'] = full_set['rougher.output.concentrate_ag'] + full_set['rougher.output.concentrate_pb'] + full_set['rougher.output.concentrate_sol'] + full_set['rougher.output.concentrate_au']\n",
    "full_set['total_final'] = full_set['final.output.concentrate_ag'] + full_set['final.output.concentrate_pb'] + full_set['final.output.concentrate_sol'] + full_set['final.output.concentrate_au']\n",
    "full_set_clean = full_set[['total_feed', 'total_rougher', 'total_final']].dropna()\n",
    "\n",
    "plt.figure(figsize=(12, 8))\n",
    "plt.boxplot([full_set_clean['total_feed'], full_set_clean['total_rougher'], full_set_clean['total_final']], labels=['Raw Feed', 'Rougher Concentrate', 'Final Concentrate'])\n",
    "plt.title('Total Concentration Distribution by Stage')\n",
    "plt.ylabel('Total Concentration')\n",
    "plt.show()"
   ]
  },
  {
   "cell_type": "code",
   "execution_count": 219,
   "metadata": {},
   "outputs": [
    {
     "data": {
      "text/html": [
       "<div>\n",
       "<style scoped>\n",
       "    .dataframe tbody tr th:only-of-type {\n",
       "        vertical-align: middle;\n",
       "    }\n",
       "\n",
       "    .dataframe tbody tr th {\n",
       "        vertical-align: top;\n",
       "    }\n",
       "\n",
       "    .dataframe thead th {\n",
       "        text-align: right;\n",
       "    }\n",
       "</style>\n",
       "<table border=\"1\" class=\"dataframe\">\n",
       "  <thead>\n",
       "    <tr style=\"text-align: right;\">\n",
       "      <th></th>\n",
       "      <th>total_feed</th>\n",
       "      <th>total_rougher</th>\n",
       "      <th>total_final</th>\n",
       "    </tr>\n",
       "  </thead>\n",
       "  <tbody>\n",
       "    <tr>\n",
       "      <th>count</th>\n",
       "      <td>21901.000000</td>\n",
       "      <td>21901.000000</td>\n",
       "      <td>21901.000000</td>\n",
       "    </tr>\n",
       "    <tr>\n",
       "      <th>mean</th>\n",
       "      <td>52.417291</td>\n",
       "      <td>62.023232</td>\n",
       "      <td>62.837375</td>\n",
       "    </tr>\n",
       "    <tr>\n",
       "      <th>std</th>\n",
       "      <td>17.648492</td>\n",
       "      <td>23.140034</td>\n",
       "      <td>20.308946</td>\n",
       "    </tr>\n",
       "    <tr>\n",
       "      <th>min</th>\n",
       "      <td>0.000000</td>\n",
       "      <td>0.000000</td>\n",
       "      <td>0.000000</td>\n",
       "    </tr>\n",
       "    <tr>\n",
       "      <th>25%</th>\n",
       "      <td>52.062695</td>\n",
       "      <td>64.032223</td>\n",
       "      <td>67.278403</td>\n",
       "    </tr>\n",
       "    <tr>\n",
       "      <th>50%</th>\n",
       "      <td>57.029380</td>\n",
       "      <td>69.634137</td>\n",
       "      <td>69.330445</td>\n",
       "    </tr>\n",
       "    <tr>\n",
       "      <th>75%</th>\n",
       "      <td>61.599315</td>\n",
       "      <td>74.147314</td>\n",
       "      <td>71.190990</td>\n",
       "    </tr>\n",
       "    <tr>\n",
       "      <th>max</th>\n",
       "      <td>76.978947</td>\n",
       "      <td>90.964431</td>\n",
       "      <td>80.210644</td>\n",
       "    </tr>\n",
       "  </tbody>\n",
       "</table>\n",
       "</div>"
      ],
      "text/plain": [
       "         total_feed  total_rougher   total_final\n",
       "count  21901.000000   21901.000000  21901.000000\n",
       "mean      52.417291      62.023232     62.837375\n",
       "std       17.648492      23.140034     20.308946\n",
       "min        0.000000       0.000000      0.000000\n",
       "25%       52.062695      64.032223     67.278403\n",
       "50%       57.029380      69.634137     69.330445\n",
       "75%       61.599315      74.147314     71.190990\n",
       "max       76.978947      90.964431     80.210644"
      ]
     },
     "execution_count": 219,
     "metadata": {},
     "output_type": "execute_result"
    }
   ],
   "source": [
    "full_set_clean.describe()"
   ]
  },
  {
   "cell_type": "code",
   "execution_count": 220,
   "metadata": {},
   "outputs": [
    {
     "data": {
      "image/png": "[encoded data removed]",
      "text/plain": [
       "<Figure size 1200x800 with 1 Axes>"
      ]
     },
     "metadata": {},
     "output_type": "display_data"
    }
   ],
   "source": [
    "plt.figure(figsize=(12,8))\n",
    "\n",
    "plt.hist(full_set['total_feed'], bins=50, alpha=0.5, label='Raw Feed', density=True)\n",
    "plt.hist(full_set['total_rougher'], bins=50, alpha=0.5, label='Rougher Concentrate', density=True)\n",
    "plt.hist(full_set['total_final'], bins=50, alpha=0.5, label='Final Concentrate', density=True)\n",
    "\n",
    "plt.title('Total Concentration Distributions')\n",
    "plt.xlabel('Total Concentration')\n",
    "plt.ylabel('Density')\n",
    "plt.legend()\n",
    "plt.show()"
   ]
  },
  {
   "cell_type": "markdown",
   "metadata": {},
   "source": [
    "While the boxplot indicates a sizable number of outliers, the histogram reveals a surprisingly large density of outliers of approximately 0.  This is most likely an error in concentrate calculation perhaps due to sensor malfunction given that it is unlikely a load of ore is would not contain any gold whatsoever or an infintismally small amount.  To improve the quality and reliability of the data, I will remove extreme outliers from the training set and the raw feed values by dropping rows that are significantly smaller or greater than the majority of the data, as calculated using interquartile range."
   ]
  },
  {
   "cell_type": "code",
   "execution_count": 221,
   "metadata": {},
   "outputs": [],
   "source": [
    "train_set['total_feed'] = train_set['rougher.input.feed_ag'] + train_set['rougher.input.feed_pb'] + train_set['rougher.input.feed_sol'] + train_set['rougher.input.feed_au']\n",
    "test_set['total_feed'] = test_set['rougher.input.feed_ag'] + test_set['rougher.input.feed_pb'] + test_set['rougher.input.feed_sol'] + test_set['rougher.input.feed_au']\n",
    "\n",
    "def detect_outliers(data):\n",
    "    Q1 = data.quantile(0.25)\n",
    "    Q3 = data.quantile(0.75)\n",
    "    IQR = Q3 - Q1\n",
    "    return data[(data < (Q1 - 1.5 * IQR)) | (data > (Q3 + 1.5 * IQR))]\n",
    "\n",
    "train_feed_outliers = detect_outliers(train_set['total_feed'])\n",
    "test_feed_outliers = detect_outliers(test_set['total_feed'])"
   ]
  },
  {
   "cell_type": "code",
   "execution_count": 222,
   "metadata": {},
   "outputs": [
    {
     "name": "stdout",
     "output_type": "stream",
     "text": [
      "Clean train set shape: (13904, 56)\n",
      "Clean test set shape: (5332, 54)\n"
     ]
    }
   ],
   "source": [
    "clean_train_set = train_set[~train_set.index.isin(train_feed_outliers.index)]\n",
    "clean_test_set = test_set[~test_set.index.isin(test_feed_outliers.index)]\n",
    "print(f\"Clean train set shape: {clean_train_set.shape}\")\n",
    "print(f\"Clean test set shape: {clean_test_set.shape}\")"
   ]
  },
  {
   "cell_type": "markdown",
   "metadata": {},
   "source": [
    "Removing extreme outliers has moderately reduced the available data.  I will now re-create the distribution visuals from above."
   ]
  },
  {
   "cell_type": "code",
   "execution_count": 223,
   "metadata": {},
   "outputs": [
    {
     "name": "stderr",
     "output_type": "stream",
     "text": [
      "/tmp/ipykernel_33/1877768352.py:1: SettingWithCopyWarning: \n",
      "A value is trying to be set on a copy of a slice from a DataFrame.\n",
      "Try using .loc[row_indexer,col_indexer] = value instead\n",
      "\n",
      "See the caveats in the documentation: https://pandas.pydata.org/pandas-docs/stable/user_guide/indexing.html#returning-a-view-versus-a-copy\n",
      "  clean_train_set['total_feed'] = clean_train_set['rougher.input.feed_ag'] + clean_train_set['rougher.input.feed_pb'] + clean_train_set['rougher.input.feed_sol'] + clean_train_set['rougher.input.feed_au']\n",
      "/tmp/ipykernel_33/1877768352.py:2: SettingWithCopyWarning: \n",
      "A value is trying to be set on a copy of a slice from a DataFrame.\n",
      "Try using .loc[row_indexer,col_indexer] = value instead\n",
      "\n",
      "See the caveats in the documentation: https://pandas.pydata.org/pandas-docs/stable/user_guide/indexing.html#returning-a-view-versus-a-copy\n",
      "  clean_test_set['total_feed'] = clean_test_set['rougher.input.feed_ag'] + clean_test_set['rougher.input.feed_pb'] + clean_test_set['rougher.input.feed_sol'] + clean_test_set['rougher.input.feed_au']\n"
     ]
    },
    {
     "data": {
      "image/png": "[encoded data removed]",
      "text/plain": [
       "<Figure size 1200x800 with 1 Axes>"
      ]
     },
     "metadata": {},
     "output_type": "display_data"
    }
   ],
   "source": [
    "clean_train_set['total_feed'] = clean_train_set['rougher.input.feed_ag'] + clean_train_set['rougher.input.feed_pb'] + clean_train_set['rougher.input.feed_sol'] + clean_train_set['rougher.input.feed_au']\n",
    "clean_test_set['total_feed'] = clean_test_set['rougher.input.feed_ag'] + clean_test_set['rougher.input.feed_pb'] + clean_test_set['rougher.input.feed_sol'] + clean_test_set['rougher.input.feed_au']\n",
    "clean_sets = [clean_train_set['total_feed'], clean_test_set['total_feed']]\n",
    "              \n",
    "plt.figure(figsize=(12, 8))\n",
    "plt.boxplot(clean_sets, labels=['Training Set Raw Feed', 'Test Set Raw Feed'])\n",
    "plt.suptitle('Total Concentration Distribution by Stage')\n",
    "plt.title('Extreme Outliers Removed')\n",
    "plt.ylabel('Total Concentration')\n",
    "plt.show()"
   ]
  },
  {
   "cell_type": "markdown",
   "metadata": {},
   "source": [
    "These distributions are much more reliable and the progression between stages in the training set is as expected.  I will also replot the histogram."
   ]
  },
  {
   "cell_type": "code",
   "execution_count": 224,
   "metadata": {},
   "outputs": [
    {
     "data": {
      "image/png": "[encoded data removed]",
      "text/plain": [
       "<Figure size 1200x800 with 1 Axes>"
      ]
     },
     "metadata": {},
     "output_type": "display_data"
    }
   ],
   "source": [
    "plt.figure(figsize=(12,8))\n",
    "plt.hist(clean_sets, bins=12, alpha=0.5, density=True)\n",
    "plt.suptitle('Total Concentration Distributions')\n",
    "plt.title('Extreme Outliers Removed')\n",
    "plt.xlabel('Total Concentration')\n",
    "plt.ylabel('Density')\n",
    "plt.legend(['Training Set Raw Feed', 'Test Set Raw Feed'])\n",
    "plt.show()"
   ]
  },
  {
   "cell_type": "markdown",
   "metadata": {},
   "source": [
    "As with the boxplot, the histogram confirms that the cleaned, focused dataset has normal distribution that will allow for better, more accurate modeling."
   ]
  },
  {
   "cell_type": "markdown",
   "metadata": {},
   "source": [
    "## Model\n",
    "Now that the data is adjusted and more readily usable, I will construct a model to calculate a unique evaluation metric: sMAPE--symmetric Mean Absolute Percentage Error.  sMAPE is similar to Mean Absolute Error, but expressed in relative values instead of absolute ones.  The symmetricity will take into equal account the scale of both the target and the prediction.  The model will rely on a final sMAPE value consisting of 25% of the rougher sMAPE's value and 75% of the final sMAPE's value when applied to the test set.\n",
    "### Function for Calculating sMAPE\n",
    "First, I will create a function for calculating the sMAPE and weighted sMAPE as no existing function is available.  I will then initiate the smape scorer for cross-validation with multiple checks to ensure it functions later on with most data that I could possibly feed to it."
   ]
  },
  {
   "cell_type": "code",
   "execution_count": 225,
   "metadata": {},
   "outputs": [],
   "source": [
    "def final_smape(y_targ, y_pred):\n",
    "    epsilon = 1e-10\n",
    "    smape_rougher = np.mean(2 * np.abs(y_targ[:, 0] - y_pred[:, 0]) / (np.abs(y_targ[:, 0]) + np.abs(y_pred[:, 0]) + epsilon))\n",
    "    smape_final = np.mean(2 * np.abs(y_targ[:, 1] - y_pred[:, 1]) / (np.abs(y_targ[:, 1]) + np.abs(y_pred[:, 1]) + epsilon))\n",
    "    return 0.25 * smape_rougher + 0.75 * smape_final"
   ]
  },
  {
   "cell_type": "code",
   "execution_count": 226,
   "metadata": {},
   "outputs": [],
   "source": [
    "smape_scorer = ms(final_smape, greater_is_better=False)"
   ]
  },
  {
   "cell_type": "code",
   "execution_count": 227,
   "metadata": {},
   "outputs": [],
   "source": [
    "kf = KFold(n_splits=5, shuffle=True, random_state=21)"
   ]
  },
  {
   "cell_type": "markdown",
   "metadata": {},
   "source": [
    "### Model Training\n",
    "Next, I need to select the best model for our data set.  I will train a Random Forest and a Linear Regression model.  Before running and evaluating each model, I first need to define variables that will be used throughout."
   ]
  },
  {
   "cell_type": "code",
   "execution_count": 228,
   "metadata": {},
   "outputs": [],
   "source": [
    "#defining variables for train_set\n",
    "train_set = clean_train_set.drop(['date'], axis=1)\n",
    "targets = train_set[['rougher.output.recovery', 'final.output.recovery']].to_numpy()\n",
    "train_features = train_set.drop(['rougher.output.recovery', 'final.output.recovery'], axis=1)\n",
    "\n",
    "#defining variables for test_set\n",
    "test_features = clean_test_set.drop(['date'], axis=1)\n",
    "test_targets = pd.merge(clean_test_set, full_set[['date', 'rougher.output.recovery', 'final.output.recovery']], on='date', how='left')\n",
    "test_targets = test_targets[['rougher.output.recovery', 'final.output.recovery']]"
   ]
  },
  {
   "cell_type": "code",
   "execution_count": 229,
   "metadata": {},
   "outputs": [],
   "source": [
    "#cleaning up newly defined test_targets\n",
    "test_targ_means = np.nanmean(test_targets)\n",
    "zero_2_nan = test_targets.replace(0, np.nan)\n",
    "test_targets = test_targets.fillna(method='ffill').to_numpy()"
   ]
  },
  {
   "cell_type": "code",
   "execution_count": 230,
   "metadata": {
    "scrolled": true
   },
   "outputs": [
    {
     "name": "stdout",
     "output_type": "stream",
     "text": [
      "Train set shape: (13904, 55)\n",
      "Test set shape: (5856, 54)\n",
      "Targets only in train set: {'rougher.output.recovery', 'final.output.recovery'}\n",
      "Targets shape: (13904, 2) and type: <class 'numpy.ndarray'>\n",
      "Test targets shape: (5332, 2)\n"
     ]
    }
   ],
   "source": [
    "print(\"Train set shape:\", train_set.shape)\n",
    "print(\"Test set shape:\", test_set.shape)\n",
    "print(\"Targets only in train set:\", set(train_set.columns) - set(test_set.columns))\n",
    "print(\"Targets shape:\", targets.shape, \"and type:\", type(targets))\n",
    "print(\"Test targets shape:\", test_targets.shape)"
   ]
  },
  {
   "cell_type": "code",
   "execution_count": 231,
   "metadata": {},
   "outputs": [
    {
     "data": {
      "text/plain": [
       "array([[82.79316788, 66.766245  ],\n",
       "       [82.79316788, 66.766245  ],\n",
       "       [82.79316788, 66.766245  ],\n",
       "       ...,\n",
       "       [82.79316788, 66.766245  ],\n",
       "       [82.79316788, 66.766245  ],\n",
       "       [82.79316788, 66.766245  ]])"
      ]
     },
     "execution_count": 231,
     "metadata": {},
     "output_type": "execute_result"
    }
   ],
   "source": [
    "#establishing constant variables\n",
    "targets_mean = np.nanmean(targets, axis=0)\n",
    "constant_pred = np.full_like(targets, targets_mean)\n",
    "constant_pred"
   ]
  },
  {
   "cell_type": "code",
   "execution_count": 232,
   "metadata": {
    "scrolled": true
   },
   "outputs": [
    {
     "name": "stdout",
     "output_type": "stream",
     "text": [
      "Final sMAPE of the Constant Model Using Training Set: 0.11044578903205361\n"
     ]
    }
   ],
   "source": [
    "train_smape = final_smape(targets, constant_pred)\n",
    "\n",
    "print(\"Final sMAPE of the Constant Model Using Training Set:\", train_smape)"
   ]
  },
  {
   "cell_type": "markdown",
   "metadata": {},
   "source": [
    "Everything appears to have worked correctly as the train_set has two more columns than the test set due to the inclusion of the targets, which is the only difference between the sets.  Additionally, test targets have been defined for use in final model evaluation.\n",
    "\n",
    "Predicting the amount of gold recovered is a regression problem.  Therefore, I will train and compare the sMAPE value of a Random Forest and Linear Regression model to determine the best model to use.  Additionally, I have calculated the Final sMAPE of the constant model using the training set to give a baseline for comparing with the two models.\n",
    "#### Random Forest"
   ]
  },
  {
   "cell_type": "code",
   "execution_count": null,
   "metadata": {
    "vscode": {
     "languageId": "plaintext"
    }
   },
   "outputs": [],
   "source": [
    "param_grid = {\n",
    "    'estimator__n_estimators': [10, 15, 20, 25, 50, 100],\n",
    "    'estimator__max_depth': [None, 10, 20, 30, 40, 50],\n",
    "    'estimator__min_samples_split': [2, 5, 10],\n",
    "    'estimator__min_samples_leaf': [1, 2, 4],\n",
    "    'estimator__max_features': ['sqrt', 'log2'],\n",
    "    'estimator__bootstrap': [True, False]\n",
    "}\n",
    "\n",
    "rf_model = RandomForestRegressor(random_state=21)\n",
    "\n",
    "multi_rf_model = mor(rf_model)\n",
    "\n",
    "kf = KFold(n_splits=5, shuffle=True, random_state=21)\n",
    "\n",
    "random_search = RandomizedSearchCV(estimator=multi_rf_model, param_distributions=param_grid, \n",
    "                                   n_iter=20, scoring=smape_scorer, cv=kf, random_state=21, n_jobs=-1, verbose=2)\n",
    "\n",
    "random_search.fit(train_features, targets)\n",
    "\n",
    "print(f\"Best hyperparameters: {random_search.best_params_}\")\n",
    "print(f\"Best sMAPE score: {-random_search.best_score_}\")"
   ]
  },
  {
   "cell_type": "markdown",
   "metadata": {},
   "source": [
    "Optimal hyperparameters for the model are 100 estimators, a minimum samples split of 2, minimum samples leaf of 1, square root determination of max features, and no max depth with bootstrapping disabled.  Tuned accordingly, the sMAPE comes to 0.065, much better than the constant model.  The random forest model is highly accurate with ideal paramaters.  Nonetheless, I will run the model tuned accordingly and then proceed to crafting a linear regression model to see how they compare."
   ]
  },
  {
   "cell_type": "code",
   "execution_count": 233,
   "metadata": {
    "scrolled": true
   },
   "outputs": [
    {
     "name": "stdout",
     "output_type": "stream",
     "text": [
      "Final sMAPE of the Random Forest Model: 0.06501265746911407\n"
     ]
    }
   ],
   "source": [
    "rf_model = RandomForestRegressor(random_state=21, n_estimators=100, min_samples_split=2, min_samples_leaf=1, max_features='sqrt', max_depth=None, bootstrap=False)\n",
    "multi_rf_model = mor(rf_model)\n",
    "multi_rf_model.fit(train_features, targets)\n",
    "train_pred = multi_rf_model.predict(train_features)\n",
    "rf_preds = pd.DataFrame(train_pred)\n",
    "rf_preds.columns = ['Rougher', 'Final']\n",
    "smape = cvs(multi_rf_model, train_features, targets, scoring=smape_scorer, cv=kf, n_jobs=-1)\n",
    "print(\"Final sMAPE of the Random Forest Model:\", -smape.mean())"
   ]
  },
  {
   "cell_type": "markdown",
   "metadata": {},
   "source": [
    "#### Linear Regression"
   ]
  },
  {
   "cell_type": "code",
   "execution_count": 234,
   "metadata": {},
   "outputs": [],
   "source": [
    "features_scaler = StandardScaler()\n",
    "\n",
    "train_features_scaled = features_scaler.fit_transform(train_features)\n",
    "#if needed later\n",
    "test_features_scaled = features_scaler.transform(test_features)"
   ]
  },
  {
   "cell_type": "code",
   "execution_count": 235,
   "metadata": {},
   "outputs": [
    {
     "name": "stdout",
     "output_type": "stream",
     "text": [
      "Final sMAPE of the Linear Regression Model on the Training Data: 0.09216878670900071\n"
     ]
    }
   ],
   "source": [
    "lr_model = LinearRegression()\n",
    "lr_smape = cvs(lr_model, train_features_scaled, targets, scoring=smape_scorer, cv=kf, n_jobs=-1)\n",
    "print(\"Final sMAPE of the Linear Regression Model on the Training Data:\", -lr_smape.mean())"
   ]
  },
  {
   "cell_type": "markdown",
   "metadata": {},
   "source": [
    "The Linear Regression model performs well and better than the constant model, but not as well as the Random Forest Model."
   ]
  },
  {
   "cell_type": "markdown",
   "metadata": {},
   "source": [
    "### Final Random Forest Model Run with Constant Comparison"
   ]
  },
  {
   "cell_type": "code",
   "execution_count": 236,
   "metadata": {},
   "outputs": [
    {
     "data": {
      "text/plain": [
       "array([[85.19851286, 68.50326143],\n",
       "       [85.19851286, 68.50326143],\n",
       "       [85.19851286, 68.50326143],\n",
       "       ...,\n",
       "       [85.19851286, 68.50326143],\n",
       "       [85.19851286, 68.50326143],\n",
       "       [85.19851286, 68.50326143]])"
      ]
     },
     "execution_count": 236,
     "metadata": {},
     "output_type": "execute_result"
    }
   ],
   "source": [
    "#establishing constant variables\n",
    "test_targets_mean = np.nanmean(test_targets, axis=0)\n",
    "test_constant_pred = np.full_like(test_targets, test_targets_mean)\n",
    "test_constant_pred"
   ]
  },
  {
   "cell_type": "code",
   "execution_count": 237,
   "metadata": {},
   "outputs": [
    {
     "name": "stdout",
     "output_type": "stream",
     "text": [
      "Final sMAPE of the Constant Model Using Test Set: 0.09204330414119687\n"
     ]
    }
   ],
   "source": [
    "test_constant_smape = final_smape(test_targets, test_constant_pred)\n",
    "\n",
    "print(\"Final sMAPE of the Constant Model Using Test Set:\", test_constant_smape)"
   ]
  },
  {
   "cell_type": "markdown",
   "metadata": {},
   "source": [
    "The constant model using the test set performs better than the constant model using the training set with a final sMAPE of 0.092.  Let's see if the Random Forest model trained above can perform better!"
   ]
  },
  {
   "cell_type": "code",
   "execution_count": 238,
   "metadata": {},
   "outputs": [
    {
     "name": "stdout",
     "output_type": "stream",
     "text": [
      "Final sMAPE of the Random Forest Model on the Test Set: 0.10177489262856997\n"
     ]
    }
   ],
   "source": [
    "test_pred = multi_rf_model.predict(test_features)\n",
    "test_smape = final_smape(test_targets, test_pred)\n",
    "print(\"Final sMAPE of the Random Forest Model on the Test Set:\", test_smape)"
   ]
  },
  {
   "cell_type": "markdown",
   "metadata": {},
   "source": [
    "Unfortunately, the Random Forest Model performs slightly worse than the constant model when applied to the test data.  Would the Linear Regression Model perform any better?"
   ]
  },
  {
   "cell_type": "code",
   "execution_count": 239,
   "metadata": {},
   "outputs": [
    {
     "name": "stdout",
     "output_type": "stream",
     "text": [
      "Final sMAPE of the Linear Regression Model: 0.10027843319365554\n"
     ]
    }
   ],
   "source": [
    "lr_model.fit(train_features_scaled, targets)\n",
    "lr_test_pred = lr_model.predict(test_features_scaled)\n",
    "lr_test_smape = final_smape(test_targets, lr_test_pred)\n",
    "print(\"Final sMAPE of the Linear Regression Model:\", lr_test_smape)"
   ]
  },
  {
   "cell_type": "markdown",
   "metadata": {},
   "source": [
    "Unfortunately, the Linear Regression Model also does not perform as well when run on the test set.  Additional training and hyperparameter tuning will be needed.\n",
    "\n",
    "While neither model performs demonstrably better than the constant model when run on the test set, the model's performance on the training set is promising.  This initial model is a solid start to predicting gold recovery in the field."
   ]
  },
  {
   "cell_type": "markdown",
   "metadata": {},
   "source": [
    "## Conclusion\n",
    "This project focused on the development of a machine learning model to predict gold recovery at the rougher and final stages of ore processing.  Zyfra can use the highly accurate predictions made by the Multi-Output Random Forest Regression model developed in this project to enhance operational efficiency.  The Linear Regression model also performs well if a less computationally intensive approach is needed.\n",
    "\n",
    "In the initial part of the project, I cleaned and analyzed the datasets, which contained over 80 parameters.  I removed missing values, verified recovery calculations, and removed outliers to ensure data integrity.  Additionally, I ensured that the training set only contained parameters that exist within the test set, aside from the two targets.\n",
    "\n",
    "I then tested two machine learning models: a Random Forest and a Linear Regression model for both the rougher and final stages of production.  Additionally, I established constant predictions based on the means of the targets.  The constant predictions achieved a Final sMAPE of 0.11.  Both models performed better than the constant model during the training phase: the Random Forest model with a Final sMAPE of 0.065 and the Linear Regression model with a Final sMAPE of 0.092.\n",
    "\n",
    "Upon progressing to the test stage, both models performed slightly worse than the constant model on that data.  The constant predictions for the test set achieved a Final sMAPE of 0.092, while the Random Forest model only achieved 0.102 and the Linear Regression model achieved 0.1.  While this is disappointing, it can hopefully be remedied through training on additional data.\n",
    "\n",
    "By leveraging machine learning, Zyfra is now prepared to make more informed decisions in the gold smelting process.  Data-driven approaches such as this are capable of optimizing industrial processes and reducing waste."
   ]
  }
 ],
 "metadata": {
  "ExecuteTimeLog": [
   {
    "duration": 2687,
    "start_time": "2024-09-19T03:39:37.925Z"
   },
   {
    "duration": 4,
    "start_time": "2024-09-19T03:39:51.744Z"
   },
   {
    "duration": 272,
    "start_time": "2024-09-19T03:41:10.783Z"
   },
   {
    "duration": 610,
    "start_time": "2024-09-19T03:41:56.357Z"
   },
   {
    "duration": 22,
    "start_time": "2024-09-19T03:42:00.697Z"
   },
   {
    "duration": 19,
    "start_time": "2024-09-19T03:42:25.651Z"
   },
   {
    "duration": 20,
    "start_time": "2024-09-19T03:43:19.497Z"
   },
   {
    "duration": 157,
    "start_time": "2024-09-20T18:33:38.768Z"
   },
   {
    "duration": 2734,
    "start_time": "2024-09-20T18:33:45.734Z"
   },
   {
    "duration": 701,
    "start_time": "2024-09-20T18:33:48.470Z"
   },
   {
    "duration": 28,
    "start_time": "2024-09-20T18:33:49.172Z"
   },
   {
    "duration": 13,
    "start_time": "2024-09-20T18:33:49.201Z"
   },
   {
    "duration": 19,
    "start_time": "2024-09-20T18:33:49.217Z"
   },
   {
    "duration": 20,
    "start_time": "2024-09-20T18:33:49.237Z"
   },
   {
    "duration": 157,
    "start_time": "2024-09-20T18:35:03.748Z"
   },
   {
    "duration": 10,
    "start_time": "2024-09-20T18:36:53.529Z"
   },
   {
    "duration": 93,
    "start_time": "2024-09-20T18:37:08.595Z"
   },
   {
    "duration": 13,
    "start_time": "2024-09-20T18:37:34.132Z"
   },
   {
    "duration": 163,
    "start_time": "2024-09-20T18:37:46.461Z"
   },
   {
    "duration": 2674,
    "start_time": "2024-09-20T20:39:17.031Z"
   },
   {
    "duration": 290,
    "start_time": "2024-09-20T20:40:12.735Z"
   },
   {
    "duration": 4,
    "start_time": "2024-09-20T20:40:18.181Z"
   },
   {
    "duration": 707,
    "start_time": "2024-09-20T20:40:18.188Z"
   },
   {
    "duration": 23,
    "start_time": "2024-09-20T20:40:18.897Z"
   },
   {
    "duration": 13,
    "start_time": "2024-09-20T20:40:18.922Z"
   },
   {
    "duration": 171,
    "start_time": "2024-09-20T20:40:18.937Z"
   },
   {
    "duration": 18,
    "start_time": "2024-09-20T20:40:19.111Z"
   },
   {
    "duration": 11,
    "start_time": "2024-09-20T20:40:19.131Z"
   },
   {
    "duration": 106,
    "start_time": "2024-09-20T20:40:19.143Z"
   },
   {
    "duration": 19,
    "start_time": "2024-09-20T20:40:19.251Z"
   },
   {
    "duration": 13,
    "start_time": "2024-09-20T20:40:19.272Z"
   },
   {
    "duration": 170,
    "start_time": "2024-09-20T20:40:19.306Z"
   },
   {
    "duration": 15,
    "start_time": "2024-09-20T20:40:19.477Z"
   },
   {
    "duration": 22,
    "start_time": "2024-09-20T20:40:48.505Z"
   },
   {
    "duration": 116,
    "start_time": "2024-09-20T20:40:53.877Z"
   },
   {
    "duration": 55,
    "start_time": "2024-09-20T20:49:03.251Z"
   },
   {
    "duration": 2,
    "start_time": "2024-09-20T20:49:41.570Z"
   },
   {
    "duration": 5,
    "start_time": "2024-09-20T20:50:02.113Z"
   },
   {
    "duration": 15,
    "start_time": "2024-09-20T20:52:10.578Z"
   },
   {
    "duration": 4,
    "start_time": "2024-09-20T20:52:27.350Z"
   },
   {
    "duration": 4,
    "start_time": "2024-09-20T20:56:15.880Z"
   },
   {
    "duration": 14,
    "start_time": "2024-09-20T20:56:35.183Z"
   },
   {
    "duration": 13,
    "start_time": "2024-09-20T20:56:57.102Z"
   },
   {
    "duration": 13,
    "start_time": "2024-09-20T20:57:34.865Z"
   },
   {
    "duration": 13,
    "start_time": "2024-09-20T20:57:48.139Z"
   },
   {
    "duration": 13,
    "start_time": "2024-09-20T20:57:53.041Z"
   },
   {
    "duration": 4,
    "start_time": "2024-09-20T20:58:19.189Z"
   },
   {
    "duration": 16,
    "start_time": "2024-09-20T20:59:32.613Z"
   },
   {
    "duration": 13,
    "start_time": "2024-09-20T20:59:52.863Z"
   },
   {
    "duration": 2696,
    "start_time": "2024-09-20T22:12:32.851Z"
   },
   {
    "duration": 715,
    "start_time": "2024-09-20T22:12:35.549Z"
   },
   {
    "duration": 23,
    "start_time": "2024-09-20T22:12:36.265Z"
   },
   {
    "duration": 12,
    "start_time": "2024-09-20T22:12:36.290Z"
   },
   {
    "duration": 179,
    "start_time": "2024-09-20T22:12:36.304Z"
   },
   {
    "duration": 18,
    "start_time": "2024-09-20T22:12:36.485Z"
   },
   {
    "duration": 9,
    "start_time": "2024-09-20T22:12:36.505Z"
   },
   {
    "duration": 83,
    "start_time": "2024-09-20T22:12:36.532Z"
   },
   {
    "duration": 30,
    "start_time": "2024-09-20T22:12:36.616Z"
   },
   {
    "duration": 12,
    "start_time": "2024-09-20T22:12:36.648Z"
   },
   {
    "duration": 178,
    "start_time": "2024-09-20T22:12:36.662Z"
   },
   {
    "duration": 4,
    "start_time": "2024-09-20T22:12:36.842Z"
   },
   {
    "duration": 4,
    "start_time": "2024-09-20T22:12:36.848Z"
   },
   {
    "duration": 3,
    "start_time": "2024-09-20T22:12:36.854Z"
   },
   {
    "duration": 4,
    "start_time": "2024-09-20T22:12:36.859Z"
   },
   {
    "duration": 374,
    "start_time": "2024-09-20T22:12:36.865Z"
   },
   {
    "duration": 34,
    "start_time": "2024-09-20T22:12:59.906Z"
   },
   {
    "duration": 4,
    "start_time": "2024-09-20T22:13:24.516Z"
   },
   {
    "duration": 6,
    "start_time": "2024-09-20T22:13:34.267Z"
   },
   {
    "duration": 33,
    "start_time": "2024-09-20T22:13:41.206Z"
   },
   {
    "duration": 10,
    "start_time": "2024-09-20T22:13:58.132Z"
   },
   {
    "duration": 6,
    "start_time": "2024-09-20T22:14:12.082Z"
   },
   {
    "duration": 14,
    "start_time": "2024-09-20T22:14:52.340Z"
   },
   {
    "duration": 5,
    "start_time": "2024-09-20T22:14:58.931Z"
   },
   {
    "duration": 32,
    "start_time": "2024-09-20T22:15:19.981Z"
   },
   {
    "duration": 13,
    "start_time": "2024-09-20T22:16:57.438Z"
   },
   {
    "duration": 16,
    "start_time": "2024-09-20T22:17:05.764Z"
   },
   {
    "duration": 16,
    "start_time": "2024-09-20T22:17:58.972Z"
   },
   {
    "duration": 5,
    "start_time": "2024-09-20T22:19:02.268Z"
   },
   {
    "duration": 4,
    "start_time": "2024-09-20T22:19:15.403Z"
   },
   {
    "duration": 13,
    "start_time": "2024-09-20T22:21:19.655Z"
   },
   {
    "duration": 27,
    "start_time": "2024-09-20T22:21:26.996Z"
   },
   {
    "duration": 6,
    "start_time": "2024-09-20T22:21:41.845Z"
   },
   {
    "duration": 5,
    "start_time": "2024-09-20T22:21:53.520Z"
   },
   {
    "duration": 5,
    "start_time": "2024-09-20T22:22:08.320Z"
   },
   {
    "duration": 33,
    "start_time": "2024-09-20T22:22:29.570Z"
   },
   {
    "duration": 3,
    "start_time": "2024-09-20T22:24:45.169Z"
   },
   {
    "duration": 4,
    "start_time": "2024-09-20T22:24:59.070Z"
   },
   {
    "duration": 4,
    "start_time": "2024-09-20T22:25:19.372Z"
   },
   {
    "duration": 3,
    "start_time": "2024-09-20T22:30:42.934Z"
   },
   {
    "duration": 5,
    "start_time": "2024-09-20T22:30:49.970Z"
   },
   {
    "duration": 4,
    "start_time": "2024-09-20T22:31:24.895Z"
   },
   {
    "duration": 162,
    "start_time": "2024-09-20T22:35:15.364Z"
   },
   {
    "duration": 3,
    "start_time": "2024-09-20T22:37:59.250Z"
   },
   {
    "duration": 16,
    "start_time": "2024-09-20T22:38:10.389Z"
   },
   {
    "duration": 4,
    "start_time": "2024-09-20T22:38:15.895Z"
   },
   {
    "duration": 4,
    "start_time": "2024-09-20T22:38:32.540Z"
   },
   {
    "duration": 4,
    "start_time": "2024-09-20T22:38:37.761Z"
   },
   {
    "duration": 5,
    "start_time": "2024-09-20T22:45:11.045Z"
   },
   {
    "duration": 6,
    "start_time": "2024-09-20T22:45:50.607Z"
   },
   {
    "duration": 5,
    "start_time": "2024-09-20T22:45:56.313Z"
   },
   {
    "duration": 528,
    "start_time": "2024-09-20T22:49:01.646Z"
   },
   {
    "duration": 5,
    "start_time": "2024-09-20T22:49:13.363Z"
   },
   {
    "duration": 4,
    "start_time": "2024-09-20T22:49:15.744Z"
   },
   {
    "duration": 127,
    "start_time": "2024-09-20T22:49:19.912Z"
   },
   {
    "duration": 861,
    "start_time": "2024-09-20T22:49:29.619Z"
   },
   {
    "duration": 508,
    "start_time": "2024-09-20T22:49:30.482Z"
   },
   {
    "duration": 22,
    "start_time": "2024-09-20T22:49:30.991Z"
   },
   {
    "duration": 20,
    "start_time": "2024-09-20T22:49:31.015Z"
   },
   {
    "duration": 157,
    "start_time": "2024-09-20T22:49:31.037Z"
   },
   {
    "duration": 19,
    "start_time": "2024-09-20T22:49:31.196Z"
   },
   {
    "duration": 69,
    "start_time": "2024-09-20T22:49:31.216Z"
   },
   {
    "duration": 91,
    "start_time": "2024-09-20T22:49:31.287Z"
   },
   {
    "duration": 20,
    "start_time": "2024-09-20T22:49:31.379Z"
   },
   {
    "duration": 13,
    "start_time": "2024-09-20T22:49:31.400Z"
   },
   {
    "duration": 166,
    "start_time": "2024-09-20T22:49:31.431Z"
   },
   {
    "duration": 3,
    "start_time": "2024-09-20T22:49:31.599Z"
   },
   {
    "duration": 4,
    "start_time": "2024-09-20T22:49:31.604Z"
   },
   {
    "duration": 21,
    "start_time": "2024-09-20T22:49:31.611Z"
   },
   {
    "duration": 4,
    "start_time": "2024-09-20T22:49:31.634Z"
   },
   {
    "duration": 4,
    "start_time": "2024-09-20T22:49:31.639Z"
   },
   {
    "duration": 8,
    "start_time": "2024-09-20T22:49:31.645Z"
   },
   {
    "duration": 4,
    "start_time": "2024-09-20T22:49:31.654Z"
   },
   {
    "duration": 4,
    "start_time": "2024-09-20T22:49:31.659Z"
   },
   {
    "duration": 4,
    "start_time": "2024-09-20T22:49:31.665Z"
   },
   {
    "duration": 5,
    "start_time": "2024-09-20T22:49:31.670Z"
   },
   {
    "duration": 4,
    "start_time": "2024-09-20T22:49:31.676Z"
   },
   {
    "duration": 51,
    "start_time": "2024-09-20T22:49:31.682Z"
   },
   {
    "duration": 138,
    "start_time": "2024-09-20T22:49:31.736Z"
   },
   {
    "duration": 134,
    "start_time": "2024-09-20T22:51:33.192Z"
   },
   {
    "duration": 5,
    "start_time": "2024-09-20T22:54:34.849Z"
   },
   {
    "duration": 4,
    "start_time": "2024-09-20T22:55:49.050Z"
   },
   {
    "duration": 5,
    "start_time": "2024-09-20T22:55:54.683Z"
   },
   {
    "duration": 4,
    "start_time": "2024-09-20T22:56:03.020Z"
   },
   {
    "duration": 5,
    "start_time": "2024-09-20T22:56:08.689Z"
   },
   {
    "duration": 4,
    "start_time": "2024-09-20T22:56:37.463Z"
   },
   {
    "duration": 486,
    "start_time": "2024-09-20T22:56:37.468Z"
   },
   {
    "duration": 20,
    "start_time": "2024-09-20T22:56:37.956Z"
   },
   {
    "duration": 12,
    "start_time": "2024-09-20T22:56:37.978Z"
   },
   {
    "duration": 169,
    "start_time": "2024-09-20T22:56:37.992Z"
   },
   {
    "duration": 19,
    "start_time": "2024-09-20T22:56:38.163Z"
   },
   {
    "duration": 10,
    "start_time": "2024-09-20T22:56:38.184Z"
   },
   {
    "duration": 103,
    "start_time": "2024-09-20T22:56:38.195Z"
   },
   {
    "duration": 20,
    "start_time": "2024-09-20T22:56:38.299Z"
   },
   {
    "duration": 15,
    "start_time": "2024-09-20T22:56:38.331Z"
   },
   {
    "duration": 177,
    "start_time": "2024-09-20T22:56:38.348Z"
   },
   {
    "duration": 5,
    "start_time": "2024-09-20T22:56:38.527Z"
   },
   {
    "duration": 4,
    "start_time": "2024-09-20T22:56:38.533Z"
   },
   {
    "duration": 4,
    "start_time": "2024-09-20T22:56:38.541Z"
   },
   {
    "duration": 4,
    "start_time": "2024-09-20T22:56:38.546Z"
   },
   {
    "duration": 3,
    "start_time": "2024-09-20T22:56:38.552Z"
   },
   {
    "duration": 5,
    "start_time": "2024-09-20T22:56:38.558Z"
   },
   {
    "duration": 4,
    "start_time": "2024-09-20T22:56:38.565Z"
   },
   {
    "duration": 4,
    "start_time": "2024-09-20T22:56:38.570Z"
   },
   {
    "duration": 4,
    "start_time": "2024-09-20T22:56:38.576Z"
   },
   {
    "duration": 6,
    "start_time": "2024-09-20T22:56:38.631Z"
   },
   {
    "duration": 4,
    "start_time": "2024-09-20T22:56:38.639Z"
   },
   {
    "duration": 4,
    "start_time": "2024-09-20T22:56:38.645Z"
   },
   {
    "duration": 5,
    "start_time": "2024-09-20T22:56:38.650Z"
   },
   {
    "duration": 4,
    "start_time": "2024-09-20T22:56:51.612Z"
   },
   {
    "duration": 4,
    "start_time": "2024-09-20T22:56:53.392Z"
   },
   {
    "duration": 5,
    "start_time": "2024-09-20T22:56:56.608Z"
   },
   {
    "duration": 4,
    "start_time": "2024-09-20T22:56:59.536Z"
   },
   {
    "duration": 4,
    "start_time": "2024-09-20T22:57:04.310Z"
   },
   {
    "duration": 461,
    "start_time": "2024-09-20T22:57:05.963Z"
   },
   {
    "duration": 19,
    "start_time": "2024-09-20T22:57:06.993Z"
   },
   {
    "duration": 13,
    "start_time": "2024-09-20T22:57:10.763Z"
   },
   {
    "duration": 149,
    "start_time": "2024-09-20T22:57:15.917Z"
   },
   {
    "duration": 21,
    "start_time": "2024-09-20T22:57:17.097Z"
   },
   {
    "duration": 10,
    "start_time": "2024-09-20T22:57:22.469Z"
   },
   {
    "duration": 84,
    "start_time": "2024-09-20T22:57:26.556Z"
   },
   {
    "duration": 23,
    "start_time": "2024-09-20T22:57:28.356Z"
   },
   {
    "duration": 13,
    "start_time": "2024-09-20T22:57:33.531Z"
   },
   {
    "duration": 161,
    "start_time": "2024-09-20T22:57:37.256Z"
   },
   {
    "duration": 3,
    "start_time": "2024-09-20T22:57:44.140Z"
   },
   {
    "duration": 5,
    "start_time": "2024-09-20T22:57:46.460Z"
   },
   {
    "duration": 4,
    "start_time": "2024-09-20T22:57:51.022Z"
   },
   {
    "duration": 5,
    "start_time": "2024-09-20T22:57:53.336Z"
   },
   {
    "duration": 4,
    "start_time": "2024-09-20T22:57:55.572Z"
   },
   {
    "duration": 6,
    "start_time": "2024-09-20T22:57:58.040Z"
   },
   {
    "duration": 5,
    "start_time": "2024-09-20T22:58:01.941Z"
   },
   {
    "duration": 5,
    "start_time": "2024-09-20T22:58:05.504Z"
   },
   {
    "duration": 229,
    "start_time": "2024-09-20T22:58:17.170Z"
   },
   {
    "duration": 14,
    "start_time": "2024-09-20T22:58:27.691Z"
   },
   {
    "duration": 14,
    "start_time": "2024-09-20T22:58:30.975Z"
   },
   {
    "duration": 6,
    "start_time": "2024-09-20T22:58:34.557Z"
   },
   {
    "duration": 4,
    "start_time": "2024-09-20T22:58:36.707Z"
   },
   {
    "duration": 5,
    "start_time": "2024-09-20T22:58:38.377Z"
   },
   {
    "duration": 5,
    "start_time": "2024-09-20T22:58:52.591Z"
   },
   {
    "duration": 14,
    "start_time": "2024-09-20T22:59:00.270Z"
   },
   {
    "duration": 5,
    "start_time": "2024-09-20T22:59:05.035Z"
   },
   {
    "duration": 7,
    "start_time": "2024-09-20T22:59:19.407Z"
   },
   {
    "duration": 5,
    "start_time": "2024-09-20T22:59:24.280Z"
   },
   {
    "duration": 5,
    "start_time": "2024-09-20T23:00:45.391Z"
   },
   {
    "duration": 5,
    "start_time": "2024-09-20T23:00:48.141Z"
   },
   {
    "duration": 884,
    "start_time": "2024-09-20T23:01:10.118Z"
   },
   {
    "duration": 508,
    "start_time": "2024-09-20T23:01:11.004Z"
   },
   {
    "duration": 29,
    "start_time": "2024-09-20T23:01:11.514Z"
   },
   {
    "duration": 13,
    "start_time": "2024-09-20T23:01:11.545Z"
   },
   {
    "duration": 177,
    "start_time": "2024-09-20T23:01:11.559Z"
   },
   {
    "duration": 24,
    "start_time": "2024-09-20T23:01:11.738Z"
   },
   {
    "duration": 77,
    "start_time": "2024-09-20T23:01:11.764Z"
   },
   {
    "duration": 131,
    "start_time": "2024-09-20T23:01:11.843Z"
   },
   {
    "duration": 22,
    "start_time": "2024-09-20T23:01:11.976Z"
   },
   {
    "duration": 12,
    "start_time": "2024-09-20T23:01:12.002Z"
   },
   {
    "duration": 222,
    "start_time": "2024-09-20T23:01:12.016Z"
   },
   {
    "duration": 3,
    "start_time": "2024-09-20T23:01:12.240Z"
   },
   {
    "duration": 5,
    "start_time": "2024-09-20T23:01:12.245Z"
   },
   {
    "duration": 4,
    "start_time": "2024-09-20T23:01:12.252Z"
   },
   {
    "duration": 4,
    "start_time": "2024-09-20T23:01:12.258Z"
   },
   {
    "duration": 4,
    "start_time": "2024-09-20T23:01:12.264Z"
   },
   {
    "duration": 9,
    "start_time": "2024-09-20T23:01:12.270Z"
   },
   {
    "duration": 4,
    "start_time": "2024-09-20T23:01:12.281Z"
   },
   {
    "duration": 45,
    "start_time": "2024-09-20T23:01:12.286Z"
   },
   {
    "duration": 5,
    "start_time": "2024-09-20T23:01:12.333Z"
   },
   {
    "duration": 6,
    "start_time": "2024-09-20T23:01:12.340Z"
   },
   {
    "duration": 4,
    "start_time": "2024-09-20T23:01:12.347Z"
   },
   {
    "duration": 4,
    "start_time": "2024-09-20T23:01:12.353Z"
   },
   {
    "duration": 4,
    "start_time": "2024-09-20T23:01:12.359Z"
   },
   {
    "duration": 2,
    "start_time": "2024-09-20T23:10:30.496Z"
   },
   {
    "duration": 4,
    "start_time": "2024-09-20T23:10:37.271Z"
   },
   {
    "duration": 6,
    "start_time": "2024-09-20T23:18:52.508Z"
   },
   {
    "duration": 4,
    "start_time": "2024-09-20T23:25:53.531Z"
   },
   {
    "duration": 958,
    "start_time": "2024-09-20T23:46:44.157Z"
   },
   {
    "duration": 61,
    "start_time": "2024-09-20T23:47:22.755Z"
   },
   {
    "duration": 19,
    "start_time": "2024-09-20T23:47:32.004Z"
   },
   {
    "duration": 7,
    "start_time": "2024-09-20T23:50:04.153Z"
   },
   {
    "duration": 7,
    "start_time": "2024-09-20T23:50:09.214Z"
   },
   {
    "duration": 4,
    "start_time": "2024-09-20T23:50:21.188Z"
   },
   {
    "duration": 18,
    "start_time": "2024-09-20T23:57:54.160Z"
   },
   {
    "duration": 9,
    "start_time": "2024-09-20T23:58:01.957Z"
   },
   {
    "duration": 188,
    "start_time": "2024-09-20T23:59:06.486Z"
   },
   {
    "duration": 104,
    "start_time": "2024-09-20T23:59:31.017Z"
   },
   {
    "duration": 92,
    "start_time": "2024-09-21T00:00:01.063Z"
   },
   {
    "duration": 8,
    "start_time": "2024-09-21T00:00:06.666Z"
   },
   {
    "duration": 78,
    "start_time": "2024-09-21T00:00:44.609Z"
   },
   {
    "duration": 8,
    "start_time": "2024-09-21T00:00:47.963Z"
   },
   {
    "duration": 7,
    "start_time": "2024-09-21T00:01:05.948Z"
   },
   {
    "duration": 15,
    "start_time": "2024-09-21T00:01:39.575Z"
   },
   {
    "duration": 16,
    "start_time": "2024-09-21T00:02:12.936Z"
   },
   {
    "duration": 6,
    "start_time": "2024-09-21T00:02:23.897Z"
   },
   {
    "duration": 77,
    "start_time": "2024-09-21T00:06:06.256Z"
   },
   {
    "duration": 2797,
    "start_time": "2024-09-21T00:53:00.442Z"
   },
   {
    "duration": 733,
    "start_time": "2024-09-21T00:53:03.241Z"
   },
   {
    "duration": 23,
    "start_time": "2024-09-21T00:53:03.976Z"
   },
   {
    "duration": 15,
    "start_time": "2024-09-21T00:53:04.008Z"
   },
   {
    "duration": 166,
    "start_time": "2024-09-21T00:53:04.025Z"
   },
   {
    "duration": 28,
    "start_time": "2024-09-21T00:53:04.193Z"
   },
   {
    "duration": 10,
    "start_time": "2024-09-21T00:53:04.223Z"
   },
   {
    "duration": 101,
    "start_time": "2024-09-21T00:53:04.234Z"
   },
   {
    "duration": 20,
    "start_time": "2024-09-21T00:53:04.337Z"
   },
   {
    "duration": 14,
    "start_time": "2024-09-21T00:53:04.361Z"
   },
   {
    "duration": 187,
    "start_time": "2024-09-21T00:53:04.377Z"
   },
   {
    "duration": 3,
    "start_time": "2024-09-21T00:53:04.566Z"
   },
   {
    "duration": 5,
    "start_time": "2024-09-21T00:53:04.571Z"
   },
   {
    "duration": 5,
    "start_time": "2024-09-21T00:53:04.577Z"
   },
   {
    "duration": 25,
    "start_time": "2024-09-21T00:53:04.584Z"
   },
   {
    "duration": 4,
    "start_time": "2024-09-21T00:53:04.611Z"
   },
   {
    "duration": 7,
    "start_time": "2024-09-21T00:53:04.617Z"
   },
   {
    "duration": 5,
    "start_time": "2024-09-21T00:53:04.625Z"
   },
   {
    "duration": 6,
    "start_time": "2024-09-21T00:53:04.632Z"
   },
   {
    "duration": 4,
    "start_time": "2024-09-21T00:53:04.640Z"
   },
   {
    "duration": 4,
    "start_time": "2024-09-21T00:53:04.646Z"
   },
   {
    "duration": 4,
    "start_time": "2024-09-21T00:53:04.652Z"
   },
   {
    "duration": 52,
    "start_time": "2024-09-21T00:53:04.657Z"
   },
   {
    "duration": 4,
    "start_time": "2024-09-21T00:53:04.711Z"
   },
   {
    "duration": 61,
    "start_time": "2024-09-21T00:53:04.717Z"
   },
   {
    "duration": 45,
    "start_time": "2024-09-21T00:53:04.780Z"
   },
   {
    "duration": 6,
    "start_time": "2024-09-21T00:53:04.826Z"
   },
   {
    "duration": 4,
    "start_time": "2024-09-21T00:53:04.837Z"
   },
   {
    "duration": 7,
    "start_time": "2024-09-21T00:53:04.843Z"
   },
   {
    "duration": 105,
    "start_time": "2024-09-21T00:53:04.851Z"
   },
   {
    "duration": 7,
    "start_time": "2024-09-21T00:53:04.958Z"
   },
   {
    "duration": 6,
    "start_time": "2024-09-21T00:53:04.966Z"
   },
   {
    "duration": 35,
    "start_time": "2024-09-21T00:53:04.974Z"
   },
   {
    "duration": 6,
    "start_time": "2024-09-21T00:53:05.011Z"
   },
   {
    "duration": 2783,
    "start_time": "2024-09-21T17:00:38.297Z"
   },
   {
    "duration": 680,
    "start_time": "2024-09-21T17:00:41.082Z"
   },
   {
    "duration": 32,
    "start_time": "2024-09-21T17:00:41.764Z"
   },
   {
    "duration": 13,
    "start_time": "2024-09-21T17:00:41.798Z"
   },
   {
    "duration": 175,
    "start_time": "2024-09-21T17:00:41.812Z"
   },
   {
    "duration": 20,
    "start_time": "2024-09-21T17:00:41.990Z"
   },
   {
    "duration": 10,
    "start_time": "2024-09-21T17:00:42.012Z"
   },
   {
    "duration": 114,
    "start_time": "2024-09-21T17:00:42.024Z"
   },
   {
    "duration": 21,
    "start_time": "2024-09-21T17:00:42.140Z"
   },
   {
    "duration": 27,
    "start_time": "2024-09-21T17:00:42.164Z"
   },
   {
    "duration": 180,
    "start_time": "2024-09-21T17:00:42.192Z"
   },
   {
    "duration": 2,
    "start_time": "2024-09-21T17:00:42.374Z"
   },
   {
    "duration": 5,
    "start_time": "2024-09-21T17:00:42.387Z"
   },
   {
    "duration": 4,
    "start_time": "2024-09-21T17:00:42.394Z"
   },
   {
    "duration": 4,
    "start_time": "2024-09-21T17:00:42.399Z"
   },
   {
    "duration": 3,
    "start_time": "2024-09-21T17:00:42.405Z"
   },
   {
    "duration": 7,
    "start_time": "2024-09-21T17:00:42.410Z"
   },
   {
    "duration": 3,
    "start_time": "2024-09-21T17:00:42.419Z"
   },
   {
    "duration": 4,
    "start_time": "2024-09-21T17:00:42.424Z"
   },
   {
    "duration": 3,
    "start_time": "2024-09-21T17:00:42.430Z"
   },
   {
    "duration": 55,
    "start_time": "2024-09-21T17:00:42.435Z"
   },
   {
    "duration": 3,
    "start_time": "2024-09-21T17:00:42.492Z"
   },
   {
    "duration": 4,
    "start_time": "2024-09-21T17:00:42.498Z"
   },
   {
    "duration": 4,
    "start_time": "2024-09-21T17:00:42.503Z"
   },
   {
    "duration": 80,
    "start_time": "2024-09-21T17:00:42.509Z"
   },
   {
    "duration": 19,
    "start_time": "2024-09-21T17:00:42.591Z"
   },
   {
    "duration": 6,
    "start_time": "2024-09-21T17:00:42.611Z"
   },
   {
    "duration": 5,
    "start_time": "2024-09-21T17:00:42.621Z"
   },
   {
    "duration": 8,
    "start_time": "2024-09-21T17:00:42.628Z"
   },
   {
    "duration": 111,
    "start_time": "2024-09-21T17:00:42.637Z"
   },
   {
    "duration": 8,
    "start_time": "2024-09-21T17:00:42.750Z"
   },
   {
    "duration": 6,
    "start_time": "2024-09-21T17:00:42.760Z"
   },
   {
    "duration": 32,
    "start_time": "2024-09-21T17:00:42.768Z"
   },
   {
    "duration": 5,
    "start_time": "2024-09-21T17:00:42.802Z"
   },
   {
    "duration": 2629,
    "start_time": "2024-09-21T18:00:51.211Z"
   },
   {
    "duration": 655,
    "start_time": "2024-09-21T18:00:53.842Z"
   },
   {
    "duration": 28,
    "start_time": "2024-09-21T18:00:54.500Z"
   },
   {
    "duration": 13,
    "start_time": "2024-09-21T18:00:54.531Z"
   },
   {
    "duration": 166,
    "start_time": "2024-09-21T18:00:54.545Z"
   },
   {
    "duration": 20,
    "start_time": "2024-09-21T18:00:54.713Z"
   },
   {
    "duration": 11,
    "start_time": "2024-09-21T18:00:54.734Z"
   },
   {
    "duration": 105,
    "start_time": "2024-09-21T18:00:54.746Z"
   },
   {
    "duration": 25,
    "start_time": "2024-09-21T18:00:54.853Z"
   },
   {
    "duration": 14,
    "start_time": "2024-09-21T18:00:54.881Z"
   },
   {
    "duration": 178,
    "start_time": "2024-09-21T18:00:54.901Z"
   },
   {
    "duration": 2,
    "start_time": "2024-09-21T18:00:55.081Z"
   },
   {
    "duration": 5,
    "start_time": "2024-09-21T18:00:55.085Z"
   },
   {
    "duration": 4,
    "start_time": "2024-09-21T18:00:55.091Z"
   },
   {
    "duration": 4,
    "start_time": "2024-09-21T18:00:55.097Z"
   },
   {
    "duration": 4,
    "start_time": "2024-09-21T18:00:55.103Z"
   },
   {
    "duration": 6,
    "start_time": "2024-09-21T18:00:55.108Z"
   },
   {
    "duration": 3,
    "start_time": "2024-09-21T18:00:55.117Z"
   },
   {
    "duration": 48,
    "start_time": "2024-09-21T18:00:55.122Z"
   },
   {
    "duration": 5,
    "start_time": "2024-09-21T18:00:55.172Z"
   },
   {
    "duration": 4,
    "start_time": "2024-09-21T18:00:55.179Z"
   },
   {
    "duration": 4,
    "start_time": "2024-09-21T18:00:55.185Z"
   },
   {
    "duration": 4,
    "start_time": "2024-09-21T18:00:55.191Z"
   },
   {
    "duration": 4,
    "start_time": "2024-09-21T18:00:55.196Z"
   },
   {
    "duration": 92,
    "start_time": "2024-09-21T18:00:55.202Z"
   },
   {
    "duration": 19,
    "start_time": "2024-09-21T18:00:55.296Z"
   },
   {
    "duration": 7,
    "start_time": "2024-09-21T18:00:55.316Z"
   },
   {
    "duration": 4,
    "start_time": "2024-09-21T18:00:55.326Z"
   },
   {
    "duration": 6,
    "start_time": "2024-09-21T18:00:55.332Z"
   },
   {
    "duration": 109,
    "start_time": "2024-09-21T18:00:55.340Z"
   },
   {
    "duration": 6,
    "start_time": "2024-09-21T18:00:55.451Z"
   },
   {
    "duration": 13,
    "start_time": "2024-09-21T18:00:55.459Z"
   },
   {
    "duration": 17,
    "start_time": "2024-09-21T18:00:55.474Z"
   },
   {
    "duration": 6,
    "start_time": "2024-09-21T18:00:55.492Z"
   },
   {
    "duration": 681,
    "start_time": "2024-09-21T18:27:11.659Z"
   },
   {
    "duration": 4,
    "start_time": "2024-09-21T18:27:23.741Z"
   },
   {
    "duration": 505,
    "start_time": "2024-09-21T18:27:23.748Z"
   },
   {
    "duration": 24,
    "start_time": "2024-09-21T18:27:24.255Z"
   },
   {
    "duration": 12,
    "start_time": "2024-09-21T18:27:24.281Z"
   },
   {
    "duration": 167,
    "start_time": "2024-09-21T18:27:24.295Z"
   },
   {
    "duration": 23,
    "start_time": "2024-09-21T18:27:24.464Z"
   },
   {
    "duration": 9,
    "start_time": "2024-09-21T18:27:24.488Z"
   },
   {
    "duration": 96,
    "start_time": "2024-09-21T18:27:24.499Z"
   },
   {
    "duration": 19,
    "start_time": "2024-09-21T18:27:24.596Z"
   },
   {
    "duration": 12,
    "start_time": "2024-09-21T18:27:24.617Z"
   },
   {
    "duration": 185,
    "start_time": "2024-09-21T18:27:24.631Z"
   },
   {
    "duration": 2,
    "start_time": "2024-09-21T18:27:24.818Z"
   },
   {
    "duration": 5,
    "start_time": "2024-09-21T18:27:24.822Z"
   },
   {
    "duration": 3,
    "start_time": "2024-09-21T18:27:24.831Z"
   },
   {
    "duration": 4,
    "start_time": "2024-09-21T18:27:24.836Z"
   },
   {
    "duration": 30,
    "start_time": "2024-09-21T18:27:24.842Z"
   },
   {
    "duration": 7,
    "start_time": "2024-09-21T18:27:24.873Z"
   },
   {
    "duration": 4,
    "start_time": "2024-09-21T18:27:24.881Z"
   },
   {
    "duration": 5,
    "start_time": "2024-09-21T18:27:24.887Z"
   },
   {
    "duration": 4,
    "start_time": "2024-09-21T18:27:24.893Z"
   },
   {
    "duration": 4,
    "start_time": "2024-09-21T18:27:24.898Z"
   },
   {
    "duration": 4,
    "start_time": "2024-09-21T18:27:24.904Z"
   },
   {
    "duration": 4,
    "start_time": "2024-09-21T18:27:24.910Z"
   },
   {
    "duration": 4,
    "start_time": "2024-09-21T18:27:24.915Z"
   },
   {
    "duration": 56,
    "start_time": "2024-09-21T18:27:24.970Z"
   },
   {
    "duration": 18,
    "start_time": "2024-09-21T18:27:25.028Z"
   },
   {
    "duration": 23,
    "start_time": "2024-09-21T18:27:25.048Z"
   },
   {
    "duration": 6,
    "start_time": "2024-09-21T18:27:25.072Z"
   },
   {
    "duration": 6,
    "start_time": "2024-09-21T18:27:25.079Z"
   },
   {
    "duration": 92,
    "start_time": "2024-09-21T18:27:25.087Z"
   },
   {
    "duration": 8,
    "start_time": "2024-09-21T18:27:25.180Z"
   },
   {
    "duration": 6,
    "start_time": "2024-09-21T18:27:25.190Z"
   },
   {
    "duration": 16,
    "start_time": "2024-09-21T18:27:25.198Z"
   },
   {
    "duration": 5,
    "start_time": "2024-09-21T18:27:25.216Z"
   },
   {
    "duration": 72,
    "start_time": "2024-09-21T18:27:25.223Z"
   },
   {
    "duration": 46,
    "start_time": "2024-09-21T18:27:58.339Z"
   },
   {
    "duration": 177,
    "start_time": "2024-09-21T18:29:27.066Z"
   },
   {
    "duration": 15,
    "start_time": "2024-09-21T18:29:49.179Z"
   },
   {
    "duration": 6,
    "start_time": "2024-09-21T18:32:00.802Z"
   },
   {
    "duration": 15,
    "start_time": "2024-09-21T18:32:20.385Z"
   },
   {
    "duration": 877,
    "start_time": "2024-09-21T18:33:43.335Z"
   },
   {
    "duration": 495,
    "start_time": "2024-09-21T18:33:44.214Z"
   },
   {
    "duration": 22,
    "start_time": "2024-09-21T18:33:44.711Z"
   },
   {
    "duration": 13,
    "start_time": "2024-09-21T18:33:44.735Z"
   },
   {
    "duration": 168,
    "start_time": "2024-09-21T18:33:44.750Z"
   },
   {
    "duration": 19,
    "start_time": "2024-09-21T18:33:44.920Z"
   },
   {
    "duration": 81,
    "start_time": "2024-09-21T18:33:44.941Z"
   },
   {
    "duration": 87,
    "start_time": "2024-09-21T18:33:45.024Z"
   },
   {
    "duration": 19,
    "start_time": "2024-09-21T18:33:45.113Z"
   },
   {
    "duration": 13,
    "start_time": "2024-09-21T18:33:45.134Z"
   },
   {
    "duration": 184,
    "start_time": "2024-09-21T18:33:45.148Z"
   },
   {
    "duration": 3,
    "start_time": "2024-09-21T18:33:45.333Z"
   },
   {
    "duration": 5,
    "start_time": "2024-09-21T18:33:45.338Z"
   },
   {
    "duration": 4,
    "start_time": "2024-09-21T18:33:45.346Z"
   },
   {
    "duration": 21,
    "start_time": "2024-09-21T18:33:45.352Z"
   },
   {
    "duration": 4,
    "start_time": "2024-09-21T18:33:45.375Z"
   },
   {
    "duration": 6,
    "start_time": "2024-09-21T18:33:45.380Z"
   },
   {
    "duration": 4,
    "start_time": "2024-09-21T18:33:45.388Z"
   },
   {
    "duration": 5,
    "start_time": "2024-09-21T18:33:45.393Z"
   },
   {
    "duration": 4,
    "start_time": "2024-09-21T18:33:45.399Z"
   },
   {
    "duration": 5,
    "start_time": "2024-09-21T18:33:45.405Z"
   },
   {
    "duration": 4,
    "start_time": "2024-09-21T18:33:45.412Z"
   },
   {
    "duration": 55,
    "start_time": "2024-09-21T18:33:45.417Z"
   },
   {
    "duration": 4,
    "start_time": "2024-09-21T18:33:45.473Z"
   },
   {
    "duration": 58,
    "start_time": "2024-09-21T18:33:45.479Z"
   },
   {
    "duration": 40,
    "start_time": "2024-09-21T18:33:45.539Z"
   },
   {
    "duration": 7,
    "start_time": "2024-09-21T18:33:45.581Z"
   },
   {
    "duration": 5,
    "start_time": "2024-09-21T18:33:45.589Z"
   },
   {
    "duration": 7,
    "start_time": "2024-09-21T18:33:45.595Z"
   },
   {
    "duration": 100,
    "start_time": "2024-09-21T18:33:45.603Z"
   },
   {
    "duration": 7,
    "start_time": "2024-09-21T18:33:45.705Z"
   },
   {
    "duration": 7,
    "start_time": "2024-09-21T18:33:45.714Z"
   },
   {
    "duration": 15,
    "start_time": "2024-09-21T18:33:45.723Z"
   },
   {
    "duration": 31,
    "start_time": "2024-09-21T18:33:45.741Z"
   },
   {
    "duration": 3,
    "start_time": "2024-09-21T18:39:04.915Z"
   },
   {
    "duration": 504,
    "start_time": "2024-09-21T18:39:04.920Z"
   },
   {
    "duration": 21,
    "start_time": "2024-09-21T18:39:05.426Z"
   },
   {
    "duration": 22,
    "start_time": "2024-09-21T18:39:05.448Z"
   },
   {
    "duration": 170,
    "start_time": "2024-09-21T18:39:05.471Z"
   },
   {
    "duration": 28,
    "start_time": "2024-09-21T18:39:05.643Z"
   },
   {
    "duration": 10,
    "start_time": "2024-09-21T18:39:05.673Z"
   },
   {
    "duration": 101,
    "start_time": "2024-09-21T18:39:05.685Z"
   },
   {
    "duration": 21,
    "start_time": "2024-09-21T18:39:05.788Z"
   },
   {
    "duration": 13,
    "start_time": "2024-09-21T18:39:05.811Z"
   },
   {
    "duration": 185,
    "start_time": "2024-09-21T18:39:05.825Z"
   },
   {
    "duration": 3,
    "start_time": "2024-09-21T18:39:06.012Z"
   },
   {
    "duration": 5,
    "start_time": "2024-09-21T18:39:06.017Z"
   },
   {
    "duration": 4,
    "start_time": "2024-09-21T18:39:06.024Z"
   },
   {
    "duration": 5,
    "start_time": "2024-09-21T18:39:06.029Z"
   },
   {
    "duration": 6,
    "start_time": "2024-09-21T18:39:06.035Z"
   },
   {
    "duration": 29,
    "start_time": "2024-09-21T18:39:06.042Z"
   },
   {
    "duration": 4,
    "start_time": "2024-09-21T18:39:06.073Z"
   },
   {
    "duration": 4,
    "start_time": "2024-09-21T18:39:06.079Z"
   },
   {
    "duration": 5,
    "start_time": "2024-09-21T18:39:06.084Z"
   },
   {
    "duration": 5,
    "start_time": "2024-09-21T18:39:06.091Z"
   },
   {
    "duration": 5,
    "start_time": "2024-09-21T18:39:06.098Z"
   },
   {
    "duration": 4,
    "start_time": "2024-09-21T18:39:06.105Z"
   },
   {
    "duration": 4,
    "start_time": "2024-09-21T18:39:06.111Z"
   },
   {
    "duration": 108,
    "start_time": "2024-09-21T18:39:06.116Z"
   },
   {
    "duration": 19,
    "start_time": "2024-09-21T18:39:06.226Z"
   },
   {
    "duration": 7,
    "start_time": "2024-09-21T18:39:06.246Z"
   },
   {
    "duration": 18,
    "start_time": "2024-09-21T18:39:06.254Z"
   },
   {
    "duration": 7,
    "start_time": "2024-09-21T18:39:06.274Z"
   },
   {
    "duration": 96,
    "start_time": "2024-09-21T18:39:06.283Z"
   },
   {
    "duration": 8,
    "start_time": "2024-09-21T18:39:06.380Z"
   },
   {
    "duration": 5,
    "start_time": "2024-09-21T18:39:06.390Z"
   },
   {
    "duration": 16,
    "start_time": "2024-09-21T18:39:06.397Z"
   },
   {
    "duration": 7,
    "start_time": "2024-09-21T18:39:06.414Z"
   },
   {
    "duration": 942,
    "start_time": "2024-09-21T18:45:12.797Z"
   },
   {
    "duration": 678,
    "start_time": "2024-09-21T18:45:13.742Z"
   },
   {
    "duration": 23,
    "start_time": "2024-09-21T18:45:14.422Z"
   },
   {
    "duration": 12,
    "start_time": "2024-09-21T18:45:14.447Z"
   },
   {
    "duration": 157,
    "start_time": "2024-09-21T18:45:14.471Z"
   },
   {
    "duration": 19,
    "start_time": "2024-09-21T18:45:14.629Z"
   },
   {
    "duration": 78,
    "start_time": "2024-09-21T18:45:14.650Z"
   },
   {
    "duration": 98,
    "start_time": "2024-09-21T18:45:14.730Z"
   },
   {
    "duration": 20,
    "start_time": "2024-09-21T18:45:14.830Z"
   },
   {
    "duration": 20,
    "start_time": "2024-09-21T18:45:14.851Z"
   },
   {
    "duration": 179,
    "start_time": "2024-09-21T18:45:14.873Z"
   },
   {
    "duration": 2,
    "start_time": "2024-09-21T18:45:15.054Z"
   },
   {
    "duration": 5,
    "start_time": "2024-09-21T18:45:15.071Z"
   },
   {
    "duration": 4,
    "start_time": "2024-09-21T18:45:15.079Z"
   },
   {
    "duration": 4,
    "start_time": "2024-09-21T18:45:15.084Z"
   },
   {
    "duration": 4,
    "start_time": "2024-09-21T18:45:15.090Z"
   },
   {
    "duration": 6,
    "start_time": "2024-09-21T18:45:15.096Z"
   },
   {
    "duration": 3,
    "start_time": "2024-09-21T18:45:15.104Z"
   },
   {
    "duration": 4,
    "start_time": "2024-09-21T18:45:15.109Z"
   },
   {
    "duration": 4,
    "start_time": "2024-09-21T18:45:15.115Z"
   },
   {
    "duration": 54,
    "start_time": "2024-09-21T18:45:15.120Z"
   },
   {
    "duration": 4,
    "start_time": "2024-09-21T18:45:15.175Z"
   },
   {
    "duration": 4,
    "start_time": "2024-09-21T18:45:15.181Z"
   },
   {
    "duration": 3,
    "start_time": "2024-09-21T18:45:15.187Z"
   },
   {
    "duration": 86,
    "start_time": "2024-09-21T18:45:15.192Z"
   },
   {
    "duration": 18,
    "start_time": "2024-09-21T18:45:15.280Z"
   },
   {
    "duration": 6,
    "start_time": "2024-09-21T18:45:15.300Z"
   },
   {
    "duration": 5,
    "start_time": "2024-09-21T18:45:15.308Z"
   },
   {
    "duration": 7,
    "start_time": "2024-09-21T18:45:15.314Z"
   },
   {
    "duration": 106,
    "start_time": "2024-09-21T18:45:15.322Z"
   },
   {
    "duration": 7,
    "start_time": "2024-09-21T18:45:15.430Z"
   },
   {
    "duration": 6,
    "start_time": "2024-09-21T18:45:15.439Z"
   },
   {
    "duration": 31,
    "start_time": "2024-09-21T18:45:15.447Z"
   },
   {
    "duration": 5,
    "start_time": "2024-09-21T18:45:15.480Z"
   },
   {
    "duration": 14,
    "start_time": "2024-09-21T18:45:15.487Z"
   },
   {
    "duration": 12,
    "start_time": "2024-09-21T18:47:30.968Z"
   },
   {
    "duration": 488504,
    "start_time": "2024-09-21T18:50:21.567Z"
   },
   {
    "duration": 576,
    "start_time": "2024-09-21T19:15:14.990Z"
   },
   {
    "duration": 329,
    "start_time": "2024-09-21T19:16:40.113Z"
   },
   {
    "duration": 277,
    "start_time": "2024-09-21T19:17:37.600Z"
   },
   {
    "duration": 292,
    "start_time": "2024-09-21T19:17:46.142Z"
   },
   {
    "duration": 72,
    "start_time": "2024-09-21T19:18:57.527Z"
   },
   {
    "duration": 1884,
    "start_time": "2024-09-21T19:21:56.750Z"
   },
   {
    "duration": 1858,
    "start_time": "2024-09-21T19:22:34.213Z"
   },
   {
    "duration": 1817,
    "start_time": "2024-09-21T19:23:20.192Z"
   },
   {
    "duration": 3,
    "start_time": "2024-09-21T19:34:01.979Z"
   },
   {
    "duration": 376,
    "start_time": "2024-09-21T19:34:18.114Z"
   },
   {
    "duration": 3,
    "start_time": "2024-09-21T19:34:29.390Z"
   },
   {
    "duration": 143,
    "start_time": "2024-09-21T19:42:27.719Z"
   },
   {
    "duration": 150,
    "start_time": "2024-09-21T19:43:42.830Z"
   },
   {
    "duration": 126,
    "start_time": "2024-09-21T19:46:28.146Z"
   },
   {
    "duration": 125,
    "start_time": "2024-09-21T19:47:41.188Z"
   },
   {
    "duration": 126,
    "start_time": "2024-09-21T19:48:37.976Z"
   },
   {
    "duration": 4,
    "start_time": "2024-09-21T19:49:06.519Z"
   },
   {
    "duration": 7,
    "start_time": "2024-09-21T19:49:13.058Z"
   },
   {
    "duration": 7,
    "start_time": "2024-09-21T19:49:24.312Z"
   },
   {
    "duration": 121,
    "start_time": "2024-09-21T19:50:47.676Z"
   },
   {
    "duration": 126,
    "start_time": "2024-09-21T19:50:53.643Z"
   },
   {
    "duration": 135,
    "start_time": "2024-09-21T19:50:59.962Z"
   },
   {
    "duration": 3,
    "start_time": "2024-09-21T20:42:27.340Z"
   },
   {
    "duration": 8,
    "start_time": "2024-09-21T20:47:23.034Z"
   },
   {
    "duration": 6,
    "start_time": "2024-09-21T20:47:38.600Z"
   },
   {
    "duration": 6,
    "start_time": "2024-09-21T20:49:30.605Z"
   },
   {
    "duration": 5,
    "start_time": "2024-09-21T20:50:14.221Z"
   },
   {
    "duration": 118,
    "start_time": "2024-09-21T20:52:17.696Z"
   },
   {
    "duration": 117,
    "start_time": "2024-09-21T20:53:49.847Z"
   },
   {
    "duration": 13,
    "start_time": "2024-09-21T20:56:41.954Z"
   },
   {
    "duration": 148,
    "start_time": "2024-09-21T20:57:57.018Z"
   },
   {
    "duration": 144,
    "start_time": "2024-09-21T20:58:22.810Z"
   },
   {
    "duration": 14,
    "start_time": "2024-09-21T20:59:32.619Z"
   },
   {
    "duration": 51,
    "start_time": "2024-09-21T21:11:25.679Z"
   },
   {
    "duration": 293,
    "start_time": "2024-09-21T21:11:54.767Z"
   },
   {
    "duration": 7,
    "start_time": "2024-09-21T21:24:59.277Z"
   },
   {
    "duration": 51,
    "start_time": "2024-09-21T21:28:03.421Z"
   },
   {
    "duration": 17,
    "start_time": "2024-09-21T21:28:29.655Z"
   },
   {
    "duration": 16,
    "start_time": "2024-09-21T21:30:00.647Z"
   },
   {
    "duration": 148,
    "start_time": "2024-09-21T21:30:08.312Z"
   },
   {
    "duration": 9,
    "start_time": "2024-09-21T21:33:06.394Z"
   },
   {
    "duration": 143,
    "start_time": "2024-09-21T21:33:09.520Z"
   },
   {
    "duration": 444,
    "start_time": "2024-09-21T21:42:48.889Z"
   },
   {
    "duration": 13,
    "start_time": "2024-09-21T21:47:19.156Z"
   },
   {
    "duration": 11,
    "start_time": "2024-09-21T21:47:26.750Z"
   },
   {
    "duration": 2709,
    "start_time": "2024-09-21T23:43:37.895Z"
   },
   {
    "duration": 665,
    "start_time": "2024-09-21T23:43:40.607Z"
   },
   {
    "duration": 22,
    "start_time": "2024-09-21T23:43:41.274Z"
   },
   {
    "duration": 13,
    "start_time": "2024-09-21T23:43:41.297Z"
   },
   {
    "duration": 171,
    "start_time": "2024-09-21T23:43:41.312Z"
   },
   {
    "duration": 19,
    "start_time": "2024-09-21T23:43:41.484Z"
   },
   {
    "duration": 10,
    "start_time": "2024-09-21T23:43:41.505Z"
   },
   {
    "duration": 103,
    "start_time": "2024-09-21T23:43:41.517Z"
   },
   {
    "duration": 20,
    "start_time": "2024-09-21T23:43:41.622Z"
   },
   {
    "duration": 29,
    "start_time": "2024-09-21T23:43:41.644Z"
   },
   {
    "duration": 175,
    "start_time": "2024-09-21T23:43:41.675Z"
   },
   {
    "duration": 3,
    "start_time": "2024-09-21T23:43:41.852Z"
   },
   {
    "duration": 15,
    "start_time": "2024-09-21T23:43:41.856Z"
   },
   {
    "duration": 4,
    "start_time": "2024-09-21T23:43:41.874Z"
   },
   {
    "duration": 4,
    "start_time": "2024-09-21T23:43:41.880Z"
   },
   {
    "duration": 3,
    "start_time": "2024-09-21T23:43:41.886Z"
   },
   {
    "duration": 6,
    "start_time": "2024-09-21T23:43:41.891Z"
   },
   {
    "duration": 3,
    "start_time": "2024-09-21T23:43:41.899Z"
   },
   {
    "duration": 5,
    "start_time": "2024-09-21T23:43:41.904Z"
   },
   {
    "duration": 4,
    "start_time": "2024-09-21T23:43:41.911Z"
   },
   {
    "duration": 4,
    "start_time": "2024-09-21T23:43:41.917Z"
   },
   {
    "duration": 49,
    "start_time": "2024-09-21T23:43:41.923Z"
   },
   {
    "duration": 4,
    "start_time": "2024-09-21T23:43:41.974Z"
   },
   {
    "duration": 5,
    "start_time": "2024-09-21T23:43:41.980Z"
   },
   {
    "duration": 84,
    "start_time": "2024-09-21T23:43:41.986Z"
   },
   {
    "duration": 19,
    "start_time": "2024-09-21T23:43:42.072Z"
   },
   {
    "duration": 6,
    "start_time": "2024-09-21T23:43:42.093Z"
   },
   {
    "duration": 5,
    "start_time": "2024-09-21T23:43:42.100Z"
   },
   {
    "duration": 6,
    "start_time": "2024-09-21T23:43:42.107Z"
   },
   {
    "duration": 108,
    "start_time": "2024-09-21T23:43:42.114Z"
   },
   {
    "duration": 7,
    "start_time": "2024-09-21T23:43:42.224Z"
   },
   {
    "duration": 6,
    "start_time": "2024-09-21T23:43:42.232Z"
   },
   {
    "duration": 36,
    "start_time": "2024-09-21T23:43:42.239Z"
   },
   {
    "duration": 5,
    "start_time": "2024-09-21T23:43:42.277Z"
   },
   {
    "duration": 435,
    "start_time": "2024-09-21T23:43:42.283Z"
   },
   {
    "duration": 1706,
    "start_time": "2024-09-21T23:43:42.719Z"
   },
   {
    "duration": 138,
    "start_time": "2024-09-21T23:43:44.427Z"
   },
   {
    "duration": 7,
    "start_time": "2024-09-21T23:43:44.571Z"
   },
   {
    "duration": 6,
    "start_time": "2024-09-21T23:43:44.580Z"
   },
   {
    "duration": 172,
    "start_time": "2024-09-21T23:43:44.587Z"
   },
   {
    "duration": 18,
    "start_time": "2024-09-21T23:43:44.764Z"
   },
   {
    "duration": 331,
    "start_time": "2024-09-21T23:43:44.783Z"
   },
   {
    "duration": 13,
    "start_time": "2024-09-21T23:43:45.115Z"
   },
   {
    "duration": 241,
    "start_time": "2024-09-21T23:43:45.130Z"
   },
   {
    "duration": 11,
    "start_time": "2024-09-21T23:44:52.719Z"
   },
   {
    "duration": 11,
    "start_time": "2024-09-21T23:44:59.732Z"
   },
   {
    "duration": 5,
    "start_time": "2024-09-21T23:46:05.295Z"
   },
   {
    "duration": 13,
    "start_time": "2024-09-21T23:47:34.704Z"
   },
   {
    "duration": 12,
    "start_time": "2024-09-21T23:47:40.575Z"
   },
   {
    "duration": 13,
    "start_time": "2024-09-21T23:47:53.435Z"
   },
   {
    "duration": 14,
    "start_time": "2024-09-21T23:48:26.727Z"
   },
   {
    "duration": 15,
    "start_time": "2024-09-21T23:49:19.822Z"
   },
   {
    "duration": 14,
    "start_time": "2024-09-21T23:49:29.646Z"
   },
   {
    "duration": 2920,
    "start_time": "2024-09-22T01:05:21.804Z"
   },
   {
    "duration": 690,
    "start_time": "2024-09-22T01:05:24.727Z"
   },
   {
    "duration": 25,
    "start_time": "2024-09-22T01:05:25.419Z"
   },
   {
    "duration": 17,
    "start_time": "2024-09-22T01:05:25.447Z"
   },
   {
    "duration": 184,
    "start_time": "2024-09-22T01:05:25.465Z"
   },
   {
    "duration": 22,
    "start_time": "2024-09-22T01:05:25.651Z"
   },
   {
    "duration": 11,
    "start_time": "2024-09-22T01:05:25.687Z"
   },
   {
    "duration": 99,
    "start_time": "2024-09-22T01:05:25.699Z"
   },
   {
    "duration": 21,
    "start_time": "2024-09-22T01:05:25.799Z"
   },
   {
    "duration": 12,
    "start_time": "2024-09-22T01:05:25.823Z"
   },
   {
    "duration": 189,
    "start_time": "2024-09-22T01:05:25.837Z"
   },
   {
    "duration": 4,
    "start_time": "2024-09-22T01:05:26.029Z"
   },
   {
    "duration": 5,
    "start_time": "2024-09-22T01:05:26.034Z"
   },
   {
    "duration": 4,
    "start_time": "2024-09-22T01:05:26.040Z"
   },
   {
    "duration": 4,
    "start_time": "2024-09-22T01:05:26.046Z"
   },
   {
    "duration": 3,
    "start_time": "2024-09-22T01:05:26.052Z"
   },
   {
    "duration": 36,
    "start_time": "2024-09-22T01:05:26.057Z"
   },
   {
    "duration": 4,
    "start_time": "2024-09-22T01:05:26.094Z"
   },
   {
    "duration": 4,
    "start_time": "2024-09-22T01:05:26.100Z"
   },
   {
    "duration": 3,
    "start_time": "2024-09-22T01:05:26.106Z"
   },
   {
    "duration": 5,
    "start_time": "2024-09-22T01:05:26.111Z"
   },
   {
    "duration": 4,
    "start_time": "2024-09-22T01:05:26.117Z"
   },
   {
    "duration": 4,
    "start_time": "2024-09-22T01:05:26.123Z"
   },
   {
    "duration": 3,
    "start_time": "2024-09-22T01:05:26.129Z"
   },
   {
    "duration": 113,
    "start_time": "2024-09-22T01:05:26.134Z"
   },
   {
    "duration": 19,
    "start_time": "2024-09-22T01:05:26.249Z"
   },
   {
    "duration": 21,
    "start_time": "2024-09-22T01:05:26.270Z"
   },
   {
    "duration": 5,
    "start_time": "2024-09-22T01:05:26.295Z"
   },
   {
    "duration": 8,
    "start_time": "2024-09-22T01:05:26.301Z"
   },
   {
    "duration": 106,
    "start_time": "2024-09-22T01:05:26.311Z"
   },
   {
    "duration": 8,
    "start_time": "2024-09-22T01:05:26.419Z"
   },
   {
    "duration": 5,
    "start_time": "2024-09-22T01:05:26.429Z"
   },
   {
    "duration": 15,
    "start_time": "2024-09-22T01:05:26.436Z"
   },
   {
    "duration": 34,
    "start_time": "2024-09-22T01:05:26.453Z"
   },
   {
    "duration": 487,
    "start_time": "2024-09-22T01:05:26.489Z"
   },
   {
    "duration": 1738,
    "start_time": "2024-09-22T01:05:26.979Z"
   },
   {
    "duration": 137,
    "start_time": "2024-09-22T01:05:28.719Z"
   },
   {
    "duration": 7,
    "start_time": "2024-09-22T01:05:28.859Z"
   },
   {
    "duration": 23,
    "start_time": "2024-09-22T01:05:28.868Z"
   },
   {
    "duration": 168,
    "start_time": "2024-09-22T01:05:28.893Z"
   },
   {
    "duration": 25,
    "start_time": "2024-09-22T01:05:29.063Z"
   },
   {
    "duration": 321,
    "start_time": "2024-09-22T01:05:29.089Z"
   },
   {
    "duration": 15,
    "start_time": "2024-09-22T01:05:29.412Z"
   },
   {
    "duration": 3,
    "start_time": "2024-09-22T01:06:00.151Z"
   },
   {
    "duration": 515,
    "start_time": "2024-09-22T01:06:00.157Z"
   },
   {
    "duration": 28,
    "start_time": "2024-09-22T01:06:00.673Z"
   },
   {
    "duration": 13,
    "start_time": "2024-09-22T01:06:00.704Z"
   },
   {
    "duration": 163,
    "start_time": "2024-09-22T01:06:00.718Z"
   },
   {
    "duration": 20,
    "start_time": "2024-09-22T01:06:00.883Z"
   },
   {
    "duration": 10,
    "start_time": "2024-09-22T01:06:00.905Z"
   },
   {
    "duration": 101,
    "start_time": "2024-09-22T01:06:00.916Z"
   },
   {
    "duration": 21,
    "start_time": "2024-09-22T01:06:01.021Z"
   },
   {
    "duration": 13,
    "start_time": "2024-09-22T01:06:01.043Z"
   },
   {
    "duration": 192,
    "start_time": "2024-09-22T01:06:01.058Z"
   },
   {
    "duration": 3,
    "start_time": "2024-09-22T01:06:01.252Z"
   },
   {
    "duration": 5,
    "start_time": "2024-09-22T01:06:01.257Z"
   },
   {
    "duration": 4,
    "start_time": "2024-09-22T01:06:01.263Z"
   },
   {
    "duration": 5,
    "start_time": "2024-09-22T01:06:01.287Z"
   },
   {
    "duration": 5,
    "start_time": "2024-09-22T01:06:01.294Z"
   },
   {
    "duration": 7,
    "start_time": "2024-09-22T01:06:01.301Z"
   },
   {
    "duration": 4,
    "start_time": "2024-09-22T01:06:01.310Z"
   },
   {
    "duration": 5,
    "start_time": "2024-09-22T01:06:01.316Z"
   },
   {
    "duration": 4,
    "start_time": "2024-09-22T01:06:01.323Z"
   },
   {
    "duration": 5,
    "start_time": "2024-09-22T01:06:01.329Z"
   },
   {
    "duration": 3,
    "start_time": "2024-09-22T01:06:01.336Z"
   },
   {
    "duration": 48,
    "start_time": "2024-09-22T01:06:01.341Z"
   },
   {
    "duration": 3,
    "start_time": "2024-09-22T01:06:01.393Z"
   },
   {
    "duration": 77,
    "start_time": "2024-09-22T01:06:01.397Z"
   },
   {
    "duration": 26,
    "start_time": "2024-09-22T01:06:01.476Z"
   },
   {
    "duration": 7,
    "start_time": "2024-09-22T01:06:01.504Z"
   },
   {
    "duration": 5,
    "start_time": "2024-09-22T01:06:01.512Z"
   },
   {
    "duration": 7,
    "start_time": "2024-09-22T01:06:01.519Z"
   },
   {
    "duration": 110,
    "start_time": "2024-09-22T01:06:01.527Z"
   },
   {
    "duration": 6,
    "start_time": "2024-09-22T01:06:01.639Z"
   },
   {
    "duration": 5,
    "start_time": "2024-09-22T01:06:01.647Z"
   },
   {
    "duration": 36,
    "start_time": "2024-09-22T01:06:01.653Z"
   },
   {
    "duration": 7,
    "start_time": "2024-09-22T01:06:01.691Z"
   },
   {
    "duration": 436,
    "start_time": "2024-09-22T01:06:01.700Z"
   },
   {
    "duration": 1781,
    "start_time": "2024-09-22T01:06:02.137Z"
   },
   {
    "duration": 143,
    "start_time": "2024-09-22T01:06:03.920Z"
   },
   {
    "duration": 8,
    "start_time": "2024-09-22T01:06:04.065Z"
   },
   {
    "duration": 7,
    "start_time": "2024-09-22T01:06:04.087Z"
   },
   {
    "duration": 158,
    "start_time": "2024-09-22T01:06:04.095Z"
   },
   {
    "duration": 14,
    "start_time": "2024-09-22T01:06:04.255Z"
   },
   {
    "duration": 331,
    "start_time": "2024-09-22T01:06:04.271Z"
   },
   {
    "duration": 14,
    "start_time": "2024-09-22T01:06:04.604Z"
   },
   {
    "duration": 155,
    "start_time": "2024-09-22T01:06:04.620Z"
   },
   {
    "duration": 29,
    "start_time": "2024-09-22T01:06:19.651Z"
   },
   {
    "duration": 9,
    "start_time": "2024-09-22T01:11:59.715Z"
   },
   {
    "duration": 9,
    "start_time": "2024-09-22T01:13:05.527Z"
   },
   {
    "duration": 916,
    "start_time": "2024-09-22T01:20:11.072Z"
   },
   {
    "duration": 8,
    "start_time": "2024-09-22T01:23:01.054Z"
   },
   {
    "duration": 6,
    "start_time": "2024-09-22T01:23:41.521Z"
   },
   {
    "duration": 153,
    "start_time": "2024-09-22T01:24:54.224Z"
   },
   {
    "duration": 8,
    "start_time": "2024-09-22T01:26:11.537Z"
   },
   {
    "duration": 151,
    "start_time": "2024-09-22T01:26:18.375Z"
   },
   {
    "duration": 370,
    "start_time": "2024-09-22T01:28:47.688Z"
   },
   {
    "duration": 251,
    "start_time": "2024-09-22T01:29:16.105Z"
   },
   {
    "duration": 181,
    "start_time": "2024-09-22T01:29:24.352Z"
   },
   {
    "duration": 329,
    "start_time": "2024-09-22T01:29:39.644Z"
   },
   {
    "duration": 189,
    "start_time": "2024-09-22T01:30:26.118Z"
   },
   {
    "duration": 190,
    "start_time": "2024-09-22T01:30:38.568Z"
   },
   {
    "duration": 178,
    "start_time": "2024-09-22T01:31:04.313Z"
   },
   {
    "duration": 186,
    "start_time": "2024-09-22T01:31:09.033Z"
   },
   {
    "duration": 425,
    "start_time": "2024-09-22T01:31:14.034Z"
   },
   {
    "duration": 182,
    "start_time": "2024-09-22T01:31:20.116Z"
   },
   {
    "duration": 627,
    "start_time": "2024-09-22T01:31:29.280Z"
   },
   {
    "duration": 191,
    "start_time": "2024-09-22T01:31:37.087Z"
   },
   {
    "duration": 181,
    "start_time": "2024-09-22T01:31:47.121Z"
   },
   {
    "duration": 193,
    "start_time": "2024-09-22T01:31:57.667Z"
   },
   {
    "duration": 155,
    "start_time": "2024-09-22T01:32:56.264Z"
   },
   {
    "duration": 169,
    "start_time": "2024-09-22T01:35:56.987Z"
   },
   {
    "duration": 161,
    "start_time": "2024-09-22T01:36:19.298Z"
   },
   {
    "duration": 174,
    "start_time": "2024-09-22T01:36:55.734Z"
   },
   {
    "duration": 222,
    "start_time": "2024-09-22T01:37:01.813Z"
   },
   {
    "duration": 2707,
    "start_time": "2024-09-22T22:09:59.612Z"
   },
   {
    "duration": 675,
    "start_time": "2024-09-22T22:10:02.322Z"
   },
   {
    "duration": 22,
    "start_time": "2024-09-22T22:10:02.999Z"
   },
   {
    "duration": 19,
    "start_time": "2024-09-22T22:10:03.023Z"
   },
   {
    "duration": 163,
    "start_time": "2024-09-22T22:10:03.044Z"
   },
   {
    "duration": 23,
    "start_time": "2024-09-22T22:10:03.209Z"
   },
   {
    "duration": 10,
    "start_time": "2024-09-22T22:10:03.234Z"
   },
   {
    "duration": 100,
    "start_time": "2024-09-22T22:10:03.245Z"
   },
   {
    "duration": 19,
    "start_time": "2024-09-22T22:10:03.346Z"
   },
   {
    "duration": 12,
    "start_time": "2024-09-22T22:10:03.367Z"
   },
   {
    "duration": 186,
    "start_time": "2024-09-22T22:10:03.382Z"
   },
   {
    "duration": 3,
    "start_time": "2024-09-22T22:10:03.570Z"
   },
   {
    "duration": 5,
    "start_time": "2024-09-22T22:10:03.576Z"
   },
   {
    "duration": 4,
    "start_time": "2024-09-22T22:10:03.585Z"
   },
   {
    "duration": 5,
    "start_time": "2024-09-22T22:10:03.591Z"
   },
   {
    "duration": 4,
    "start_time": "2024-09-22T22:10:03.597Z"
   },
   {
    "duration": 7,
    "start_time": "2024-09-22T22:10:03.632Z"
   },
   {
    "duration": 5,
    "start_time": "2024-09-22T22:10:03.640Z"
   },
   {
    "duration": 5,
    "start_time": "2024-09-22T22:10:03.646Z"
   },
   {
    "duration": 4,
    "start_time": "2024-09-22T22:10:03.653Z"
   },
   {
    "duration": 5,
    "start_time": "2024-09-22T22:10:03.659Z"
   },
   {
    "duration": 3,
    "start_time": "2024-09-22T22:10:03.666Z"
   },
   {
    "duration": 5,
    "start_time": "2024-09-22T22:10:03.670Z"
   },
   {
    "duration": 4,
    "start_time": "2024-09-22T22:10:03.676Z"
   },
   {
    "duration": 101,
    "start_time": "2024-09-22T22:10:03.681Z"
   },
   {
    "duration": 19,
    "start_time": "2024-09-22T22:10:03.784Z"
   },
   {
    "duration": 6,
    "start_time": "2024-09-22T22:10:03.805Z"
   },
   {
    "duration": 21,
    "start_time": "2024-09-22T22:10:03.812Z"
   },
   {
    "duration": 7,
    "start_time": "2024-09-22T22:10:03.835Z"
   },
   {
    "duration": 99,
    "start_time": "2024-09-22T22:10:03.843Z"
   },
   {
    "duration": 7,
    "start_time": "2024-09-22T22:10:03.944Z"
   },
   {
    "duration": 6,
    "start_time": "2024-09-22T22:10:03.952Z"
   },
   {
    "duration": 15,
    "start_time": "2024-09-22T22:10:03.959Z"
   },
   {
    "duration": 7,
    "start_time": "2024-09-22T22:10:03.976Z"
   },
   {
    "duration": 451,
    "start_time": "2024-09-22T22:10:03.984Z"
   },
   {
    "duration": 1722,
    "start_time": "2024-09-22T22:10:04.437Z"
   },
   {
    "duration": 139,
    "start_time": "2024-09-22T22:10:06.161Z"
   },
   {
    "duration": 8,
    "start_time": "2024-09-22T22:10:06.302Z"
   },
   {
    "duration": 21,
    "start_time": "2024-09-22T22:10:06.312Z"
   },
   {
    "duration": 161,
    "start_time": "2024-09-22T22:10:06.335Z"
   },
   {
    "duration": 14,
    "start_time": "2024-09-22T22:10:06.500Z"
   },
   {
    "duration": 366,
    "start_time": "2024-09-22T22:10:06.516Z"
   },
   {
    "duration": 15,
    "start_time": "2024-09-22T22:10:06.884Z"
   },
   {
    "duration": 12,
    "start_time": "2024-09-22T22:10:06.900Z"
   },
   {
    "duration": 177,
    "start_time": "2024-09-22T22:10:06.915Z"
   },
   {
    "duration": 197,
    "start_time": "2024-09-22T22:10:07.094Z"
   },
   {
    "duration": 1002,
    "start_time": "2024-09-22T22:31:02.991Z"
   },
   {
    "duration": 526,
    "start_time": "2024-09-22T22:31:03.995Z"
   },
   {
    "duration": 25,
    "start_time": "2024-09-22T22:31:04.523Z"
   },
   {
    "duration": 16,
    "start_time": "2024-09-22T22:31:04.551Z"
   },
   {
    "duration": 179,
    "start_time": "2024-09-22T22:31:04.570Z"
   },
   {
    "duration": 19,
    "start_time": "2024-09-22T22:31:04.751Z"
   },
   {
    "duration": 10,
    "start_time": "2024-09-22T22:31:04.772Z"
   },
   {
    "duration": 110,
    "start_time": "2024-09-22T22:31:04.784Z"
   },
   {
    "duration": 21,
    "start_time": "2024-09-22T22:31:04.896Z"
   },
   {
    "duration": 23,
    "start_time": "2024-09-22T22:31:04.918Z"
   },
   {
    "duration": 171,
    "start_time": "2024-09-22T22:31:04.943Z"
   },
   {
    "duration": 3,
    "start_time": "2024-09-22T22:31:05.117Z"
   },
   {
    "duration": 5,
    "start_time": "2024-09-22T22:31:05.130Z"
   },
   {
    "duration": 3,
    "start_time": "2024-09-22T22:31:05.139Z"
   },
   {
    "duration": 4,
    "start_time": "2024-09-22T22:31:05.144Z"
   },
   {
    "duration": 3,
    "start_time": "2024-09-22T22:31:05.150Z"
   },
   {
    "duration": 6,
    "start_time": "2024-09-22T22:31:05.155Z"
   },
   {
    "duration": 4,
    "start_time": "2024-09-22T22:31:05.163Z"
   },
   {
    "duration": 6,
    "start_time": "2024-09-22T22:31:05.168Z"
   },
   {
    "duration": 4,
    "start_time": "2024-09-22T22:31:05.176Z"
   },
   {
    "duration": 51,
    "start_time": "2024-09-22T22:31:05.181Z"
   },
   {
    "duration": 4,
    "start_time": "2024-09-22T22:31:05.234Z"
   },
   {
    "duration": 5,
    "start_time": "2024-09-22T22:31:05.240Z"
   },
   {
    "duration": 3,
    "start_time": "2024-09-22T22:31:05.247Z"
   },
   {
    "duration": 92,
    "start_time": "2024-09-22T22:31:05.252Z"
   },
   {
    "duration": 20,
    "start_time": "2024-09-22T22:31:05.345Z"
   },
   {
    "duration": 6,
    "start_time": "2024-09-22T22:31:05.367Z"
   },
   {
    "duration": 5,
    "start_time": "2024-09-22T22:31:05.375Z"
   },
   {
    "duration": 8,
    "start_time": "2024-09-22T22:31:05.381Z"
   },
   {
    "duration": 104,
    "start_time": "2024-09-22T22:31:05.391Z"
   },
   {
    "duration": 7,
    "start_time": "2024-09-22T22:31:05.497Z"
   },
   {
    "duration": 5,
    "start_time": "2024-09-22T22:31:05.506Z"
   },
   {
    "duration": 33,
    "start_time": "2024-09-22T22:31:05.513Z"
   },
   {
    "duration": 7,
    "start_time": "2024-09-22T22:31:05.549Z"
   },
   {
    "duration": 420,
    "start_time": "2024-09-22T22:31:05.558Z"
   },
   {
    "duration": 1728,
    "start_time": "2024-09-22T22:31:05.980Z"
   },
   {
    "duration": 150,
    "start_time": "2024-09-22T22:31:07.711Z"
   },
   {
    "duration": 7,
    "start_time": "2024-09-22T22:31:07.863Z"
   },
   {
    "duration": 7,
    "start_time": "2024-09-22T22:31:07.872Z"
   },
   {
    "duration": 179,
    "start_time": "2024-09-22T22:31:07.880Z"
   },
   {
    "duration": 14,
    "start_time": "2024-09-22T22:31:08.064Z"
   },
   {
    "duration": 332,
    "start_time": "2024-09-22T22:31:08.081Z"
   },
   {
    "duration": 22,
    "start_time": "2024-09-22T22:31:08.415Z"
   },
   {
    "duration": 12,
    "start_time": "2024-09-22T22:31:08.438Z"
   },
   {
    "duration": 168,
    "start_time": "2024-09-22T22:31:08.452Z"
   },
   {
    "duration": 199,
    "start_time": "2024-09-22T22:31:08.622Z"
   },
   {
    "duration": 3,
    "start_time": "2024-09-22T22:45:00.878Z"
   },
   {
    "duration": 4,
    "start_time": "2024-09-22T22:49:07.433Z"
   },
   {
    "duration": 3,
    "start_time": "2024-09-22T23:00:56.203Z"
   },
   {
    "duration": 2,
    "start_time": "2024-09-22T23:34:01.638Z"
   },
   {
    "duration": 2,
    "start_time": "2024-09-22T23:39:19.471Z"
   },
   {
    "duration": 722,
    "start_time": "2024-09-22T23:49:58.519Z"
   },
   {
    "duration": 31,
    "start_time": "2024-09-23T00:23:21.014Z"
   },
   {
    "duration": 28,
    "start_time": "2024-09-23T00:27:40.421Z"
   },
   {
    "duration": 14,
    "start_time": "2024-09-23T00:28:15.278Z"
   },
   {
    "duration": 2716,
    "start_time": "2024-09-29T21:11:04.237Z"
   },
   {
    "duration": 628,
    "start_time": "2024-09-29T21:11:06.955Z"
   },
   {
    "duration": 22,
    "start_time": "2024-09-29T21:11:07.584Z"
   },
   {
    "duration": 24,
    "start_time": "2024-09-29T21:11:07.608Z"
   },
   {
    "duration": 161,
    "start_time": "2024-09-29T21:11:07.635Z"
   },
   {
    "duration": 29,
    "start_time": "2024-09-29T21:11:07.798Z"
   },
   {
    "duration": 12,
    "start_time": "2024-09-29T21:11:07.828Z"
   },
   {
    "duration": 96,
    "start_time": "2024-09-29T21:11:07.842Z"
   },
   {
    "duration": 19,
    "start_time": "2024-09-29T21:11:07.940Z"
   },
   {
    "duration": 15,
    "start_time": "2024-09-29T21:11:07.961Z"
   },
   {
    "duration": 182,
    "start_time": "2024-09-29T21:11:07.977Z"
   },
   {
    "duration": 3,
    "start_time": "2024-09-29T21:11:08.160Z"
   },
   {
    "duration": 19,
    "start_time": "2024-09-29T21:11:08.164Z"
   },
   {
    "duration": 11,
    "start_time": "2024-09-29T21:11:08.187Z"
   },
   {
    "duration": 12,
    "start_time": "2024-09-29T21:11:08.200Z"
   },
   {
    "duration": 5,
    "start_time": "2024-09-29T21:11:08.213Z"
   },
   {
    "duration": 9,
    "start_time": "2024-09-29T21:11:08.220Z"
   },
   {
    "duration": 3,
    "start_time": "2024-09-29T21:11:08.232Z"
   },
   {
    "duration": 5,
    "start_time": "2024-09-29T21:11:08.237Z"
   },
   {
    "duration": 4,
    "start_time": "2024-09-29T21:11:08.243Z"
   },
   {
    "duration": 6,
    "start_time": "2024-09-29T21:11:08.248Z"
   },
   {
    "duration": 3,
    "start_time": "2024-09-29T21:11:08.257Z"
   },
   {
    "duration": 5,
    "start_time": "2024-09-29T21:11:08.261Z"
   },
   {
    "duration": 4,
    "start_time": "2024-09-29T21:11:08.268Z"
   },
   {
    "duration": 92,
    "start_time": "2024-09-29T21:11:08.274Z"
   },
   {
    "duration": 18,
    "start_time": "2024-09-29T21:11:08.368Z"
   },
   {
    "duration": 5,
    "start_time": "2024-09-29T21:11:08.388Z"
   },
   {
    "duration": 5,
    "start_time": "2024-09-29T21:11:08.395Z"
   },
   {
    "duration": 27,
    "start_time": "2024-09-29T21:11:08.402Z"
   },
   {
    "duration": 76,
    "start_time": "2024-09-29T21:11:08.431Z"
   },
   {
    "duration": 19,
    "start_time": "2024-09-29T21:11:08.508Z"
   },
   {
    "duration": 6,
    "start_time": "2024-09-29T21:11:08.528Z"
   },
   {
    "duration": 15,
    "start_time": "2024-09-29T21:11:08.536Z"
   },
   {
    "duration": 6,
    "start_time": "2024-09-29T21:11:08.553Z"
   },
   {
    "duration": 449,
    "start_time": "2024-09-29T21:11:08.560Z"
   },
   {
    "duration": 1723,
    "start_time": "2024-09-29T21:11:09.011Z"
   },
   {
    "duration": 137,
    "start_time": "2024-09-29T21:11:10.736Z"
   },
   {
    "duration": 7,
    "start_time": "2024-09-29T21:11:10.875Z"
   },
   {
    "duration": 6,
    "start_time": "2024-09-29T21:11:10.884Z"
   },
   {
    "duration": 168,
    "start_time": "2024-09-29T21:11:10.892Z"
   },
   {
    "duration": 13,
    "start_time": "2024-09-29T21:11:11.064Z"
   },
   {
    "duration": 318,
    "start_time": "2024-09-29T21:11:11.079Z"
   },
   {
    "duration": 13,
    "start_time": "2024-09-29T21:11:11.399Z"
   },
   {
    "duration": 19,
    "start_time": "2024-09-29T21:11:11.414Z"
   },
   {
    "duration": 166,
    "start_time": "2024-09-29T21:11:11.435Z"
   },
   {
    "duration": 200,
    "start_time": "2024-09-29T21:11:11.603Z"
   },
   {
    "duration": 3,
    "start_time": "2024-09-29T21:11:11.804Z"
   },
   {
    "duration": 27,
    "start_time": "2024-09-29T21:11:11.809Z"
   },
   {
    "duration": 6,
    "start_time": "2024-09-29T21:21:16.619Z"
   },
   {
    "duration": 3,
    "start_time": "2024-09-29T21:24:41.735Z"
   },
   {
    "duration": 6,
    "start_time": "2024-09-29T21:32:53.299Z"
   },
   {
    "duration": 17,
    "start_time": "2024-09-29T21:35:43.941Z"
   },
   {
    "duration": 8,
    "start_time": "2024-09-29T21:35:54.419Z"
   },
   {
    "duration": 16,
    "start_time": "2024-09-29T21:42:24.665Z"
   },
   {
    "duration": 191,
    "start_time": "2024-09-29T21:42:45.489Z"
   },
   {
    "duration": 65,
    "start_time": "2024-09-29T21:45:20.533Z"
   },
   {
    "duration": 11,
    "start_time": "2024-09-29T21:47:12.853Z"
   },
   {
    "duration": 5,
    "start_time": "2024-09-29T21:47:31.912Z"
   },
   {
    "duration": 15,
    "start_time": "2024-09-29T21:47:52.482Z"
   },
   {
    "duration": 5,
    "start_time": "2024-09-29T21:47:54.440Z"
   },
   {
    "duration": 754,
    "start_time": "2024-09-29T21:48:05.059Z"
   },
   {
    "duration": 4,
    "start_time": "2024-09-29T21:49:15.186Z"
   },
   {
    "duration": 18,
    "start_time": "2024-09-29T21:49:35.189Z"
   },
   {
    "duration": 3,
    "start_time": "2024-09-29T21:49:40.358Z"
   },
   {
    "duration": 752,
    "start_time": "2024-09-29T21:51:12.862Z"
   },
   {
    "duration": 12,
    "start_time": "2024-09-29T21:51:43.779Z"
   },
   {
    "duration": 845,
    "start_time": "2024-09-29T21:55:03.337Z"
   },
   {
    "duration": 980,
    "start_time": "2024-09-29T21:55:42.050Z"
   },
   {
    "duration": 985,
    "start_time": "2024-09-29T22:05:40.063Z"
   },
   {
    "duration": 487,
    "start_time": "2024-09-29T22:05:41.051Z"
   },
   {
    "duration": 22,
    "start_time": "2024-09-29T22:05:41.539Z"
   },
   {
    "duration": 13,
    "start_time": "2024-09-29T22:05:41.562Z"
   },
   {
    "duration": 169,
    "start_time": "2024-09-29T22:05:41.577Z"
   },
   {
    "duration": 19,
    "start_time": "2024-09-29T22:05:41.747Z"
   },
   {
    "duration": 9,
    "start_time": "2024-09-29T22:05:41.769Z"
   },
   {
    "duration": 102,
    "start_time": "2024-09-29T22:05:41.780Z"
   },
   {
    "duration": 19,
    "start_time": "2024-09-29T22:05:41.884Z"
   },
   {
    "duration": 21,
    "start_time": "2024-09-29T22:05:41.904Z"
   },
   {
    "duration": 171,
    "start_time": "2024-09-29T22:05:41.926Z"
   },
   {
    "duration": 3,
    "start_time": "2024-09-29T22:05:42.098Z"
   },
   {
    "duration": 4,
    "start_time": "2024-09-29T22:05:42.103Z"
   },
   {
    "duration": 4,
    "start_time": "2024-09-29T22:05:42.123Z"
   },
   {
    "duration": 5,
    "start_time": "2024-09-29T22:05:42.129Z"
   },
   {
    "duration": 4,
    "start_time": "2024-09-29T22:05:42.136Z"
   },
   {
    "duration": 6,
    "start_time": "2024-09-29T22:05:42.141Z"
   },
   {
    "duration": 3,
    "start_time": "2024-09-29T22:05:42.149Z"
   },
   {
    "duration": 5,
    "start_time": "2024-09-29T22:05:42.154Z"
   },
   {
    "duration": 4,
    "start_time": "2024-09-29T22:05:42.161Z"
   },
   {
    "duration": 4,
    "start_time": "2024-09-29T22:05:42.167Z"
   },
   {
    "duration": 52,
    "start_time": "2024-09-29T22:05:42.173Z"
   },
   {
    "duration": 6,
    "start_time": "2024-09-29T22:05:42.227Z"
   },
   {
    "duration": 4,
    "start_time": "2024-09-29T22:05:42.236Z"
   },
   {
    "duration": 62,
    "start_time": "2024-09-29T22:05:42.242Z"
   },
   {
    "duration": 34,
    "start_time": "2024-09-29T22:05:42.306Z"
   },
   {
    "duration": 5,
    "start_time": "2024-09-29T22:05:42.342Z"
   },
   {
    "duration": 4,
    "start_time": "2024-09-29T22:05:42.349Z"
   },
   {
    "duration": 7,
    "start_time": "2024-09-29T22:05:42.355Z"
   },
   {
    "duration": 100,
    "start_time": "2024-09-29T22:05:42.363Z"
   },
   {
    "duration": 6,
    "start_time": "2024-09-29T22:05:42.465Z"
   },
   {
    "duration": 5,
    "start_time": "2024-09-29T22:05:42.473Z"
   },
   {
    "duration": 15,
    "start_time": "2024-09-29T22:05:42.480Z"
   },
   {
    "duration": 5,
    "start_time": "2024-09-29T22:05:42.496Z"
   },
   {
    "duration": 372,
    "start_time": "2024-09-29T22:05:42.524Z"
   },
   {
    "duration": 1730,
    "start_time": "2024-09-29T22:05:42.898Z"
   },
   {
    "duration": 143,
    "start_time": "2024-09-29T22:05:44.629Z"
   },
   {
    "duration": 6,
    "start_time": "2024-09-29T22:05:44.774Z"
   },
   {
    "duration": 6,
    "start_time": "2024-09-29T22:05:44.782Z"
   },
   {
    "duration": 165,
    "start_time": "2024-09-29T22:05:44.789Z"
   },
   {
    "duration": 13,
    "start_time": "2024-09-29T22:05:44.959Z"
   },
   {
    "duration": 320,
    "start_time": "2024-09-29T22:05:44.973Z"
   },
   {
    "duration": 14,
    "start_time": "2024-09-29T22:05:45.295Z"
   },
   {
    "duration": 22,
    "start_time": "2024-09-29T22:05:45.311Z"
   },
   {
    "duration": 163,
    "start_time": "2024-09-29T22:05:45.335Z"
   },
   {
    "duration": 201,
    "start_time": "2024-09-29T22:05:45.500Z"
   },
   {
    "duration": 3,
    "start_time": "2024-09-29T22:05:45.702Z"
   },
   {
    "duration": 93,
    "start_time": "2024-09-29T22:05:45.707Z"
   },
   {
    "duration": 4,
    "start_time": "2024-09-29T22:05:45.801Z"
   },
   {
    "duration": 1130,
    "start_time": "2024-09-29T22:05:45.807Z"
   },
   {
    "duration": 2891,
    "start_time": "2024-09-30T00:31:39.480Z"
   },
   {
    "duration": 644,
    "start_time": "2024-09-30T00:31:42.374Z"
   },
   {
    "duration": 26,
    "start_time": "2024-09-30T00:31:43.020Z"
   },
   {
    "duration": 14,
    "start_time": "2024-09-30T00:31:43.048Z"
   },
   {
    "duration": 198,
    "start_time": "2024-09-30T00:31:43.064Z"
   },
   {
    "duration": 26,
    "start_time": "2024-09-30T00:31:43.264Z"
   },
   {
    "duration": 11,
    "start_time": "2024-09-30T00:31:43.293Z"
   },
   {
    "duration": 109,
    "start_time": "2024-09-30T00:31:43.305Z"
   },
   {
    "duration": 21,
    "start_time": "2024-09-30T00:31:43.416Z"
   },
   {
    "duration": 14,
    "start_time": "2024-09-30T00:31:43.439Z"
   },
   {
    "duration": 193,
    "start_time": "2024-09-30T00:31:43.454Z"
   },
   {
    "duration": 3,
    "start_time": "2024-09-30T00:31:43.649Z"
   },
   {
    "duration": 5,
    "start_time": "2024-09-30T00:31:43.654Z"
   },
   {
    "duration": 25,
    "start_time": "2024-09-30T00:31:43.663Z"
   },
   {
    "duration": 5,
    "start_time": "2024-09-30T00:31:43.691Z"
   },
   {
    "duration": 4,
    "start_time": "2024-09-30T00:31:43.699Z"
   },
   {
    "duration": 7,
    "start_time": "2024-09-30T00:31:43.705Z"
   },
   {
    "duration": 5,
    "start_time": "2024-09-30T00:31:43.714Z"
   },
   {
    "duration": 7,
    "start_time": "2024-09-30T00:31:43.721Z"
   },
   {
    "duration": 4,
    "start_time": "2024-09-30T00:31:43.730Z"
   },
   {
    "duration": 6,
    "start_time": "2024-09-30T00:31:43.736Z"
   },
   {
    "duration": 47,
    "start_time": "2024-09-30T00:31:43.743Z"
   },
   {
    "duration": 6,
    "start_time": "2024-09-30T00:31:43.792Z"
   },
   {
    "duration": 4,
    "start_time": "2024-09-30T00:31:43.800Z"
   },
   {
    "duration": 83,
    "start_time": "2024-09-30T00:31:43.806Z"
   },
   {
    "duration": 22,
    "start_time": "2024-09-30T00:31:43.891Z"
   },
   {
    "duration": 7,
    "start_time": "2024-09-30T00:31:43.915Z"
   },
   {
    "duration": 24,
    "start_time": "2024-09-30T00:31:43.924Z"
   },
   {
    "duration": 8,
    "start_time": "2024-09-30T00:31:43.950Z"
   },
   {
    "duration": 97,
    "start_time": "2024-09-30T00:31:43.960Z"
   },
   {
    "duration": 9,
    "start_time": "2024-09-30T00:31:44.059Z"
   },
   {
    "duration": 22,
    "start_time": "2024-09-30T00:31:44.069Z"
   },
   {
    "duration": 17,
    "start_time": "2024-09-30T00:31:44.092Z"
   },
   {
    "duration": 6,
    "start_time": "2024-09-30T00:31:44.110Z"
   },
   {
    "duration": 433,
    "start_time": "2024-09-30T00:31:44.118Z"
   },
   {
    "duration": 1765,
    "start_time": "2024-09-30T00:31:44.553Z"
   },
   {
    "duration": 150,
    "start_time": "2024-09-30T00:31:46.320Z"
   },
   {
    "duration": 16,
    "start_time": "2024-09-30T00:31:46.472Z"
   },
   {
    "duration": 7,
    "start_time": "2024-09-30T00:31:46.490Z"
   },
   {
    "duration": 175,
    "start_time": "2024-09-30T00:31:46.499Z"
   },
   {
    "duration": 19,
    "start_time": "2024-09-30T00:31:46.679Z"
   },
   {
    "duration": 419,
    "start_time": "2024-09-30T00:31:46.701Z"
   },
   {
    "duration": 15,
    "start_time": "2024-09-30T00:31:47.122Z"
   },
   {
    "duration": 13,
    "start_time": "2024-09-30T00:31:47.138Z"
   },
   {
    "duration": 189,
    "start_time": "2024-09-30T00:31:47.153Z"
   },
   {
    "duration": 204,
    "start_time": "2024-09-30T00:31:47.343Z"
   },
   {
    "duration": 5,
    "start_time": "2024-09-30T00:31:47.549Z"
   },
   {
    "duration": 32,
    "start_time": "2024-09-30T00:31:47.555Z"
   },
   {
    "duration": 4,
    "start_time": "2024-09-30T00:31:47.589Z"
   },
   {
    "duration": 33339,
    "start_time": "2024-09-30T00:32:21.088Z"
   },
   {
    "duration": 69939,
    "start_time": "2024-09-30T00:34:26.947Z"
   },
   {
    "duration": 106588,
    "start_time": "2024-09-30T00:46:42.034Z"
   },
   {
    "duration": 143441,
    "start_time": "2024-09-30T00:51:20.989Z"
   },
   {
    "duration": 321,
    "start_time": "2024-09-30T00:57:46.368Z"
   },
   {
    "duration": 1019,
    "start_time": "2024-09-30T01:43:57.050Z"
   },
   {
    "duration": 528,
    "start_time": "2024-09-30T01:43:58.071Z"
   },
   {
    "duration": 24,
    "start_time": "2024-09-30T01:43:58.601Z"
   },
   {
    "duration": 13,
    "start_time": "2024-09-30T01:43:58.627Z"
   },
   {
    "duration": 172,
    "start_time": "2024-09-30T01:43:58.643Z"
   },
   {
    "duration": 19,
    "start_time": "2024-09-30T01:43:58.816Z"
   },
   {
    "duration": 11,
    "start_time": "2024-09-30T01:43:58.837Z"
   },
   {
    "duration": 108,
    "start_time": "2024-09-30T01:43:58.849Z"
   },
   {
    "duration": 28,
    "start_time": "2024-09-30T01:43:58.959Z"
   },
   {
    "duration": 13,
    "start_time": "2024-09-30T01:43:58.989Z"
   },
   {
    "duration": 177,
    "start_time": "2024-09-30T01:43:59.003Z"
   },
   {
    "duration": 5,
    "start_time": "2024-09-30T01:43:59.186Z"
   },
   {
    "duration": 5,
    "start_time": "2024-09-30T01:43:59.192Z"
   },
   {
    "duration": 4,
    "start_time": "2024-09-30T01:43:59.201Z"
   },
   {
    "duration": 5,
    "start_time": "2024-09-30T01:43:59.208Z"
   },
   {
    "duration": 3,
    "start_time": "2024-09-30T01:43:59.215Z"
   },
   {
    "duration": 8,
    "start_time": "2024-09-30T01:43:59.220Z"
   },
   {
    "duration": 7,
    "start_time": "2024-09-30T01:43:59.229Z"
   },
   {
    "duration": 6,
    "start_time": "2024-09-30T01:43:59.238Z"
   },
   {
    "duration": 5,
    "start_time": "2024-09-30T01:43:59.286Z"
   },
   {
    "duration": 5,
    "start_time": "2024-09-30T01:43:59.293Z"
   },
   {
    "duration": 4,
    "start_time": "2024-09-30T01:43:59.299Z"
   },
   {
    "duration": 5,
    "start_time": "2024-09-30T01:43:59.304Z"
   },
   {
    "duration": 3,
    "start_time": "2024-09-30T01:43:59.311Z"
   },
   {
    "duration": 92,
    "start_time": "2024-09-30T01:43:59.316Z"
   },
   {
    "duration": 20,
    "start_time": "2024-09-30T01:43:59.410Z"
   },
   {
    "duration": 7,
    "start_time": "2024-09-30T01:43:59.431Z"
   },
   {
    "duration": 5,
    "start_time": "2024-09-30T01:43:59.440Z"
   },
   {
    "duration": 7,
    "start_time": "2024-09-30T01:43:59.447Z"
   },
   {
    "duration": 110,
    "start_time": "2024-09-30T01:43:59.455Z"
   },
   {
    "duration": 19,
    "start_time": "2024-09-30T01:43:59.567Z"
   },
   {
    "duration": 7,
    "start_time": "2024-09-30T01:43:59.589Z"
   },
   {
    "duration": 17,
    "start_time": "2024-09-30T01:43:59.598Z"
   },
   {
    "duration": 6,
    "start_time": "2024-09-30T01:43:59.617Z"
   },
   {
    "duration": 409,
    "start_time": "2024-09-30T01:43:59.624Z"
   },
   {
    "duration": 1737,
    "start_time": "2024-09-30T01:44:00.035Z"
   },
   {
    "duration": 141,
    "start_time": "2024-09-30T01:44:01.774Z"
   },
   {
    "duration": 7,
    "start_time": "2024-09-30T01:44:01.917Z"
   },
   {
    "duration": 6,
    "start_time": "2024-09-30T01:44:01.926Z"
   },
   {
    "duration": 177,
    "start_time": "2024-09-30T01:44:01.934Z"
   },
   {
    "duration": 14,
    "start_time": "2024-09-30T01:44:02.115Z"
   },
   {
    "duration": 341,
    "start_time": "2024-09-30T01:44:02.130Z"
   },
   {
    "duration": 22,
    "start_time": "2024-09-30T01:44:02.473Z"
   },
   {
    "duration": 13,
    "start_time": "2024-09-30T01:44:02.496Z"
   },
   {
    "duration": 177,
    "start_time": "2024-09-30T01:44:02.511Z"
   },
   {
    "duration": 200,
    "start_time": "2024-09-30T01:44:02.690Z"
   },
   {
    "duration": 4,
    "start_time": "2024-09-30T01:44:02.892Z"
   },
   {
    "duration": 111,
    "start_time": "2024-09-30T01:44:02.898Z"
   },
   {
    "duration": 3,
    "start_time": "2024-09-30T01:44:03.011Z"
   },
   {
    "duration": 81027,
    "start_time": "2024-09-30T01:45:24.186Z"
   },
   {
    "duration": 180246,
    "start_time": "2024-09-30T01:49:04.615Z"
   },
   {
    "duration": 246993,
    "start_time": "2024-09-30T01:54:53.863Z"
   },
   {
    "duration": 313925,
    "start_time": "2024-09-30T01:59:25.116Z"
   },
   {
    "duration": 379280,
    "start_time": "2024-09-30T02:06:55.864Z"
   },
   {
    "duration": 210386,
    "start_time": "2024-09-30T02:42:28.082Z"
   },
   {
    "duration": 225312,
    "start_time": "2024-09-30T02:48:06.925Z"
   },
   {
    "duration": 239659,
    "start_time": "2024-09-30T03:08:31.943Z"
   },
   {
    "duration": 254448,
    "start_time": "2024-09-30T03:13:24.462Z"
   },
   {
    "duration": 269396,
    "start_time": "2024-09-30T03:21:34.778Z"
   },
   {
    "duration": 284224,
    "start_time": "2024-09-30T03:36:48.286Z"
   },
   {
    "duration": 298962,
    "start_time": "2024-09-30T03:42:50.725Z"
   },
   {
    "duration": 313488,
    "start_time": "2024-09-30T03:54:51.309Z"
   },
   {
    "duration": 328074,
    "start_time": "2024-09-30T04:01:10.900Z"
   },
   {
    "duration": 342526,
    "start_time": "2024-09-30T04:09:57.341Z"
   },
   {
    "duration": 357368,
    "start_time": "2024-09-30T04:16:37.944Z"
   },
   {
    "duration": 372547,
    "start_time": "2024-09-30T04:23:51.617Z"
   },
   {
    "duration": 387296,
    "start_time": "2024-09-30T04:30:44.726Z"
   },
   {
    "duration": 243,
    "start_time": "2024-10-03T02:23:03.206Z"
   },
   {
    "duration": 2952,
    "start_time": "2024-10-03T02:23:09.980Z"
   },
   {
    "duration": 739,
    "start_time": "2024-10-03T02:23:12.934Z"
   },
   {
    "duration": 33,
    "start_time": "2024-10-03T02:23:13.675Z"
   },
   {
    "duration": 16,
    "start_time": "2024-10-03T02:23:13.710Z"
   },
   {
    "duration": 206,
    "start_time": "2024-10-03T02:23:13.728Z"
   },
   {
    "duration": 31,
    "start_time": "2024-10-03T02:23:13.937Z"
   },
   {
    "duration": 16,
    "start_time": "2024-10-03T02:23:13.972Z"
   },
   {
    "duration": 114,
    "start_time": "2024-10-03T02:23:13.990Z"
   },
   {
    "duration": 24,
    "start_time": "2024-10-03T02:23:14.106Z"
   },
   {
    "duration": 15,
    "start_time": "2024-10-03T02:23:14.133Z"
   },
   {
    "duration": 200,
    "start_time": "2024-10-03T02:23:14.150Z"
   },
   {
    "duration": 3,
    "start_time": "2024-10-03T02:23:14.352Z"
   },
   {
    "duration": 5,
    "start_time": "2024-10-03T02:23:14.357Z"
   },
   {
    "duration": 21,
    "start_time": "2024-10-03T02:23:14.367Z"
   },
   {
    "duration": 5,
    "start_time": "2024-10-03T02:23:14.390Z"
   },
   {
    "duration": 15,
    "start_time": "2024-10-03T02:23:14.397Z"
   },
   {
    "duration": 8,
    "start_time": "2024-10-03T02:23:14.414Z"
   },
   {
    "duration": 4,
    "start_time": "2024-10-03T02:23:14.423Z"
   },
   {
    "duration": 19,
    "start_time": "2024-10-03T02:23:14.429Z"
   },
   {
    "duration": 3,
    "start_time": "2024-10-03T02:23:14.450Z"
   },
   {
    "duration": 6,
    "start_time": "2024-10-03T02:23:14.455Z"
   },
   {
    "duration": 27,
    "start_time": "2024-10-03T02:23:14.462Z"
   },
   {
    "duration": 6,
    "start_time": "2024-10-03T02:23:14.491Z"
   },
   {
    "duration": 3,
    "start_time": "2024-10-03T02:23:14.499Z"
   },
   {
    "duration": 59,
    "start_time": "2024-10-03T02:23:14.504Z"
   },
   {
    "duration": 43,
    "start_time": "2024-10-03T02:23:14.565Z"
   },
   {
    "duration": 6,
    "start_time": "2024-10-03T02:23:14.610Z"
   },
   {
    "duration": 4,
    "start_time": "2024-10-03T02:23:14.618Z"
   },
   {
    "duration": 8,
    "start_time": "2024-10-03T02:23:14.624Z"
   },
   {
    "duration": 123,
    "start_time": "2024-10-03T02:23:14.633Z"
   },
   {
    "duration": 13,
    "start_time": "2024-10-03T02:23:14.758Z"
   },
   {
    "duration": 16,
    "start_time": "2024-10-03T02:23:14.773Z"
   },
   {
    "duration": 17,
    "start_time": "2024-10-03T02:23:14.793Z"
   },
   {
    "duration": 7,
    "start_time": "2024-10-03T02:23:14.812Z"
   },
   {
    "duration": 451,
    "start_time": "2024-10-03T02:23:14.820Z"
   },
   {
    "duration": 1801,
    "start_time": "2024-10-03T02:23:15.273Z"
   },
   {
    "duration": 154,
    "start_time": "2024-10-03T02:23:17.076Z"
   },
   {
    "duration": 7,
    "start_time": "2024-10-03T02:23:17.232Z"
   },
   {
    "duration": 8,
    "start_time": "2024-10-03T02:23:17.241Z"
   },
   {
    "duration": 176,
    "start_time": "2024-10-03T02:23:17.251Z"
   },
   {
    "duration": 15,
    "start_time": "2024-10-03T02:23:17.432Z"
   },
   {
    "duration": 343,
    "start_time": "2024-10-03T02:23:17.450Z"
   },
   {
    "duration": 15,
    "start_time": "2024-10-03T02:23:17.795Z"
   },
   {
    "duration": 14,
    "start_time": "2024-10-03T02:23:17.812Z"
   },
   {
    "duration": 187,
    "start_time": "2024-10-03T02:23:17.828Z"
   },
   {
    "duration": 216,
    "start_time": "2024-10-03T02:23:18.018Z"
   },
   {
    "duration": 4,
    "start_time": "2024-10-03T02:23:18.236Z"
   },
   {
    "duration": 23,
    "start_time": "2024-10-03T02:23:18.241Z"
   },
   {
    "duration": 4,
    "start_time": "2024-10-03T02:23:18.266Z"
   },
   {
    "duration": 4,
    "start_time": "2024-10-03T02:23:33.521Z"
   },
   {
    "duration": 76939,
    "start_time": "2024-10-03T02:23:39.428Z"
   },
   {
    "duration": 391539,
    "start_time": "2024-10-03T02:26:32.715Z"
   },
   {
    "duration": 0,
    "start_time": "2024-10-03T02:33:04.324Z"
   },
   {
    "duration": 49,
    "start_time": "2024-10-03T02:34:27.792Z"
   },
   {
    "duration": 312,
    "start_time": "2024-10-03T02:45:46.246Z"
   },
   {
    "duration": 14,
    "start_time": "2024-10-03T02:46:52.569Z"
   },
   {
    "duration": 6,
    "start_time": "2024-10-03T02:47:03.192Z"
   },
   {
    "duration": 49,
    "start_time": "2024-10-03T02:53:34.312Z"
   },
   {
    "duration": 0,
    "start_time": "2024-10-03T02:53:34.363Z"
   },
   {
    "duration": 17,
    "start_time": "2024-10-03T03:16:15.901Z"
   },
   {
    "duration": 50,
    "start_time": "2024-10-03T03:16:23.011Z"
   },
   {
    "duration": 48,
    "start_time": "2024-10-03T03:16:27.305Z"
   },
   {
    "duration": 18,
    "start_time": "2024-10-03T03:16:46.388Z"
   },
   {
    "duration": 4,
    "start_time": "2024-10-03T03:16:47.190Z"
   },
   {
    "duration": 387723,
    "start_time": "2024-10-03T03:16:48.756Z"
   },
   {
    "duration": 0,
    "start_time": "2024-10-03T03:23:16.532Z"
   },
   {
    "duration": 17,
    "start_time": "2024-10-03T03:23:49.548Z"
   },
   {
    "duration": 3,
    "start_time": "2024-10-03T03:23:51.600Z"
   },
   {
    "duration": 386636,
    "start_time": "2024-10-03T03:23:54.103Z"
   },
   {
    "duration": 140,
    "start_time": "2024-10-03T03:30:20.741Z"
   },
   {
    "duration": 158,
    "start_time": "2024-10-04T02:06:18.264Z"
   },
   {
    "duration": 2742,
    "start_time": "2024-10-04T02:06:27.971Z"
   },
   {
    "duration": 709,
    "start_time": "2024-10-04T02:06:30.716Z"
   },
   {
    "duration": 35,
    "start_time": "2024-10-04T02:06:31.427Z"
   },
   {
    "duration": 13,
    "start_time": "2024-10-04T02:06:31.464Z"
   },
   {
    "duration": 179,
    "start_time": "2024-10-04T02:06:31.480Z"
   },
   {
    "duration": 25,
    "start_time": "2024-10-04T02:06:31.661Z"
   },
   {
    "duration": 24,
    "start_time": "2024-10-04T02:06:31.688Z"
   },
   {
    "duration": 104,
    "start_time": "2024-10-04T02:06:31.714Z"
   },
   {
    "duration": 26,
    "start_time": "2024-10-04T02:06:31.821Z"
   },
   {
    "duration": 14,
    "start_time": "2024-10-04T02:06:31.849Z"
   },
   {
    "duration": 213,
    "start_time": "2024-10-04T02:06:31.864Z"
   },
   {
    "duration": 4,
    "start_time": "2024-10-04T02:06:32.079Z"
   },
   {
    "duration": 7,
    "start_time": "2024-10-04T02:06:32.085Z"
   },
   {
    "duration": 17,
    "start_time": "2024-10-04T02:06:32.096Z"
   },
   {
    "duration": 5,
    "start_time": "2024-10-04T02:06:32.115Z"
   },
   {
    "duration": 4,
    "start_time": "2024-10-04T02:06:32.122Z"
   },
   {
    "duration": 6,
    "start_time": "2024-10-04T02:06:32.127Z"
   },
   {
    "duration": 4,
    "start_time": "2024-10-04T02:06:32.134Z"
   },
   {
    "duration": 4,
    "start_time": "2024-10-04T02:06:32.140Z"
   },
   {
    "duration": 4,
    "start_time": "2024-10-04T02:06:32.145Z"
   },
   {
    "duration": 5,
    "start_time": "2024-10-04T02:06:32.151Z"
   },
   {
    "duration": 5,
    "start_time": "2024-10-04T02:06:32.158Z"
   },
   {
    "duration": 48,
    "start_time": "2024-10-04T02:06:32.165Z"
   },
   {
    "duration": 3,
    "start_time": "2024-10-04T02:06:32.215Z"
   },
   {
    "duration": 58,
    "start_time": "2024-10-04T02:06:32.220Z"
   },
   {
    "duration": 38,
    "start_time": "2024-10-04T02:06:32.280Z"
   },
   {
    "duration": 6,
    "start_time": "2024-10-04T02:06:32.320Z"
   },
   {
    "duration": 5,
    "start_time": "2024-10-04T02:06:32.327Z"
   },
   {
    "duration": 6,
    "start_time": "2024-10-04T02:06:32.334Z"
   },
   {
    "duration": 106,
    "start_time": "2024-10-04T02:06:32.342Z"
   },
   {
    "duration": 8,
    "start_time": "2024-10-04T02:06:32.450Z"
   },
   {
    "duration": 5,
    "start_time": "2024-10-04T02:06:32.459Z"
   },
   {
    "duration": 15,
    "start_time": "2024-10-04T02:06:32.466Z"
   },
   {
    "duration": 5,
    "start_time": "2024-10-04T02:06:32.483Z"
   },
   {
    "duration": 372,
    "start_time": "2024-10-04T02:06:32.511Z"
   },
   {
    "duration": 1690,
    "start_time": "2024-10-04T02:06:32.885Z"
   },
   {
    "duration": 146,
    "start_time": "2024-10-04T02:06:34.577Z"
   },
   {
    "duration": 7,
    "start_time": "2024-10-04T02:06:34.724Z"
   },
   {
    "duration": 8,
    "start_time": "2024-10-04T02:06:34.732Z"
   },
   {
    "duration": 172,
    "start_time": "2024-10-04T02:06:34.742Z"
   },
   {
    "duration": 14,
    "start_time": "2024-10-04T02:06:34.920Z"
   },
   {
    "duration": 331,
    "start_time": "2024-10-04T02:06:34.936Z"
   },
   {
    "duration": 14,
    "start_time": "2024-10-04T02:06:35.269Z"
   },
   {
    "duration": 27,
    "start_time": "2024-10-04T02:06:35.285Z"
   },
   {
    "duration": 177,
    "start_time": "2024-10-04T02:06:35.314Z"
   },
   {
    "duration": 196,
    "start_time": "2024-10-04T02:06:35.493Z"
   },
   {
    "duration": 3,
    "start_time": "2024-10-04T02:06:35.691Z"
   },
   {
    "duration": 34,
    "start_time": "2024-10-04T02:06:35.696Z"
   },
   {
    "duration": 4,
    "start_time": "2024-10-04T02:06:35.732Z"
   },
   {
    "duration": 382647,
    "start_time": "2024-10-04T02:06:35.738Z"
   },
   {
    "duration": 313,
    "start_time": "2024-10-04T02:12:58.392Z"
   },
   {
    "duration": 0,
    "start_time": "2024-10-04T02:12:58.707Z"
   },
   {
    "duration": 3,
    "start_time": "2024-10-04T02:13:50.623Z"
   },
   {
    "duration": 4,
    "start_time": "2024-10-04T02:15:16.727Z"
   },
   {
    "duration": 30,
    "start_time": "2024-10-04T02:17:07.795Z"
   },
   {
    "duration": 17,
    "start_time": "2024-10-04T02:17:17.179Z"
   },
   {
    "duration": 4,
    "start_time": "2024-10-04T02:17:25.184Z"
   },
   {
    "duration": 18,
    "start_time": "2024-10-04T02:17:44.728Z"
   },
   {
    "duration": 16,
    "start_time": "2024-10-04T02:17:48.699Z"
   },
   {
    "duration": 3,
    "start_time": "2024-10-04T02:17:52.865Z"
   },
   {
    "duration": 3,
    "start_time": "2024-10-04T02:18:25.232Z"
   },
   {
    "duration": 247,
    "start_time": "2024-10-04T02:18:29.048Z"
   },
   {
    "duration": 3,
    "start_time": "2024-10-04T02:20:06.929Z"
   },
   {
    "duration": 17,
    "start_time": "2024-10-04T02:20:19.112Z"
   },
   {
    "duration": 4,
    "start_time": "2024-10-04T02:21:29.878Z"
   },
   {
    "duration": 3,
    "start_time": "2024-10-04T02:21:52.063Z"
   },
   {
    "duration": 13,
    "start_time": "2024-10-04T02:22:44.961Z"
   },
   {
    "duration": 13,
    "start_time": "2024-10-04T02:22:55.026Z"
   },
   {
    "duration": 4,
    "start_time": "2024-10-04T02:23:53.763Z"
   },
   {
    "duration": 3,
    "start_time": "2024-10-04T02:26:17.460Z"
   },
   {
    "duration": 121,
    "start_time": "2024-10-04T02:26:35.759Z"
   },
   {
    "duration": 17,
    "start_time": "2024-10-04T02:28:47.961Z"
   },
   {
    "duration": 4,
    "start_time": "2024-10-04T02:28:50.575Z"
   },
   {
    "duration": 3,
    "start_time": "2024-10-04T02:28:56.311Z"
   },
   {
    "duration": 120,
    "start_time": "2024-10-04T02:28:58.744Z"
   },
   {
    "duration": 3,
    "start_time": "2024-10-04T02:29:14.526Z"
   },
   {
    "duration": 3,
    "start_time": "2024-10-04T02:29:29.025Z"
   },
   {
    "duration": 4,
    "start_time": "2024-10-04T02:30:26.852Z"
   },
   {
    "duration": 496,
    "start_time": "2024-10-04T02:30:26.858Z"
   },
   {
    "duration": 19,
    "start_time": "2024-10-04T02:30:27.356Z"
   },
   {
    "duration": 11,
    "start_time": "2024-10-04T02:30:27.378Z"
   },
   {
    "duration": 160,
    "start_time": "2024-10-04T02:30:27.392Z"
   },
   {
    "duration": 18,
    "start_time": "2024-10-04T02:30:27.554Z"
   },
   {
    "duration": 10,
    "start_time": "2024-10-04T02:30:27.574Z"
   },
   {
    "duration": 103,
    "start_time": "2024-10-04T02:30:27.586Z"
   },
   {
    "duration": 29,
    "start_time": "2024-10-04T02:30:27.690Z"
   },
   {
    "duration": 12,
    "start_time": "2024-10-04T02:30:27.721Z"
   },
   {
    "duration": 178,
    "start_time": "2024-10-04T02:30:27.735Z"
   },
   {
    "duration": 3,
    "start_time": "2024-10-04T02:30:27.915Z"
   },
   {
    "duration": 5,
    "start_time": "2024-10-04T02:30:27.919Z"
   },
   {
    "duration": 3,
    "start_time": "2024-10-04T02:30:27.928Z"
   },
   {
    "duration": 5,
    "start_time": "2024-10-04T02:30:27.932Z"
   },
   {
    "duration": 3,
    "start_time": "2024-10-04T02:30:27.939Z"
   },
   {
    "duration": 5,
    "start_time": "2024-10-04T02:30:27.944Z"
   },
   {
    "duration": 5,
    "start_time": "2024-10-04T02:30:27.950Z"
   },
   {
    "duration": 4,
    "start_time": "2024-10-04T02:30:27.957Z"
   },
   {
    "duration": 3,
    "start_time": "2024-10-04T02:30:27.963Z"
   },
   {
    "duration": 45,
    "start_time": "2024-10-04T02:30:27.968Z"
   },
   {
    "duration": 5,
    "start_time": "2024-10-04T02:30:28.014Z"
   },
   {
    "duration": 6,
    "start_time": "2024-10-04T02:30:28.023Z"
   },
   {
    "duration": 4,
    "start_time": "2024-10-04T02:30:28.030Z"
   },
   {
    "duration": 83,
    "start_time": "2024-10-04T02:30:28.035Z"
   },
   {
    "duration": 19,
    "start_time": "2024-10-04T02:30:28.119Z"
   },
   {
    "duration": 6,
    "start_time": "2024-10-04T02:30:28.140Z"
   },
   {
    "duration": 4,
    "start_time": "2024-10-04T02:30:28.147Z"
   },
   {
    "duration": 7,
    "start_time": "2024-10-04T02:30:28.153Z"
   },
   {
    "duration": 103,
    "start_time": "2024-10-04T02:30:28.163Z"
   },
   {
    "duration": 7,
    "start_time": "2024-10-04T02:30:28.268Z"
   },
   {
    "duration": 6,
    "start_time": "2024-10-04T02:30:28.276Z"
   },
   {
    "duration": 33,
    "start_time": "2024-10-04T02:30:28.283Z"
   },
   {
    "duration": 6,
    "start_time": "2024-10-04T02:30:28.318Z"
   },
   {
    "duration": 409,
    "start_time": "2024-10-04T02:30:28.325Z"
   },
   {
    "duration": 1726,
    "start_time": "2024-10-04T02:30:28.736Z"
   },
   {
    "duration": 136,
    "start_time": "2024-10-04T02:30:30.464Z"
   },
   {
    "duration": 12,
    "start_time": "2024-10-04T02:30:30.602Z"
   },
   {
    "duration": 6,
    "start_time": "2024-10-04T02:30:30.616Z"
   },
   {
    "duration": 161,
    "start_time": "2024-10-04T02:30:30.624Z"
   },
   {
    "duration": 13,
    "start_time": "2024-10-04T02:30:30.790Z"
   },
   {
    "duration": 330,
    "start_time": "2024-10-04T02:30:30.804Z"
   },
   {
    "duration": 14,
    "start_time": "2024-10-04T02:30:31.136Z"
   },
   {
    "duration": 10,
    "start_time": "2024-10-04T02:30:31.152Z"
   },
   {
    "duration": 167,
    "start_time": "2024-10-04T02:30:31.165Z"
   },
   {
    "duration": 285,
    "start_time": "2024-10-04T02:30:31.334Z"
   },
   {
    "duration": 5,
    "start_time": "2024-10-04T02:30:31.621Z"
   },
   {
    "duration": 18,
    "start_time": "2024-10-04T02:30:31.628Z"
   },
   {
    "duration": 3,
    "start_time": "2024-10-04T02:30:31.648Z"
   },
   {
    "duration": 382307,
    "start_time": "2024-10-04T02:30:31.652Z"
   },
   {
    "duration": 3,
    "start_time": "2024-10-04T02:36:53.961Z"
   },
   {
    "duration": 4,
    "start_time": "2024-10-04T02:36:53.966Z"
   },
   {
    "duration": 17,
    "start_time": "2024-10-04T02:36:53.971Z"
   },
   {
    "duration": 24,
    "start_time": "2024-10-04T02:36:53.989Z"
   },
   {
    "duration": 220,
    "start_time": "2024-10-04T02:36:54.014Z"
   },
   {
    "duration": 20,
    "start_time": "2024-10-04T02:38:19.758Z"
   },
   {
    "duration": 4,
    "start_time": "2024-10-04T02:38:21.142Z"
   },
   {
    "duration": 17,
    "start_time": "2024-10-04T02:38:28.559Z"
   },
   {
    "duration": 4,
    "start_time": "2024-10-04T02:38:29.924Z"
   },
   {
    "duration": 5,
    "start_time": "2024-10-04T02:41:59.123Z"
   },
   {
    "duration": 7,
    "start_time": "2024-10-04T02:43:18.091Z"
   },
   {
    "duration": 19,
    "start_time": "2024-10-04T02:46:01.233Z"
   },
   {
    "duration": 5,
    "start_time": "2024-10-04T02:50:29.382Z"
   },
   {
    "duration": 4,
    "start_time": "2024-10-04T02:52:13.929Z"
   },
   {
    "duration": 8,
    "start_time": "2024-10-04T02:52:56.438Z"
   },
   {
    "duration": 115,
    "start_time": "2024-10-04T02:53:00.705Z"
   },
   {
    "duration": 31,
    "start_time": "2024-10-04T02:53:23.923Z"
   },
   {
    "duration": 205,
    "start_time": "2024-10-04T03:01:49.122Z"
   },
   {
    "duration": 10,
    "start_time": "2024-10-04T03:04:49.309Z"
   },
   {
    "duration": 7,
    "start_time": "2024-10-04T03:04:51.239Z"
   },
   {
    "duration": 40,
    "start_time": "2024-10-04T03:04:53.086Z"
   },
   {
    "duration": 114,
    "start_time": "2024-10-04T03:24:02.199Z"
   },
   {
    "duration": 8,
    "start_time": "2024-10-04T03:42:42.822Z"
   },
   {
    "duration": 8,
    "start_time": "2024-10-04T03:43:05.769Z"
   },
   {
    "duration": 32800,
    "start_time": "2024-10-04T03:44:14.115Z"
   },
   {
    "duration": 32795,
    "start_time": "2024-10-04T04:19:29.809Z"
   },
   {
    "duration": 74942,
    "start_time": "2024-10-04T04:26:56.423Z"
   },
   {
    "duration": 3,
    "start_time": "2024-10-04T04:34:00.194Z"
   },
   {
    "duration": 2745,
    "start_time": "2024-10-05T19:12:14.926Z"
   },
   {
    "duration": 665,
    "start_time": "2024-10-05T19:12:17.673Z"
   },
   {
    "duration": 23,
    "start_time": "2024-10-05T19:12:18.340Z"
   },
   {
    "duration": 12,
    "start_time": "2024-10-05T19:12:18.365Z"
   },
   {
    "duration": 168,
    "start_time": "2024-10-05T19:12:18.379Z"
   },
   {
    "duration": 19,
    "start_time": "2024-10-05T19:12:18.549Z"
   },
   {
    "duration": 10,
    "start_time": "2024-10-05T19:12:18.570Z"
   },
   {
    "duration": 102,
    "start_time": "2024-10-05T19:12:18.581Z"
   },
   {
    "duration": 34,
    "start_time": "2024-10-05T19:12:18.685Z"
   },
   {
    "duration": 13,
    "start_time": "2024-10-05T19:12:18.723Z"
   },
   {
    "duration": 182,
    "start_time": "2024-10-05T19:12:18.737Z"
   },
   {
    "duration": 3,
    "start_time": "2024-10-05T19:12:18.920Z"
   },
   {
    "duration": 4,
    "start_time": "2024-10-05T19:12:18.925Z"
   },
   {
    "duration": 4,
    "start_time": "2024-10-05T19:12:18.931Z"
   },
   {
    "duration": 5,
    "start_time": "2024-10-05T19:12:18.936Z"
   },
   {
    "duration": 3,
    "start_time": "2024-10-05T19:12:18.944Z"
   },
   {
    "duration": 6,
    "start_time": "2024-10-05T19:12:18.949Z"
   },
   {
    "duration": 3,
    "start_time": "2024-10-05T19:12:18.956Z"
   },
   {
    "duration": 45,
    "start_time": "2024-10-05T19:12:18.961Z"
   },
   {
    "duration": 4,
    "start_time": "2024-10-05T19:12:19.007Z"
   },
   {
    "duration": 5,
    "start_time": "2024-10-05T19:12:19.013Z"
   },
   {
    "duration": 4,
    "start_time": "2024-10-05T19:12:19.020Z"
   },
   {
    "duration": 4,
    "start_time": "2024-10-05T19:12:19.026Z"
   },
   {
    "duration": 4,
    "start_time": "2024-10-05T19:12:19.032Z"
   },
   {
    "duration": 91,
    "start_time": "2024-10-05T19:12:19.038Z"
   },
   {
    "duration": 19,
    "start_time": "2024-10-05T19:12:19.131Z"
   },
   {
    "duration": 5,
    "start_time": "2024-10-05T19:12:19.151Z"
   },
   {
    "duration": 4,
    "start_time": "2024-10-05T19:12:19.161Z"
   },
   {
    "duration": 6,
    "start_time": "2024-10-05T19:12:19.167Z"
   },
   {
    "duration": 108,
    "start_time": "2024-10-05T19:12:19.175Z"
   },
   {
    "duration": 21,
    "start_time": "2024-10-05T19:12:19.285Z"
   },
   {
    "duration": 6,
    "start_time": "2024-10-05T19:12:19.308Z"
   },
   {
    "duration": 16,
    "start_time": "2024-10-05T19:12:19.315Z"
   },
   {
    "duration": 6,
    "start_time": "2024-10-05T19:12:19.333Z"
   },
   {
    "duration": 441,
    "start_time": "2024-10-05T19:12:19.340Z"
   },
   {
    "duration": 1694,
    "start_time": "2024-10-05T19:12:19.783Z"
   },
   {
    "duration": 139,
    "start_time": "2024-10-05T19:12:21.478Z"
   },
   {
    "duration": 7,
    "start_time": "2024-10-05T19:12:21.620Z"
   },
   {
    "duration": 6,
    "start_time": "2024-10-05T19:12:21.628Z"
   },
   {
    "duration": 172,
    "start_time": "2024-10-05T19:12:21.637Z"
   },
   {
    "duration": 17,
    "start_time": "2024-10-05T19:12:21.812Z"
   },
   {
    "duration": 308,
    "start_time": "2024-10-05T19:12:21.832Z"
   },
   {
    "duration": 14,
    "start_time": "2024-10-05T19:12:22.142Z"
   },
   {
    "duration": 11,
    "start_time": "2024-10-05T19:12:22.157Z"
   },
   {
    "duration": 177,
    "start_time": "2024-10-05T19:12:22.170Z"
   },
   {
    "duration": 218,
    "start_time": "2024-10-05T19:12:22.349Z"
   },
   {
    "duration": 3,
    "start_time": "2024-10-05T19:12:22.569Z"
   },
   {
    "duration": 32,
    "start_time": "2024-10-05T19:12:22.574Z"
   },
   {
    "duration": 4,
    "start_time": "2024-10-05T19:12:22.608Z"
   },
   {
    "duration": 382008,
    "start_time": "2024-10-05T19:36:59.759Z"
   },
   {
    "duration": 18,
    "start_time": "2024-10-05T19:43:21.769Z"
   },
   {
    "duration": 25,
    "start_time": "2024-10-05T19:43:21.789Z"
   },
   {
    "duration": 496,
    "start_time": "2024-10-05T19:43:21.816Z"
   },
   {
    "duration": 0,
    "start_time": "2024-10-05T19:43:22.315Z"
   },
   {
    "duration": 0,
    "start_time": "2024-10-05T19:43:22.316Z"
   },
   {
    "duration": 0,
    "start_time": "2024-10-05T19:43:22.319Z"
   },
   {
    "duration": 977,
    "start_time": "2024-10-05T19:48:26.596Z"
   },
   {
    "duration": 510,
    "start_time": "2024-10-05T19:48:27.576Z"
   },
   {
    "duration": 27,
    "start_time": "2024-10-05T19:48:28.087Z"
   },
   {
    "duration": 12,
    "start_time": "2024-10-05T19:48:28.117Z"
   },
   {
    "duration": 170,
    "start_time": "2024-10-05T19:48:28.131Z"
   },
   {
    "duration": 19,
    "start_time": "2024-10-05T19:48:28.305Z"
   },
   {
    "duration": 10,
    "start_time": "2024-10-05T19:48:28.326Z"
   },
   {
    "duration": 105,
    "start_time": "2024-10-05T19:48:28.338Z"
   },
   {
    "duration": 19,
    "start_time": "2024-10-05T19:48:28.445Z"
   },
   {
    "duration": 11,
    "start_time": "2024-10-05T19:48:28.467Z"
   },
   {
    "duration": 185,
    "start_time": "2024-10-05T19:48:28.480Z"
   },
   {
    "duration": 3,
    "start_time": "2024-10-05T19:48:28.667Z"
   },
   {
    "duration": 4,
    "start_time": "2024-10-05T19:48:28.672Z"
   },
   {
    "duration": 4,
    "start_time": "2024-10-05T19:48:28.678Z"
   },
   {
    "duration": 24,
    "start_time": "2024-10-05T19:48:28.684Z"
   },
   {
    "duration": 5,
    "start_time": "2024-10-05T19:48:28.710Z"
   },
   {
    "duration": 6,
    "start_time": "2024-10-05T19:48:28.717Z"
   },
   {
    "duration": 3,
    "start_time": "2024-10-05T19:48:28.725Z"
   },
   {
    "duration": 5,
    "start_time": "2024-10-05T19:48:28.730Z"
   },
   {
    "duration": 3,
    "start_time": "2024-10-05T19:48:28.737Z"
   },
   {
    "duration": 5,
    "start_time": "2024-10-05T19:48:28.742Z"
   },
   {
    "duration": 4,
    "start_time": "2024-10-05T19:48:28.748Z"
   },
   {
    "duration": 52,
    "start_time": "2024-10-05T19:48:28.753Z"
   },
   {
    "duration": 4,
    "start_time": "2024-10-05T19:48:28.806Z"
   },
   {
    "duration": 59,
    "start_time": "2024-10-05T19:48:28.811Z"
   },
   {
    "duration": 34,
    "start_time": "2024-10-05T19:48:28.872Z"
   },
   {
    "duration": 6,
    "start_time": "2024-10-05T19:48:28.908Z"
   },
   {
    "duration": 4,
    "start_time": "2024-10-05T19:48:28.919Z"
   },
   {
    "duration": 7,
    "start_time": "2024-10-05T19:48:28.925Z"
   },
   {
    "duration": 96,
    "start_time": "2024-10-05T19:48:28.934Z"
   },
   {
    "duration": 7,
    "start_time": "2024-10-05T19:48:29.031Z"
   },
   {
    "duration": 6,
    "start_time": "2024-10-05T19:48:29.040Z"
   },
   {
    "duration": 15,
    "start_time": "2024-10-05T19:48:29.047Z"
   },
   {
    "duration": 6,
    "start_time": "2024-10-05T19:48:29.064Z"
   },
   {
    "duration": 387,
    "start_time": "2024-10-05T19:48:29.073Z"
   },
   {
    "duration": 1686,
    "start_time": "2024-10-05T19:48:29.462Z"
   },
   {
    "duration": 155,
    "start_time": "2024-10-05T19:48:31.150Z"
   },
   {
    "duration": 7,
    "start_time": "2024-10-05T19:48:31.307Z"
   },
   {
    "duration": 6,
    "start_time": "2024-10-05T19:48:31.315Z"
   },
   {
    "duration": 168,
    "start_time": "2024-10-05T19:48:31.323Z"
   },
   {
    "duration": 22,
    "start_time": "2024-10-05T19:48:31.493Z"
   },
   {
    "duration": 333,
    "start_time": "2024-10-05T19:48:31.516Z"
   },
   {
    "duration": 14,
    "start_time": "2024-10-05T19:48:31.851Z"
   },
   {
    "duration": 13,
    "start_time": "2024-10-05T19:48:31.866Z"
   },
   {
    "duration": 173,
    "start_time": "2024-10-05T19:48:31.881Z"
   },
   {
    "duration": 205,
    "start_time": "2024-10-05T19:48:32.056Z"
   },
   {
    "duration": 3,
    "start_time": "2024-10-05T19:48:32.263Z"
   },
   {
    "duration": 105,
    "start_time": "2024-10-05T19:48:32.268Z"
   },
   {
    "duration": 4,
    "start_time": "2024-10-05T19:48:32.374Z"
   },
   {
    "duration": 1051,
    "start_time": "2024-10-05T20:12:33.217Z"
   },
   {
    "duration": 513,
    "start_time": "2024-10-05T20:12:34.270Z"
   },
   {
    "duration": 28,
    "start_time": "2024-10-05T20:12:34.784Z"
   },
   {
    "duration": 13,
    "start_time": "2024-10-05T20:12:34.813Z"
   },
   {
    "duration": 164,
    "start_time": "2024-10-05T20:12:34.829Z"
   },
   {
    "duration": 22,
    "start_time": "2024-10-05T20:12:34.995Z"
   },
   {
    "duration": 10,
    "start_time": "2024-10-05T20:12:35.019Z"
   },
   {
    "duration": 92,
    "start_time": "2024-10-05T20:12:35.030Z"
   },
   {
    "duration": 19,
    "start_time": "2024-10-05T20:12:35.124Z"
   },
   {
    "duration": 12,
    "start_time": "2024-10-05T20:12:35.145Z"
   },
   {
    "duration": 180,
    "start_time": "2024-10-05T20:12:35.159Z"
   },
   {
    "duration": 3,
    "start_time": "2024-10-05T20:12:35.341Z"
   },
   {
    "duration": 5,
    "start_time": "2024-10-05T20:12:35.346Z"
   },
   {
    "duration": 3,
    "start_time": "2024-10-05T20:12:35.355Z"
   },
   {
    "duration": 5,
    "start_time": "2024-10-05T20:12:35.359Z"
   },
   {
    "duration": 4,
    "start_time": "2024-10-05T20:12:35.365Z"
   },
   {
    "duration": 38,
    "start_time": "2024-10-05T20:12:35.371Z"
   },
   {
    "duration": 3,
    "start_time": "2024-10-05T20:12:35.411Z"
   },
   {
    "duration": 6,
    "start_time": "2024-10-05T20:12:35.416Z"
   },
   {
    "duration": 4,
    "start_time": "2024-10-05T20:12:35.423Z"
   },
   {
    "duration": 5,
    "start_time": "2024-10-05T20:12:35.429Z"
   },
   {
    "duration": 4,
    "start_time": "2024-10-05T20:12:35.435Z"
   },
   {
    "duration": 4,
    "start_time": "2024-10-05T20:12:35.440Z"
   },
   {
    "duration": 3,
    "start_time": "2024-10-05T20:12:35.446Z"
   },
   {
    "duration": 104,
    "start_time": "2024-10-05T20:12:35.451Z"
   },
   {
    "duration": 20,
    "start_time": "2024-10-05T20:12:35.556Z"
   },
   {
    "duration": 6,
    "start_time": "2024-10-05T20:12:35.577Z"
   },
   {
    "duration": 21,
    "start_time": "2024-10-05T20:12:35.585Z"
   },
   {
    "duration": 7,
    "start_time": "2024-10-05T20:12:35.608Z"
   },
   {
    "duration": 95,
    "start_time": "2024-10-05T20:12:35.616Z"
   },
   {
    "duration": 7,
    "start_time": "2024-10-05T20:12:35.713Z"
   },
   {
    "duration": 5,
    "start_time": "2024-10-05T20:12:35.722Z"
   },
   {
    "duration": 17,
    "start_time": "2024-10-05T20:12:35.728Z"
   },
   {
    "duration": 7,
    "start_time": "2024-10-05T20:12:35.746Z"
   },
   {
    "duration": 387,
    "start_time": "2024-10-05T20:12:35.755Z"
   },
   {
    "duration": 1687,
    "start_time": "2024-10-05T20:12:36.145Z"
   },
   {
    "duration": 155,
    "start_time": "2024-10-05T20:12:37.834Z"
   },
   {
    "duration": 14,
    "start_time": "2024-10-05T20:12:37.991Z"
   },
   {
    "duration": 6,
    "start_time": "2024-10-05T20:12:38.007Z"
   },
   {
    "duration": 163,
    "start_time": "2024-10-05T20:12:38.015Z"
   },
   {
    "duration": 23,
    "start_time": "2024-10-05T20:12:38.183Z"
   },
   {
    "duration": 321,
    "start_time": "2024-10-05T20:12:38.207Z"
   },
   {
    "duration": 14,
    "start_time": "2024-10-05T20:12:38.529Z"
   },
   {
    "duration": 11,
    "start_time": "2024-10-05T20:12:38.545Z"
   },
   {
    "duration": 174,
    "start_time": "2024-10-05T20:12:38.558Z"
   },
   {
    "duration": 204,
    "start_time": "2024-10-05T20:12:38.733Z"
   },
   {
    "duration": 3,
    "start_time": "2024-10-05T20:12:38.939Z"
   },
   {
    "duration": 99,
    "start_time": "2024-10-05T20:12:38.944Z"
   },
   {
    "duration": 4,
    "start_time": "2024-10-05T20:12:39.045Z"
   },
   {
    "duration": 147821,
    "start_time": "2024-10-05T20:12:39.051Z"
   },
   {
    "duration": 956,
    "start_time": "2024-10-05T20:23:36.570Z"
   },
   {
    "duration": 486,
    "start_time": "2024-10-05T20:23:37.529Z"
   },
   {
    "duration": 23,
    "start_time": "2024-10-05T20:23:38.016Z"
   },
   {
    "duration": 12,
    "start_time": "2024-10-05T20:23:38.041Z"
   },
   {
    "duration": 181,
    "start_time": "2024-10-05T20:23:38.056Z"
   },
   {
    "duration": 19,
    "start_time": "2024-10-05T20:23:38.239Z"
   },
   {
    "duration": 10,
    "start_time": "2024-10-05T20:23:38.260Z"
   },
   {
    "duration": 104,
    "start_time": "2024-10-05T20:23:38.271Z"
   },
   {
    "duration": 19,
    "start_time": "2024-10-05T20:23:38.377Z"
   },
   {
    "duration": 17,
    "start_time": "2024-10-05T20:23:38.398Z"
   },
   {
    "duration": 178,
    "start_time": "2024-10-05T20:23:38.417Z"
   },
   {
    "duration": 8,
    "start_time": "2024-10-05T20:23:38.597Z"
   },
   {
    "duration": 6,
    "start_time": "2024-10-05T20:23:38.606Z"
   },
   {
    "duration": 4,
    "start_time": "2024-10-05T20:23:38.616Z"
   },
   {
    "duration": 4,
    "start_time": "2024-10-05T20:23:38.622Z"
   },
   {
    "duration": 4,
    "start_time": "2024-10-05T20:23:38.627Z"
   },
   {
    "duration": 5,
    "start_time": "2024-10-05T20:23:38.633Z"
   },
   {
    "duration": 4,
    "start_time": "2024-10-05T20:23:38.640Z"
   },
   {
    "duration": 5,
    "start_time": "2024-10-05T20:23:38.645Z"
   },
   {
    "duration": 4,
    "start_time": "2024-10-05T20:23:38.651Z"
   },
   {
    "duration": 50,
    "start_time": "2024-10-05T20:23:38.657Z"
   },
   {
    "duration": 5,
    "start_time": "2024-10-05T20:23:38.709Z"
   },
   {
    "duration": 4,
    "start_time": "2024-10-05T20:23:38.716Z"
   },
   {
    "duration": 3,
    "start_time": "2024-10-05T20:23:38.722Z"
   },
   {
    "duration": 80,
    "start_time": "2024-10-05T20:23:38.727Z"
   },
   {
    "duration": 18,
    "start_time": "2024-10-05T20:23:38.809Z"
   },
   {
    "duration": 5,
    "start_time": "2024-10-05T20:23:38.829Z"
   },
   {
    "duration": 4,
    "start_time": "2024-10-05T20:23:38.836Z"
   },
   {
    "duration": 6,
    "start_time": "2024-10-05T20:23:38.842Z"
   },
   {
    "duration": 112,
    "start_time": "2024-10-05T20:23:38.850Z"
   },
   {
    "duration": 8,
    "start_time": "2024-10-05T20:23:38.964Z"
   },
   {
    "duration": 5,
    "start_time": "2024-10-05T20:23:38.973Z"
   },
   {
    "duration": 36,
    "start_time": "2024-10-05T20:23:38.979Z"
   },
   {
    "duration": 6,
    "start_time": "2024-10-05T20:23:39.017Z"
   },
   {
    "duration": 381,
    "start_time": "2024-10-05T20:23:39.024Z"
   },
   {
    "duration": 1694,
    "start_time": "2024-10-05T20:23:39.408Z"
   },
   {
    "duration": 140,
    "start_time": "2024-10-05T20:23:41.106Z"
   },
   {
    "duration": 7,
    "start_time": "2024-10-05T20:23:41.248Z"
   },
   {
    "duration": 6,
    "start_time": "2024-10-05T20:23:41.256Z"
   },
   {
    "duration": 184,
    "start_time": "2024-10-05T20:23:41.264Z"
   },
   {
    "duration": 13,
    "start_time": "2024-10-05T20:23:41.453Z"
   },
   {
    "duration": 330,
    "start_time": "2024-10-05T20:23:41.468Z"
   },
   {
    "duration": 14,
    "start_time": "2024-10-05T20:23:41.804Z"
   },
   {
    "duration": 12,
    "start_time": "2024-10-05T20:23:41.820Z"
   },
   {
    "duration": 173,
    "start_time": "2024-10-05T20:23:41.834Z"
   },
   {
    "duration": 198,
    "start_time": "2024-10-05T20:23:42.009Z"
   },
   {
    "duration": 3,
    "start_time": "2024-10-05T20:23:42.209Z"
   },
   {
    "duration": 111,
    "start_time": "2024-10-05T20:23:42.213Z"
   },
   {
    "duration": 4,
    "start_time": "2024-10-05T20:23:42.327Z"
   },
   {
    "duration": 443703,
    "start_time": "2024-10-05T20:23:42.334Z"
   },
   {
    "duration": 963,
    "start_time": "2024-10-05T20:41:51.796Z"
   },
   {
    "duration": 551,
    "start_time": "2024-10-05T20:41:52.761Z"
   },
   {
    "duration": 23,
    "start_time": "2024-10-05T20:41:53.314Z"
   },
   {
    "duration": 12,
    "start_time": "2024-10-05T20:41:53.340Z"
   },
   {
    "duration": 170,
    "start_time": "2024-10-05T20:41:53.354Z"
   },
   {
    "duration": 18,
    "start_time": "2024-10-05T20:41:53.526Z"
   },
   {
    "duration": 10,
    "start_time": "2024-10-05T20:41:53.546Z"
   },
   {
    "duration": 104,
    "start_time": "2024-10-05T20:41:53.558Z"
   },
   {
    "duration": 20,
    "start_time": "2024-10-05T20:41:53.664Z"
   },
   {
    "duration": 25,
    "start_time": "2024-10-05T20:41:53.687Z"
   },
   {
    "duration": 171,
    "start_time": "2024-10-05T20:41:53.714Z"
   },
   {
    "duration": 3,
    "start_time": "2024-10-05T20:41:53.887Z"
   },
   {
    "duration": 13,
    "start_time": "2024-10-05T20:41:53.892Z"
   },
   {
    "duration": 4,
    "start_time": "2024-10-05T20:41:53.906Z"
   },
   {
    "duration": 5,
    "start_time": "2024-10-05T20:41:53.911Z"
   },
   {
    "duration": 4,
    "start_time": "2024-10-05T20:41:53.917Z"
   },
   {
    "duration": 6,
    "start_time": "2024-10-05T20:41:53.923Z"
   },
   {
    "duration": 4,
    "start_time": "2024-10-05T20:41:53.931Z"
   },
   {
    "duration": 4,
    "start_time": "2024-10-05T20:41:53.937Z"
   },
   {
    "duration": 4,
    "start_time": "2024-10-05T20:41:53.943Z"
   },
   {
    "duration": 5,
    "start_time": "2024-10-05T20:41:53.949Z"
   },
   {
    "duration": 51,
    "start_time": "2024-10-05T20:41:53.955Z"
   },
   {
    "duration": 4,
    "start_time": "2024-10-05T20:41:54.008Z"
   },
   {
    "duration": 4,
    "start_time": "2024-10-05T20:41:54.014Z"
   },
   {
    "duration": 60,
    "start_time": "2024-10-05T20:41:54.019Z"
   },
   {
    "duration": 41,
    "start_time": "2024-10-05T20:41:54.081Z"
   },
   {
    "duration": 6,
    "start_time": "2024-10-05T20:41:54.123Z"
   },
   {
    "duration": 4,
    "start_time": "2024-10-05T20:41:54.134Z"
   },
   {
    "duration": 9,
    "start_time": "2024-10-05T20:41:54.140Z"
   },
   {
    "duration": 102,
    "start_time": "2024-10-05T20:41:54.153Z"
   },
   {
    "duration": 7,
    "start_time": "2024-10-05T20:41:54.257Z"
   },
   {
    "duration": 6,
    "start_time": "2024-10-05T20:41:54.266Z"
   },
   {
    "duration": 37,
    "start_time": "2024-10-05T20:41:54.273Z"
   },
   {
    "duration": 6,
    "start_time": "2024-10-05T20:41:54.311Z"
   },
   {
    "duration": 371,
    "start_time": "2024-10-05T20:41:54.319Z"
   },
   {
    "duration": 1739,
    "start_time": "2024-10-05T20:41:54.692Z"
   },
   {
    "duration": 150,
    "start_time": "2024-10-05T20:41:56.432Z"
   },
   {
    "duration": 6,
    "start_time": "2024-10-05T20:41:56.584Z"
   },
   {
    "duration": 18,
    "start_time": "2024-10-05T20:41:56.592Z"
   },
   {
    "duration": 159,
    "start_time": "2024-10-05T20:41:56.611Z"
   },
   {
    "duration": 14,
    "start_time": "2024-10-05T20:41:56.772Z"
   },
   {
    "duration": 324,
    "start_time": "2024-10-05T20:41:56.787Z"
   },
   {
    "duration": 18,
    "start_time": "2024-10-05T20:41:57.113Z"
   },
   {
    "duration": 13,
    "start_time": "2024-10-05T20:41:57.133Z"
   },
   {
    "duration": 178,
    "start_time": "2024-10-05T20:41:57.148Z"
   },
   {
    "duration": 203,
    "start_time": "2024-10-05T20:41:57.328Z"
   },
   {
    "duration": 3,
    "start_time": "2024-10-05T20:41:57.533Z"
   },
   {
    "duration": 101,
    "start_time": "2024-10-05T20:41:57.538Z"
   },
   {
    "duration": 4,
    "start_time": "2024-10-05T20:41:57.641Z"
   },
   {
    "duration": 740116,
    "start_time": "2024-10-05T20:41:57.647Z"
   },
   {
    "duration": 1479663,
    "start_time": "2024-10-05T20:54:17.765Z"
   },
   {
    "duration": 231,
    "start_time": "2024-10-05T21:18:57.430Z"
   },
   {
    "duration": 0,
    "start_time": "2024-10-05T21:18:57.662Z"
   },
   {
    "duration": 0,
    "start_time": "2024-10-05T21:18:57.664Z"
   },
   {
    "duration": 0,
    "start_time": "2024-10-05T21:18:57.665Z"
   },
   {
    "duration": 0,
    "start_time": "2024-10-05T21:18:57.666Z"
   },
   {
    "duration": 0,
    "start_time": "2024-10-05T21:18:57.667Z"
   },
   {
    "duration": 0,
    "start_time": "2024-10-05T21:18:57.668Z"
   },
   {
    "duration": 974,
    "start_time": "2024-10-05T21:26:57.661Z"
   },
   {
    "duration": 486,
    "start_time": "2024-10-05T21:26:58.637Z"
   },
   {
    "duration": 22,
    "start_time": "2024-10-05T21:26:59.125Z"
   },
   {
    "duration": 12,
    "start_time": "2024-10-05T21:26:59.150Z"
   },
   {
    "duration": 173,
    "start_time": "2024-10-05T21:26:59.163Z"
   },
   {
    "duration": 18,
    "start_time": "2024-10-05T21:26:59.337Z"
   },
   {
    "duration": 10,
    "start_time": "2024-10-05T21:26:59.357Z"
   },
   {
    "duration": 106,
    "start_time": "2024-10-05T21:26:59.368Z"
   },
   {
    "duration": 19,
    "start_time": "2024-10-05T21:26:59.476Z"
   },
   {
    "duration": 12,
    "start_time": "2024-10-05T21:26:59.507Z"
   },
   {
    "duration": 187,
    "start_time": "2024-10-05T21:26:59.521Z"
   },
   {
    "duration": 2,
    "start_time": "2024-10-05T21:26:59.711Z"
   },
   {
    "duration": 5,
    "start_time": "2024-10-05T21:26:59.715Z"
   },
   {
    "duration": 4,
    "start_time": "2024-10-05T21:26:59.721Z"
   },
   {
    "duration": 5,
    "start_time": "2024-10-05T21:26:59.726Z"
   },
   {
    "duration": 4,
    "start_time": "2024-10-05T21:26:59.732Z"
   },
   {
    "duration": 6,
    "start_time": "2024-10-05T21:26:59.737Z"
   },
   {
    "duration": 3,
    "start_time": "2024-10-05T21:26:59.745Z"
   },
   {
    "duration": 5,
    "start_time": "2024-10-05T21:26:59.750Z"
   },
   {
    "duration": 3,
    "start_time": "2024-10-05T21:26:59.805Z"
   },
   {
    "duration": 5,
    "start_time": "2024-10-05T21:26:59.810Z"
   },
   {
    "duration": 5,
    "start_time": "2024-10-05T21:26:59.817Z"
   },
   {
    "duration": 4,
    "start_time": "2024-10-05T21:26:59.823Z"
   },
   {
    "duration": 3,
    "start_time": "2024-10-05T21:26:59.829Z"
   },
   {
    "duration": 86,
    "start_time": "2024-10-05T21:26:59.834Z"
   },
   {
    "duration": 18,
    "start_time": "2024-10-05T21:26:59.922Z"
   },
   {
    "duration": 6,
    "start_time": "2024-10-05T21:26:59.942Z"
   },
   {
    "duration": 4,
    "start_time": "2024-10-05T21:26:59.952Z"
   },
   {
    "duration": 6,
    "start_time": "2024-10-05T21:26:59.958Z"
   },
   {
    "duration": 104,
    "start_time": "2024-10-05T21:26:59.965Z"
   },
   {
    "duration": 6,
    "start_time": "2024-10-05T21:27:00.071Z"
   },
   {
    "duration": 5,
    "start_time": "2024-10-05T21:27:00.079Z"
   },
   {
    "duration": 34,
    "start_time": "2024-10-05T21:27:00.085Z"
   },
   {
    "duration": 6,
    "start_time": "2024-10-05T21:27:00.120Z"
   },
   {
    "duration": 379,
    "start_time": "2024-10-05T21:27:00.127Z"
   },
   {
    "duration": 1717,
    "start_time": "2024-10-05T21:27:00.508Z"
   },
   {
    "duration": 139,
    "start_time": "2024-10-05T21:27:02.227Z"
   },
   {
    "duration": 7,
    "start_time": "2024-10-05T21:27:02.368Z"
   },
   {
    "duration": 6,
    "start_time": "2024-10-05T21:27:02.377Z"
   },
   {
    "duration": 179,
    "start_time": "2024-10-05T21:27:02.384Z"
   },
   {
    "duration": 14,
    "start_time": "2024-10-05T21:27:02.565Z"
   },
   {
    "duration": 364,
    "start_time": "2024-10-05T21:27:02.581Z"
   },
   {
    "duration": 14,
    "start_time": "2024-10-05T21:27:02.947Z"
   },
   {
    "duration": 12,
    "start_time": "2024-10-05T21:27:02.962Z"
   },
   {
    "duration": 185,
    "start_time": "2024-10-05T21:27:02.976Z"
   },
   {
    "duration": 200,
    "start_time": "2024-10-05T21:27:03.163Z"
   },
   {
    "duration": 3,
    "start_time": "2024-10-05T21:27:03.365Z"
   },
   {
    "duration": 102,
    "start_time": "2024-10-05T21:27:03.370Z"
   },
   {
    "duration": 3,
    "start_time": "2024-10-05T21:27:03.474Z"
   },
   {
    "duration": 739810,
    "start_time": "2024-10-05T21:27:03.479Z"
   },
   {
    "duration": 18,
    "start_time": "2024-10-05T21:39:37.635Z"
   },
   {
    "duration": 10,
    "start_time": "2024-10-05T21:39:37.655Z"
   },
   {
    "duration": 508,
    "start_time": "2024-10-05T21:39:37.667Z"
   },
   {
    "duration": 0,
    "start_time": "2024-10-05T21:39:38.177Z"
   },
   {
    "duration": 0,
    "start_time": "2024-10-05T21:39:38.179Z"
   },
   {
    "duration": 0,
    "start_time": "2024-10-05T21:39:38.183Z"
   },
   {
    "duration": 14274,
    "start_time": "2024-10-05T21:39:54.688Z"
   },
   {
    "duration": 150950,
    "start_time": "2024-10-05T21:50:47.410Z"
   },
   {
    "duration": 452565,
    "start_time": "2024-10-05T21:53:39.440Z"
   },
   {
    "duration": 957,
    "start_time": "2024-10-05T22:13:23.995Z"
   },
   {
    "duration": 505,
    "start_time": "2024-10-05T22:13:24.954Z"
   },
   {
    "duration": 23,
    "start_time": "2024-10-05T22:13:25.460Z"
   },
   {
    "duration": 27,
    "start_time": "2024-10-05T22:13:25.484Z"
   },
   {
    "duration": 156,
    "start_time": "2024-10-05T22:13:25.514Z"
   },
   {
    "duration": 19,
    "start_time": "2024-10-05T22:13:25.671Z"
   },
   {
    "duration": 22,
    "start_time": "2024-10-05T22:13:25.691Z"
   },
   {
    "duration": 97,
    "start_time": "2024-10-05T22:13:25.714Z"
   },
   {
    "duration": 20,
    "start_time": "2024-10-05T22:13:25.812Z"
   },
   {
    "duration": 12,
    "start_time": "2024-10-05T22:13:25.834Z"
   },
   {
    "duration": 185,
    "start_time": "2024-10-05T22:13:25.847Z"
   },
   {
    "duration": 3,
    "start_time": "2024-10-05T22:13:26.034Z"
   },
   {
    "duration": 4,
    "start_time": "2024-10-05T22:13:26.039Z"
   },
   {
    "duration": 4,
    "start_time": "2024-10-05T22:13:26.047Z"
   },
   {
    "duration": 5,
    "start_time": "2024-10-05T22:13:26.052Z"
   },
   {
    "duration": 4,
    "start_time": "2024-10-05T22:13:26.058Z"
   },
   {
    "duration": 7,
    "start_time": "2024-10-05T22:13:26.063Z"
   },
   {
    "duration": 4,
    "start_time": "2024-10-05T22:13:26.104Z"
   },
   {
    "duration": 5,
    "start_time": "2024-10-05T22:13:26.109Z"
   },
   {
    "duration": 4,
    "start_time": "2024-10-05T22:13:26.116Z"
   },
   {
    "duration": 5,
    "start_time": "2024-10-05T22:13:26.122Z"
   },
   {
    "duration": 4,
    "start_time": "2024-10-05T22:13:26.128Z"
   },
   {
    "duration": 4,
    "start_time": "2024-10-05T22:13:26.134Z"
   },
   {
    "duration": 5,
    "start_time": "2024-10-05T22:13:26.139Z"
   },
   {
    "duration": 99,
    "start_time": "2024-10-05T22:13:26.146Z"
   },
   {
    "duration": 18,
    "start_time": "2024-10-05T22:13:26.247Z"
   },
   {
    "duration": 6,
    "start_time": "2024-10-05T22:13:26.266Z"
   },
   {
    "duration": 4,
    "start_time": "2024-10-05T22:13:26.273Z"
   },
   {
    "duration": 32,
    "start_time": "2024-10-05T22:13:26.279Z"
   },
   {
    "duration": 81,
    "start_time": "2024-10-05T22:13:26.312Z"
   },
   {
    "duration": 17,
    "start_time": "2024-10-05T22:13:26.394Z"
   },
   {
    "duration": 7,
    "start_time": "2024-10-05T22:13:26.412Z"
   },
   {
    "duration": 17,
    "start_time": "2024-10-05T22:13:26.421Z"
   },
   {
    "duration": 7,
    "start_time": "2024-10-05T22:13:26.440Z"
   },
   {
    "duration": 398,
    "start_time": "2024-10-05T22:13:26.449Z"
   },
   {
    "duration": 1697,
    "start_time": "2024-10-05T22:13:26.849Z"
   },
   {
    "duration": 139,
    "start_time": "2024-10-05T22:13:28.548Z"
   },
   {
    "duration": 6,
    "start_time": "2024-10-05T22:13:28.689Z"
   },
   {
    "duration": 7,
    "start_time": "2024-10-05T22:13:28.706Z"
   },
   {
    "duration": 156,
    "start_time": "2024-10-05T22:13:28.715Z"
   },
   {
    "duration": 14,
    "start_time": "2024-10-05T22:13:28.876Z"
   },
   {
    "duration": 321,
    "start_time": "2024-10-05T22:13:28.891Z"
   },
   {
    "duration": 15,
    "start_time": "2024-10-05T22:13:29.215Z"
   },
   {
    "duration": 13,
    "start_time": "2024-10-05T22:13:29.232Z"
   },
   {
    "duration": 175,
    "start_time": "2024-10-05T22:13:29.247Z"
   },
   {
    "duration": 201,
    "start_time": "2024-10-05T22:13:29.424Z"
   },
   {
    "duration": 3,
    "start_time": "2024-10-05T22:13:29.627Z"
   },
   {
    "duration": 99,
    "start_time": "2024-10-05T22:13:29.632Z"
   },
   {
    "duration": 4,
    "start_time": "2024-10-05T22:13:29.732Z"
   },
   {
    "duration": 738806,
    "start_time": "2024-10-05T22:13:29.738Z"
   },
   {
    "duration": 14496,
    "start_time": "2024-10-05T22:25:48.545Z"
   },
   {
    "duration": 796662,
    "start_time": "2024-10-05T22:26:03.043Z"
   },
   {
    "duration": 19,
    "start_time": "2024-10-05T22:39:19.707Z"
   },
   {
    "duration": 12,
    "start_time": "2024-10-05T22:39:19.728Z"
   },
   {
    "duration": 714,
    "start_time": "2024-10-05T22:39:19.742Z"
   },
   {
    "duration": 0,
    "start_time": "2024-10-05T22:39:20.459Z"
   },
   {
    "duration": 0,
    "start_time": "2024-10-05T22:39:20.460Z"
   },
   {
    "duration": 2749,
    "start_time": "2024-10-05T23:52:01.323Z"
   },
   {
    "duration": 655,
    "start_time": "2024-10-05T23:52:04.075Z"
   },
   {
    "duration": 23,
    "start_time": "2024-10-05T23:52:04.732Z"
   },
   {
    "duration": 13,
    "start_time": "2024-10-05T23:52:04.757Z"
   },
   {
    "duration": 183,
    "start_time": "2024-10-05T23:52:04.771Z"
   },
   {
    "duration": 18,
    "start_time": "2024-10-05T23:52:04.956Z"
   },
   {
    "duration": 10,
    "start_time": "2024-10-05T23:52:04.975Z"
   },
   {
    "duration": 99,
    "start_time": "2024-10-05T23:52:04.987Z"
   },
   {
    "duration": 27,
    "start_time": "2024-10-05T23:52:05.087Z"
   },
   {
    "duration": 13,
    "start_time": "2024-10-05T23:52:05.117Z"
   },
   {
    "duration": 180,
    "start_time": "2024-10-05T23:52:05.131Z"
   },
   {
    "duration": 2,
    "start_time": "2024-10-05T23:52:05.313Z"
   },
   {
    "duration": 5,
    "start_time": "2024-10-05T23:52:05.317Z"
   },
   {
    "duration": 4,
    "start_time": "2024-10-05T23:52:05.324Z"
   },
   {
    "duration": 4,
    "start_time": "2024-10-05T23:52:05.331Z"
   },
   {
    "duration": 4,
    "start_time": "2024-10-05T23:52:05.337Z"
   },
   {
    "duration": 6,
    "start_time": "2024-10-05T23:52:05.342Z"
   },
   {
    "duration": 4,
    "start_time": "2024-10-05T23:52:05.350Z"
   },
   {
    "duration": 52,
    "start_time": "2024-10-05T23:52:05.355Z"
   },
   {
    "duration": 4,
    "start_time": "2024-10-05T23:52:05.408Z"
   },
   {
    "duration": 5,
    "start_time": "2024-10-05T23:52:05.414Z"
   },
   {
    "duration": 4,
    "start_time": "2024-10-05T23:52:05.421Z"
   },
   {
    "duration": 5,
    "start_time": "2024-10-05T23:52:05.426Z"
   },
   {
    "duration": 3,
    "start_time": "2024-10-05T23:52:05.433Z"
   },
   {
    "duration": 90,
    "start_time": "2024-10-05T23:52:05.438Z"
   },
   {
    "duration": 18,
    "start_time": "2024-10-05T23:52:05.530Z"
   },
   {
    "duration": 5,
    "start_time": "2024-10-05T23:52:05.550Z"
   },
   {
    "duration": 5,
    "start_time": "2024-10-05T23:52:05.559Z"
   },
   {
    "duration": 7,
    "start_time": "2024-10-05T23:52:05.566Z"
   },
   {
    "duration": 108,
    "start_time": "2024-10-05T23:52:05.575Z"
   },
   {
    "duration": 8,
    "start_time": "2024-10-05T23:52:05.685Z"
   },
   {
    "duration": 6,
    "start_time": "2024-10-05T23:52:05.704Z"
   },
   {
    "duration": 16,
    "start_time": "2024-10-05T23:52:05.711Z"
   },
   {
    "duration": 7,
    "start_time": "2024-10-05T23:52:05.728Z"
   },
   {
    "duration": 446,
    "start_time": "2024-10-05T23:52:05.737Z"
   },
   {
    "duration": 1723,
    "start_time": "2024-10-05T23:52:06.186Z"
   },
   {
    "duration": 145,
    "start_time": "2024-10-05T23:52:07.911Z"
   },
   {
    "duration": 6,
    "start_time": "2024-10-05T23:52:08.058Z"
   },
   {
    "duration": 7,
    "start_time": "2024-10-05T23:52:08.066Z"
   },
   {
    "duration": 171,
    "start_time": "2024-10-05T23:52:08.074Z"
   },
   {
    "duration": 13,
    "start_time": "2024-10-05T23:52:08.246Z"
   },
   {
    "duration": 320,
    "start_time": "2024-10-05T23:52:08.261Z"
   },
   {
    "duration": 22,
    "start_time": "2024-10-05T23:52:08.583Z"
   },
   {
    "duration": 16,
    "start_time": "2024-10-05T23:52:08.606Z"
   },
   {
    "duration": 170,
    "start_time": "2024-10-05T23:52:08.623Z"
   },
   {
    "duration": 201,
    "start_time": "2024-10-05T23:52:08.796Z"
   },
   {
    "duration": 7,
    "start_time": "2024-10-05T23:52:08.998Z"
   },
   {
    "duration": 22,
    "start_time": "2024-10-05T23:52:09.007Z"
   },
   {
    "duration": 4,
    "start_time": "2024-10-05T23:52:09.030Z"
   },
   {
    "duration": 739499,
    "start_time": "2024-10-05T23:52:09.035Z"
   },
   {
    "duration": 14288,
    "start_time": "2024-10-06T00:04:28.537Z"
   },
   {
    "duration": 961,
    "start_time": "2024-10-06T00:15:25.489Z"
   },
   {
    "duration": 490,
    "start_time": "2024-10-06T00:15:26.452Z"
   },
   {
    "duration": 22,
    "start_time": "2024-10-06T00:15:26.944Z"
   },
   {
    "duration": 12,
    "start_time": "2024-10-06T00:15:26.968Z"
   },
   {
    "duration": 175,
    "start_time": "2024-10-06T00:15:26.982Z"
   },
   {
    "duration": 18,
    "start_time": "2024-10-06T00:15:27.159Z"
   },
   {
    "duration": 9,
    "start_time": "2024-10-06T00:15:27.179Z"
   },
   {
    "duration": 84,
    "start_time": "2024-10-06T00:15:27.206Z"
   },
   {
    "duration": 32,
    "start_time": "2024-10-06T00:15:27.292Z"
   },
   {
    "duration": 13,
    "start_time": "2024-10-06T00:15:27.327Z"
   },
   {
    "duration": 182,
    "start_time": "2024-10-06T00:15:27.342Z"
   },
   {
    "duration": 3,
    "start_time": "2024-10-06T00:15:27.526Z"
   },
   {
    "duration": 6,
    "start_time": "2024-10-06T00:15:27.530Z"
   },
   {
    "duration": 4,
    "start_time": "2024-10-06T00:15:27.537Z"
   },
   {
    "duration": 5,
    "start_time": "2024-10-06T00:15:27.542Z"
   },
   {
    "duration": 3,
    "start_time": "2024-10-06T00:15:27.549Z"
   },
   {
    "duration": 6,
    "start_time": "2024-10-06T00:15:27.554Z"
   },
   {
    "duration": 4,
    "start_time": "2024-10-06T00:15:27.563Z"
   },
   {
    "duration": 5,
    "start_time": "2024-10-06T00:15:27.605Z"
   },
   {
    "duration": 4,
    "start_time": "2024-10-06T00:15:27.611Z"
   },
   {
    "duration": 6,
    "start_time": "2024-10-06T00:15:27.616Z"
   },
   {
    "duration": 5,
    "start_time": "2024-10-06T00:15:27.623Z"
   },
   {
    "duration": 4,
    "start_time": "2024-10-06T00:15:27.630Z"
   },
   {
    "duration": 4,
    "start_time": "2024-10-06T00:15:27.635Z"
   },
   {
    "duration": 101,
    "start_time": "2024-10-06T00:15:27.641Z"
   },
   {
    "duration": 18,
    "start_time": "2024-10-06T00:15:27.744Z"
   },
   {
    "duration": 6,
    "start_time": "2024-10-06T00:15:27.763Z"
   },
   {
    "duration": 5,
    "start_time": "2024-10-06T00:15:27.773Z"
   },
   {
    "duration": 31,
    "start_time": "2024-10-06T00:15:27.779Z"
   },
   {
    "duration": 75,
    "start_time": "2024-10-06T00:15:27.811Z"
   },
   {
    "duration": 20,
    "start_time": "2024-10-06T00:15:27.888Z"
   },
   {
    "duration": 7,
    "start_time": "2024-10-06T00:15:27.909Z"
   },
   {
    "duration": 18,
    "start_time": "2024-10-06T00:15:27.917Z"
   },
   {
    "duration": 6,
    "start_time": "2024-10-06T00:15:27.937Z"
   },
   {
    "duration": 382,
    "start_time": "2024-10-06T00:15:27.944Z"
   },
   {
    "duration": 1697,
    "start_time": "2024-10-06T00:15:28.328Z"
   },
   {
    "duration": 139,
    "start_time": "2024-10-06T00:15:30.028Z"
   },
   {
    "duration": 6,
    "start_time": "2024-10-06T00:15:30.170Z"
   },
   {
    "duration": 5,
    "start_time": "2024-10-06T00:15:30.178Z"
   },
   {
    "duration": 166,
    "start_time": "2024-10-06T00:15:30.185Z"
   },
   {
    "duration": 13,
    "start_time": "2024-10-06T00:15:30.353Z"
   },
   {
    "duration": 332,
    "start_time": "2024-10-06T00:15:30.369Z"
   },
   {
    "duration": 18,
    "start_time": "2024-10-06T00:15:30.706Z"
   },
   {
    "duration": 12,
    "start_time": "2024-10-06T00:15:30.726Z"
   },
   {
    "duration": 173,
    "start_time": "2024-10-06T00:15:30.739Z"
   },
   {
    "duration": 196,
    "start_time": "2024-10-06T00:15:30.914Z"
   },
   {
    "duration": 4,
    "start_time": "2024-10-06T00:15:31.112Z"
   },
   {
    "duration": 102,
    "start_time": "2024-10-06T00:15:31.117Z"
   },
   {
    "duration": 4,
    "start_time": "2024-10-06T00:15:31.221Z"
   },
   {
    "duration": 739342,
    "start_time": "2024-10-06T00:15:31.227Z"
   },
   {
    "duration": 14308,
    "start_time": "2024-10-06T00:27:50.571Z"
   },
   {
    "duration": 1058942,
    "start_time": "2024-10-06T00:28:04.881Z"
   },
   {
    "duration": 26,
    "start_time": "2024-10-06T00:45:43.825Z"
   },
   {
    "duration": 13,
    "start_time": "2024-10-06T00:45:43.853Z"
   },
   {
    "duration": 505,
    "start_time": "2024-10-06T00:45:43.867Z"
   },
   {
    "duration": 0,
    "start_time": "2024-10-06T00:45:44.374Z"
   },
   {
    "duration": 0,
    "start_time": "2024-10-06T00:45:44.375Z"
   },
   {
    "duration": 24683,
    "start_time": "2024-10-06T00:49:13.523Z"
   },
   {
    "duration": 16,
    "start_time": "2024-10-06T00:52:14.113Z"
   },
   {
    "duration": 7,
    "start_time": "2024-10-06T00:52:15.105Z"
   },
   {
    "duration": 17,
    "start_time": "2024-10-06T00:53:12.724Z"
   },
   {
    "duration": 17,
    "start_time": "2024-10-06T00:53:13.521Z"
   },
   {
    "duration": 136,
    "start_time": "2024-10-06T00:56:17.070Z"
   },
   {
    "duration": 792,
    "start_time": "2024-10-06T00:56:29.018Z"
   },
   {
    "duration": 97,
    "start_time": "2024-10-06T01:00:53.174Z"
   },
   {
    "duration": 18,
    "start_time": "2024-10-06T01:01:28.819Z"
   },
   {
    "duration": 7,
    "start_time": "2024-10-06T01:01:32.467Z"
   },
   {
    "duration": 6,
    "start_time": "2024-10-06T01:03:47.657Z"
   },
   {
    "duration": 6,
    "start_time": "2024-10-06T01:03:59.916Z"
   },
   {
    "duration": 21,
    "start_time": "2024-10-06T01:07:47.836Z"
   },
   {
    "duration": 21,
    "start_time": "2024-10-06T01:08:32.774Z"
   },
   {
    "duration": 250,
    "start_time": "2024-10-06T01:10:34.597Z"
   },
   {
    "duration": 3,
    "start_time": "2024-10-06T01:10:59.457Z"
   },
   {
    "duration": 5,
    "start_time": "2024-10-06T01:11:06.719Z"
   },
   {
    "duration": 4,
    "start_time": "2024-10-06T01:11:22.751Z"
   },
   {
    "duration": 4,
    "start_time": "2024-10-06T01:12:30.796Z"
   },
   {
    "duration": 4,
    "start_time": "2024-10-06T01:14:37.857Z"
   },
   {
    "duration": 4,
    "start_time": "2024-10-06T01:51:58.815Z"
   },
   {
    "duration": 4,
    "start_time": "2024-10-06T01:52:09.862Z"
   },
   {
    "duration": 4,
    "start_time": "2024-10-06T01:52:19.591Z"
   },
   {
    "duration": 3,
    "start_time": "2024-10-06T01:52:29.914Z"
   },
   {
    "duration": 4,
    "start_time": "2024-10-06T01:52:38.080Z"
   },
   {
    "duration": 4,
    "start_time": "2024-10-06T01:52:50.495Z"
   },
   {
    "duration": 4,
    "start_time": "2024-10-06T01:53:51.875Z"
   },
   {
    "duration": 3,
    "start_time": "2024-10-06T01:54:23.477Z"
   },
   {
    "duration": 4,
    "start_time": "2024-10-06T01:55:01.491Z"
   },
   {
    "duration": 4,
    "start_time": "2024-10-06T01:55:10.034Z"
   },
   {
    "duration": 13,
    "start_time": "2024-10-06T01:55:38.021Z"
   },
   {
    "duration": 4,
    "start_time": "2024-10-06T01:55:53.858Z"
   },
   {
    "duration": 4,
    "start_time": "2024-10-06T01:56:17.644Z"
   },
   {
    "duration": 3,
    "start_time": "2024-10-06T01:56:49.623Z"
   },
   {
    "duration": 3,
    "start_time": "2024-10-06T01:56:58.676Z"
   },
   {
    "duration": 2,
    "start_time": "2024-10-06T01:58:40.914Z"
   },
   {
    "duration": 3,
    "start_time": "2024-10-06T01:58:59.089Z"
   },
   {
    "duration": 3,
    "start_time": "2024-10-06T01:59:10.107Z"
   },
   {
    "duration": 3,
    "start_time": "2024-10-06T01:59:47.813Z"
   },
   {
    "duration": 3,
    "start_time": "2024-10-06T02:03:02.194Z"
   },
   {
    "duration": 4,
    "start_time": "2024-10-06T02:03:31.262Z"
   },
   {
    "duration": 5,
    "start_time": "2024-10-06T02:03:41.789Z"
   },
   {
    "duration": 14,
    "start_time": "2024-10-06T02:03:51.309Z"
   },
   {
    "duration": 3,
    "start_time": "2024-10-06T02:03:59.140Z"
   },
   {
    "duration": 3,
    "start_time": "2024-10-06T02:04:08.604Z"
   },
   {
    "duration": 4,
    "start_time": "2024-10-06T02:04:15.309Z"
   },
   {
    "duration": 3,
    "start_time": "2024-10-06T02:04:26.110Z"
   },
   {
    "duration": 3,
    "start_time": "2024-10-06T02:04:41.437Z"
   },
   {
    "duration": 17,
    "start_time": "2024-10-06T02:06:28.854Z"
   },
   {
    "duration": 4,
    "start_time": "2024-10-06T02:06:30.856Z"
   },
   {
    "duration": 17,
    "start_time": "2024-10-06T02:06:37.105Z"
   },
   {
    "duration": 3,
    "start_time": "2024-10-06T02:06:44.003Z"
   },
   {
    "duration": 4,
    "start_time": "2024-10-06T02:06:49.456Z"
   },
   {
    "duration": 3,
    "start_time": "2024-10-06T02:06:55.254Z"
   },
   {
    "duration": 21,
    "start_time": "2024-10-06T02:07:02.897Z"
   },
   {
    "duration": 18,
    "start_time": "2024-10-06T02:07:19.877Z"
   },
   {
    "duration": 16,
    "start_time": "2024-10-06T02:07:21.290Z"
   },
   {
    "duration": 848,
    "start_time": "2024-10-06T02:07:22.857Z"
   },
   {
    "duration": 45,
    "start_time": "2024-10-06T02:07:27.666Z"
   },
   {
    "duration": 62,
    "start_time": "2024-10-06T02:08:41.734Z"
   },
   {
    "duration": 15,
    "start_time": "2024-10-06T02:09:35.274Z"
   },
   {
    "duration": 1250,
    "start_time": "2024-10-06T02:09:36.757Z"
   },
   {
    "duration": 12,
    "start_time": "2024-10-06T02:09:41.290Z"
   },
   {
    "duration": 54,
    "start_time": "2024-10-06T02:09:44.123Z"
   },
   {
    "duration": 14,
    "start_time": "2024-10-06T02:10:18.906Z"
   },
   {
    "duration": 13,
    "start_time": "2024-10-06T02:10:25.103Z"
   },
   {
    "duration": 888,
    "start_time": "2024-10-06T02:10:26.619Z"
   },
   {
    "duration": 12,
    "start_time": "2024-10-06T02:10:29.526Z"
   },
   {
    "duration": 47,
    "start_time": "2024-10-06T02:10:31.519Z"
   },
   {
    "duration": 7,
    "start_time": "2024-10-06T02:10:48.136Z"
   },
   {
    "duration": 9,
    "start_time": "2024-10-06T02:10:50.296Z"
   },
   {
    "duration": 4,
    "start_time": "2024-10-06T02:11:12.772Z"
   },
   {
    "duration": 3,
    "start_time": "2024-10-06T02:12:09.165Z"
   },
   {
    "duration": 3,
    "start_time": "2024-10-06T02:12:23.358Z"
   },
   {
    "duration": 12,
    "start_time": "2024-10-06T02:13:52.675Z"
   },
   {
    "duration": 789,
    "start_time": "2024-10-06T02:14:17.529Z"
   },
   {
    "duration": 7,
    "start_time": "2024-10-06T02:14:20.166Z"
   },
   {
    "duration": 5,
    "start_time": "2024-10-06T02:14:20.973Z"
   },
   {
    "duration": 5,
    "start_time": "2024-10-06T02:14:25.987Z"
   },
   {
    "duration": 4,
    "start_time": "2024-10-06T02:14:27.556Z"
   },
   {
    "duration": 4,
    "start_time": "2024-10-06T02:14:36.405Z"
   },
   {
    "duration": 3,
    "start_time": "2024-10-06T02:16:57.203Z"
   },
   {
    "duration": 4,
    "start_time": "2024-10-06T02:17:01.573Z"
   },
   {
    "duration": 3,
    "start_time": "2024-10-06T02:17:19.370Z"
   },
   {
    "duration": 3,
    "start_time": "2024-10-06T02:17:23.128Z"
   },
   {
    "duration": 5,
    "start_time": "2024-10-06T02:17:26.761Z"
   },
   {
    "duration": 3,
    "start_time": "2024-10-06T02:18:34.088Z"
   },
   {
    "duration": 122,
    "start_time": "2024-10-06T02:19:56.338Z"
   },
   {
    "duration": 37,
    "start_time": "2024-10-06T02:20:28.187Z"
   },
   {
    "duration": 63,
    "start_time": "2024-10-06T02:20:32.667Z"
   },
   {
    "duration": 13,
    "start_time": "2024-10-06T02:22:49.597Z"
   },
   {
    "duration": 15,
    "start_time": "2024-10-06T02:23:11.820Z"
   },
   {
    "duration": 5,
    "start_time": "2024-10-06T02:24:00.670Z"
   },
   {
    "duration": 5,
    "start_time": "2024-10-06T02:24:26.249Z"
   },
   {
    "duration": 145,
    "start_time": "2024-10-06T02:24:28.126Z"
   },
   {
    "duration": 3,
    "start_time": "2024-10-06T02:25:43.301Z"
   },
   {
    "duration": 3,
    "start_time": "2024-10-06T02:27:45.192Z"
   },
   {
    "duration": 156,
    "start_time": "2024-10-06T02:27:49.365Z"
   },
   {
    "duration": 4,
    "start_time": "2024-10-06T02:28:50.831Z"
   },
   {
    "duration": 219,
    "start_time": "2024-10-06T02:28:54.825Z"
   },
   {
    "duration": 3,
    "start_time": "2024-10-06T02:30:01.366Z"
   },
   {
    "duration": 4,
    "start_time": "2024-10-06T02:30:51.785Z"
   },
   {
    "duration": 4,
    "start_time": "2024-10-06T02:30:53.066Z"
   },
   {
    "duration": 3,
    "start_time": "2024-10-06T02:31:07.351Z"
   },
   {
    "duration": 4,
    "start_time": "2024-10-06T02:31:14.347Z"
   },
   {
    "duration": 3,
    "start_time": "2024-10-06T02:31:29.500Z"
   },
   {
    "duration": 3,
    "start_time": "2024-10-06T02:31:37.023Z"
   },
   {
    "duration": 4,
    "start_time": "2024-10-06T02:32:20.385Z"
   },
   {
    "duration": 3,
    "start_time": "2024-10-06T02:32:21.537Z"
   },
   {
    "duration": 2,
    "start_time": "2024-10-06T02:33:48.085Z"
   },
   {
    "duration": 2,
    "start_time": "2024-10-06T02:33:48.772Z"
   },
   {
    "duration": 4,
    "start_time": "2024-10-06T02:33:49.732Z"
   },
   {
    "duration": 4,
    "start_time": "2024-10-06T02:35:03.060Z"
   },
   {
    "duration": 5,
    "start_time": "2024-10-06T02:35:36.665Z"
   },
   {
    "duration": 2,
    "start_time": "2024-10-06T02:35:37.782Z"
   },
   {
    "duration": 3,
    "start_time": "2024-10-06T02:35:38.836Z"
   },
   {
    "duration": 5,
    "start_time": "2024-10-06T02:35:43.769Z"
   },
   {
    "duration": 4,
    "start_time": "2024-10-06T02:36:34.046Z"
   },
   {
    "duration": 5,
    "start_time": "2024-10-06T02:38:21.991Z"
   },
   {
    "duration": 4,
    "start_time": "2024-10-06T02:38:22.983Z"
   },
   {
    "duration": 2,
    "start_time": "2024-10-06T02:38:23.645Z"
   },
   {
    "duration": 4,
    "start_time": "2024-10-06T02:38:24.214Z"
   },
   {
    "duration": 217,
    "start_time": "2024-10-06T02:38:25.226Z"
   },
   {
    "duration": 6,
    "start_time": "2024-10-06T02:38:45.894Z"
   },
   {
    "duration": 3,
    "start_time": "2024-10-06T02:39:00.760Z"
   },
   {
    "duration": 4,
    "start_time": "2024-10-06T02:39:01.532Z"
   },
   {
    "duration": 4,
    "start_time": "2024-10-06T02:39:02.648Z"
   },
   {
    "duration": 31,
    "start_time": "2024-10-06T02:41:48.883Z"
   },
   {
    "duration": 6,
    "start_time": "2024-10-06T02:41:53.827Z"
   },
   {
    "duration": 203,
    "start_time": "2024-10-06T02:46:34.986Z"
   },
   {
    "duration": 299,
    "start_time": "2024-10-06T02:48:20.089Z"
   },
   {
    "duration": 208,
    "start_time": "2024-10-06T02:48:46.578Z"
   },
   {
    "duration": 214,
    "start_time": "2024-10-06T02:49:02.932Z"
   },
   {
    "duration": 21,
    "start_time": "2024-10-06T02:52:15.062Z"
   },
   {
    "duration": 21,
    "start_time": "2024-10-06T02:52:26.576Z"
   },
   {
    "duration": 4,
    "start_time": "2024-10-06T02:52:33.906Z"
   },
   {
    "duration": 14,
    "start_time": "2024-10-06T02:53:13.978Z"
   },
   {
    "duration": 4,
    "start_time": "2024-10-06T02:53:28.538Z"
   },
   {
    "duration": 4,
    "start_time": "2024-10-06T02:53:42.195Z"
   },
   {
    "duration": 3,
    "start_time": "2024-10-06T02:54:00.011Z"
   },
   {
    "duration": 4,
    "start_time": "2024-10-06T02:54:10.075Z"
   },
   {
    "duration": 7,
    "start_time": "2024-10-06T02:55:09.524Z"
   },
   {
    "duration": 3,
    "start_time": "2024-10-06T02:55:26.889Z"
   },
   {
    "duration": 7,
    "start_time": "2024-10-06T02:56:26.457Z"
   },
   {
    "duration": 4,
    "start_time": "2024-10-06T02:59:02.968Z"
   },
   {
    "duration": 3,
    "start_time": "2024-10-06T02:59:08.276Z"
   },
   {
    "duration": 4,
    "start_time": "2024-10-06T03:00:39.506Z"
   },
   {
    "duration": 6,
    "start_time": "2024-10-06T03:00:47.036Z"
   },
   {
    "duration": 4,
    "start_time": "2024-10-06T03:00:56.060Z"
   },
   {
    "duration": 4,
    "start_time": "2024-10-06T03:01:13.638Z"
   },
   {
    "duration": 4,
    "start_time": "2024-10-06T03:01:36.139Z"
   },
   {
    "duration": 9,
    "start_time": "2024-10-06T03:02:12.324Z"
   },
   {
    "duration": 4,
    "start_time": "2024-10-06T03:03:11.252Z"
   },
   {
    "duration": 4,
    "start_time": "2024-10-06T03:03:18.748Z"
   },
   {
    "duration": 3,
    "start_time": "2024-10-06T03:03:33.522Z"
   },
   {
    "duration": 80,
    "start_time": "2024-10-06T03:04:43.315Z"
   },
   {
    "duration": 4,
    "start_time": "2024-10-06T03:05:35.525Z"
   },
   {
    "duration": 130,
    "start_time": "2024-10-06T03:05:59.535Z"
   },
   {
    "duration": 133,
    "start_time": "2024-10-06T03:06:17.129Z"
   },
   {
    "duration": 81,
    "start_time": "2024-10-06T03:07:47.177Z"
   },
   {
    "duration": 70,
    "start_time": "2024-10-06T03:08:06.989Z"
   },
   {
    "duration": 74,
    "start_time": "2024-10-06T03:08:15.023Z"
   },
   {
    "duration": 4,
    "start_time": "2024-10-06T03:08:40.152Z"
   },
   {
    "duration": 4,
    "start_time": "2024-10-06T03:08:48.624Z"
   },
   {
    "duration": 130,
    "start_time": "2024-10-06T03:10:23.489Z"
   },
   {
    "duration": 2,
    "start_time": "2024-10-06T03:12:11.842Z"
   },
   {
    "duration": 4,
    "start_time": "2024-10-06T03:12:12.521Z"
   },
   {
    "duration": 3,
    "start_time": "2024-10-06T03:13:10.473Z"
   },
   {
    "duration": 4,
    "start_time": "2024-10-06T03:13:11.188Z"
   },
   {
    "duration": 3,
    "start_time": "2024-10-06T03:14:08.037Z"
   },
   {
    "duration": 4,
    "start_time": "2024-10-06T03:14:53.272Z"
   },
   {
    "duration": 3,
    "start_time": "2024-10-06T03:14:58.732Z"
   },
   {
    "duration": 16,
    "start_time": "2024-10-06T03:15:32.938Z"
   },
   {
    "duration": 3,
    "start_time": "2024-10-06T03:15:50.656Z"
   },
   {
    "duration": 3,
    "start_time": "2024-10-06T03:16:06.139Z"
   },
   {
    "duration": 4,
    "start_time": "2024-10-06T03:16:08.935Z"
   },
   {
    "duration": 3,
    "start_time": "2024-10-06T03:16:49.795Z"
   },
   {
    "duration": 5,
    "start_time": "2024-10-06T03:16:50.335Z"
   },
   {
    "duration": 2,
    "start_time": "2024-10-06T03:17:12.788Z"
   },
   {
    "duration": 4,
    "start_time": "2024-10-06T03:17:13.337Z"
   },
   {
    "duration": 7,
    "start_time": "2024-10-06T03:17:35.713Z"
   },
   {
    "duration": 6,
    "start_time": "2024-10-06T03:17:43.485Z"
   },
   {
    "duration": 3,
    "start_time": "2024-10-06T03:19:17.219Z"
   },
   {
    "duration": 4,
    "start_time": "2024-10-06T03:19:25.177Z"
   },
   {
    "duration": 4,
    "start_time": "2024-10-06T03:20:42.849Z"
   },
   {
    "duration": 13,
    "start_time": "2024-10-06T03:20:54.868Z"
   },
   {
    "duration": 5,
    "start_time": "2024-10-06T03:20:59.994Z"
   },
   {
    "duration": 3,
    "start_time": "2024-10-06T03:21:02.310Z"
   },
   {
    "duration": 5,
    "start_time": "2024-10-06T03:21:03.183Z"
   },
   {
    "duration": 4,
    "start_time": "2024-10-06T03:21:05.021Z"
   },
   {
    "duration": 11,
    "start_time": "2024-10-06T08:53:41.509Z"
   },
   {
    "duration": 8,
    "start_time": "2024-10-06T15:48:24.080Z"
   },
   {
    "duration": 154,
    "start_time": "2024-10-06T15:48:28.772Z"
   },
   {
    "duration": 2694,
    "start_time": "2024-10-06T15:48:33.638Z"
   },
   {
    "duration": 674,
    "start_time": "2024-10-06T15:48:36.334Z"
   },
   {
    "duration": 24,
    "start_time": "2024-10-06T15:48:37.010Z"
   },
   {
    "duration": 15,
    "start_time": "2024-10-06T15:48:37.036Z"
   },
   {
    "duration": 171,
    "start_time": "2024-10-06T15:48:37.054Z"
   },
   {
    "duration": 19,
    "start_time": "2024-10-06T15:48:37.227Z"
   },
   {
    "duration": 10,
    "start_time": "2024-10-06T15:48:37.247Z"
   },
   {
    "duration": 104,
    "start_time": "2024-10-06T15:48:37.259Z"
   },
   {
    "duration": 19,
    "start_time": "2024-10-06T15:48:37.365Z"
   },
   {
    "duration": 21,
    "start_time": "2024-10-06T15:48:37.386Z"
   },
   {
    "duration": 182,
    "start_time": "2024-10-06T15:48:37.409Z"
   },
   {
    "duration": 3,
    "start_time": "2024-10-06T15:48:42.162Z"
   },
   {
    "duration": 13,
    "start_time": "2024-10-06T15:50:49.230Z"
   },
   {
    "duration": 4,
    "start_time": "2024-10-06T15:51:48.018Z"
   },
   {
    "duration": 6,
    "start_time": "2024-10-06T15:53:23.676Z"
   },
   {
    "duration": 6,
    "start_time": "2024-10-06T15:54:29.640Z"
   },
   {
    "duration": 4,
    "start_time": "2024-10-06T15:54:45.322Z"
   },
   {
    "duration": 10,
    "start_time": "2024-10-06T15:56:16.329Z"
   },
   {
    "duration": 3,
    "start_time": "2024-10-06T15:56:41.401Z"
   },
   {
    "duration": 5,
    "start_time": "2024-10-06T15:57:10.944Z"
   },
   {
    "duration": 5,
    "start_time": "2024-10-06T15:57:22.049Z"
   },
   {
    "duration": 6,
    "start_time": "2024-10-06T15:57:43.216Z"
   },
   {
    "duration": 7,
    "start_time": "2024-10-06T15:58:07.021Z"
   },
   {
    "duration": 6,
    "start_time": "2024-10-06T15:58:22.924Z"
   },
   {
    "duration": 11,
    "start_time": "2024-10-06T15:59:13.306Z"
   },
   {
    "duration": 6,
    "start_time": "2024-10-06T16:00:42.460Z"
   },
   {
    "duration": 12,
    "start_time": "2024-10-06T16:01:04.806Z"
   },
   {
    "duration": 5,
    "start_time": "2024-10-06T16:01:38.971Z"
   },
   {
    "duration": 4,
    "start_time": "2024-10-06T16:03:02.652Z"
   },
   {
    "duration": 5,
    "start_time": "2024-10-06T16:03:06.157Z"
   },
   {
    "duration": 4,
    "start_time": "2024-10-06T16:03:11.646Z"
   },
   {
    "duration": 4,
    "start_time": "2024-10-06T16:03:27.037Z"
   },
   {
    "duration": 4,
    "start_time": "2024-10-06T16:03:30.656Z"
   },
   {
    "duration": 10,
    "start_time": "2024-10-06T16:06:37.647Z"
   },
   {
    "duration": 9,
    "start_time": "2024-10-06T16:15:53.260Z"
   },
   {
    "duration": 5,
    "start_time": "2024-10-06T16:19:15.278Z"
   },
   {
    "duration": 3,
    "start_time": "2024-10-06T16:19:27.868Z"
   },
   {
    "duration": 4,
    "start_time": "2024-10-06T16:19:33.159Z"
   },
   {
    "duration": 5,
    "start_time": "2024-10-06T16:19:37.575Z"
   },
   {
    "duration": 9,
    "start_time": "2024-10-06T16:19:48.264Z"
   },
   {
    "duration": 9,
    "start_time": "2024-10-06T16:19:57.068Z"
   },
   {
    "duration": 5,
    "start_time": "2024-10-06T16:20:05.948Z"
   },
   {
    "duration": 6,
    "start_time": "2024-10-06T16:20:59.217Z"
   },
   {
    "duration": 6,
    "start_time": "2024-10-06T16:21:08.176Z"
   },
   {
    "duration": 6,
    "start_time": "2024-10-06T16:25:02.849Z"
   },
   {
    "duration": 6,
    "start_time": "2024-10-06T16:29:53.684Z"
   },
   {
    "duration": 5,
    "start_time": "2024-10-06T16:31:22.364Z"
   },
   {
    "duration": 5,
    "start_time": "2024-10-06T16:31:26.233Z"
   },
   {
    "duration": 3,
    "start_time": "2024-10-06T16:31:31.629Z"
   },
   {
    "duration": 506,
    "start_time": "2024-10-06T16:31:31.634Z"
   },
   {
    "duration": 20,
    "start_time": "2024-10-06T16:31:32.142Z"
   },
   {
    "duration": 12,
    "start_time": "2024-10-06T16:31:32.165Z"
   },
   {
    "duration": 165,
    "start_time": "2024-10-06T16:31:32.178Z"
   },
   {
    "duration": 20,
    "start_time": "2024-10-06T16:31:32.344Z"
   },
   {
    "duration": 10,
    "start_time": "2024-10-06T16:31:32.365Z"
   },
   {
    "duration": 109,
    "start_time": "2024-10-06T16:31:32.376Z"
   },
   {
    "duration": 32,
    "start_time": "2024-10-06T16:31:32.487Z"
   },
   {
    "duration": 12,
    "start_time": "2024-10-06T16:31:32.522Z"
   },
   {
    "duration": 190,
    "start_time": "2024-10-06T16:31:32.536Z"
   },
   {
    "duration": 5,
    "start_time": "2024-10-06T16:31:32.727Z"
   },
   {
    "duration": 4,
    "start_time": "2024-10-06T16:31:32.734Z"
   },
   {
    "duration": 4,
    "start_time": "2024-10-06T16:31:37.587Z"
   },
   {
    "duration": 7,
    "start_time": "2024-10-06T16:31:47.754Z"
   },
   {
    "duration": 4,
    "start_time": "2024-10-06T16:31:48.907Z"
   },
   {
    "duration": 7,
    "start_time": "2024-10-06T16:31:54.332Z"
   },
   {
    "duration": 3,
    "start_time": "2024-10-06T16:31:59.358Z"
   },
   {
    "duration": 5,
    "start_time": "2024-10-06T16:32:08.321Z"
   },
   {
    "duration": 3,
    "start_time": "2024-10-06T16:34:00.023Z"
   },
   {
    "duration": 5,
    "start_time": "2024-10-06T16:34:02.637Z"
   },
   {
    "duration": 7,
    "start_time": "2024-10-06T16:49:29.139Z"
   },
   {
    "duration": 6,
    "start_time": "2024-10-06T16:50:21.573Z"
   },
   {
    "duration": 7,
    "start_time": "2024-10-06T16:51:47.487Z"
   },
   {
    "duration": 8,
    "start_time": "2024-10-06T16:51:54.006Z"
   },
   {
    "duration": 9,
    "start_time": "2024-10-06T16:53:57.944Z"
   },
   {
    "duration": 7,
    "start_time": "2024-10-06T16:54:11.654Z"
   },
   {
    "duration": 4,
    "start_time": "2024-10-06T16:54:50.256Z"
   },
   {
    "duration": 6,
    "start_time": "2024-10-06T16:54:51.343Z"
   },
   {
    "duration": 89,
    "start_time": "2024-10-06T16:58:25.358Z"
   },
   {
    "duration": 359,
    "start_time": "2024-10-06T16:58:36.622Z"
   },
   {
    "duration": 1672,
    "start_time": "2024-10-06T16:58:39.053Z"
   },
   {
    "duration": 528,
    "start_time": "2024-10-06T16:58:44.438Z"
   },
   {
    "duration": 1501,
    "start_time": "2024-10-06T16:59:34.445Z"
   },
   {
    "duration": 1549,
    "start_time": "2024-10-06T17:01:30.798Z"
   },
   {
    "duration": 1305,
    "start_time": "2024-10-06T17:01:53.845Z"
   },
   {
    "duration": 1421,
    "start_time": "2024-10-06T17:02:55.097Z"
   },
   {
    "duration": 1374,
    "start_time": "2024-10-06T17:03:28.052Z"
   },
   {
    "duration": 1533,
    "start_time": "2024-10-06T17:03:47.086Z"
   },
   {
    "duration": 969,
    "start_time": "2024-10-06T17:15:09.494Z"
   },
   {
    "duration": 683,
    "start_time": "2024-10-06T17:15:10.465Z"
   },
   {
    "duration": 23,
    "start_time": "2024-10-06T17:15:11.150Z"
   },
   {
    "duration": 32,
    "start_time": "2024-10-06T17:15:11.174Z"
   },
   {
    "duration": 160,
    "start_time": "2024-10-06T17:15:11.209Z"
   },
   {
    "duration": 18,
    "start_time": "2024-10-06T17:15:11.371Z"
   },
   {
    "duration": 22,
    "start_time": "2024-10-06T17:15:11.391Z"
   },
   {
    "duration": 92,
    "start_time": "2024-10-06T17:15:11.414Z"
   },
   {
    "duration": 19,
    "start_time": "2024-10-06T17:15:11.508Z"
   },
   {
    "duration": 13,
    "start_time": "2024-10-06T17:15:11.528Z"
   },
   {
    "duration": 190,
    "start_time": "2024-10-06T17:15:11.542Z"
   },
   {
    "duration": 4,
    "start_time": "2024-10-06T17:15:11.734Z"
   },
   {
    "duration": 4,
    "start_time": "2024-10-06T17:15:11.740Z"
   },
   {
    "duration": 8,
    "start_time": "2024-10-06T17:15:11.749Z"
   },
   {
    "duration": 4,
    "start_time": "2024-10-06T17:15:11.758Z"
   },
   {
    "duration": 5,
    "start_time": "2024-10-06T17:15:11.764Z"
   },
   {
    "duration": 34,
    "start_time": "2024-10-06T17:15:11.771Z"
   },
   {
    "duration": 4,
    "start_time": "2024-10-06T17:15:11.807Z"
   },
   {
    "duration": 5,
    "start_time": "2024-10-06T17:15:11.812Z"
   },
   {
    "duration": 111,
    "start_time": "2024-10-06T17:15:11.819Z"
   },
   {
    "duration": 18,
    "start_time": "2024-10-06T17:15:11.932Z"
   },
   {
    "duration": 6,
    "start_time": "2024-10-06T17:15:11.952Z"
   },
   {
    "duration": 5,
    "start_time": "2024-10-06T17:15:11.960Z"
   },
   {
    "duration": 7,
    "start_time": "2024-10-06T17:15:11.966Z"
   },
   {
    "duration": 34,
    "start_time": "2024-10-06T17:15:11.975Z"
   },
   {
    "duration": 8,
    "start_time": "2024-10-06T17:15:12.011Z"
   },
   {
    "duration": 5,
    "start_time": "2024-10-06T17:15:12.020Z"
   },
   {
    "duration": 3,
    "start_time": "2024-10-06T17:15:12.027Z"
   },
   {
    "duration": 5,
    "start_time": "2024-10-06T17:15:12.032Z"
   },
   {
    "duration": 411,
    "start_time": "2024-10-06T17:15:12.038Z"
   },
   {
    "duration": 1733,
    "start_time": "2024-10-06T17:15:12.451Z"
   },
   {
    "duration": 1471,
    "start_time": "2024-10-06T17:15:14.186Z"
   },
   {
    "duration": 134,
    "start_time": "2024-10-06T17:15:15.659Z"
   },
   {
    "duration": 11,
    "start_time": "2024-10-06T17:15:15.794Z"
   },
   {
    "duration": 7,
    "start_time": "2024-10-06T17:15:15.806Z"
   },
   {
    "duration": 163,
    "start_time": "2024-10-06T17:15:15.814Z"
   },
   {
    "duration": 13,
    "start_time": "2024-10-06T17:15:15.979Z"
   },
   {
    "duration": 381,
    "start_time": "2024-10-06T17:15:16.004Z"
   },
   {
    "duration": 23,
    "start_time": "2024-10-06T17:15:16.387Z"
   },
   {
    "duration": 15,
    "start_time": "2024-10-06T17:15:16.412Z"
   },
   {
    "duration": 159,
    "start_time": "2024-10-06T17:15:16.433Z"
   },
   {
    "duration": 200,
    "start_time": "2024-10-06T17:15:16.594Z"
   },
   {
    "duration": 9,
    "start_time": "2024-10-06T17:15:16.797Z"
   },
   {
    "duration": 22,
    "start_time": "2024-10-06T17:15:16.808Z"
   },
   {
    "duration": 1031,
    "start_time": "2024-10-06T17:22:25.613Z"
   },
   {
    "duration": 481,
    "start_time": "2024-10-06T17:22:26.646Z"
   },
   {
    "duration": 22,
    "start_time": "2024-10-06T17:22:27.129Z"
   },
   {
    "duration": 12,
    "start_time": "2024-10-06T17:22:27.153Z"
   },
   {
    "duration": 167,
    "start_time": "2024-10-06T17:22:27.168Z"
   },
   {
    "duration": 18,
    "start_time": "2024-10-06T17:22:27.337Z"
   },
   {
    "duration": 9,
    "start_time": "2024-10-06T17:22:27.357Z"
   },
   {
    "duration": 103,
    "start_time": "2024-10-06T17:22:27.368Z"
   },
   {
    "duration": 19,
    "start_time": "2024-10-06T17:22:27.472Z"
   },
   {
    "duration": 22,
    "start_time": "2024-10-06T17:22:27.493Z"
   },
   {
    "duration": 176,
    "start_time": "2024-10-06T17:22:27.518Z"
   },
   {
    "duration": 4,
    "start_time": "2024-10-06T17:22:27.704Z"
   },
   {
    "duration": 5,
    "start_time": "2024-10-06T17:22:27.710Z"
   },
   {
    "duration": 8,
    "start_time": "2024-10-06T17:22:27.719Z"
   },
   {
    "duration": 4,
    "start_time": "2024-10-06T17:22:27.728Z"
   },
   {
    "duration": 7,
    "start_time": "2024-10-06T17:22:27.733Z"
   },
   {
    "duration": 4,
    "start_time": "2024-10-06T17:22:27.741Z"
   },
   {
    "duration": 4,
    "start_time": "2024-10-06T17:22:27.746Z"
   },
   {
    "duration": 4,
    "start_time": "2024-10-06T17:22:27.752Z"
   },
   {
    "duration": 137,
    "start_time": "2024-10-06T17:22:27.758Z"
   },
   {
    "duration": 23,
    "start_time": "2024-10-06T17:22:27.897Z"
   },
   {
    "duration": 6,
    "start_time": "2024-10-06T17:22:27.922Z"
   },
   {
    "duration": 5,
    "start_time": "2024-10-06T17:22:27.930Z"
   },
   {
    "duration": 7,
    "start_time": "2024-10-06T17:22:27.936Z"
   },
   {
    "duration": 7,
    "start_time": "2024-10-06T17:22:27.945Z"
   },
   {
    "duration": 7,
    "start_time": "2024-10-06T17:22:27.953Z"
   },
   {
    "duration": 46,
    "start_time": "2024-10-06T17:22:27.962Z"
   },
   {
    "duration": 4,
    "start_time": "2024-10-06T17:22:28.009Z"
   },
   {
    "duration": 6,
    "start_time": "2024-10-06T17:22:28.015Z"
   },
   {
    "duration": 387,
    "start_time": "2024-10-06T17:22:28.022Z"
   },
   {
    "duration": 1726,
    "start_time": "2024-10-06T17:22:28.411Z"
   },
   {
    "duration": 1396,
    "start_time": "2024-10-06T17:22:30.138Z"
   },
   {
    "duration": 133,
    "start_time": "2024-10-06T17:22:31.536Z"
   },
   {
    "duration": 8,
    "start_time": "2024-10-06T17:22:31.670Z"
   },
   {
    "duration": 6,
    "start_time": "2024-10-06T17:22:31.679Z"
   },
   {
    "duration": 172,
    "start_time": "2024-10-06T17:22:31.687Z"
   },
   {
    "duration": 13,
    "start_time": "2024-10-06T17:22:31.861Z"
   },
   {
    "duration": 390,
    "start_time": "2024-10-06T17:22:31.876Z"
   },
   {
    "duration": 15,
    "start_time": "2024-10-06T17:22:32.268Z"
   },
   {
    "duration": 28,
    "start_time": "2024-10-06T17:22:32.284Z"
   },
   {
    "duration": 160,
    "start_time": "2024-10-06T17:22:32.317Z"
   },
   {
    "duration": 195,
    "start_time": "2024-10-06T17:22:32.478Z"
   },
   {
    "duration": 3,
    "start_time": "2024-10-06T17:22:32.675Z"
   },
   {
    "duration": 36,
    "start_time": "2024-10-06T17:22:32.680Z"
   },
   {
    "duration": 1000,
    "start_time": "2024-10-06T17:23:26.939Z"
   },
   {
    "duration": 498,
    "start_time": "2024-10-06T17:23:27.942Z"
   },
   {
    "duration": 22,
    "start_time": "2024-10-06T17:23:28.441Z"
   },
   {
    "duration": 11,
    "start_time": "2024-10-06T17:23:28.466Z"
   },
   {
    "duration": 172,
    "start_time": "2024-10-06T17:23:28.479Z"
   },
   {
    "duration": 18,
    "start_time": "2024-10-06T17:23:28.654Z"
   },
   {
    "duration": 10,
    "start_time": "2024-10-06T17:23:28.674Z"
   },
   {
    "duration": 96,
    "start_time": "2024-10-06T17:23:28.685Z"
   },
   {
    "duration": 31,
    "start_time": "2024-10-06T17:23:28.782Z"
   },
   {
    "duration": 13,
    "start_time": "2024-10-06T17:23:28.817Z"
   },
   {
    "duration": 189,
    "start_time": "2024-10-06T17:23:28.831Z"
   },
   {
    "duration": 4,
    "start_time": "2024-10-06T17:23:29.022Z"
   },
   {
    "duration": 4,
    "start_time": "2024-10-06T17:23:29.028Z"
   },
   {
    "duration": 18,
    "start_time": "2024-10-06T17:23:29.034Z"
   },
   {
    "duration": 4,
    "start_time": "2024-10-06T17:23:29.054Z"
   },
   {
    "duration": 6,
    "start_time": "2024-10-06T17:23:29.060Z"
   },
   {
    "duration": 4,
    "start_time": "2024-10-06T17:23:29.069Z"
   },
   {
    "duration": 32,
    "start_time": "2024-10-06T17:23:29.076Z"
   },
   {
    "duration": 5,
    "start_time": "2024-10-06T17:23:29.110Z"
   },
   {
    "duration": 109,
    "start_time": "2024-10-06T17:23:29.117Z"
   },
   {
    "duration": 18,
    "start_time": "2024-10-06T17:23:29.228Z"
   },
   {
    "duration": 6,
    "start_time": "2024-10-06T17:23:29.248Z"
   },
   {
    "duration": 5,
    "start_time": "2024-10-06T17:23:29.256Z"
   },
   {
    "duration": 7,
    "start_time": "2024-10-06T17:23:29.262Z"
   },
   {
    "duration": 39,
    "start_time": "2024-10-06T17:23:29.271Z"
   },
   {
    "duration": 6,
    "start_time": "2024-10-06T17:23:29.312Z"
   },
   {
    "duration": 5,
    "start_time": "2024-10-06T17:23:29.320Z"
   },
   {
    "duration": 4,
    "start_time": "2024-10-06T17:23:29.330Z"
   },
   {
    "duration": 6,
    "start_time": "2024-10-06T17:23:29.336Z"
   },
   {
    "duration": 391,
    "start_time": "2024-10-06T17:23:29.344Z"
   },
   {
    "duration": 1700,
    "start_time": "2024-10-06T17:23:29.737Z"
   },
   {
    "duration": 2122,
    "start_time": "2024-10-06T17:23:31.439Z"
   },
   {
    "duration": 132,
    "start_time": "2024-10-06T17:23:33.563Z"
   },
   {
    "duration": 10,
    "start_time": "2024-10-06T17:23:33.697Z"
   },
   {
    "duration": 7,
    "start_time": "2024-10-06T17:23:33.708Z"
   },
   {
    "duration": 166,
    "start_time": "2024-10-06T17:23:33.716Z"
   },
   {
    "duration": 22,
    "start_time": "2024-10-06T17:23:33.884Z"
   },
   {
    "duration": 399,
    "start_time": "2024-10-06T17:23:33.907Z"
   },
   {
    "duration": 15,
    "start_time": "2024-10-06T17:23:34.308Z"
   },
   {
    "duration": 10,
    "start_time": "2024-10-06T17:23:34.325Z"
   },
   {
    "duration": 172,
    "start_time": "2024-10-06T17:23:34.336Z"
   },
   {
    "duration": 201,
    "start_time": "2024-10-06T17:23:34.510Z"
   },
   {
    "duration": 4,
    "start_time": "2024-10-06T17:23:34.713Z"
   },
   {
    "duration": 23,
    "start_time": "2024-10-06T17:23:34.719Z"
   },
   {
    "duration": 989,
    "start_time": "2024-10-06T17:24:11.359Z"
   },
   {
    "duration": 524,
    "start_time": "2024-10-06T17:24:12.350Z"
   },
   {
    "duration": 31,
    "start_time": "2024-10-06T17:24:12.875Z"
   },
   {
    "duration": 15,
    "start_time": "2024-10-06T17:24:12.908Z"
   },
   {
    "duration": 161,
    "start_time": "2024-10-06T17:24:12.926Z"
   },
   {
    "duration": 30,
    "start_time": "2024-10-06T17:24:13.089Z"
   },
   {
    "duration": 10,
    "start_time": "2024-10-06T17:24:13.121Z"
   },
   {
    "duration": 101,
    "start_time": "2024-10-06T17:24:13.133Z"
   },
   {
    "duration": 19,
    "start_time": "2024-10-06T17:24:13.235Z"
   },
   {
    "duration": 12,
    "start_time": "2024-10-06T17:24:13.256Z"
   },
   {
    "duration": 188,
    "start_time": "2024-10-06T17:24:13.270Z"
   },
   {
    "duration": 5,
    "start_time": "2024-10-06T17:24:13.460Z"
   },
   {
    "duration": 4,
    "start_time": "2024-10-06T17:24:13.467Z"
   },
   {
    "duration": 7,
    "start_time": "2024-10-06T17:24:13.476Z"
   },
   {
    "duration": 23,
    "start_time": "2024-10-06T17:24:13.484Z"
   },
   {
    "duration": 7,
    "start_time": "2024-10-06T17:24:13.508Z"
   },
   {
    "duration": 4,
    "start_time": "2024-10-06T17:24:13.516Z"
   },
   {
    "duration": 4,
    "start_time": "2024-10-06T17:24:13.522Z"
   },
   {
    "duration": 5,
    "start_time": "2024-10-06T17:24:13.527Z"
   },
   {
    "duration": 126,
    "start_time": "2024-10-06T17:24:13.534Z"
   },
   {
    "duration": 18,
    "start_time": "2024-10-06T17:24:13.662Z"
   },
   {
    "duration": 6,
    "start_time": "2024-10-06T17:24:13.681Z"
   },
   {
    "duration": 20,
    "start_time": "2024-10-06T17:24:13.689Z"
   },
   {
    "duration": 6,
    "start_time": "2024-10-06T17:24:13.711Z"
   },
   {
    "duration": 7,
    "start_time": "2024-10-06T17:24:13.718Z"
   },
   {
    "duration": 7,
    "start_time": "2024-10-06T17:24:13.727Z"
   },
   {
    "duration": 5,
    "start_time": "2024-10-06T17:24:13.736Z"
   },
   {
    "duration": 5,
    "start_time": "2024-10-06T17:24:13.742Z"
   },
   {
    "duration": 5,
    "start_time": "2024-10-06T17:24:13.748Z"
   },
   {
    "duration": 404,
    "start_time": "2024-10-06T17:24:13.756Z"
   },
   {
    "duration": 1714,
    "start_time": "2024-10-06T17:24:14.162Z"
   },
   {
    "duration": 1292,
    "start_time": "2024-10-06T17:24:15.878Z"
   },
   {
    "duration": 139,
    "start_time": "2024-10-06T17:24:17.172Z"
   },
   {
    "duration": 6,
    "start_time": "2024-10-06T17:24:17.313Z"
   },
   {
    "duration": 6,
    "start_time": "2024-10-06T17:24:17.320Z"
   },
   {
    "duration": 169,
    "start_time": "2024-10-06T17:24:17.328Z"
   },
   {
    "duration": 20,
    "start_time": "2024-10-06T17:24:17.498Z"
   },
   {
    "duration": 390,
    "start_time": "2024-10-06T17:24:17.519Z"
   },
   {
    "duration": 15,
    "start_time": "2024-10-06T17:24:17.911Z"
   },
   {
    "duration": 12,
    "start_time": "2024-10-06T17:24:17.928Z"
   },
   {
    "duration": 170,
    "start_time": "2024-10-06T17:24:17.944Z"
   },
   {
    "duration": 206,
    "start_time": "2024-10-06T17:24:18.116Z"
   },
   {
    "duration": 4,
    "start_time": "2024-10-06T17:24:18.323Z"
   },
   {
    "duration": 23,
    "start_time": "2024-10-06T17:24:18.329Z"
   },
   {
    "duration": 966,
    "start_time": "2024-10-06T17:25:55.785Z"
   },
   {
    "duration": 500,
    "start_time": "2024-10-06T17:25:56.753Z"
   },
   {
    "duration": 22,
    "start_time": "2024-10-06T17:25:57.255Z"
   },
   {
    "duration": 12,
    "start_time": "2024-10-06T17:25:57.278Z"
   },
   {
    "duration": 161,
    "start_time": "2024-10-06T17:25:57.306Z"
   },
   {
    "duration": 19,
    "start_time": "2024-10-06T17:25:57.468Z"
   },
   {
    "duration": 22,
    "start_time": "2024-10-06T17:25:57.488Z"
   },
   {
    "duration": 84,
    "start_time": "2024-10-06T17:25:57.511Z"
   },
   {
    "duration": 20,
    "start_time": "2024-10-06T17:25:57.605Z"
   },
   {
    "duration": 12,
    "start_time": "2024-10-06T17:25:57.627Z"
   },
   {
    "duration": 184,
    "start_time": "2024-10-06T17:25:57.642Z"
   },
   {
    "duration": 5,
    "start_time": "2024-10-06T17:25:57.827Z"
   },
   {
    "duration": 4,
    "start_time": "2024-10-06T17:25:57.833Z"
   },
   {
    "duration": 7,
    "start_time": "2024-10-06T17:25:57.842Z"
   },
   {
    "duration": 4,
    "start_time": "2024-10-06T17:25:57.851Z"
   },
   {
    "duration": 5,
    "start_time": "2024-10-06T17:25:57.856Z"
   },
   {
    "duration": 4,
    "start_time": "2024-10-06T17:25:57.862Z"
   },
   {
    "duration": 40,
    "start_time": "2024-10-06T17:25:57.868Z"
   },
   {
    "duration": 4,
    "start_time": "2024-10-06T17:25:57.909Z"
   },
   {
    "duration": 106,
    "start_time": "2024-10-06T17:25:57.915Z"
   },
   {
    "duration": 18,
    "start_time": "2024-10-06T17:25:58.023Z"
   },
   {
    "duration": 6,
    "start_time": "2024-10-06T17:25:58.043Z"
   },
   {
    "duration": 4,
    "start_time": "2024-10-06T17:25:58.051Z"
   },
   {
    "duration": 6,
    "start_time": "2024-10-06T17:25:58.057Z"
   },
   {
    "duration": 7,
    "start_time": "2024-10-06T17:25:58.064Z"
   },
   {
    "duration": 7,
    "start_time": "2024-10-06T17:25:58.105Z"
   },
   {
    "duration": 5,
    "start_time": "2024-10-06T17:25:58.114Z"
   },
   {
    "duration": 4,
    "start_time": "2024-10-06T17:25:58.120Z"
   },
   {
    "duration": 5,
    "start_time": "2024-10-06T17:25:58.126Z"
   },
   {
    "duration": 394,
    "start_time": "2024-10-06T17:25:58.133Z"
   },
   {
    "duration": 1803,
    "start_time": "2024-10-06T17:25:58.529Z"
   },
   {
    "duration": 1260,
    "start_time": "2024-10-06T17:26:00.335Z"
   },
   {
    "duration": 146,
    "start_time": "2024-10-06T17:26:01.597Z"
   },
   {
    "duration": 7,
    "start_time": "2024-10-06T17:26:01.745Z"
   },
   {
    "duration": 6,
    "start_time": "2024-10-06T17:26:01.754Z"
   },
   {
    "duration": 165,
    "start_time": "2024-10-06T17:26:01.762Z"
   },
   {
    "duration": 13,
    "start_time": "2024-10-06T17:26:01.929Z"
   },
   {
    "duration": 386,
    "start_time": "2024-10-06T17:26:01.944Z"
   },
   {
    "duration": 15,
    "start_time": "2024-10-06T17:26:02.331Z"
   },
   {
    "duration": 11,
    "start_time": "2024-10-06T17:26:02.348Z"
   },
   {
    "duration": 185,
    "start_time": "2024-10-06T17:26:02.364Z"
   },
   {
    "duration": 200,
    "start_time": "2024-10-06T17:26:02.552Z"
   },
   {
    "duration": 4,
    "start_time": "2024-10-06T17:26:02.754Z"
   },
   {
    "duration": 22,
    "start_time": "2024-10-06T17:26:02.760Z"
   },
   {
    "duration": 991,
    "start_time": "2024-10-06T17:28:17.753Z"
   },
   {
    "duration": 471,
    "start_time": "2024-10-06T17:28:18.746Z"
   },
   {
    "duration": 22,
    "start_time": "2024-10-06T17:28:19.219Z"
   },
   {
    "duration": 12,
    "start_time": "2024-10-06T17:28:19.244Z"
   },
   {
    "duration": 169,
    "start_time": "2024-10-06T17:28:19.258Z"
   },
   {
    "duration": 18,
    "start_time": "2024-10-06T17:28:19.430Z"
   },
   {
    "duration": 10,
    "start_time": "2024-10-06T17:28:19.449Z"
   },
   {
    "duration": 112,
    "start_time": "2024-10-06T17:28:19.460Z"
   },
   {
    "duration": 19,
    "start_time": "2024-10-06T17:28:19.574Z"
   },
   {
    "duration": 13,
    "start_time": "2024-10-06T17:28:19.607Z"
   },
   {
    "duration": 175,
    "start_time": "2024-10-06T17:28:19.621Z"
   },
   {
    "duration": 8,
    "start_time": "2024-10-06T17:28:19.798Z"
   },
   {
    "duration": 4,
    "start_time": "2024-10-06T17:28:19.807Z"
   },
   {
    "duration": 8,
    "start_time": "2024-10-06T17:28:19.812Z"
   },
   {
    "duration": 4,
    "start_time": "2024-10-06T17:28:19.822Z"
   },
   {
    "duration": 7,
    "start_time": "2024-10-06T17:28:19.827Z"
   },
   {
    "duration": 3,
    "start_time": "2024-10-06T17:28:19.835Z"
   },
   {
    "duration": 5,
    "start_time": "2024-10-06T17:28:19.839Z"
   },
   {
    "duration": 5,
    "start_time": "2024-10-06T17:28:19.845Z"
   },
   {
    "duration": 138,
    "start_time": "2024-10-06T17:28:19.852Z"
   },
   {
    "duration": 24,
    "start_time": "2024-10-06T17:28:19.992Z"
   },
   {
    "duration": 8,
    "start_time": "2024-10-06T17:28:20.017Z"
   },
   {
    "duration": 5,
    "start_time": "2024-10-06T17:28:20.027Z"
   },
   {
    "duration": 8,
    "start_time": "2024-10-06T17:28:20.035Z"
   },
   {
    "duration": 9,
    "start_time": "2024-10-06T17:28:20.046Z"
   },
   {
    "duration": 7,
    "start_time": "2024-10-06T17:28:20.057Z"
   },
   {
    "duration": 6,
    "start_time": "2024-10-06T17:28:20.065Z"
   },
   {
    "duration": 32,
    "start_time": "2024-10-06T17:28:20.075Z"
   },
   {
    "duration": 5,
    "start_time": "2024-10-06T17:28:20.109Z"
   },
   {
    "duration": 389,
    "start_time": "2024-10-06T17:28:20.116Z"
   },
   {
    "duration": 1694,
    "start_time": "2024-10-06T17:28:20.507Z"
   },
   {
    "duration": 1562,
    "start_time": "2024-10-06T17:28:22.203Z"
   },
   {
    "duration": 130,
    "start_time": "2024-10-06T17:28:23.767Z"
   },
   {
    "duration": 11,
    "start_time": "2024-10-06T17:28:23.899Z"
   },
   {
    "duration": 5,
    "start_time": "2024-10-06T17:28:23.913Z"
   },
   {
    "duration": 161,
    "start_time": "2024-10-06T17:28:23.920Z"
   },
   {
    "duration": 23,
    "start_time": "2024-10-06T17:28:24.083Z"
   },
   {
    "duration": 378,
    "start_time": "2024-10-06T17:28:24.107Z"
   },
   {
    "duration": 23,
    "start_time": "2024-10-06T17:28:24.486Z"
   },
   {
    "duration": 9,
    "start_time": "2024-10-06T17:28:24.510Z"
   },
   {
    "duration": 158,
    "start_time": "2024-10-06T17:28:24.521Z"
   },
   {
    "duration": 211,
    "start_time": "2024-10-06T17:28:24.681Z"
   },
   {
    "duration": 3,
    "start_time": "2024-10-06T17:28:24.894Z"
   },
   {
    "duration": 22,
    "start_time": "2024-10-06T17:28:24.906Z"
   },
   {
    "duration": 968,
    "start_time": "2024-10-06T17:31:11.372Z"
   },
   {
    "duration": 518,
    "start_time": "2024-10-06T17:31:12.342Z"
   },
   {
    "duration": 22,
    "start_time": "2024-10-06T17:31:12.861Z"
   },
   {
    "duration": 27,
    "start_time": "2024-10-06T17:31:12.886Z"
   },
   {
    "duration": 172,
    "start_time": "2024-10-06T17:31:12.915Z"
   },
   {
    "duration": 25,
    "start_time": "2024-10-06T17:31:13.089Z"
   },
   {
    "duration": 10,
    "start_time": "2024-10-06T17:31:13.116Z"
   },
   {
    "duration": 99,
    "start_time": "2024-10-06T17:31:13.128Z"
   },
   {
    "duration": 18,
    "start_time": "2024-10-06T17:31:13.229Z"
   },
   {
    "duration": 12,
    "start_time": "2024-10-06T17:31:13.250Z"
   },
   {
    "duration": 189,
    "start_time": "2024-10-06T17:31:13.264Z"
   },
   {
    "duration": 4,
    "start_time": "2024-10-06T17:31:13.455Z"
   },
   {
    "duration": 4,
    "start_time": "2024-10-06T17:31:13.461Z"
   },
   {
    "duration": 9,
    "start_time": "2024-10-06T17:31:13.466Z"
   },
   {
    "duration": 4,
    "start_time": "2024-10-06T17:31:13.477Z"
   },
   {
    "duration": 5,
    "start_time": "2024-10-06T17:31:13.506Z"
   },
   {
    "duration": 4,
    "start_time": "2024-10-06T17:31:13.512Z"
   },
   {
    "duration": 4,
    "start_time": "2024-10-06T17:31:13.518Z"
   },
   {
    "duration": 5,
    "start_time": "2024-10-06T17:31:13.524Z"
   },
   {
    "duration": 122,
    "start_time": "2024-10-06T17:31:13.530Z"
   },
   {
    "duration": 18,
    "start_time": "2024-10-06T17:31:13.654Z"
   },
   {
    "duration": 6,
    "start_time": "2024-10-06T17:31:13.674Z"
   },
   {
    "duration": 5,
    "start_time": "2024-10-06T17:31:13.681Z"
   },
   {
    "duration": 8,
    "start_time": "2024-10-06T17:31:13.711Z"
   },
   {
    "duration": 6,
    "start_time": "2024-10-06T17:31:13.720Z"
   },
   {
    "duration": 7,
    "start_time": "2024-10-06T17:31:13.728Z"
   },
   {
    "duration": 5,
    "start_time": "2024-10-06T17:31:13.737Z"
   },
   {
    "duration": 3,
    "start_time": "2024-10-06T17:31:13.746Z"
   },
   {
    "duration": 6,
    "start_time": "2024-10-06T17:31:13.751Z"
   },
   {
    "duration": 416,
    "start_time": "2024-10-06T17:31:13.758Z"
   },
   {
    "duration": 1679,
    "start_time": "2024-10-06T17:31:14.175Z"
   },
   {
    "duration": 1653,
    "start_time": "2024-10-06T17:31:15.856Z"
   },
   {
    "duration": 131,
    "start_time": "2024-10-06T17:31:17.511Z"
   },
   {
    "duration": 6,
    "start_time": "2024-10-06T17:31:17.644Z"
   },
   {
    "duration": 6,
    "start_time": "2024-10-06T17:31:17.652Z"
   },
   {
    "duration": 170,
    "start_time": "2024-10-06T17:31:17.659Z"
   },
   {
    "duration": 14,
    "start_time": "2024-10-06T17:31:17.830Z"
   },
   {
    "duration": 384,
    "start_time": "2024-10-06T17:31:17.845Z"
   },
   {
    "duration": 15,
    "start_time": "2024-10-06T17:31:18.231Z"
   },
   {
    "duration": 10,
    "start_time": "2024-10-06T17:31:18.247Z"
   },
   {
    "duration": 173,
    "start_time": "2024-10-06T17:31:18.259Z"
   },
   {
    "duration": 197,
    "start_time": "2024-10-06T17:31:18.434Z"
   },
   {
    "duration": 3,
    "start_time": "2024-10-06T17:31:18.633Z"
   },
   {
    "duration": 23,
    "start_time": "2024-10-06T17:31:18.638Z"
   },
   {
    "duration": 1027,
    "start_time": "2024-10-06T17:31:57.725Z"
   },
   {
    "duration": 484,
    "start_time": "2024-10-06T17:31:58.754Z"
   },
   {
    "duration": 22,
    "start_time": "2024-10-06T17:31:59.239Z"
   },
   {
    "duration": 13,
    "start_time": "2024-10-06T17:31:59.264Z"
   },
   {
    "duration": 168,
    "start_time": "2024-10-06T17:31:59.278Z"
   },
   {
    "duration": 18,
    "start_time": "2024-10-06T17:31:59.448Z"
   },
   {
    "duration": 9,
    "start_time": "2024-10-06T17:31:59.468Z"
   },
   {
    "duration": 98,
    "start_time": "2024-10-06T17:31:59.478Z"
   },
   {
    "duration": 27,
    "start_time": "2024-10-06T17:31:59.578Z"
   },
   {
    "duration": 12,
    "start_time": "2024-10-06T17:31:59.609Z"
   },
   {
    "duration": 182,
    "start_time": "2024-10-06T17:31:59.622Z"
   },
   {
    "duration": 5,
    "start_time": "2024-10-06T17:31:59.806Z"
   },
   {
    "duration": 4,
    "start_time": "2024-10-06T17:31:59.812Z"
   },
   {
    "duration": 8,
    "start_time": "2024-10-06T17:31:59.820Z"
   },
   {
    "duration": 5,
    "start_time": "2024-10-06T17:31:59.830Z"
   },
   {
    "duration": 6,
    "start_time": "2024-10-06T17:31:59.837Z"
   },
   {
    "duration": 4,
    "start_time": "2024-10-06T17:31:59.844Z"
   },
   {
    "duration": 5,
    "start_time": "2024-10-06T17:31:59.849Z"
   },
   {
    "duration": 5,
    "start_time": "2024-10-06T17:31:59.855Z"
   },
   {
    "duration": 99,
    "start_time": "2024-10-06T17:31:59.906Z"
   },
   {
    "duration": 18,
    "start_time": "2024-10-06T17:32:00.007Z"
   },
   {
    "duration": 6,
    "start_time": "2024-10-06T17:32:00.027Z"
   },
   {
    "duration": 5,
    "start_time": "2024-10-06T17:32:00.034Z"
   },
   {
    "duration": 6,
    "start_time": "2024-10-06T17:32:00.040Z"
   },
   {
    "duration": 5,
    "start_time": "2024-10-06T17:32:00.048Z"
   },
   {
    "duration": 6,
    "start_time": "2024-10-06T17:32:00.055Z"
   },
   {
    "duration": 45,
    "start_time": "2024-10-06T17:32:00.062Z"
   },
   {
    "duration": 4,
    "start_time": "2024-10-06T17:32:00.112Z"
   },
   {
    "duration": 4,
    "start_time": "2024-10-06T17:32:00.119Z"
   },
   {
    "duration": 383,
    "start_time": "2024-10-06T17:32:00.125Z"
   },
   {
    "duration": 1739,
    "start_time": "2024-10-06T17:32:00.510Z"
   },
   {
    "duration": 3278,
    "start_time": "2024-10-06T17:32:02.251Z"
   },
   {
    "duration": 131,
    "start_time": "2024-10-06T17:32:05.531Z"
   },
   {
    "duration": 7,
    "start_time": "2024-10-06T17:32:05.664Z"
   },
   {
    "duration": 6,
    "start_time": "2024-10-06T17:32:05.672Z"
   },
   {
    "duration": 170,
    "start_time": "2024-10-06T17:32:05.679Z"
   },
   {
    "duration": 14,
    "start_time": "2024-10-06T17:32:05.850Z"
   },
   {
    "duration": 391,
    "start_time": "2024-10-06T17:32:05.866Z"
   },
   {
    "duration": 14,
    "start_time": "2024-10-06T17:32:06.259Z"
   },
   {
    "duration": 9,
    "start_time": "2024-10-06T17:32:06.275Z"
   },
   {
    "duration": 178,
    "start_time": "2024-10-06T17:32:06.286Z"
   },
   {
    "duration": 203,
    "start_time": "2024-10-06T17:32:06.465Z"
   },
   {
    "duration": 4,
    "start_time": "2024-10-06T17:32:06.670Z"
   },
   {
    "duration": 34,
    "start_time": "2024-10-06T17:32:06.675Z"
   },
   {
    "duration": 943,
    "start_time": "2024-10-06T17:35:09.093Z"
   },
   {
    "duration": 501,
    "start_time": "2024-10-06T17:35:10.037Z"
   },
   {
    "duration": 22,
    "start_time": "2024-10-06T17:35:10.540Z"
   },
   {
    "duration": 12,
    "start_time": "2024-10-06T17:35:10.565Z"
   },
   {
    "duration": 171,
    "start_time": "2024-10-06T17:35:10.579Z"
   },
   {
    "duration": 19,
    "start_time": "2024-10-06T17:35:10.752Z"
   },
   {
    "duration": 9,
    "start_time": "2024-10-06T17:35:10.773Z"
   },
   {
    "duration": 104,
    "start_time": "2024-10-06T17:35:10.784Z"
   },
   {
    "duration": 28,
    "start_time": "2024-10-06T17:35:10.890Z"
   },
   {
    "duration": 12,
    "start_time": "2024-10-06T17:35:10.921Z"
   },
   {
    "duration": 177,
    "start_time": "2024-10-06T17:35:10.935Z"
   },
   {
    "duration": 6,
    "start_time": "2024-10-06T17:35:11.113Z"
   },
   {
    "duration": 4,
    "start_time": "2024-10-06T17:35:11.121Z"
   },
   {
    "duration": 8,
    "start_time": "2024-10-06T17:35:11.127Z"
   },
   {
    "duration": 4,
    "start_time": "2024-10-06T17:35:11.137Z"
   },
   {
    "duration": 7,
    "start_time": "2024-10-06T17:35:11.142Z"
   },
   {
    "duration": 2,
    "start_time": "2024-10-06T17:35:11.151Z"
   },
   {
    "duration": 5,
    "start_time": "2024-10-06T17:35:11.155Z"
   },
   {
    "duration": 44,
    "start_time": "2024-10-06T17:35:11.162Z"
   },
   {
    "duration": 102,
    "start_time": "2024-10-06T17:35:11.208Z"
   },
   {
    "duration": 19,
    "start_time": "2024-10-06T17:35:11.312Z"
   },
   {
    "duration": 5,
    "start_time": "2024-10-06T17:35:11.333Z"
   },
   {
    "duration": 5,
    "start_time": "2024-10-06T17:35:11.340Z"
   },
   {
    "duration": 7,
    "start_time": "2024-10-06T17:35:11.346Z"
   },
   {
    "duration": 6,
    "start_time": "2024-10-06T17:35:11.355Z"
   },
   {
    "duration": 6,
    "start_time": "2024-10-06T17:35:11.363Z"
   },
   {
    "duration": 7,
    "start_time": "2024-10-06T17:35:11.408Z"
   },
   {
    "duration": 4,
    "start_time": "2024-10-06T17:35:11.422Z"
   },
   {
    "duration": 5,
    "start_time": "2024-10-06T17:35:11.428Z"
   },
   {
    "duration": 383,
    "start_time": "2024-10-06T17:35:11.435Z"
   },
   {
    "duration": 1727,
    "start_time": "2024-10-06T17:35:11.820Z"
   },
   {
    "duration": 1516,
    "start_time": "2024-10-06T17:35:13.549Z"
   },
   {
    "duration": 130,
    "start_time": "2024-10-06T17:35:15.067Z"
   },
   {
    "duration": 7,
    "start_time": "2024-10-06T17:35:15.199Z"
   },
   {
    "duration": 6,
    "start_time": "2024-10-06T17:35:15.208Z"
   },
   {
    "duration": 162,
    "start_time": "2024-10-06T17:35:15.216Z"
   },
   {
    "duration": 14,
    "start_time": "2024-10-06T17:35:15.379Z"
   },
   {
    "duration": 398,
    "start_time": "2024-10-06T17:35:15.394Z"
   },
   {
    "duration": 21,
    "start_time": "2024-10-06T17:35:15.794Z"
   },
   {
    "duration": 13,
    "start_time": "2024-10-06T17:35:15.817Z"
   },
   {
    "duration": 163,
    "start_time": "2024-10-06T17:35:15.832Z"
   },
   {
    "duration": 196,
    "start_time": "2024-10-06T17:35:15.997Z"
   },
   {
    "duration": 4,
    "start_time": "2024-10-06T17:35:16.195Z"
   },
   {
    "duration": 23,
    "start_time": "2024-10-06T17:35:16.205Z"
   },
   {
    "duration": 1607,
    "start_time": "2024-10-06T18:02:30.428Z"
   },
   {
    "duration": 2886,
    "start_time": "2024-10-06T19:37:42.279Z"
   },
   {
    "duration": 748,
    "start_time": "2024-10-06T19:37:45.168Z"
   },
   {
    "duration": 27,
    "start_time": "2024-10-06T19:37:45.918Z"
   },
   {
    "duration": 14,
    "start_time": "2024-10-06T19:37:45.948Z"
   },
   {
    "duration": 171,
    "start_time": "2024-10-06T19:37:45.964Z"
   },
   {
    "duration": 23,
    "start_time": "2024-10-06T19:37:46.137Z"
   },
   {
    "duration": 11,
    "start_time": "2024-10-06T19:37:46.162Z"
   },
   {
    "duration": 112,
    "start_time": "2024-10-06T19:37:46.175Z"
   },
   {
    "duration": 21,
    "start_time": "2024-10-06T19:37:46.289Z"
   },
   {
    "duration": 30,
    "start_time": "2024-10-06T19:37:46.314Z"
   },
   {
    "duration": 181,
    "start_time": "2024-10-06T19:37:46.347Z"
   },
   {
    "duration": 13,
    "start_time": "2024-10-06T19:37:46.531Z"
   },
   {
    "duration": 5,
    "start_time": "2024-10-06T19:37:46.547Z"
   },
   {
    "duration": 11,
    "start_time": "2024-10-06T19:37:46.553Z"
   },
   {
    "duration": 8,
    "start_time": "2024-10-06T19:37:46.566Z"
   },
   {
    "duration": 7,
    "start_time": "2024-10-06T19:37:46.576Z"
   },
   {
    "duration": 3,
    "start_time": "2024-10-06T19:37:46.585Z"
   },
   {
    "duration": 5,
    "start_time": "2024-10-06T19:37:46.589Z"
   },
   {
    "duration": 5,
    "start_time": "2024-10-06T19:37:46.595Z"
   },
   {
    "duration": 152,
    "start_time": "2024-10-06T19:37:46.602Z"
   },
   {
    "duration": 21,
    "start_time": "2024-10-06T19:37:46.756Z"
   },
   {
    "duration": 8,
    "start_time": "2024-10-06T19:37:46.778Z"
   },
   {
    "duration": 5,
    "start_time": "2024-10-06T19:37:46.788Z"
   },
   {
    "duration": 8,
    "start_time": "2024-10-06T19:37:46.794Z"
   },
   {
    "duration": 39,
    "start_time": "2024-10-06T19:37:46.804Z"
   },
   {
    "duration": 8,
    "start_time": "2024-10-06T19:37:46.845Z"
   },
   {
    "duration": 8,
    "start_time": "2024-10-06T19:37:46.855Z"
   },
   {
    "duration": 4,
    "start_time": "2024-10-06T19:37:46.869Z"
   },
   {
    "duration": 7,
    "start_time": "2024-10-06T19:37:46.875Z"
   },
   {
    "duration": 531,
    "start_time": "2024-10-06T19:37:46.884Z"
   },
   {
    "duration": 1799,
    "start_time": "2024-10-06T19:37:47.417Z"
   },
   {
    "duration": 1728,
    "start_time": "2024-10-06T19:37:49.219Z"
   },
   {
    "duration": 139,
    "start_time": "2024-10-06T19:37:50.949Z"
   },
   {
    "duration": 8,
    "start_time": "2024-10-06T19:37:51.090Z"
   },
   {
    "duration": 6,
    "start_time": "2024-10-06T19:37:51.100Z"
   },
   {
    "duration": 184,
    "start_time": "2024-10-06T19:37:51.108Z"
   },
   {
    "duration": 17,
    "start_time": "2024-10-06T19:37:51.295Z"
   },
   {
    "duration": 360,
    "start_time": "2024-10-06T19:37:51.314Z"
   },
   {
    "duration": 17,
    "start_time": "2024-10-06T19:37:51.678Z"
   },
   {
    "duration": 12,
    "start_time": "2024-10-06T19:37:51.697Z"
   },
   {
    "duration": 191,
    "start_time": "2024-10-06T19:37:51.711Z"
   },
   {
    "duration": 206,
    "start_time": "2024-10-06T19:37:51.904Z"
   },
   {
    "duration": 4,
    "start_time": "2024-10-06T19:37:52.112Z"
   },
   {
    "duration": 37,
    "start_time": "2024-10-06T19:37:52.119Z"
   },
   {
    "duration": 1045,
    "start_time": "2024-10-06T19:42:33.963Z"
   },
   {
    "duration": 486,
    "start_time": "2024-10-06T19:42:35.010Z"
   },
   {
    "duration": 25,
    "start_time": "2024-10-06T19:42:35.499Z"
   },
   {
    "duration": 23,
    "start_time": "2024-10-06T19:42:35.527Z"
   },
   {
    "duration": 164,
    "start_time": "2024-10-06T19:42:35.552Z"
   },
   {
    "duration": 27,
    "start_time": "2024-10-06T19:42:35.718Z"
   },
   {
    "duration": 9,
    "start_time": "2024-10-06T19:42:35.747Z"
   },
   {
    "duration": 99,
    "start_time": "2024-10-06T19:42:35.758Z"
   },
   {
    "duration": 20,
    "start_time": "2024-10-06T19:42:35.859Z"
   },
   {
    "duration": 12,
    "start_time": "2024-10-06T19:42:35.882Z"
   },
   {
    "duration": 186,
    "start_time": "2024-10-06T19:42:35.896Z"
   },
   {
    "duration": 5,
    "start_time": "2024-10-06T19:42:36.083Z"
   },
   {
    "duration": 4,
    "start_time": "2024-10-06T19:42:36.090Z"
   },
   {
    "duration": 8,
    "start_time": "2024-10-06T19:42:36.095Z"
   },
   {
    "duration": 4,
    "start_time": "2024-10-06T19:42:36.105Z"
   },
   {
    "duration": 32,
    "start_time": "2024-10-06T19:42:36.111Z"
   },
   {
    "duration": 3,
    "start_time": "2024-10-06T19:42:36.145Z"
   },
   {
    "duration": 5,
    "start_time": "2024-10-06T19:42:36.150Z"
   },
   {
    "duration": 6,
    "start_time": "2024-10-06T19:42:36.156Z"
   },
   {
    "duration": 119,
    "start_time": "2024-10-06T19:42:36.164Z"
   },
   {
    "duration": 19,
    "start_time": "2024-10-06T19:42:36.285Z"
   },
   {
    "duration": 6,
    "start_time": "2024-10-06T19:42:36.306Z"
   },
   {
    "duration": 4,
    "start_time": "2024-10-06T19:42:36.314Z"
   },
   {
    "duration": 27,
    "start_time": "2024-10-06T19:42:36.320Z"
   },
   {
    "duration": 7,
    "start_time": "2024-10-06T19:42:36.348Z"
   },
   {
    "duration": 7,
    "start_time": "2024-10-06T19:42:36.356Z"
   },
   {
    "duration": 6,
    "start_time": "2024-10-06T19:42:36.365Z"
   },
   {
    "duration": 4,
    "start_time": "2024-10-06T19:42:36.375Z"
   },
   {
    "duration": 6,
    "start_time": "2024-10-06T19:42:36.380Z"
   },
   {
    "duration": 406,
    "start_time": "2024-10-06T19:42:36.388Z"
   },
   {
    "duration": 1704,
    "start_time": "2024-10-06T19:42:36.796Z"
   },
   {
    "duration": 1561,
    "start_time": "2024-10-06T19:42:38.502Z"
   },
   {
    "duration": 132,
    "start_time": "2024-10-06T19:42:40.066Z"
   },
   {
    "duration": 8,
    "start_time": "2024-10-06T19:42:40.200Z"
   },
   {
    "duration": 7,
    "start_time": "2024-10-06T19:42:40.210Z"
   },
   {
    "duration": 592,
    "start_time": "2024-10-06T19:42:40.219Z"
   },
   {
    "duration": 163,
    "start_time": "2024-10-06T19:42:40.813Z"
   },
   {
    "duration": 15,
    "start_time": "2024-10-06T19:42:40.978Z"
   },
   {
    "duration": 414,
    "start_time": "2024-10-06T19:42:40.994Z"
   },
   {
    "duration": 15,
    "start_time": "2024-10-06T19:42:41.410Z"
   },
   {
    "duration": 25,
    "start_time": "2024-10-06T19:42:41.427Z"
   },
   {
    "duration": 166,
    "start_time": "2024-10-06T19:42:41.454Z"
   },
   {
    "duration": 199,
    "start_time": "2024-10-06T19:42:41.622Z"
   },
   {
    "duration": 7,
    "start_time": "2024-10-06T19:42:41.823Z"
   },
   {
    "duration": 30,
    "start_time": "2024-10-06T19:42:41.832Z"
   },
   {
    "duration": 1071,
    "start_time": "2024-10-06T19:43:03.955Z"
   },
   {
    "duration": 504,
    "start_time": "2024-10-06T19:43:05.029Z"
   },
   {
    "duration": 24,
    "start_time": "2024-10-06T19:43:05.536Z"
   },
   {
    "duration": 13,
    "start_time": "2024-10-06T19:43:05.562Z"
   },
   {
    "duration": 170,
    "start_time": "2024-10-06T19:43:05.578Z"
   },
   {
    "duration": 19,
    "start_time": "2024-10-06T19:43:05.750Z"
   },
   {
    "duration": 11,
    "start_time": "2024-10-06T19:43:05.770Z"
   },
   {
    "duration": 100,
    "start_time": "2024-10-06T19:43:05.782Z"
   },
   {
    "duration": 19,
    "start_time": "2024-10-06T19:43:05.884Z"
   },
   {
    "duration": 13,
    "start_time": "2024-10-06T19:43:05.904Z"
   },
   {
    "duration": 201,
    "start_time": "2024-10-06T19:43:05.918Z"
   },
   {
    "duration": 5,
    "start_time": "2024-10-06T19:43:06.121Z"
   },
   {
    "duration": 15,
    "start_time": "2024-10-06T19:43:06.128Z"
   },
   {
    "duration": 8,
    "start_time": "2024-10-06T19:43:06.147Z"
   },
   {
    "duration": 4,
    "start_time": "2024-10-06T19:43:06.156Z"
   },
   {
    "duration": 6,
    "start_time": "2024-10-06T19:43:06.163Z"
   },
   {
    "duration": 4,
    "start_time": "2024-10-06T19:43:06.170Z"
   },
   {
    "duration": 4,
    "start_time": "2024-10-06T19:43:06.176Z"
   },
   {
    "duration": 5,
    "start_time": "2024-10-06T19:43:06.181Z"
   },
   {
    "duration": 136,
    "start_time": "2024-10-06T19:43:06.188Z"
   },
   {
    "duration": 24,
    "start_time": "2024-10-06T19:43:06.326Z"
   },
   {
    "duration": 7,
    "start_time": "2024-10-06T19:43:06.351Z"
   },
   {
    "duration": 5,
    "start_time": "2024-10-06T19:43:06.360Z"
   },
   {
    "duration": 7,
    "start_time": "2024-10-06T19:43:06.366Z"
   },
   {
    "duration": 7,
    "start_time": "2024-10-06T19:43:06.374Z"
   },
   {
    "duration": 7,
    "start_time": "2024-10-06T19:43:06.382Z"
   },
   {
    "duration": 6,
    "start_time": "2024-10-06T19:43:06.391Z"
   },
   {
    "duration": 46,
    "start_time": "2024-10-06T19:43:06.398Z"
   },
   {
    "duration": 5,
    "start_time": "2024-10-06T19:43:06.446Z"
   },
   {
    "duration": 380,
    "start_time": "2024-10-06T19:43:06.453Z"
   },
   {
    "duration": 1719,
    "start_time": "2024-10-06T19:43:06.835Z"
   },
   {
    "duration": 1524,
    "start_time": "2024-10-06T19:43:08.556Z"
   },
   {
    "duration": 136,
    "start_time": "2024-10-06T19:43:10.081Z"
   },
   {
    "duration": 8,
    "start_time": "2024-10-06T19:43:10.219Z"
   },
   {
    "duration": 15,
    "start_time": "2024-10-06T19:43:10.228Z"
   },
   {
    "duration": 582,
    "start_time": "2024-10-06T19:43:10.245Z"
   },
   {
    "duration": 163,
    "start_time": "2024-10-06T19:43:10.829Z"
   },
   {
    "duration": 15,
    "start_time": "2024-10-06T19:43:10.994Z"
   },
   {
    "duration": 438,
    "start_time": "2024-10-06T19:43:11.010Z"
   },
   {
    "duration": 15,
    "start_time": "2024-10-06T19:43:11.449Z"
   },
   {
    "duration": 12,
    "start_time": "2024-10-06T19:43:11.470Z"
   },
   {
    "duration": 172,
    "start_time": "2024-10-06T19:43:11.483Z"
   },
   {
    "duration": 200,
    "start_time": "2024-10-06T19:43:11.657Z"
   },
   {
    "duration": 6,
    "start_time": "2024-10-06T19:43:11.859Z"
   },
   {
    "duration": 22,
    "start_time": "2024-10-06T19:43:11.867Z"
   },
   {
    "duration": 963,
    "start_time": "2024-10-06T19:45:06.126Z"
   },
   {
    "duration": 493,
    "start_time": "2024-10-06T19:45:07.091Z"
   },
   {
    "duration": 22,
    "start_time": "2024-10-06T19:45:07.585Z"
   },
   {
    "duration": 14,
    "start_time": "2024-10-06T19:45:07.609Z"
   },
   {
    "duration": 171,
    "start_time": "2024-10-06T19:45:07.625Z"
   },
   {
    "duration": 20,
    "start_time": "2024-10-06T19:45:07.797Z"
   },
   {
    "duration": 10,
    "start_time": "2024-10-06T19:45:07.818Z"
   },
   {
    "duration": 84,
    "start_time": "2024-10-06T19:45:07.843Z"
   },
   {
    "duration": 30,
    "start_time": "2024-10-06T19:45:07.929Z"
   },
   {
    "duration": 12,
    "start_time": "2024-10-06T19:45:07.963Z"
   },
   {
    "duration": 177,
    "start_time": "2024-10-06T19:45:07.977Z"
   },
   {
    "duration": 5,
    "start_time": "2024-10-06T19:45:08.156Z"
   },
   {
    "duration": 4,
    "start_time": "2024-10-06T19:45:08.163Z"
   },
   {
    "duration": 9,
    "start_time": "2024-10-06T19:45:08.168Z"
   },
   {
    "duration": 5,
    "start_time": "2024-10-06T19:45:08.178Z"
   },
   {
    "duration": 5,
    "start_time": "2024-10-06T19:45:08.184Z"
   },
   {
    "duration": 5,
    "start_time": "2024-10-06T19:45:08.191Z"
   },
   {
    "duration": 4,
    "start_time": "2024-10-06T19:45:08.198Z"
   },
   {
    "duration": 4,
    "start_time": "2024-10-06T19:45:08.243Z"
   },
   {
    "duration": 115,
    "start_time": "2024-10-06T19:45:08.249Z"
   },
   {
    "duration": 19,
    "start_time": "2024-10-06T19:45:08.366Z"
   },
   {
    "duration": 6,
    "start_time": "2024-10-06T19:45:08.386Z"
   },
   {
    "duration": 5,
    "start_time": "2024-10-06T19:45:08.393Z"
   },
   {
    "duration": 7,
    "start_time": "2024-10-06T19:45:08.399Z"
   },
   {
    "duration": 6,
    "start_time": "2024-10-06T19:45:08.407Z"
   },
   {
    "duration": 6,
    "start_time": "2024-10-06T19:45:08.443Z"
   },
   {
    "duration": 6,
    "start_time": "2024-10-06T19:45:08.451Z"
   },
   {
    "duration": 3,
    "start_time": "2024-10-06T19:45:08.462Z"
   },
   {
    "duration": 6,
    "start_time": "2024-10-06T19:45:08.466Z"
   },
   {
    "duration": 400,
    "start_time": "2024-10-06T19:45:08.473Z"
   },
   {
    "duration": 1743,
    "start_time": "2024-10-06T19:45:08.874Z"
   },
   {
    "duration": 1514,
    "start_time": "2024-10-06T19:45:10.619Z"
   },
   {
    "duration": 129,
    "start_time": "2024-10-06T19:45:12.136Z"
   },
   {
    "duration": 8,
    "start_time": "2024-10-06T19:45:12.267Z"
   },
   {
    "duration": 6,
    "start_time": "2024-10-06T19:45:12.278Z"
   },
   {
    "duration": 554,
    "start_time": "2024-10-06T19:45:12.285Z"
   },
   {
    "duration": 159,
    "start_time": "2024-10-06T19:45:12.843Z"
   },
   {
    "duration": 15,
    "start_time": "2024-10-06T19:45:13.004Z"
   },
   {
    "duration": 405,
    "start_time": "2024-10-06T19:45:13.020Z"
   },
   {
    "duration": 19,
    "start_time": "2024-10-06T19:45:13.428Z"
   },
   {
    "duration": 13,
    "start_time": "2024-10-06T19:45:13.448Z"
   },
   {
    "duration": 169,
    "start_time": "2024-10-06T19:45:13.463Z"
   },
   {
    "duration": 192,
    "start_time": "2024-10-06T19:45:13.642Z"
   },
   {
    "duration": 8,
    "start_time": "2024-10-06T19:45:13.836Z"
   },
   {
    "duration": 22,
    "start_time": "2024-10-06T19:45:13.846Z"
   },
   {
    "duration": 1027,
    "start_time": "2024-10-06T19:47:55.503Z"
   },
   {
    "duration": 492,
    "start_time": "2024-10-06T19:47:56.533Z"
   },
   {
    "duration": 27,
    "start_time": "2024-10-06T19:47:57.027Z"
   },
   {
    "duration": 14,
    "start_time": "2024-10-06T19:47:57.056Z"
   },
   {
    "duration": 175,
    "start_time": "2024-10-06T19:47:57.072Z"
   },
   {
    "duration": 21,
    "start_time": "2024-10-06T19:47:57.249Z"
   },
   {
    "duration": 12,
    "start_time": "2024-10-06T19:47:57.271Z"
   },
   {
    "duration": 105,
    "start_time": "2024-10-06T19:47:57.285Z"
   },
   {
    "duration": 19,
    "start_time": "2024-10-06T19:47:57.393Z"
   },
   {
    "duration": 12,
    "start_time": "2024-10-06T19:47:57.414Z"
   },
   {
    "duration": 166,
    "start_time": "2024-10-06T19:47:57.443Z"
   },
   {
    "duration": 4,
    "start_time": "2024-10-06T19:47:57.612Z"
   },
   {
    "duration": 4,
    "start_time": "2024-10-06T19:47:57.619Z"
   },
   {
    "duration": 10,
    "start_time": "2024-10-06T19:47:57.642Z"
   },
   {
    "duration": 5,
    "start_time": "2024-10-06T19:47:57.653Z"
   },
   {
    "duration": 6,
    "start_time": "2024-10-06T19:47:57.660Z"
   },
   {
    "duration": 3,
    "start_time": "2024-10-06T19:47:57.668Z"
   },
   {
    "duration": 4,
    "start_time": "2024-10-06T19:47:57.673Z"
   },
   {
    "duration": 5,
    "start_time": "2024-10-06T19:47:57.679Z"
   },
   {
    "duration": 130,
    "start_time": "2024-10-06T19:47:57.685Z"
   },
   {
    "duration": 26,
    "start_time": "2024-10-06T19:47:57.817Z"
   },
   {
    "duration": 7,
    "start_time": "2024-10-06T19:47:57.844Z"
   },
   {
    "duration": 5,
    "start_time": "2024-10-06T19:47:57.853Z"
   },
   {
    "duration": 8,
    "start_time": "2024-10-06T19:47:57.859Z"
   },
   {
    "duration": 7,
    "start_time": "2024-10-06T19:47:57.868Z"
   },
   {
    "duration": 7,
    "start_time": "2024-10-06T19:47:57.877Z"
   },
   {
    "duration": 6,
    "start_time": "2024-10-06T19:47:57.886Z"
   },
   {
    "duration": 4,
    "start_time": "2024-10-06T19:47:57.893Z"
   },
   {
    "duration": 49,
    "start_time": "2024-10-06T19:47:57.898Z"
   },
   {
    "duration": 383,
    "start_time": "2024-10-06T19:47:57.949Z"
   },
   {
    "duration": 1711,
    "start_time": "2024-10-06T19:47:58.334Z"
   },
   {
    "duration": 1561,
    "start_time": "2024-10-06T19:48:00.047Z"
   },
   {
    "duration": 133,
    "start_time": "2024-10-06T19:48:01.610Z"
   },
   {
    "duration": 8,
    "start_time": "2024-10-06T19:48:01.744Z"
   },
   {
    "duration": 7,
    "start_time": "2024-10-06T19:48:01.753Z"
   },
   {
    "duration": 602,
    "start_time": "2024-10-06T19:48:01.762Z"
   },
   {
    "duration": 174,
    "start_time": "2024-10-06T19:48:02.368Z"
   },
   {
    "duration": 17,
    "start_time": "2024-10-06T19:48:02.544Z"
   },
   {
    "duration": 453,
    "start_time": "2024-10-06T19:48:02.563Z"
   },
   {
    "duration": 26,
    "start_time": "2024-10-06T19:48:03.019Z"
   },
   {
    "duration": 13,
    "start_time": "2024-10-06T19:48:03.052Z"
   },
   {
    "duration": 177,
    "start_time": "2024-10-06T19:48:03.067Z"
   },
   {
    "duration": 253,
    "start_time": "2024-10-06T19:48:03.246Z"
   },
   {
    "duration": 4,
    "start_time": "2024-10-06T19:48:03.501Z"
   },
   {
    "duration": 36,
    "start_time": "2024-10-06T19:48:03.507Z"
   },
   {
    "duration": 673673,
    "start_time": "2024-10-06T19:48:03.545Z"
   },
   {
    "duration": 14353,
    "start_time": "2024-10-06T19:59:17.219Z"
   },
   {
    "duration": 1017724,
    "start_time": "2024-10-06T19:59:31.574Z"
   },
   {
    "duration": 22670,
    "start_time": "2024-10-06T20:16:29.300Z"
   },
   {
    "duration": 18,
    "start_time": "2024-10-06T20:16:51.972Z"
   },
   {
    "duration": 14,
    "start_time": "2024-10-06T20:16:51.992Z"
   },
   {
    "duration": 1862,
    "start_time": "2024-10-06T20:16:52.008Z"
   },
   {
    "duration": 71,
    "start_time": "2024-10-06T20:16:53.878Z"
   },
   {
    "duration": 16,
    "start_time": "2024-10-06T20:16:53.955Z"
   },
   {
    "duration": 13,
    "start_time": "2024-10-06T20:16:53.973Z"
   },
   {
    "duration": 70,
    "start_time": "2024-10-06T20:16:53.991Z"
   },
   {
    "duration": 3,
    "start_time": "2024-10-06T20:16:54.066Z"
   },
   {
    "duration": 3,
    "start_time": "2024-10-06T20:16:54.074Z"
   },
   {
    "duration": 4,
    "start_time": "2024-10-06T20:16:54.079Z"
   },
   {
    "duration": 3,
    "start_time": "2024-10-06T20:16:54.084Z"
   },
   {
    "duration": 5,
    "start_time": "2024-10-06T20:16:54.088Z"
   },
   {
    "duration": 4,
    "start_time": "2024-10-06T20:16:54.094Z"
   },
   {
    "duration": 1271,
    "start_time": "2024-10-06T20:54:31.892Z"
   },
   {
    "duration": 10,
    "start_time": "2024-10-06T20:54:43.808Z"
   },
   {
    "duration": 614,
    "start_time": "2024-10-06T20:54:43.821Z"
   },
   {
    "duration": 27,
    "start_time": "2024-10-06T20:54:44.437Z"
   },
   {
    "duration": 17,
    "start_time": "2024-10-06T20:54:44.466Z"
   },
   {
    "duration": 205,
    "start_time": "2024-10-06T20:54:44.487Z"
   },
   {
    "duration": 29,
    "start_time": "2024-10-06T20:54:44.695Z"
   },
   {
    "duration": 26,
    "start_time": "2024-10-06T20:54:44.725Z"
   },
   {
    "duration": 117,
    "start_time": "2024-10-06T20:54:44.755Z"
   },
   {
    "duration": 28,
    "start_time": "2024-10-06T20:54:44.874Z"
   },
   {
    "duration": 17,
    "start_time": "2024-10-06T20:54:44.904Z"
   },
   {
    "duration": 244,
    "start_time": "2024-10-06T20:54:44.923Z"
   },
   {
    "duration": 11,
    "start_time": "2024-10-06T20:54:45.169Z"
   },
   {
    "duration": 6,
    "start_time": "2024-10-06T20:54:45.182Z"
   },
   {
    "duration": 7,
    "start_time": "2024-10-06T20:54:45.193Z"
   },
   {
    "duration": 6,
    "start_time": "2024-10-06T20:54:45.204Z"
   },
   {
    "duration": 6,
    "start_time": "2024-10-06T20:54:45.212Z"
   },
   {
    "duration": 24,
    "start_time": "2024-10-06T20:54:45.220Z"
   },
   {
    "duration": 6,
    "start_time": "2024-10-06T20:54:45.246Z"
   },
   {
    "duration": 6,
    "start_time": "2024-10-06T20:54:45.253Z"
   },
   {
    "duration": 267,
    "start_time": "2024-10-06T20:54:45.262Z"
   },
   {
    "duration": 24,
    "start_time": "2024-10-06T20:54:45.532Z"
   },
   {
    "duration": 8,
    "start_time": "2024-10-06T20:54:45.558Z"
   },
   {
    "duration": 7,
    "start_time": "2024-10-06T20:54:45.568Z"
   },
   {
    "duration": 8,
    "start_time": "2024-10-06T20:54:45.577Z"
   },
   {
    "duration": 6,
    "start_time": "2024-10-06T20:54:45.587Z"
   },
   {
    "duration": 8,
    "start_time": "2024-10-06T20:54:45.595Z"
   },
   {
    "duration": 40,
    "start_time": "2024-10-06T20:54:45.605Z"
   },
   {
    "duration": 5,
    "start_time": "2024-10-06T20:54:45.648Z"
   },
   {
    "duration": 11,
    "start_time": "2024-10-06T20:54:45.655Z"
   },
   {
    "duration": 710,
    "start_time": "2024-10-06T20:54:45.668Z"
   },
   {
    "duration": 2887,
    "start_time": "2024-10-06T20:54:46.380Z"
   },
   {
    "duration": 1787,
    "start_time": "2024-10-06T20:54:49.271Z"
   },
   {
    "duration": 142,
    "start_time": "2024-10-06T20:54:51.063Z"
   },
   {
    "duration": 10,
    "start_time": "2024-10-06T20:54:51.207Z"
   },
   {
    "duration": 7,
    "start_time": "2024-10-06T20:54:51.219Z"
   },
   {
    "duration": 668,
    "start_time": "2024-10-06T20:54:51.245Z"
   },
   {
    "duration": 193,
    "start_time": "2024-10-06T20:54:51.915Z"
   },
   {
    "duration": 14,
    "start_time": "2024-10-06T20:54:52.110Z"
   },
   {
    "duration": 441,
    "start_time": "2024-10-06T20:54:52.126Z"
   },
   {
    "duration": 22,
    "start_time": "2024-10-06T20:54:52.569Z"
   },
   {
    "duration": 10,
    "start_time": "2024-10-06T20:54:52.597Z"
   },
   {
    "duration": 216,
    "start_time": "2024-10-06T20:54:52.608Z"
   },
   {
    "duration": 348,
    "start_time": "2024-10-06T20:54:52.826Z"
   },
   {
    "duration": 5,
    "start_time": "2024-10-06T20:54:53.179Z"
   },
   {
    "duration": 84,
    "start_time": "2024-10-06T20:55:06.041Z"
   },
   {
    "duration": 39,
    "start_time": "2024-10-06T20:56:49.131Z"
   },
   {
    "duration": 19,
    "start_time": "2024-10-06T20:57:26.623Z"
   },
   {
    "duration": 96,
    "start_time": "2024-10-06T20:59:58.404Z"
   },
   {
    "duration": 22,
    "start_time": "2024-10-06T21:00:22.383Z"
   },
   {
    "duration": 17,
    "start_time": "2024-10-06T21:07:38.752Z"
   },
   {
    "duration": 4,
    "start_time": "2024-10-06T21:19:02.970Z"
   },
   {
    "duration": 3,
    "start_time": "2024-10-06T21:20:43.870Z"
   },
   {
    "duration": 4,
    "start_time": "2024-10-06T21:21:18.249Z"
   },
   {
    "duration": 3,
    "start_time": "2024-10-06T21:23:14.980Z"
   },
   {
    "duration": 672290,
    "start_time": "2024-10-06T21:25:06.777Z"
   },
   {
    "duration": 945118,
    "start_time": "2024-10-06T21:54:29.892Z"
   },
   {
    "duration": 1205409,
    "start_time": "2024-10-06T22:12:38.199Z"
   },
   {
    "duration": 1448806,
    "start_time": "2024-10-06T22:43:28.670Z"
   },
   {
    "duration": 2831,
    "start_time": "2024-10-07T01:57:45.712Z"
   },
   {
    "duration": 688,
    "start_time": "2024-10-07T01:57:48.545Z"
   },
   {
    "duration": 25,
    "start_time": "2024-10-07T01:57:49.235Z"
   },
   {
    "duration": 13,
    "start_time": "2024-10-07T01:57:49.262Z"
   },
   {
    "duration": 176,
    "start_time": "2024-10-07T01:57:49.277Z"
   },
   {
    "duration": 19,
    "start_time": "2024-10-07T01:57:49.454Z"
   },
   {
    "duration": 9,
    "start_time": "2024-10-07T01:57:49.475Z"
   },
   {
    "duration": 106,
    "start_time": "2024-10-07T01:57:49.487Z"
   },
   {
    "duration": 20,
    "start_time": "2024-10-07T01:57:49.595Z"
   },
   {
    "duration": 13,
    "start_time": "2024-10-07T01:57:49.631Z"
   },
   {
    "duration": 188,
    "start_time": "2024-10-07T01:57:49.645Z"
   },
   {
    "duration": 6,
    "start_time": "2024-10-07T01:57:49.835Z"
   },
   {
    "duration": 5,
    "start_time": "2024-10-07T01:57:49.842Z"
   },
   {
    "duration": 8,
    "start_time": "2024-10-07T01:57:49.849Z"
   },
   {
    "duration": 5,
    "start_time": "2024-10-07T01:57:49.858Z"
   },
   {
    "duration": 6,
    "start_time": "2024-10-07T01:57:49.865Z"
   },
   {
    "duration": 3,
    "start_time": "2024-10-07T01:57:49.874Z"
   },
   {
    "duration": 332,
    "start_time": "2024-10-07T01:57:49.879Z"
   },
   {
    "duration": 0,
    "start_time": "2024-10-07T01:57:50.215Z"
   },
   {
    "duration": 0,
    "start_time": "2024-10-07T01:57:50.216Z"
   },
   {
    "duration": 0,
    "start_time": "2024-10-07T01:57:50.218Z"
   },
   {
    "duration": 0,
    "start_time": "2024-10-07T01:57:50.219Z"
   },
   {
    "duration": 0,
    "start_time": "2024-10-07T01:57:50.232Z"
   },
   {
    "duration": 0,
    "start_time": "2024-10-07T01:57:50.233Z"
   },
   {
    "duration": 0,
    "start_time": "2024-10-07T01:57:50.234Z"
   },
   {
    "duration": 0,
    "start_time": "2024-10-07T01:57:50.235Z"
   },
   {
    "duration": 0,
    "start_time": "2024-10-07T01:57:50.236Z"
   },
   {
    "duration": 0,
    "start_time": "2024-10-07T01:57:50.237Z"
   },
   {
    "duration": 0,
    "start_time": "2024-10-07T01:57:50.238Z"
   },
   {
    "duration": 0,
    "start_time": "2024-10-07T01:57:50.240Z"
   },
   {
    "duration": 0,
    "start_time": "2024-10-07T01:57:50.241Z"
   },
   {
    "duration": 0,
    "start_time": "2024-10-07T01:57:50.243Z"
   },
   {
    "duration": 0,
    "start_time": "2024-10-07T01:57:50.244Z"
   },
   {
    "duration": 0,
    "start_time": "2024-10-07T01:57:50.246Z"
   },
   {
    "duration": 0,
    "start_time": "2024-10-07T01:57:50.247Z"
   },
   {
    "duration": 0,
    "start_time": "2024-10-07T01:57:50.248Z"
   },
   {
    "duration": 0,
    "start_time": "2024-10-07T01:57:50.249Z"
   },
   {
    "duration": 0,
    "start_time": "2024-10-07T01:57:50.250Z"
   },
   {
    "duration": 0,
    "start_time": "2024-10-07T01:57:50.251Z"
   },
   {
    "duration": 0,
    "start_time": "2024-10-07T01:57:50.252Z"
   },
   {
    "duration": 0,
    "start_time": "2024-10-07T01:57:50.253Z"
   },
   {
    "duration": 0,
    "start_time": "2024-10-07T01:57:50.254Z"
   },
   {
    "duration": 0,
    "start_time": "2024-10-07T01:57:50.256Z"
   },
   {
    "duration": 0,
    "start_time": "2024-10-07T01:57:50.257Z"
   },
   {
    "duration": 0,
    "start_time": "2024-10-07T01:57:50.260Z"
   },
   {
    "duration": 0,
    "start_time": "2024-10-07T01:57:50.262Z"
   },
   {
    "duration": 0,
    "start_time": "2024-10-07T01:57:50.270Z"
   },
   {
    "duration": 0,
    "start_time": "2024-10-07T01:57:50.272Z"
   },
   {
    "duration": 0,
    "start_time": "2024-10-07T01:57:50.273Z"
   },
   {
    "duration": 0,
    "start_time": "2024-10-07T01:57:50.331Z"
   },
   {
    "duration": 0,
    "start_time": "2024-10-07T01:57:50.333Z"
   },
   {
    "duration": 0,
    "start_time": "2024-10-07T01:57:50.334Z"
   },
   {
    "duration": 0,
    "start_time": "2024-10-07T01:57:50.335Z"
   },
   {
    "duration": 0,
    "start_time": "2024-10-07T01:57:50.336Z"
   },
   {
    "duration": 0,
    "start_time": "2024-10-07T01:57:50.337Z"
   },
   {
    "duration": 0,
    "start_time": "2024-10-07T01:57:50.338Z"
   },
   {
    "duration": 0,
    "start_time": "2024-10-07T01:57:50.339Z"
   },
   {
    "duration": 0,
    "start_time": "2024-10-07T01:57:50.340Z"
   },
   {
    "duration": 0,
    "start_time": "2024-10-07T01:57:50.341Z"
   },
   {
    "duration": 0,
    "start_time": "2024-10-07T01:57:50.342Z"
   },
   {
    "duration": 0,
    "start_time": "2024-10-07T01:57:50.343Z"
   },
   {
    "duration": 0,
    "start_time": "2024-10-07T01:57:50.344Z"
   },
   {
    "duration": 0,
    "start_time": "2024-10-07T01:57:50.345Z"
   },
   {
    "duration": 25,
    "start_time": "2024-10-07T01:58:36.856Z"
   },
   {
    "duration": 4,
    "start_time": "2024-10-07T01:59:16.969Z"
   },
   {
    "duration": 507,
    "start_time": "2024-10-07T01:59:16.975Z"
   },
   {
    "duration": 20,
    "start_time": "2024-10-07T01:59:17.485Z"
   },
   {
    "duration": 24,
    "start_time": "2024-10-07T01:59:17.508Z"
   },
   {
    "duration": 173,
    "start_time": "2024-10-07T01:59:17.535Z"
   },
   {
    "duration": 29,
    "start_time": "2024-10-07T01:59:17.710Z"
   },
   {
    "duration": 12,
    "start_time": "2024-10-07T01:59:17.741Z"
   },
   {
    "duration": 102,
    "start_time": "2024-10-07T01:59:17.755Z"
   },
   {
    "duration": 20,
    "start_time": "2024-10-07T01:59:17.858Z"
   },
   {
    "duration": 13,
    "start_time": "2024-10-07T01:59:17.881Z"
   },
   {
    "duration": 193,
    "start_time": "2024-10-07T01:59:17.896Z"
   },
   {
    "duration": 5,
    "start_time": "2024-10-07T01:59:18.091Z"
   },
   {
    "duration": 5,
    "start_time": "2024-10-07T01:59:18.097Z"
   },
   {
    "duration": 7,
    "start_time": "2024-10-07T01:59:18.105Z"
   },
   {
    "duration": 21,
    "start_time": "2024-10-07T01:59:18.113Z"
   },
   {
    "duration": 19,
    "start_time": "2024-10-07T01:59:18.136Z"
   },
   {
    "duration": 3,
    "start_time": "2024-10-07T01:59:18.157Z"
   },
   {
    "duration": 12,
    "start_time": "2024-10-07T01:59:18.162Z"
   },
   {
    "duration": 0,
    "start_time": "2024-10-07T01:59:18.175Z"
   },
   {
    "duration": 0,
    "start_time": "2024-10-07T01:59:18.177Z"
   },
   {
    "duration": 0,
    "start_time": "2024-10-07T01:59:18.180Z"
   },
   {
    "duration": 0,
    "start_time": "2024-10-07T01:59:18.181Z"
   },
   {
    "duration": 0,
    "start_time": "2024-10-07T01:59:18.182Z"
   },
   {
    "duration": 0,
    "start_time": "2024-10-07T01:59:18.183Z"
   },
   {
    "duration": 0,
    "start_time": "2024-10-07T01:59:18.184Z"
   },
   {
    "duration": 1,
    "start_time": "2024-10-07T01:59:18.184Z"
   },
   {
    "duration": 0,
    "start_time": "2024-10-07T01:59:18.186Z"
   },
   {
    "duration": 0,
    "start_time": "2024-10-07T01:59:18.187Z"
   },
   {
    "duration": 0,
    "start_time": "2024-10-07T01:59:18.189Z"
   },
   {
    "duration": 0,
    "start_time": "2024-10-07T01:59:18.190Z"
   },
   {
    "duration": 0,
    "start_time": "2024-10-07T01:59:18.191Z"
   },
   {
    "duration": 0,
    "start_time": "2024-10-07T01:59:18.192Z"
   },
   {
    "duration": 0,
    "start_time": "2024-10-07T01:59:18.193Z"
   },
   {
    "duration": 0,
    "start_time": "2024-10-07T01:59:18.194Z"
   },
   {
    "duration": 0,
    "start_time": "2024-10-07T01:59:18.233Z"
   },
   {
    "duration": 0,
    "start_time": "2024-10-07T01:59:18.234Z"
   },
   {
    "duration": 0,
    "start_time": "2024-10-07T01:59:18.237Z"
   },
   {
    "duration": 0,
    "start_time": "2024-10-07T01:59:18.238Z"
   },
   {
    "duration": 0,
    "start_time": "2024-10-07T01:59:18.239Z"
   },
   {
    "duration": 0,
    "start_time": "2024-10-07T01:59:18.240Z"
   },
   {
    "duration": 0,
    "start_time": "2024-10-07T01:59:18.242Z"
   },
   {
    "duration": 0,
    "start_time": "2024-10-07T01:59:18.242Z"
   },
   {
    "duration": 0,
    "start_time": "2024-10-07T01:59:18.243Z"
   },
   {
    "duration": 0,
    "start_time": "2024-10-07T01:59:18.244Z"
   },
   {
    "duration": 0,
    "start_time": "2024-10-07T01:59:18.244Z"
   },
   {
    "duration": 25,
    "start_time": "2024-10-07T01:59:27.997Z"
   },
   {
    "duration": 4,
    "start_time": "2024-10-07T02:00:15.034Z"
   },
   {
    "duration": 5,
    "start_time": "2024-10-07T02:00:24.805Z"
   },
   {
    "duration": 6,
    "start_time": "2024-10-07T02:00:31.538Z"
   },
   {
    "duration": 91,
    "start_time": "2024-10-07T02:00:39.620Z"
   },
   {
    "duration": 20,
    "start_time": "2024-10-07T02:00:40.175Z"
   },
   {
    "duration": 7,
    "start_time": "2024-10-07T02:00:43.230Z"
   },
   {
    "duration": 5,
    "start_time": "2024-10-07T02:00:43.998Z"
   },
   {
    "duration": 8,
    "start_time": "2024-10-07T02:00:45.387Z"
   },
   {
    "duration": 5,
    "start_time": "2024-10-07T02:00:48.328Z"
   },
   {
    "duration": 8,
    "start_time": "2024-10-07T02:00:48.886Z"
   },
   {
    "duration": 6,
    "start_time": "2024-10-07T02:00:49.713Z"
   },
   {
    "duration": 4,
    "start_time": "2024-10-07T02:00:54.016Z"
   },
   {
    "duration": 6,
    "start_time": "2024-10-07T02:00:54.695Z"
   },
   {
    "duration": 410,
    "start_time": "2024-10-07T02:01:02.131Z"
   },
   {
    "duration": 1763,
    "start_time": "2024-10-07T02:01:06.229Z"
   },
   {
    "duration": 1572,
    "start_time": "2024-10-07T02:01:12.760Z"
   },
   {
    "duration": 137,
    "start_time": "2024-10-07T02:01:17.457Z"
   },
   {
    "duration": 7,
    "start_time": "2024-10-07T02:01:21.471Z"
   },
   {
    "duration": 7,
    "start_time": "2024-10-07T02:01:22.513Z"
   },
   {
    "duration": 598,
    "start_time": "2024-10-07T02:01:27.812Z"
   },
   {
    "duration": 150,
    "start_time": "2024-10-07T02:01:35.987Z"
   },
   {
    "duration": 13,
    "start_time": "2024-10-07T02:01:38.913Z"
   },
   {
    "duration": 406,
    "start_time": "2024-10-07T02:01:41.313Z"
   },
   {
    "duration": 15,
    "start_time": "2024-10-07T02:01:46.028Z"
   },
   {
    "duration": 12,
    "start_time": "2024-10-07T02:01:46.953Z"
   },
   {
    "duration": 171,
    "start_time": "2024-10-07T02:01:51.557Z"
   },
   {
    "duration": 225,
    "start_time": "2024-10-07T02:02:01.475Z"
   },
   {
    "duration": 4,
    "start_time": "2024-10-07T02:02:20.617Z"
   },
   {
    "duration": 2,
    "start_time": "2024-10-07T02:02:21.730Z"
   },
   {
    "duration": 22,
    "start_time": "2024-10-07T02:02:25.296Z"
   },
   {
    "duration": 1066,
    "start_time": "2024-10-07T02:03:10.776Z"
   },
   {
    "duration": 539,
    "start_time": "2024-10-07T02:03:11.844Z"
   },
   {
    "duration": 22,
    "start_time": "2024-10-07T02:03:12.385Z"
   },
   {
    "duration": 22,
    "start_time": "2024-10-07T02:03:12.409Z"
   },
   {
    "duration": 168,
    "start_time": "2024-10-07T02:03:12.434Z"
   },
   {
    "duration": 18,
    "start_time": "2024-10-07T02:03:12.604Z"
   },
   {
    "duration": 10,
    "start_time": "2024-10-07T02:03:12.632Z"
   },
   {
    "duration": 95,
    "start_time": "2024-10-07T02:03:12.644Z"
   },
   {
    "duration": 19,
    "start_time": "2024-10-07T02:03:12.741Z"
   },
   {
    "duration": 13,
    "start_time": "2024-10-07T02:03:12.762Z"
   },
   {
    "duration": 183,
    "start_time": "2024-10-07T02:03:12.777Z"
   },
   {
    "duration": 5,
    "start_time": "2024-10-07T02:03:12.962Z"
   },
   {
    "duration": 4,
    "start_time": "2024-10-07T02:03:12.969Z"
   },
   {
    "duration": 9,
    "start_time": "2024-10-07T02:03:12.977Z"
   },
   {
    "duration": 5,
    "start_time": "2024-10-07T02:03:12.987Z"
   },
   {
    "duration": 6,
    "start_time": "2024-10-07T02:03:12.993Z"
   },
   {
    "duration": 5,
    "start_time": "2024-10-07T02:03:13.032Z"
   },
   {
    "duration": 5,
    "start_time": "2024-10-07T02:03:13.038Z"
   },
   {
    "duration": 5,
    "start_time": "2024-10-07T02:03:13.044Z"
   },
   {
    "duration": 117,
    "start_time": "2024-10-07T02:03:13.050Z"
   },
   {
    "duration": 25,
    "start_time": "2024-10-07T02:03:13.169Z"
   },
   {
    "duration": 9,
    "start_time": "2024-10-07T02:03:13.196Z"
   },
   {
    "duration": 25,
    "start_time": "2024-10-07T02:03:13.207Z"
   },
   {
    "duration": 6,
    "start_time": "2024-10-07T02:03:13.234Z"
   },
   {
    "duration": 7,
    "start_time": "2024-10-07T02:03:13.242Z"
   },
   {
    "duration": 7,
    "start_time": "2024-10-07T02:03:13.250Z"
   },
   {
    "duration": 6,
    "start_time": "2024-10-07T02:03:13.259Z"
   },
   {
    "duration": 4,
    "start_time": "2024-10-07T02:03:13.266Z"
   },
   {
    "duration": 7,
    "start_time": "2024-10-07T02:03:13.272Z"
   },
   {
    "duration": 453,
    "start_time": "2024-10-07T02:03:13.280Z"
   },
   {
    "duration": 1729,
    "start_time": "2024-10-07T02:03:13.734Z"
   },
   {
    "duration": 1596,
    "start_time": "2024-10-07T02:03:15.464Z"
   },
   {
    "duration": 136,
    "start_time": "2024-10-07T02:03:17.062Z"
   },
   {
    "duration": 7,
    "start_time": "2024-10-07T02:03:17.200Z"
   },
   {
    "duration": 6,
    "start_time": "2024-10-07T02:03:17.209Z"
   },
   {
    "duration": 636,
    "start_time": "2024-10-07T02:03:17.217Z"
   },
   {
    "duration": 169,
    "start_time": "2024-10-07T02:03:17.856Z"
   },
   {
    "duration": 18,
    "start_time": "2024-10-07T02:03:18.026Z"
   },
   {
    "duration": 451,
    "start_time": "2024-10-07T02:03:18.046Z"
   },
   {
    "duration": 17,
    "start_time": "2024-10-07T02:03:18.499Z"
   },
   {
    "duration": 13,
    "start_time": "2024-10-07T02:03:18.531Z"
   },
   {
    "duration": 172,
    "start_time": "2024-10-07T02:03:18.546Z"
   },
   {
    "duration": 244,
    "start_time": "2024-10-07T02:03:18.720Z"
   },
   {
    "duration": 4,
    "start_time": "2024-10-07T02:03:18.966Z"
   },
   {
    "duration": 4,
    "start_time": "2024-10-07T02:03:18.972Z"
   },
   {
    "duration": 26,
    "start_time": "2024-10-07T02:03:18.978Z"
   },
   {
    "duration": 1049,
    "start_time": "2024-10-07T03:03:34.771Z"
   },
   {
    "duration": 519,
    "start_time": "2024-10-07T03:03:35.822Z"
   },
   {
    "duration": 23,
    "start_time": "2024-10-07T03:03:36.343Z"
   },
   {
    "duration": 13,
    "start_time": "2024-10-07T03:03:36.368Z"
   },
   {
    "duration": 178,
    "start_time": "2024-10-07T03:03:36.384Z"
   },
   {
    "duration": 19,
    "start_time": "2024-10-07T03:03:36.564Z"
   },
   {
    "duration": 11,
    "start_time": "2024-10-07T03:03:36.585Z"
   },
   {
    "duration": 113,
    "start_time": "2024-10-07T03:03:36.598Z"
   },
   {
    "duration": 26,
    "start_time": "2024-10-07T03:03:36.712Z"
   },
   {
    "duration": 13,
    "start_time": "2024-10-07T03:03:36.741Z"
   },
   {
    "duration": 184,
    "start_time": "2024-10-07T03:03:36.757Z"
   },
   {
    "duration": 5,
    "start_time": "2024-10-07T03:03:36.943Z"
   },
   {
    "duration": 4,
    "start_time": "2024-10-07T03:03:36.949Z"
   },
   {
    "duration": 8,
    "start_time": "2024-10-07T03:03:36.957Z"
   },
   {
    "duration": 5,
    "start_time": "2024-10-07T03:03:36.966Z"
   },
   {
    "duration": 7,
    "start_time": "2024-10-07T03:03:36.973Z"
   },
   {
    "duration": 4,
    "start_time": "2024-10-07T03:03:36.981Z"
   },
   {
    "duration": 45,
    "start_time": "2024-10-07T03:03:36.986Z"
   },
   {
    "duration": 6,
    "start_time": "2024-10-07T03:03:37.033Z"
   },
   {
    "duration": 109,
    "start_time": "2024-10-07T03:03:37.041Z"
   },
   {
    "duration": 20,
    "start_time": "2024-10-07T03:03:37.152Z"
   },
   {
    "duration": 8,
    "start_time": "2024-10-07T03:03:37.174Z"
   },
   {
    "duration": 7,
    "start_time": "2024-10-07T03:03:37.183Z"
   },
   {
    "duration": 7,
    "start_time": "2024-10-07T03:03:37.192Z"
   },
   {
    "duration": 35,
    "start_time": "2024-10-07T03:03:37.200Z"
   },
   {
    "duration": 8,
    "start_time": "2024-10-07T03:03:37.236Z"
   },
   {
    "duration": 7,
    "start_time": "2024-10-07T03:03:37.245Z"
   },
   {
    "duration": 5,
    "start_time": "2024-10-07T03:03:37.253Z"
   },
   {
    "duration": 5,
    "start_time": "2024-10-07T03:03:37.260Z"
   },
   {
    "duration": 421,
    "start_time": "2024-10-07T03:03:37.267Z"
   },
   {
    "duration": 1764,
    "start_time": "2024-10-07T03:03:37.690Z"
   },
   {
    "duration": 1531,
    "start_time": "2024-10-07T03:03:39.456Z"
   },
   {
    "duration": 131,
    "start_time": "2024-10-07T03:03:40.990Z"
   },
   {
    "duration": 11,
    "start_time": "2024-10-07T03:03:41.124Z"
   },
   {
    "duration": 6,
    "start_time": "2024-10-07T03:03:41.137Z"
   },
   {
    "duration": 576,
    "start_time": "2024-10-07T03:03:41.145Z"
   },
   {
    "duration": 162,
    "start_time": "2024-10-07T03:03:41.723Z"
   },
   {
    "duration": 15,
    "start_time": "2024-10-07T03:03:41.887Z"
   },
   {
    "duration": 422,
    "start_time": "2024-10-07T03:03:41.904Z"
   },
   {
    "duration": 16,
    "start_time": "2024-10-07T03:03:42.330Z"
   },
   {
    "duration": 12,
    "start_time": "2024-10-07T03:03:42.350Z"
   },
   {
    "duration": 172,
    "start_time": "2024-10-07T03:03:42.364Z"
   },
   {
    "duration": 243,
    "start_time": "2024-10-07T03:03:42.538Z"
   },
   {
    "duration": 4,
    "start_time": "2024-10-07T03:03:42.783Z"
   },
   {
    "duration": 4,
    "start_time": "2024-10-07T03:03:42.788Z"
   },
   {
    "duration": 38,
    "start_time": "2024-10-07T03:03:42.793Z"
   },
   {
    "duration": 2738,
    "start_time": "2024-10-21T20:25:42.412Z"
   },
   {
    "duration": 626,
    "start_time": "2024-10-21T20:25:45.153Z"
   },
   {
    "duration": 22,
    "start_time": "2024-10-21T20:25:45.780Z"
   },
   {
    "duration": 13,
    "start_time": "2024-10-21T20:25:45.805Z"
   },
   {
    "duration": 239,
    "start_time": "2024-10-21T20:25:45.820Z"
   },
   {
    "duration": 20,
    "start_time": "2024-10-21T20:25:46.061Z"
   },
   {
    "duration": 9,
    "start_time": "2024-10-21T20:25:46.083Z"
   },
   {
    "duration": 111,
    "start_time": "2024-10-21T20:25:46.094Z"
   },
   {
    "duration": 28,
    "start_time": "2024-10-21T20:25:46.207Z"
   },
   {
    "duration": 12,
    "start_time": "2024-10-21T20:25:46.239Z"
   },
   {
    "duration": 175,
    "start_time": "2024-10-21T20:25:46.253Z"
   },
   {
    "duration": 4,
    "start_time": "2024-10-21T20:25:46.430Z"
   },
   {
    "duration": 4,
    "start_time": "2024-10-21T20:25:46.436Z"
   },
   {
    "duration": 9,
    "start_time": "2024-10-21T20:25:46.442Z"
   },
   {
    "duration": 4,
    "start_time": "2024-10-21T20:25:46.453Z"
   },
   {
    "duration": 7,
    "start_time": "2024-10-21T20:25:46.459Z"
   },
   {
    "duration": 4,
    "start_time": "2024-10-21T20:25:46.467Z"
   },
   {
    "duration": 5,
    "start_time": "2024-10-21T20:25:46.472Z"
   },
   {
    "duration": 52,
    "start_time": "2024-10-21T20:25:46.479Z"
   },
   {
    "duration": 103,
    "start_time": "2024-10-21T20:25:46.533Z"
   },
   {
    "duration": 19,
    "start_time": "2024-10-21T20:25:46.638Z"
   },
   {
    "duration": 7,
    "start_time": "2024-10-21T20:25:46.659Z"
   },
   {
    "duration": 4,
    "start_time": "2024-10-21T20:25:46.669Z"
   },
   {
    "duration": 8,
    "start_time": "2024-10-21T20:25:46.675Z"
   },
   {
    "duration": 6,
    "start_time": "2024-10-21T20:25:46.685Z"
   },
   {
    "duration": 40,
    "start_time": "2024-10-21T20:25:46.692Z"
   },
   {
    "duration": 6,
    "start_time": "2024-10-21T20:25:46.734Z"
   },
   {
    "duration": 3,
    "start_time": "2024-10-21T20:25:46.745Z"
   },
   {
    "duration": 6,
    "start_time": "2024-10-21T20:25:46.750Z"
   },
   {
    "duration": 425,
    "start_time": "2024-10-21T20:25:46.758Z"
   },
   {
    "duration": 1733,
    "start_time": "2024-10-21T20:25:47.185Z"
   },
   {
    "duration": 1512,
    "start_time": "2024-10-21T20:25:48.920Z"
   },
   {
    "duration": 140,
    "start_time": "2024-10-21T20:25:50.434Z"
   },
   {
    "duration": 8,
    "start_time": "2024-10-21T20:25:50.575Z"
   },
   {
    "duration": 6,
    "start_time": "2024-10-21T20:25:50.584Z"
   },
   {
    "duration": 573,
    "start_time": "2024-10-21T20:25:50.592Z"
   },
   {
    "duration": 159,
    "start_time": "2024-10-21T20:25:51.169Z"
   },
   {
    "duration": 14,
    "start_time": "2024-10-21T20:25:51.329Z"
   },
   {
    "duration": 326,
    "start_time": "2024-10-21T20:25:51.345Z"
   },
   {
    "duration": 15,
    "start_time": "2024-10-21T20:25:51.673Z"
   },
   {
    "duration": 15,
    "start_time": "2024-10-21T20:25:51.689Z"
   },
   {
    "duration": 170,
    "start_time": "2024-10-21T20:25:51.705Z"
   },
   {
    "duration": 339,
    "start_time": "2024-10-21T20:25:51.877Z"
   },
   {
    "duration": 3,
    "start_time": "2024-10-21T20:25:52.218Z"
   },
   {
    "duration": 10,
    "start_time": "2024-10-21T20:25:52.223Z"
   },
   {
    "duration": 22,
    "start_time": "2024-10-21T20:25:52.234Z"
   },
   {
    "duration": 1024,
    "start_time": "2024-10-21T20:36:29.189Z"
   },
   {
    "duration": 528,
    "start_time": "2024-10-21T20:36:30.215Z"
   },
   {
    "duration": 22,
    "start_time": "2024-10-21T20:36:30.745Z"
   },
   {
    "duration": 13,
    "start_time": "2024-10-21T20:36:30.769Z"
   },
   {
    "duration": 167,
    "start_time": "2024-10-21T20:36:30.784Z"
   },
   {
    "duration": 19,
    "start_time": "2024-10-21T20:36:30.952Z"
   },
   {
    "duration": 10,
    "start_time": "2024-10-21T20:36:30.973Z"
   },
   {
    "duration": 103,
    "start_time": "2024-10-21T20:36:30.985Z"
   },
   {
    "duration": 21,
    "start_time": "2024-10-21T20:36:31.090Z"
   },
   {
    "duration": 21,
    "start_time": "2024-10-21T20:36:31.113Z"
   },
   {
    "duration": 177,
    "start_time": "2024-10-21T20:36:31.136Z"
   },
   {
    "duration": 5,
    "start_time": "2024-10-21T20:36:31.316Z"
   },
   {
    "duration": 5,
    "start_time": "2024-10-21T20:36:31.331Z"
   },
   {
    "duration": 8,
    "start_time": "2024-10-21T20:36:31.340Z"
   },
   {
    "duration": 4,
    "start_time": "2024-10-21T20:36:31.350Z"
   },
   {
    "duration": 6,
    "start_time": "2024-10-21T20:36:31.356Z"
   },
   {
    "duration": 4,
    "start_time": "2024-10-21T20:36:31.363Z"
   },
   {
    "duration": 4,
    "start_time": "2024-10-21T20:36:31.369Z"
   },
   {
    "duration": 7,
    "start_time": "2024-10-21T20:36:31.375Z"
   },
   {
    "duration": 134,
    "start_time": "2024-10-21T20:36:31.383Z"
   },
   {
    "duration": 27,
    "start_time": "2024-10-21T20:36:31.518Z"
   },
   {
    "duration": 7,
    "start_time": "2024-10-21T20:36:31.547Z"
   },
   {
    "duration": 5,
    "start_time": "2024-10-21T20:36:31.555Z"
   },
   {
    "duration": 7,
    "start_time": "2024-10-21T20:36:31.562Z"
   },
   {
    "duration": 7,
    "start_time": "2024-10-21T20:36:31.571Z"
   },
   {
    "duration": 7,
    "start_time": "2024-10-21T20:36:31.580Z"
   },
   {
    "duration": 43,
    "start_time": "2024-10-21T20:36:31.589Z"
   },
   {
    "duration": 5,
    "start_time": "2024-10-21T20:36:31.634Z"
   },
   {
    "duration": 6,
    "start_time": "2024-10-21T20:36:31.641Z"
   },
   {
    "duration": 394,
    "start_time": "2024-10-21T20:36:31.648Z"
   },
   {
    "duration": 1725,
    "start_time": "2024-10-21T20:36:32.043Z"
   },
   {
    "duration": 1594,
    "start_time": "2024-10-21T20:36:33.770Z"
   },
   {
    "duration": 133,
    "start_time": "2024-10-21T20:36:35.366Z"
   },
   {
    "duration": 7,
    "start_time": "2024-10-21T20:36:35.501Z"
   },
   {
    "duration": 7,
    "start_time": "2024-10-21T20:36:35.510Z"
   },
   {
    "duration": 625,
    "start_time": "2024-10-21T20:36:35.518Z"
   },
   {
    "duration": 163,
    "start_time": "2024-10-21T20:36:36.145Z"
   },
   {
    "duration": 13,
    "start_time": "2024-10-21T20:36:36.311Z"
   },
   {
    "duration": 400,
    "start_time": "2024-10-21T20:36:36.326Z"
   },
   {
    "duration": 15,
    "start_time": "2024-10-21T20:36:36.731Z"
   },
   {
    "duration": 11,
    "start_time": "2024-10-21T20:36:36.751Z"
   },
   {
    "duration": 170,
    "start_time": "2024-10-21T20:36:36.764Z"
   },
   {
    "duration": 232,
    "start_time": "2024-10-21T20:36:36.935Z"
   },
   {
    "duration": 3,
    "start_time": "2024-10-21T20:36:37.169Z"
   },
   {
    "duration": 4,
    "start_time": "2024-10-21T20:36:37.174Z"
   },
   {
    "duration": 23,
    "start_time": "2024-10-21T20:36:37.180Z"
   },
   {
    "duration": 910777,
    "start_time": "2024-10-21T20:36:37.205Z"
   },
   {
    "duration": 13274,
    "start_time": "2024-10-21T20:51:47.983Z"
   },
   {
    "duration": 1075,
    "start_time": "2024-10-21T21:04:14.936Z"
   },
   {
    "duration": 532,
    "start_time": "2024-10-21T21:04:16.014Z"
   },
   {
    "duration": 23,
    "start_time": "2024-10-21T21:04:16.547Z"
   },
   {
    "duration": 14,
    "start_time": "2024-10-21T21:04:16.572Z"
   },
   {
    "duration": 175,
    "start_time": "2024-10-21T21:04:16.588Z"
   },
   {
    "duration": 19,
    "start_time": "2024-10-21T21:04:16.765Z"
   },
   {
    "duration": 10,
    "start_time": "2024-10-21T21:04:16.786Z"
   },
   {
    "duration": 105,
    "start_time": "2024-10-21T21:04:16.797Z"
   },
   {
    "duration": 27,
    "start_time": "2024-10-21T21:04:16.904Z"
   },
   {
    "duration": 13,
    "start_time": "2024-10-21T21:04:16.933Z"
   },
   {
    "duration": 177,
    "start_time": "2024-10-21T21:04:16.948Z"
   },
   {
    "duration": 5,
    "start_time": "2024-10-21T21:04:17.131Z"
   },
   {
    "duration": 4,
    "start_time": "2024-10-21T21:04:17.137Z"
   },
   {
    "duration": 8,
    "start_time": "2024-10-21T21:04:17.145Z"
   },
   {
    "duration": 5,
    "start_time": "2024-10-21T21:04:17.155Z"
   },
   {
    "duration": 6,
    "start_time": "2024-10-21T21:04:17.162Z"
   },
   {
    "duration": 4,
    "start_time": "2024-10-21T21:04:17.169Z"
   },
   {
    "duration": 5,
    "start_time": "2024-10-21T21:04:17.175Z"
   },
   {
    "duration": 4,
    "start_time": "2024-10-21T21:04:17.181Z"
   },
   {
    "duration": 103,
    "start_time": "2024-10-21T21:04:17.231Z"
   },
   {
    "duration": 19,
    "start_time": "2024-10-21T21:04:17.335Z"
   },
   {
    "duration": 7,
    "start_time": "2024-10-21T21:04:17.355Z"
   },
   {
    "duration": 4,
    "start_time": "2024-10-21T21:04:17.365Z"
   },
   {
    "duration": 8,
    "start_time": "2024-10-21T21:04:17.370Z"
   },
   {
    "duration": 7,
    "start_time": "2024-10-21T21:04:17.381Z"
   },
   {
    "duration": 6,
    "start_time": "2024-10-21T21:04:17.389Z"
   },
   {
    "duration": 7,
    "start_time": "2024-10-21T21:04:17.432Z"
   },
   {
    "duration": 4,
    "start_time": "2024-10-21T21:04:17.440Z"
   },
   {
    "duration": 6,
    "start_time": "2024-10-21T21:04:17.445Z"
   },
   {
    "duration": 421,
    "start_time": "2024-10-21T21:04:17.453Z"
   },
   {
    "duration": 1742,
    "start_time": "2024-10-21T21:04:17.875Z"
   },
   {
    "duration": 1565,
    "start_time": "2024-10-21T21:04:19.619Z"
   },
   {
    "duration": 134,
    "start_time": "2024-10-21T21:04:21.186Z"
   },
   {
    "duration": 12,
    "start_time": "2024-10-21T21:04:21.321Z"
   },
   {
    "duration": 5,
    "start_time": "2024-10-21T21:04:21.335Z"
   },
   {
    "duration": 585,
    "start_time": "2024-10-21T21:04:21.342Z"
   },
   {
    "duration": 178,
    "start_time": "2024-10-21T21:04:21.929Z"
   },
   {
    "duration": 15,
    "start_time": "2024-10-21T21:04:22.109Z"
   },
   {
    "duration": 387,
    "start_time": "2024-10-21T21:04:22.131Z"
   },
   {
    "duration": 23,
    "start_time": "2024-10-21T21:04:22.520Z"
   },
   {
    "duration": 11,
    "start_time": "2024-10-21T21:04:22.548Z"
   },
   {
    "duration": 170,
    "start_time": "2024-10-21T21:04:22.561Z"
   },
   {
    "duration": 227,
    "start_time": "2024-10-21T21:04:22.733Z"
   },
   {
    "duration": 3,
    "start_time": "2024-10-21T21:04:22.962Z"
   },
   {
    "duration": 4,
    "start_time": "2024-10-21T21:04:22.967Z"
   },
   {
    "duration": 25,
    "start_time": "2024-10-21T21:04:22.972Z"
   },
   {
    "duration": 1007,
    "start_time": "2024-10-21T21:06:26.360Z"
   },
   {
    "duration": 530,
    "start_time": "2024-10-21T21:06:27.369Z"
   },
   {
    "duration": 21,
    "start_time": "2024-10-21T21:06:27.901Z"
   },
   {
    "duration": 19,
    "start_time": "2024-10-21T21:06:27.924Z"
   },
   {
    "duration": 169,
    "start_time": "2024-10-21T21:06:27.946Z"
   },
   {
    "duration": 26,
    "start_time": "2024-10-21T21:06:28.117Z"
   },
   {
    "duration": 11,
    "start_time": "2024-10-21T21:06:28.144Z"
   },
   {
    "duration": 100,
    "start_time": "2024-10-21T21:06:28.156Z"
   },
   {
    "duration": 19,
    "start_time": "2024-10-21T21:06:28.258Z"
   },
   {
    "duration": 12,
    "start_time": "2024-10-21T21:06:28.279Z"
   },
   {
    "duration": 193,
    "start_time": "2024-10-21T21:06:28.293Z"
   },
   {
    "duration": 5,
    "start_time": "2024-10-21T21:06:28.488Z"
   },
   {
    "duration": 3,
    "start_time": "2024-10-21T21:06:28.496Z"
   },
   {
    "duration": 8,
    "start_time": "2024-10-21T21:06:28.503Z"
   },
   {
    "duration": 21,
    "start_time": "2024-10-21T21:06:28.513Z"
   },
   {
    "duration": 6,
    "start_time": "2024-10-21T21:06:28.536Z"
   },
   {
    "duration": 5,
    "start_time": "2024-10-21T21:06:28.543Z"
   },
   {
    "duration": 4,
    "start_time": "2024-10-21T21:06:28.550Z"
   },
   {
    "duration": 4,
    "start_time": "2024-10-21T21:06:28.556Z"
   },
   {
    "duration": 133,
    "start_time": "2024-10-21T21:06:28.562Z"
   },
   {
    "duration": 18,
    "start_time": "2024-10-21T21:06:28.697Z"
   },
   {
    "duration": 20,
    "start_time": "2024-10-21T21:06:28.717Z"
   },
   {
    "duration": 5,
    "start_time": "2024-10-21T21:06:28.739Z"
   },
   {
    "duration": 7,
    "start_time": "2024-10-21T21:06:28.745Z"
   },
   {
    "duration": 6,
    "start_time": "2024-10-21T21:06:28.755Z"
   },
   {
    "duration": 7,
    "start_time": "2024-10-21T21:06:28.763Z"
   },
   {
    "duration": 6,
    "start_time": "2024-10-21T21:06:28.772Z"
   },
   {
    "duration": 3,
    "start_time": "2024-10-21T21:06:28.779Z"
   },
   {
    "duration": 5,
    "start_time": "2024-10-21T21:06:28.784Z"
   },
   {
    "duration": 380,
    "start_time": "2024-10-21T21:06:28.831Z"
   },
   {
    "duration": 1722,
    "start_time": "2024-10-21T21:06:29.212Z"
   },
   {
    "duration": 1512,
    "start_time": "2024-10-21T21:06:30.936Z"
   },
   {
    "duration": 132,
    "start_time": "2024-10-21T21:06:32.450Z"
   },
   {
    "duration": 7,
    "start_time": "2024-10-21T21:06:32.584Z"
   },
   {
    "duration": 7,
    "start_time": "2024-10-21T21:06:32.592Z"
   },
   {
    "duration": 585,
    "start_time": "2024-10-21T21:06:32.600Z"
   },
   {
    "duration": 157,
    "start_time": "2024-10-21T21:06:33.188Z"
   },
   {
    "duration": 13,
    "start_time": "2024-10-21T21:06:33.347Z"
   },
   {
    "duration": 395,
    "start_time": "2024-10-21T21:06:33.362Z"
   },
   {
    "duration": 14,
    "start_time": "2024-10-21T21:06:33.759Z"
   },
   {
    "duration": 12,
    "start_time": "2024-10-21T21:06:33.778Z"
   },
   {
    "duration": 174,
    "start_time": "2024-10-21T21:06:33.792Z"
   },
   {
    "duration": 239,
    "start_time": "2024-10-21T21:06:33.968Z"
   },
   {
    "duration": 4,
    "start_time": "2024-10-21T21:06:34.209Z"
   },
   {
    "duration": 21,
    "start_time": "2024-10-21T21:06:34.215Z"
   },
   {
    "duration": 25,
    "start_time": "2024-10-21T21:06:34.239Z"
   },
   {
    "duration": 371012,
    "start_time": "2024-10-21T21:06:34.266Z"
   },
   {
    "duration": 1010,
    "start_time": "2024-10-21T21:18:52.894Z"
   },
   {
    "duration": 519,
    "start_time": "2024-10-21T21:18:53.906Z"
   },
   {
    "duration": 23,
    "start_time": "2024-10-21T21:18:54.426Z"
   },
   {
    "duration": 13,
    "start_time": "2024-10-21T21:18:54.452Z"
   },
   {
    "duration": 170,
    "start_time": "2024-10-21T21:18:54.467Z"
   },
   {
    "duration": 19,
    "start_time": "2024-10-21T21:18:54.639Z"
   },
   {
    "duration": 10,
    "start_time": "2024-10-21T21:18:54.659Z"
   },
   {
    "duration": 104,
    "start_time": "2024-10-21T21:18:54.670Z"
   },
   {
    "duration": 21,
    "start_time": "2024-10-21T21:18:54.776Z"
   },
   {
    "duration": 32,
    "start_time": "2024-10-21T21:18:54.800Z"
   },
   {
    "duration": 167,
    "start_time": "2024-10-21T21:18:54.834Z"
   },
   {
    "duration": 5,
    "start_time": "2024-10-21T21:18:55.003Z"
   },
   {
    "duration": 5,
    "start_time": "2024-10-21T21:18:55.009Z"
   },
   {
    "duration": 22,
    "start_time": "2024-10-21T21:18:55.015Z"
   },
   {
    "duration": 3,
    "start_time": "2024-10-21T21:18:55.039Z"
   },
   {
    "duration": 6,
    "start_time": "2024-10-21T21:18:55.044Z"
   },
   {
    "duration": 3,
    "start_time": "2024-10-21T21:18:55.052Z"
   },
   {
    "duration": 5,
    "start_time": "2024-10-21T21:18:55.057Z"
   },
   {
    "duration": 5,
    "start_time": "2024-10-21T21:18:55.064Z"
   },
   {
    "duration": 132,
    "start_time": "2024-10-21T21:18:55.071Z"
   },
   {
    "duration": 28,
    "start_time": "2024-10-21T21:18:55.205Z"
   },
   {
    "duration": 8,
    "start_time": "2024-10-21T21:18:55.235Z"
   },
   {
    "duration": 4,
    "start_time": "2024-10-21T21:18:55.245Z"
   },
   {
    "duration": 7,
    "start_time": "2024-10-21T21:18:55.251Z"
   },
   {
    "duration": 7,
    "start_time": "2024-10-21T21:18:55.259Z"
   },
   {
    "duration": 6,
    "start_time": "2024-10-21T21:18:55.268Z"
   },
   {
    "duration": 6,
    "start_time": "2024-10-21T21:18:55.276Z"
   },
   {
    "duration": 3,
    "start_time": "2024-10-21T21:18:55.287Z"
   },
   {
    "duration": 5,
    "start_time": "2024-10-21T21:18:55.331Z"
   },
   {
    "duration": 406,
    "start_time": "2024-10-21T21:18:55.338Z"
   },
   {
    "duration": 1717,
    "start_time": "2024-10-21T21:18:55.745Z"
   },
   {
    "duration": 1492,
    "start_time": "2024-10-21T21:18:57.464Z"
   },
   {
    "duration": 134,
    "start_time": "2024-10-21T21:18:58.957Z"
   },
   {
    "duration": 7,
    "start_time": "2024-10-21T21:18:59.093Z"
   },
   {
    "duration": 7,
    "start_time": "2024-10-21T21:18:59.101Z"
   },
   {
    "duration": 622,
    "start_time": "2024-10-21T21:18:59.109Z"
   },
   {
    "duration": 154,
    "start_time": "2024-10-21T21:18:59.733Z"
   },
   {
    "duration": 13,
    "start_time": "2024-10-21T21:18:59.889Z"
   },
   {
    "duration": 403,
    "start_time": "2024-10-21T21:18:59.904Z"
   },
   {
    "duration": 22,
    "start_time": "2024-10-21T21:19:00.310Z"
   },
   {
    "duration": 12,
    "start_time": "2024-10-21T21:19:00.334Z"
   },
   {
    "duration": 169,
    "start_time": "2024-10-21T21:19:00.349Z"
   },
   {
    "duration": 249,
    "start_time": "2024-10-21T21:19:00.521Z"
   },
   {
    "duration": 3,
    "start_time": "2024-10-21T21:19:00.772Z"
   },
   {
    "duration": 3,
    "start_time": "2024-10-21T21:19:00.777Z"
   },
   {
    "duration": 24,
    "start_time": "2024-10-21T21:19:00.782Z"
   },
   {
    "duration": 2228897,
    "start_time": "2024-10-21T21:19:00.808Z"
   },
   {
    "duration": 895710,
    "start_time": "2024-10-21T21:56:09.709Z"
   },
   {
    "duration": 953,
    "start_time": "2024-10-21T22:15:15.107Z"
   },
   {
    "duration": 519,
    "start_time": "2024-10-21T22:15:16.062Z"
   },
   {
    "duration": 22,
    "start_time": "2024-10-21T22:15:16.583Z"
   },
   {
    "duration": 12,
    "start_time": "2024-10-21T22:15:16.607Z"
   },
   {
    "duration": 164,
    "start_time": "2024-10-21T22:15:16.621Z"
   },
   {
    "duration": 18,
    "start_time": "2024-10-21T22:15:16.787Z"
   },
   {
    "duration": 10,
    "start_time": "2024-10-21T22:15:16.806Z"
   },
   {
    "duration": 82,
    "start_time": "2024-10-21T22:15:16.831Z"
   },
   {
    "duration": 31,
    "start_time": "2024-10-21T22:15:16.915Z"
   },
   {
    "duration": 16,
    "start_time": "2024-10-21T22:15:16.950Z"
   },
   {
    "duration": 174,
    "start_time": "2024-10-21T22:15:16.969Z"
   },
   {
    "duration": 4,
    "start_time": "2024-10-21T22:15:17.145Z"
   },
   {
    "duration": 4,
    "start_time": "2024-10-21T22:15:17.150Z"
   },
   {
    "duration": 8,
    "start_time": "2024-10-21T22:15:17.156Z"
   },
   {
    "duration": 4,
    "start_time": "2024-10-21T22:15:17.166Z"
   },
   {
    "duration": 7,
    "start_time": "2024-10-21T22:15:17.171Z"
   },
   {
    "duration": 3,
    "start_time": "2024-10-21T22:15:17.180Z"
   },
   {
    "duration": 5,
    "start_time": "2024-10-21T22:15:17.184Z"
   },
   {
    "duration": 46,
    "start_time": "2024-10-21T22:15:17.190Z"
   },
   {
    "duration": 110,
    "start_time": "2024-10-21T22:15:17.238Z"
   },
   {
    "duration": 20,
    "start_time": "2024-10-21T22:15:17.350Z"
   },
   {
    "duration": 7,
    "start_time": "2024-10-21T22:15:17.372Z"
   },
   {
    "duration": 5,
    "start_time": "2024-10-21T22:15:17.381Z"
   },
   {
    "duration": 10,
    "start_time": "2024-10-21T22:15:17.389Z"
   },
   {
    "duration": 31,
    "start_time": "2024-10-21T22:15:17.400Z"
   },
   {
    "duration": 6,
    "start_time": "2024-10-21T22:15:17.433Z"
   },
   {
    "duration": 6,
    "start_time": "2024-10-21T22:15:17.441Z"
   },
   {
    "duration": 3,
    "start_time": "2024-10-21T22:15:17.451Z"
   },
   {
    "duration": 5,
    "start_time": "2024-10-21T22:15:17.456Z"
   },
   {
    "duration": 419,
    "start_time": "2024-10-21T22:15:17.463Z"
   },
   {
    "duration": 1732,
    "start_time": "2024-10-21T22:15:17.884Z"
   },
   {
    "duration": 1551,
    "start_time": "2024-10-21T22:15:19.617Z"
   },
   {
    "duration": 130,
    "start_time": "2024-10-21T22:15:21.170Z"
   },
   {
    "duration": 7,
    "start_time": "2024-10-21T22:15:21.302Z"
   },
   {
    "duration": 22,
    "start_time": "2024-10-21T22:15:21.311Z"
   },
   {
    "duration": 589,
    "start_time": "2024-10-21T22:15:21.335Z"
   },
   {
    "duration": 166,
    "start_time": "2024-10-21T22:15:21.926Z"
   },
   {
    "duration": 13,
    "start_time": "2024-10-21T22:15:22.094Z"
   },
   {
    "duration": 400,
    "start_time": "2024-10-21T22:15:22.109Z"
   },
   {
    "duration": 24,
    "start_time": "2024-10-21T22:15:22.510Z"
   },
   {
    "duration": 12,
    "start_time": "2024-10-21T22:15:22.537Z"
   },
   {
    "duration": 163,
    "start_time": "2024-10-21T22:15:22.551Z"
   },
   {
    "duration": 240,
    "start_time": "2024-10-21T22:15:22.716Z"
   },
   {
    "duration": 4,
    "start_time": "2024-10-21T22:15:22.958Z"
   },
   {
    "duration": 4,
    "start_time": "2024-10-21T22:15:22.963Z"
   },
   {
    "duration": 24,
    "start_time": "2024-10-21T22:15:22.968Z"
   },
   {
    "duration": 14926,
    "start_time": "2024-10-21T22:15:22.993Z"
   },
   {
    "duration": 16,
    "start_time": "2024-10-21T22:15:37.921Z"
   },
   {
    "duration": 379,
    "start_time": "2024-10-21T22:15:37.939Z"
   },
   {
    "duration": 0,
    "start_time": "2024-10-21T22:15:38.320Z"
   },
   {
    "duration": 0,
    "start_time": "2024-10-21T22:15:38.321Z"
   },
   {
    "duration": 0,
    "start_time": "2024-10-21T22:15:38.322Z"
   },
   {
    "duration": 0,
    "start_time": "2024-10-21T22:15:38.323Z"
   },
   {
    "duration": 0,
    "start_time": "2024-10-21T22:15:38.324Z"
   },
   {
    "duration": 0,
    "start_time": "2024-10-21T22:15:38.324Z"
   },
   {
    "duration": 0,
    "start_time": "2024-10-21T22:15:38.325Z"
   },
   {
    "duration": 0,
    "start_time": "2024-10-21T22:15:38.330Z"
   },
   {
    "duration": 0,
    "start_time": "2024-10-21T22:15:38.331Z"
   },
   {
    "duration": 0,
    "start_time": "2024-10-21T22:15:38.332Z"
   },
   {
    "duration": 0,
    "start_time": "2024-10-21T22:15:38.333Z"
   },
   {
    "duration": 0,
    "start_time": "2024-10-21T22:15:38.335Z"
   },
   {
    "duration": 0,
    "start_time": "2024-10-21T22:15:38.336Z"
   },
   {
    "duration": 0,
    "start_time": "2024-10-21T22:15:38.336Z"
   },
   {
    "duration": 2489303,
    "start_time": "2024-10-21T22:18:04.443Z"
   },
   {
    "duration": 2507886,
    "start_time": "2024-10-21T23:15:34.427Z"
   },
   {
    "duration": 59132,
    "start_time": "2024-10-22T00:14:12.437Z"
   },
   {
    "duration": 22,
    "start_time": "2024-10-22T00:17:10.256Z"
   },
   {
    "duration": 17,
    "start_time": "2024-10-22T00:17:11.171Z"
   },
   {
    "duration": 979,
    "start_time": "2024-10-22T00:24:16.890Z"
   },
   {
    "duration": 783,
    "start_time": "2024-10-22T00:25:52.776Z"
   },
   {
    "duration": 162,
    "start_time": "2024-10-22T02:34:30.893Z"
   },
   {
    "duration": 2824,
    "start_time": "2024-10-22T02:34:36.068Z"
   },
   {
    "duration": 645,
    "start_time": "2024-10-22T02:34:38.894Z"
   },
   {
    "duration": 23,
    "start_time": "2024-10-22T02:34:39.541Z"
   },
   {
    "duration": 13,
    "start_time": "2024-10-22T02:34:39.566Z"
   },
   {
    "duration": 165,
    "start_time": "2024-10-22T02:34:39.582Z"
   },
   {
    "duration": 19,
    "start_time": "2024-10-22T02:34:39.749Z"
   },
   {
    "duration": 12,
    "start_time": "2024-10-22T02:34:39.770Z"
   },
   {
    "duration": 111,
    "start_time": "2024-10-22T02:34:39.784Z"
   },
   {
    "duration": 20,
    "start_time": "2024-10-22T02:34:39.897Z"
   },
   {
    "duration": 22,
    "start_time": "2024-10-22T02:34:39.919Z"
   },
   {
    "duration": 199,
    "start_time": "2024-10-22T02:34:39.943Z"
   },
   {
    "duration": 4,
    "start_time": "2024-10-22T02:34:40.144Z"
   },
   {
    "duration": 4,
    "start_time": "2024-10-22T02:34:40.150Z"
   },
   {
    "duration": 9,
    "start_time": "2024-10-22T02:34:40.158Z"
   },
   {
    "duration": 4,
    "start_time": "2024-10-22T02:34:40.169Z"
   },
   {
    "duration": 7,
    "start_time": "2024-10-22T02:34:40.175Z"
   },
   {
    "duration": 3,
    "start_time": "2024-10-22T02:34:40.185Z"
   },
   {
    "duration": 44,
    "start_time": "2024-10-22T02:34:40.190Z"
   },
   {
    "duration": 5,
    "start_time": "2024-10-22T02:34:40.236Z"
   },
   {
    "duration": 108,
    "start_time": "2024-10-22T02:34:40.243Z"
   },
   {
    "duration": 18,
    "start_time": "2024-10-22T02:34:40.353Z"
   },
   {
    "duration": 7,
    "start_time": "2024-10-22T02:34:40.373Z"
   },
   {
    "duration": 5,
    "start_time": "2024-10-22T02:34:40.382Z"
   },
   {
    "duration": 6,
    "start_time": "2024-10-22T02:34:40.388Z"
   },
   {
    "duration": 35,
    "start_time": "2024-10-22T02:34:40.396Z"
   },
   {
    "duration": 7,
    "start_time": "2024-10-22T02:34:40.434Z"
   },
   {
    "duration": 5,
    "start_time": "2024-10-22T02:34:40.443Z"
   },
   {
    "duration": 4,
    "start_time": "2024-10-22T02:34:40.450Z"
   },
   {
    "duration": 5,
    "start_time": "2024-10-22T02:34:40.455Z"
   },
   {
    "duration": 401,
    "start_time": "2024-10-22T02:34:40.462Z"
   },
   {
    "duration": 1761,
    "start_time": "2024-10-22T02:34:40.865Z"
   },
   {
    "duration": 1509,
    "start_time": "2024-10-22T02:34:42.631Z"
   },
   {
    "duration": 132,
    "start_time": "2024-10-22T02:34:44.142Z"
   },
   {
    "duration": 7,
    "start_time": "2024-10-22T02:34:44.276Z"
   },
   {
    "duration": 6,
    "start_time": "2024-10-22T02:34:44.285Z"
   },
   {
    "duration": 634,
    "start_time": "2024-10-22T02:34:44.293Z"
   },
   {
    "duration": 153,
    "start_time": "2024-10-22T02:34:44.929Z"
   },
   {
    "duration": 14,
    "start_time": "2024-10-22T02:34:45.084Z"
   },
   {
    "duration": 444,
    "start_time": "2024-10-22T02:34:45.100Z"
   },
   {
    "duration": 15,
    "start_time": "2024-10-22T02:34:45.546Z"
   },
   {
    "duration": 12,
    "start_time": "2024-10-22T02:34:45.565Z"
   },
   {
    "duration": 176,
    "start_time": "2024-10-22T02:34:45.579Z"
   },
   {
    "duration": 235,
    "start_time": "2024-10-22T02:34:45.756Z"
   },
   {
    "duration": 4,
    "start_time": "2024-10-22T02:34:45.994Z"
   },
   {
    "duration": 3,
    "start_time": "2024-10-22T02:34:46.000Z"
   },
   {
    "duration": 40,
    "start_time": "2024-10-22T02:34:46.005Z"
   },
   {
    "duration": 14617,
    "start_time": "2024-10-22T02:34:46.048Z"
   },
   {
    "duration": 5,
    "start_time": "2024-10-22T02:35:00.668Z"
   },
   {
    "duration": 59144,
    "start_time": "2024-10-22T02:35:00.675Z"
   },
   {
    "duration": 294,
    "start_time": "2024-10-22T02:35:59.821Z"
   },
   {
    "duration": 0,
    "start_time": "2024-10-22T02:36:00.116Z"
   },
   {
    "duration": 27,
    "start_time": "2024-10-22T02:41:04.055Z"
   },
   {
    "duration": 133,
    "start_time": "2024-10-22T02:42:51.971Z"
   },
   {
    "duration": 46,
    "start_time": "2024-10-22T02:43:10.225Z"
   },
   {
    "duration": 44,
    "start_time": "2024-10-22T02:44:13.636Z"
   },
   {
    "duration": 17,
    "start_time": "2024-10-22T02:44:19.399Z"
   },
   {
    "duration": 13,
    "start_time": "2024-10-22T02:44:24.415Z"
   },
   {
    "duration": 80,
    "start_time": "2024-10-22T02:44:35.955Z"
   },
   {
    "duration": 86,
    "start_time": "2024-10-22T02:44:46.255Z"
   },
   {
    "duration": 208,
    "start_time": "2024-10-22T02:45:01.132Z"
   },
   {
    "duration": 69,
    "start_time": "2024-10-22T02:45:12.862Z"
   },
   {
    "duration": 16,
    "start_time": "2024-10-22T02:53:59.188Z"
   },
   {
    "duration": 33,
    "start_time": "2024-10-22T02:54:25.252Z"
   },
   {
    "duration": 35,
    "start_time": "2024-10-22T02:56:39.099Z"
   },
   {
    "duration": 49,
    "start_time": "2024-10-22T02:58:12.583Z"
   },
   {
    "duration": 66,
    "start_time": "2024-10-22T02:59:28.266Z"
   },
   {
    "duration": 99,
    "start_time": "2024-10-22T03:01:40.839Z"
   },
   {
    "duration": 158,
    "start_time": "2024-10-27T00:25:46.742Z"
   },
   {
    "duration": 2783,
    "start_time": "2024-10-27T00:26:01.572Z"
   },
   {
    "duration": 614,
    "start_time": "2024-10-27T00:26:04.358Z"
   },
   {
    "duration": 24,
    "start_time": "2024-10-27T00:26:04.974Z"
   },
   {
    "duration": 30,
    "start_time": "2024-10-27T00:26:05.002Z"
   },
   {
    "duration": 166,
    "start_time": "2024-10-27T00:26:05.034Z"
   },
   {
    "duration": 19,
    "start_time": "2024-10-27T00:26:05.202Z"
   },
   {
    "duration": 11,
    "start_time": "2024-10-27T00:26:05.231Z"
   },
   {
    "duration": 114,
    "start_time": "2024-10-27T00:26:05.244Z"
   },
   {
    "duration": 22,
    "start_time": "2024-10-27T00:26:05.361Z"
   },
   {
    "duration": 13,
    "start_time": "2024-10-27T00:26:05.387Z"
   },
   {
    "duration": 190,
    "start_time": "2024-10-27T00:26:05.402Z"
   },
   {
    "duration": 5,
    "start_time": "2024-10-27T00:26:05.594Z"
   },
   {
    "duration": 5,
    "start_time": "2024-10-27T00:26:05.600Z"
   },
   {
    "duration": 26,
    "start_time": "2024-10-27T00:26:05.606Z"
   },
   {
    "duration": 4,
    "start_time": "2024-10-27T00:26:05.634Z"
   },
   {
    "duration": 5,
    "start_time": "2024-10-27T00:26:05.640Z"
   },
   {
    "duration": 4,
    "start_time": "2024-10-27T00:26:05.647Z"
   },
   {
    "duration": 5,
    "start_time": "2024-10-27T00:26:05.652Z"
   },
   {
    "duration": 5,
    "start_time": "2024-10-27T00:26:05.659Z"
   },
   {
    "duration": 128,
    "start_time": "2024-10-27T00:26:05.666Z"
   },
   {
    "duration": 19,
    "start_time": "2024-10-27T00:26:05.796Z"
   },
   {
    "duration": 18,
    "start_time": "2024-10-27T00:26:05.817Z"
   },
   {
    "duration": 5,
    "start_time": "2024-10-27T00:26:05.837Z"
   },
   {
    "duration": 7,
    "start_time": "2024-10-27T00:26:05.843Z"
   },
   {
    "duration": 7,
    "start_time": "2024-10-27T00:26:05.851Z"
   },
   {
    "duration": 7,
    "start_time": "2024-10-27T00:26:05.860Z"
   },
   {
    "duration": 5,
    "start_time": "2024-10-27T00:26:05.869Z"
   },
   {
    "duration": 3,
    "start_time": "2024-10-27T00:26:05.880Z"
   },
   {
    "duration": 50,
    "start_time": "2024-10-27T00:26:05.885Z"
   },
   {
    "duration": 456,
    "start_time": "2024-10-27T00:26:05.936Z"
   },
   {
    "duration": 1750,
    "start_time": "2024-10-27T00:26:06.394Z"
   },
   {
    "duration": 1530,
    "start_time": "2024-10-27T00:26:08.146Z"
   },
   {
    "duration": 134,
    "start_time": "2024-10-27T00:26:09.678Z"
   },
   {
    "duration": 16,
    "start_time": "2024-10-27T00:26:09.815Z"
   },
   {
    "duration": 6,
    "start_time": "2024-10-27T00:26:09.833Z"
   },
   {
    "duration": 588,
    "start_time": "2024-10-27T00:26:09.841Z"
   },
   {
    "duration": 156,
    "start_time": "2024-10-27T00:26:10.432Z"
   },
   {
    "duration": 14,
    "start_time": "2024-10-27T00:26:10.590Z"
   },
   {
    "duration": 350,
    "start_time": "2024-10-27T00:26:10.605Z"
   },
   {
    "duration": 15,
    "start_time": "2024-10-27T00:26:10.956Z"
   },
   {
    "duration": 13,
    "start_time": "2024-10-27T00:26:10.973Z"
   },
   {
    "duration": 175,
    "start_time": "2024-10-27T00:26:10.988Z"
   },
   {
    "duration": 242,
    "start_time": "2024-10-27T00:26:11.165Z"
   },
   {
    "duration": 4,
    "start_time": "2024-10-27T00:26:11.409Z"
   },
   {
    "duration": 18,
    "start_time": "2024-10-27T00:26:11.414Z"
   },
   {
    "duration": 24,
    "start_time": "2024-10-27T00:26:11.434Z"
   },
   {
    "duration": 14506,
    "start_time": "2024-10-27T00:26:11.459Z"
   },
   {
    "duration": 5,
    "start_time": "2024-10-27T00:26:25.967Z"
   },
   {
    "duration": 59590,
    "start_time": "2024-10-27T00:26:25.973Z"
   },
   {
    "duration": 19,
    "start_time": "2024-10-27T00:27:25.565Z"
   },
   {
    "duration": 18,
    "start_time": "2024-10-27T00:27:25.585Z"
   },
   {
    "duration": 129,
    "start_time": "2024-10-27T00:27:25.607Z"
   },
   {
    "duration": 201,
    "start_time": "2024-10-27T00:27:25.738Z"
   },
   {
    "duration": 10,
    "start_time": "2024-10-27T00:27:25.945Z"
   },
   {
    "duration": 78,
    "start_time": "2024-10-27T00:27:25.956Z"
   },
   {
    "duration": 8,
    "start_time": "2024-10-27T00:27:26.038Z"
   },
   {
    "duration": 82,
    "start_time": "2024-10-27T00:27:26.051Z"
   },
   {
    "duration": 4,
    "start_time": "2024-10-27T00:27:26.135Z"
   },
   {
    "duration": 363,
    "start_time": "2024-10-27T00:27:26.140Z"
   },
   {
    "duration": 0,
    "start_time": "2024-10-27T00:27:26.505Z"
   },
   {
    "duration": 0,
    "start_time": "2024-10-27T00:27:26.506Z"
   },
   {
    "duration": 0,
    "start_time": "2024-10-27T00:27:26.507Z"
   },
   {
    "duration": 0,
    "start_time": "2024-10-27T00:27:26.508Z"
   },
   {
    "duration": 4,
    "start_time": "2024-10-27T00:27:26.688Z"
   },
   {
    "duration": 2,
    "start_time": "2024-10-27T00:27:27.439Z"
   },
   {
    "duration": 17,
    "start_time": "2024-10-27T00:27:31.568Z"
   },
   {
    "duration": 4,
    "start_time": "2024-10-27T00:27:39.028Z"
   },
   {
    "duration": 17,
    "start_time": "2024-10-27T00:28:15.287Z"
   },
   {
    "duration": 115,
    "start_time": "2024-10-27T00:28:30.986Z"
   },
   {
    "duration": 9,
    "start_time": "2024-10-27T00:29:08.603Z"
   },
   {
    "duration": 8,
    "start_time": "2024-10-27T00:29:15.387Z"
   },
   {
    "duration": 7,
    "start_time": "2024-10-27T00:33:39.584Z"
   },
   {
    "duration": 7,
    "start_time": "2024-10-27T00:33:44.870Z"
   },
   {
    "duration": 4,
    "start_time": "2024-10-27T00:34:10.787Z"
   },
   {
    "duration": 2,
    "start_time": "2024-10-27T00:34:53.578Z"
   },
   {
    "duration": 7,
    "start_time": "2024-10-27T00:34:59.968Z"
   },
   {
    "duration": 3,
    "start_time": "2024-10-27T00:35:49.187Z"
   },
   {
    "duration": 998,
    "start_time": "2024-10-27T00:36:04.107Z"
   },
   {
    "duration": 517,
    "start_time": "2024-10-27T00:36:05.107Z"
   },
   {
    "duration": 25,
    "start_time": "2024-10-27T00:36:05.626Z"
   },
   {
    "duration": 13,
    "start_time": "2024-10-27T00:36:05.653Z"
   },
   {
    "duration": 170,
    "start_time": "2024-10-27T00:36:05.667Z"
   },
   {
    "duration": 19,
    "start_time": "2024-10-27T00:36:05.839Z"
   },
   {
    "duration": 10,
    "start_time": "2024-10-27T00:36:05.860Z"
   },
   {
    "duration": 104,
    "start_time": "2024-10-27T00:36:05.871Z"
   },
   {
    "duration": 20,
    "start_time": "2024-10-27T00:36:05.977Z"
   },
   {
    "duration": 13,
    "start_time": "2024-10-27T00:36:06.000Z"
   },
   {
    "duration": 185,
    "start_time": "2024-10-27T00:36:06.014Z"
   },
   {
    "duration": 5,
    "start_time": "2024-10-27T00:36:06.201Z"
   },
   {
    "duration": 4,
    "start_time": "2024-10-27T00:36:06.208Z"
   },
   {
    "duration": 26,
    "start_time": "2024-10-27T00:36:06.214Z"
   },
   {
    "duration": 5,
    "start_time": "2024-10-27T00:36:06.241Z"
   },
   {
    "duration": 5,
    "start_time": "2024-10-27T00:36:06.248Z"
   },
   {
    "duration": 4,
    "start_time": "2024-10-27T00:36:06.254Z"
   },
   {
    "duration": 4,
    "start_time": "2024-10-27T00:36:06.260Z"
   },
   {
    "duration": 6,
    "start_time": "2024-10-27T00:36:06.265Z"
   },
   {
    "duration": 128,
    "start_time": "2024-10-27T00:36:06.272Z"
   },
   {
    "duration": 29,
    "start_time": "2024-10-27T00:36:06.402Z"
   },
   {
    "duration": 7,
    "start_time": "2024-10-27T00:36:06.433Z"
   },
   {
    "duration": 5,
    "start_time": "2024-10-27T00:36:06.441Z"
   },
   {
    "duration": 7,
    "start_time": "2024-10-27T00:36:06.448Z"
   },
   {
    "duration": 7,
    "start_time": "2024-10-27T00:36:06.457Z"
   },
   {
    "duration": 8,
    "start_time": "2024-10-27T00:36:06.465Z"
   },
   {
    "duration": 6,
    "start_time": "2024-10-27T00:36:06.474Z"
   },
   {
    "duration": 3,
    "start_time": "2024-10-27T00:36:06.485Z"
   },
   {
    "duration": 6,
    "start_time": "2024-10-27T00:36:06.532Z"
   },
   {
    "duration": 390,
    "start_time": "2024-10-27T00:36:06.540Z"
   },
   {
    "duration": 1782,
    "start_time": "2024-10-27T00:36:06.932Z"
   },
   {
    "duration": 1538,
    "start_time": "2024-10-27T00:36:08.718Z"
   },
   {
    "duration": 132,
    "start_time": "2024-10-27T00:36:10.258Z"
   },
   {
    "duration": 8,
    "start_time": "2024-10-27T00:36:10.392Z"
   },
   {
    "duration": 11,
    "start_time": "2024-10-27T00:36:10.402Z"
   },
   {
    "duration": 600,
    "start_time": "2024-10-27T00:36:10.416Z"
   },
   {
    "duration": 153,
    "start_time": "2024-10-27T00:36:11.017Z"
   },
   {
    "duration": 15,
    "start_time": "2024-10-27T00:36:11.172Z"
   },
   {
    "duration": 427,
    "start_time": "2024-10-27T00:36:11.189Z"
   },
   {
    "duration": 24,
    "start_time": "2024-10-27T00:36:11.618Z"
   },
   {
    "duration": 13,
    "start_time": "2024-10-27T00:36:11.643Z"
   },
   {
    "duration": 174,
    "start_time": "2024-10-27T00:36:11.658Z"
   },
   {
    "duration": 251,
    "start_time": "2024-10-27T00:36:11.834Z"
   },
   {
    "duration": 4,
    "start_time": "2024-10-27T00:36:12.087Z"
   },
   {
    "duration": 3,
    "start_time": "2024-10-27T00:36:12.092Z"
   },
   {
    "duration": 42,
    "start_time": "2024-10-27T00:36:12.097Z"
   },
   {
    "duration": 14597,
    "start_time": "2024-10-27T00:36:12.140Z"
   },
   {
    "duration": 7,
    "start_time": "2024-10-27T00:36:26.739Z"
   },
   {
    "duration": 59044,
    "start_time": "2024-10-27T00:36:26.747Z"
   },
   {
    "duration": 23,
    "start_time": "2024-10-27T00:37:25.793Z"
   },
   {
    "duration": 27,
    "start_time": "2024-10-27T00:37:25.819Z"
   },
   {
    "duration": 98,
    "start_time": "2024-10-27T00:37:25.848Z"
   },
   {
    "duration": 189,
    "start_time": "2024-10-27T00:37:25.947Z"
   },
   {
    "duration": 93,
    "start_time": "2024-10-27T00:37:26.140Z"
   },
   {
    "duration": 3,
    "start_time": "2024-10-27T00:37:26.234Z"
   },
   {
    "duration": 3,
    "start_time": "2024-10-27T00:37:26.239Z"
   },
   {
    "duration": 8,
    "start_time": "2024-10-27T00:37:26.244Z"
   },
   {
    "duration": 6,
    "start_time": "2024-10-27T00:37:26.253Z"
   },
   {
    "duration": 69,
    "start_time": "2024-10-27T00:37:26.262Z"
   },
   {
    "duration": 270,
    "start_time": "2024-10-27T00:37:26.335Z"
   },
   {
    "duration": 0,
    "start_time": "2024-10-27T00:37:26.607Z"
   },
   {
    "duration": 0,
    "start_time": "2024-10-27T00:37:26.608Z"
   },
   {
    "duration": 1,
    "start_time": "2024-10-27T00:37:26.609Z"
   },
   {
    "duration": 0,
    "start_time": "2024-10-27T00:37:26.611Z"
   },
   {
    "duration": 6,
    "start_time": "2024-10-27T00:38:23.422Z"
   },
   {
    "duration": 2,
    "start_time": "2024-10-27T00:41:10.276Z"
   },
   {
    "duration": 6,
    "start_time": "2024-10-27T00:44:39.566Z"
   },
   {
    "duration": 154,
    "start_time": "2024-10-27T04:09:14.734Z"
   },
   {
    "duration": 2647,
    "start_time": "2024-10-27T04:09:27.580Z"
   },
   {
    "duration": 622,
    "start_time": "2024-10-27T04:09:30.230Z"
   },
   {
    "duration": 22,
    "start_time": "2024-10-27T04:09:30.856Z"
   },
   {
    "duration": 24,
    "start_time": "2024-10-27T04:09:30.881Z"
   },
   {
    "duration": 173,
    "start_time": "2024-10-27T04:09:30.907Z"
   },
   {
    "duration": 26,
    "start_time": "2024-10-27T04:09:31.082Z"
   },
   {
    "duration": 11,
    "start_time": "2024-10-27T04:09:31.110Z"
   },
   {
    "duration": 94,
    "start_time": "2024-10-27T04:09:31.122Z"
   },
   {
    "duration": 23,
    "start_time": "2024-10-27T04:09:31.218Z"
   },
   {
    "duration": 20,
    "start_time": "2024-10-27T04:09:31.244Z"
   },
   {
    "duration": 185,
    "start_time": "2024-10-27T04:09:31.266Z"
   },
   {
    "duration": 4,
    "start_time": "2024-10-27T04:09:31.453Z"
   },
   {
    "duration": 5,
    "start_time": "2024-10-27T04:09:31.459Z"
   },
   {
    "duration": 7,
    "start_time": "2024-10-27T04:09:31.466Z"
   },
   {
    "duration": 31,
    "start_time": "2024-10-27T04:09:31.474Z"
   },
   {
    "duration": 8,
    "start_time": "2024-10-27T04:09:31.506Z"
   },
   {
    "duration": 3,
    "start_time": "2024-10-27T04:09:31.515Z"
   },
   {
    "duration": 4,
    "start_time": "2024-10-27T04:09:31.521Z"
   },
   {
    "duration": 49,
    "start_time": "2024-10-27T04:09:31.527Z"
   },
   {
    "duration": 128,
    "start_time": "2024-10-27T04:09:31.578Z"
   },
   {
    "duration": 21,
    "start_time": "2024-10-27T04:09:31.708Z"
   },
   {
    "duration": 7,
    "start_time": "2024-10-27T04:09:31.730Z"
   },
   {
    "duration": 5,
    "start_time": "2024-10-27T04:09:31.738Z"
   },
   {
    "duration": 7,
    "start_time": "2024-10-27T04:09:31.745Z"
   },
   {
    "duration": 6,
    "start_time": "2024-10-27T04:09:31.754Z"
   },
   {
    "duration": 46,
    "start_time": "2024-10-27T04:09:31.762Z"
   },
   {
    "duration": 6,
    "start_time": "2024-10-27T04:09:31.809Z"
   },
   {
    "duration": 4,
    "start_time": "2024-10-27T04:09:31.820Z"
   },
   {
    "duration": 5,
    "start_time": "2024-10-27T04:09:31.826Z"
   },
   {
    "duration": 387,
    "start_time": "2024-10-27T04:09:31.833Z"
   },
   {
    "duration": 1731,
    "start_time": "2024-10-27T04:09:32.223Z"
   },
   {
    "duration": 1566,
    "start_time": "2024-10-27T04:09:33.956Z"
   },
   {
    "duration": 129,
    "start_time": "2024-10-27T04:09:35.524Z"
   },
   {
    "duration": 6,
    "start_time": "2024-10-27T04:09:35.655Z"
   },
   {
    "duration": 6,
    "start_time": "2024-10-27T04:09:35.663Z"
   },
   {
    "duration": 527,
    "start_time": "2024-10-27T04:09:35.670Z"
   },
   {
    "duration": 155,
    "start_time": "2024-10-27T04:09:36.199Z"
   },
   {
    "duration": 14,
    "start_time": "2024-10-27T04:09:36.355Z"
   },
   {
    "duration": 331,
    "start_time": "2024-10-27T04:09:36.370Z"
   },
   {
    "duration": 15,
    "start_time": "2024-10-27T04:09:36.704Z"
   },
   {
    "duration": 12,
    "start_time": "2024-10-27T04:09:36.721Z"
   },
   {
    "duration": 176,
    "start_time": "2024-10-27T04:09:36.735Z"
   },
   {
    "duration": 231,
    "start_time": "2024-10-27T04:09:36.913Z"
   },
   {
    "duration": 3,
    "start_time": "2024-10-27T04:09:37.147Z"
   },
   {
    "duration": 4,
    "start_time": "2024-10-27T04:09:37.151Z"
   },
   {
    "duration": 23,
    "start_time": "2024-10-27T04:09:37.157Z"
   },
   {
    "duration": 14370,
    "start_time": "2024-10-27T04:09:37.182Z"
   },
   {
    "duration": 4,
    "start_time": "2024-10-27T04:09:51.554Z"
   },
   {
    "duration": 58365,
    "start_time": "2024-10-27T04:09:51.561Z"
   },
   {
    "duration": 19,
    "start_time": "2024-10-27T04:10:49.928Z"
   },
   {
    "duration": 17,
    "start_time": "2024-10-27T04:10:49.949Z"
   },
   {
    "duration": 58,
    "start_time": "2024-10-27T04:10:49.967Z"
   },
   {
    "duration": 198,
    "start_time": "2024-10-27T04:10:50.027Z"
   },
   {
    "duration": 86,
    "start_time": "2024-10-27T04:10:50.227Z"
   },
   {
    "duration": 2,
    "start_time": "2024-10-27T04:10:50.315Z"
   },
   {
    "duration": 6,
    "start_time": "2024-10-27T04:10:50.318Z"
   },
   {
    "duration": 79,
    "start_time": "2024-10-27T04:10:50.325Z"
   },
   {
    "duration": 2,
    "start_time": "2024-10-27T04:10:50.406Z"
   },
   {
    "duration": 8,
    "start_time": "2024-10-27T05:09:58.272Z"
   },
   {
    "duration": 3,
    "start_time": "2024-10-27T05:09:59.541Z"
   },
   {
    "duration": 6,
    "start_time": "2024-10-27T05:10:00.583Z"
   },
   {
    "duration": 5,
    "start_time": "2024-10-27T05:10:01.481Z"
   },
   {
    "duration": 997,
    "start_time": "2024-10-27T05:10:07.330Z"
   },
   {
    "duration": 477,
    "start_time": "2024-10-27T05:10:08.329Z"
   },
   {
    "duration": 22,
    "start_time": "2024-10-27T05:10:08.808Z"
   },
   {
    "duration": 11,
    "start_time": "2024-10-27T05:10:08.834Z"
   },
   {
    "duration": 164,
    "start_time": "2024-10-27T05:10:08.847Z"
   },
   {
    "duration": 18,
    "start_time": "2024-10-27T05:10:09.013Z"
   },
   {
    "duration": 9,
    "start_time": "2024-10-27T05:10:09.033Z"
   },
   {
    "duration": 105,
    "start_time": "2024-10-27T05:10:09.043Z"
   },
   {
    "duration": 19,
    "start_time": "2024-10-27T05:10:09.150Z"
   },
   {
    "duration": 12,
    "start_time": "2024-10-27T05:10:09.172Z"
   },
   {
    "duration": 182,
    "start_time": "2024-10-27T05:10:09.185Z"
   },
   {
    "duration": 4,
    "start_time": "2024-10-27T05:10:09.369Z"
   },
   {
    "duration": 5,
    "start_time": "2024-10-27T05:10:09.375Z"
   },
   {
    "duration": 25,
    "start_time": "2024-10-27T05:10:09.381Z"
   },
   {
    "duration": 5,
    "start_time": "2024-10-27T05:10:09.408Z"
   },
   {
    "duration": 8,
    "start_time": "2024-10-27T05:10:09.415Z"
   },
   {
    "duration": 3,
    "start_time": "2024-10-27T05:10:09.424Z"
   },
   {
    "duration": 4,
    "start_time": "2024-10-27T05:10:09.429Z"
   },
   {
    "duration": 5,
    "start_time": "2024-10-27T05:10:09.435Z"
   },
   {
    "duration": 125,
    "start_time": "2024-10-27T05:10:09.442Z"
   },
   {
    "duration": 19,
    "start_time": "2024-10-27T05:10:09.569Z"
   },
   {
    "duration": 19,
    "start_time": "2024-10-27T05:10:09.589Z"
   },
   {
    "duration": 5,
    "start_time": "2024-10-27T05:10:09.609Z"
   },
   {
    "duration": 7,
    "start_time": "2024-10-27T05:10:09.616Z"
   },
   {
    "duration": 5,
    "start_time": "2024-10-27T05:10:09.624Z"
   },
   {
    "duration": 6,
    "start_time": "2024-10-27T05:10:09.630Z"
   },
   {
    "duration": 6,
    "start_time": "2024-10-27T05:10:09.639Z"
   },
   {
    "duration": 4,
    "start_time": "2024-10-27T05:10:09.648Z"
   },
   {
    "duration": 6,
    "start_time": "2024-10-27T05:10:09.653Z"
   },
   {
    "duration": 399,
    "start_time": "2024-10-27T05:10:09.660Z"
   },
   {
    "duration": 1699,
    "start_time": "2024-10-27T05:10:10.061Z"
   },
   {
    "duration": 1541,
    "start_time": "2024-10-27T05:10:11.761Z"
   },
   {
    "duration": 138,
    "start_time": "2024-10-27T05:10:13.304Z"
   },
   {
    "duration": 7,
    "start_time": "2024-10-27T05:10:13.443Z"
   },
   {
    "duration": 6,
    "start_time": "2024-10-27T05:10:13.451Z"
   },
   {
    "duration": 540,
    "start_time": "2024-10-27T05:10:13.459Z"
   },
   {
    "duration": 159,
    "start_time": "2024-10-27T05:10:14.004Z"
   },
   {
    "duration": 13,
    "start_time": "2024-10-27T05:10:14.165Z"
   },
   {
    "duration": 385,
    "start_time": "2024-10-27T05:10:14.180Z"
   },
   {
    "duration": 14,
    "start_time": "2024-10-27T05:10:14.566Z"
   },
   {
    "duration": 23,
    "start_time": "2024-10-27T05:10:14.582Z"
   },
   {
    "duration": 160,
    "start_time": "2024-10-27T05:10:14.607Z"
   },
   {
    "duration": 245,
    "start_time": "2024-10-27T05:10:14.768Z"
   },
   {
    "duration": 4,
    "start_time": "2024-10-27T05:10:15.015Z"
   },
   {
    "duration": 3,
    "start_time": "2024-10-27T05:10:15.021Z"
   },
   {
    "duration": 23,
    "start_time": "2024-10-27T05:10:15.026Z"
   },
   {
    "duration": 14308,
    "start_time": "2024-10-27T05:10:15.051Z"
   },
   {
    "duration": 6,
    "start_time": "2024-10-27T05:10:29.361Z"
   },
   {
    "duration": 58404,
    "start_time": "2024-10-27T05:10:29.368Z"
   },
   {
    "duration": 19,
    "start_time": "2024-10-27T05:11:27.774Z"
   },
   {
    "duration": 25,
    "start_time": "2024-10-27T05:11:27.795Z"
   },
   {
    "duration": 96,
    "start_time": "2024-10-27T05:11:27.822Z"
   },
   {
    "duration": 201,
    "start_time": "2024-10-27T05:11:27.919Z"
   },
   {
    "duration": 86,
    "start_time": "2024-10-27T05:11:28.124Z"
   },
   {
    "duration": 2,
    "start_time": "2024-10-27T05:11:28.212Z"
   },
   {
    "duration": 5,
    "start_time": "2024-10-27T05:11:28.216Z"
   },
   {
    "duration": 6,
    "start_time": "2024-10-27T05:11:28.224Z"
   },
   {
    "duration": 2,
    "start_time": "2024-10-27T05:11:28.232Z"
   },
   {
    "duration": 4,
    "start_time": "2024-10-27T05:15:09.286Z"
   },
   {
    "duration": 3,
    "start_time": "2024-10-27T05:15:10.197Z"
   },
   {
    "duration": 17,
    "start_time": "2024-10-27T05:15:13.889Z"
   },
   {
    "duration": 157,
    "start_time": "2024-10-27T17:51:09.271Z"
   },
   {
    "duration": 2689,
    "start_time": "2024-10-27T17:51:17.677Z"
   },
   {
    "duration": 596,
    "start_time": "2024-10-27T17:51:20.368Z"
   },
   {
    "duration": 22,
    "start_time": "2024-10-27T17:51:20.966Z"
   },
   {
    "duration": 22,
    "start_time": "2024-10-27T17:51:20.990Z"
   },
   {
    "duration": 162,
    "start_time": "2024-10-27T17:51:21.015Z"
   },
   {
    "duration": 19,
    "start_time": "2024-10-27T17:51:21.179Z"
   },
   {
    "duration": 20,
    "start_time": "2024-10-27T17:51:21.199Z"
   },
   {
    "duration": 95,
    "start_time": "2024-10-27T17:51:21.220Z"
   },
   {
    "duration": 20,
    "start_time": "2024-10-27T17:51:21.318Z"
   },
   {
    "duration": 12,
    "start_time": "2024-10-27T17:51:21.340Z"
   },
   {
    "duration": 183,
    "start_time": "2024-10-27T17:51:21.353Z"
   },
   {
    "duration": 4,
    "start_time": "2024-10-27T17:51:21.538Z"
   },
   {
    "duration": 4,
    "start_time": "2024-10-27T17:51:21.544Z"
   },
   {
    "duration": 8,
    "start_time": "2024-10-27T17:51:21.553Z"
   },
   {
    "duration": 4,
    "start_time": "2024-10-27T17:51:21.562Z"
   },
   {
    "duration": 5,
    "start_time": "2024-10-27T17:51:21.568Z"
   },
   {
    "duration": 3,
    "start_time": "2024-10-27T17:51:21.575Z"
   },
   {
    "duration": 5,
    "start_time": "2024-10-27T17:51:21.612Z"
   },
   {
    "duration": 5,
    "start_time": "2024-10-27T17:51:21.619Z"
   },
   {
    "duration": 119,
    "start_time": "2024-10-27T17:51:21.626Z"
   },
   {
    "duration": 19,
    "start_time": "2024-10-27T17:51:21.747Z"
   },
   {
    "duration": 7,
    "start_time": "2024-10-27T17:51:21.768Z"
   },
   {
    "duration": 5,
    "start_time": "2024-10-27T17:51:21.776Z"
   },
   {
    "duration": 29,
    "start_time": "2024-10-27T17:51:21.783Z"
   },
   {
    "duration": 7,
    "start_time": "2024-10-27T17:51:21.814Z"
   },
   {
    "duration": 6,
    "start_time": "2024-10-27T17:51:21.822Z"
   },
   {
    "duration": 5,
    "start_time": "2024-10-27T17:51:21.830Z"
   },
   {
    "duration": 3,
    "start_time": "2024-10-27T17:51:21.837Z"
   },
   {
    "duration": 5,
    "start_time": "2024-10-27T17:51:21.842Z"
   },
   {
    "duration": 471,
    "start_time": "2024-10-27T17:51:21.849Z"
   },
   {
    "duration": 1704,
    "start_time": "2024-10-27T17:51:22.322Z"
   },
   {
    "duration": 1512,
    "start_time": "2024-10-27T17:51:24.028Z"
   },
   {
    "duration": 129,
    "start_time": "2024-10-27T17:51:25.542Z"
   },
   {
    "duration": 7,
    "start_time": "2024-10-27T17:51:25.674Z"
   },
   {
    "duration": 6,
    "start_time": "2024-10-27T17:51:25.682Z"
   },
   {
    "duration": 605,
    "start_time": "2024-10-27T17:51:25.690Z"
   },
   {
    "duration": 153,
    "start_time": "2024-10-27T17:51:26.297Z"
   },
   {
    "duration": 14,
    "start_time": "2024-10-27T17:51:26.452Z"
   },
   {
    "duration": 322,
    "start_time": "2024-10-27T17:51:26.467Z"
   },
   {
    "duration": 24,
    "start_time": "2024-10-27T17:51:26.791Z"
   },
   {
    "duration": 16,
    "start_time": "2024-10-27T17:51:26.822Z"
   },
   {
    "duration": 163,
    "start_time": "2024-10-27T17:51:26.841Z"
   },
   {
    "duration": 234,
    "start_time": "2024-10-27T17:51:27.006Z"
   },
   {
    "duration": 4,
    "start_time": "2024-10-27T17:51:27.242Z"
   },
   {
    "duration": 3,
    "start_time": "2024-10-27T17:51:27.248Z"
   },
   {
    "duration": 23,
    "start_time": "2024-10-27T17:51:27.253Z"
   },
   {
    "duration": 14388,
    "start_time": "2024-10-27T17:51:27.277Z"
   },
   {
    "duration": 5,
    "start_time": "2024-10-27T17:51:41.667Z"
   },
   {
    "duration": 58539,
    "start_time": "2024-10-27T17:51:41.673Z"
   },
   {
    "duration": 21,
    "start_time": "2024-10-27T17:52:40.214Z"
   },
   {
    "duration": 17,
    "start_time": "2024-10-27T17:52:40.236Z"
   },
   {
    "duration": 157,
    "start_time": "2024-10-27T17:52:40.256Z"
   },
   {
    "duration": 112,
    "start_time": "2024-10-27T17:52:40.416Z"
   },
   {
    "duration": 88,
    "start_time": "2024-10-27T17:52:40.530Z"
   },
   {
    "duration": 4,
    "start_time": "2024-10-27T17:52:40.621Z"
   },
   {
    "duration": 6,
    "start_time": "2024-10-27T17:52:40.627Z"
   },
   {
    "duration": 79,
    "start_time": "2024-10-27T17:52:40.636Z"
   },
   {
    "duration": 4,
    "start_time": "2024-10-27T17:52:40.720Z"
   },
   {
    "duration": 3,
    "start_time": "2024-10-27T18:19:01.184Z"
   },
   {
    "duration": 2,
    "start_time": "2024-10-27T18:19:14.930Z"
   },
   {
    "duration": 3,
    "start_time": "2024-10-27T18:20:36.519Z"
   },
   {
    "duration": 3,
    "start_time": "2024-10-27T18:22:06.846Z"
   },
   {
    "duration": 11,
    "start_time": "2024-10-27T18:22:41.803Z"
   },
   {
    "duration": 3,
    "start_time": "2024-10-27T18:24:18.525Z"
   },
   {
    "duration": 8,
    "start_time": "2024-10-27T18:24:19.047Z"
   },
   {
    "duration": 12,
    "start_time": "2024-10-27T18:24:27.810Z"
   },
   {
    "duration": 3,
    "start_time": "2024-10-27T18:24:43.383Z"
   },
   {
    "duration": 3,
    "start_time": "2024-10-27T18:24:44.224Z"
   },
   {
    "duration": 17,
    "start_time": "2024-10-27T18:24:47.846Z"
   },
   {
    "duration": 14435,
    "start_time": "2024-10-27T18:24:51.615Z"
   },
   {
    "duration": 3,
    "start_time": "2024-10-27T18:25:09.117Z"
   },
   {
    "duration": 58847,
    "start_time": "2024-10-27T18:25:13.992Z"
   },
   {
    "duration": 17,
    "start_time": "2024-10-27T18:26:20.108Z"
   },
   {
    "duration": 14,
    "start_time": "2024-10-27T18:26:23.841Z"
   },
   {
    "duration": 42,
    "start_time": "2024-10-27T18:26:26.777Z"
   },
   {
    "duration": 51,
    "start_time": "2024-10-27T18:26:29.863Z"
   },
   {
    "duration": 3,
    "start_time": "2024-10-27T18:26:35.516Z"
   },
   {
    "duration": 9,
    "start_time": "2024-10-27T18:26:36.591Z"
   },
   {
    "duration": 6,
    "start_time": "2024-10-27T18:26:38.394Z"
   },
   {
    "duration": 4,
    "start_time": "2024-10-27T18:27:24.788Z"
   },
   {
    "duration": 4,
    "start_time": "2024-10-27T18:30:22.718Z"
   },
   {
    "duration": 4,
    "start_time": "2024-10-27T18:34:23.315Z"
   },
   {
    "duration": 482,
    "start_time": "2024-10-27T18:37:14.905Z"
   },
   {
    "duration": 61,
    "start_time": "2024-10-27T18:37:47.131Z"
   },
   {
    "duration": 60,
    "start_time": "2024-10-27T18:38:10.712Z"
   },
   {
    "duration": 5,
    "start_time": "2024-10-27T18:39:17.114Z"
   },
   {
    "duration": 318,
    "start_time": "2024-10-27T18:39:19.716Z"
   },
   {
    "duration": 3,
    "start_time": "2024-10-27T18:40:43.081Z"
   },
   {
    "duration": 2,
    "start_time": "2024-10-27T18:41:54.912Z"
   },
   {
    "duration": 3,
    "start_time": "2024-10-27T18:42:08.597Z"
   },
   {
    "duration": 291,
    "start_time": "2024-10-27T18:42:12.193Z"
   },
   {
    "duration": 3,
    "start_time": "2024-10-27T18:42:22.203Z"
   },
   {
    "duration": 3,
    "start_time": "2024-10-27T18:42:22.957Z"
   },
   {
    "duration": 5,
    "start_time": "2024-10-27T18:42:23.925Z"
   },
   {
    "duration": 3,
    "start_time": "2024-10-27T18:42:24.943Z"
   },
   {
    "duration": 2,
    "start_time": "2024-10-27T18:42:27.792Z"
   },
   {
    "duration": 329,
    "start_time": "2024-10-27T18:42:32.748Z"
   },
   {
    "duration": 305,
    "start_time": "2024-10-27T18:44:04.612Z"
   },
   {
    "duration": 301,
    "start_time": "2024-10-27T18:44:26.804Z"
   },
   {
    "duration": 5,
    "start_time": "2024-10-27T18:44:29.988Z"
   },
   {
    "duration": 3,
    "start_time": "2024-10-27T18:44:30.891Z"
   },
   {
    "duration": 5,
    "start_time": "2024-10-27T18:48:28.344Z"
   },
   {
    "duration": 344,
    "start_time": "2024-10-27T18:48:30.034Z"
   },
   {
    "duration": 14,
    "start_time": "2024-10-27T18:49:08.601Z"
   },
   {
    "duration": 4,
    "start_time": "2024-10-27T18:49:21.529Z"
   },
   {
    "duration": 3,
    "start_time": "2024-10-27T18:49:31.318Z"
   },
   {
    "duration": 4,
    "start_time": "2024-10-27T18:52:07.747Z"
   },
   {
    "duration": 3,
    "start_time": "2024-10-27T18:52:15.434Z"
   },
   {
    "duration": 6,
    "start_time": "2024-10-27T18:52:16.786Z"
   },
   {
    "duration": 6,
    "start_time": "2024-10-27T18:52:19.578Z"
   },
   {
    "duration": 3,
    "start_time": "2024-10-27T18:52:47.624Z"
   },
   {
    "duration": 5,
    "start_time": "2024-10-27T18:52:49.900Z"
   },
   {
    "duration": 5,
    "start_time": "2024-10-27T18:53:08.548Z"
   },
   {
    "duration": 3,
    "start_time": "2024-10-27T18:54:48.553Z"
   },
   {
    "duration": 9,
    "start_time": "2024-10-27T18:54:51.783Z"
   },
   {
    "duration": 6,
    "start_time": "2024-10-27T18:55:12.349Z"
   },
   {
    "duration": 4,
    "start_time": "2024-10-27T18:56:46.139Z"
   },
   {
    "duration": 5,
    "start_time": "2024-10-27T18:57:28.701Z"
   },
   {
    "duration": 300,
    "start_time": "2024-10-27T18:57:30.482Z"
   },
   {
    "duration": 3,
    "start_time": "2024-10-27T18:58:25.767Z"
   },
   {
    "duration": 2,
    "start_time": "2024-10-27T18:58:47.838Z"
   },
   {
    "duration": 9,
    "start_time": "2024-10-27T18:58:48.715Z"
   },
   {
    "duration": 9,
    "start_time": "2024-10-27T19:25:43.262Z"
   },
   {
    "duration": 165,
    "start_time": "2024-10-27T19:26:10.273Z"
   },
   {
    "duration": 2836,
    "start_time": "2024-10-27T19:26:19.071Z"
   },
   {
    "duration": 624,
    "start_time": "2024-10-27T19:26:21.910Z"
   },
   {
    "duration": 23,
    "start_time": "2024-10-27T19:26:22.536Z"
   },
   {
    "duration": 13,
    "start_time": "2024-10-27T19:26:22.561Z"
   },
   {
    "duration": 183,
    "start_time": "2024-10-27T19:26:22.577Z"
   },
   {
    "duration": 19,
    "start_time": "2024-10-27T19:26:22.762Z"
   },
   {
    "duration": 10,
    "start_time": "2024-10-27T19:26:22.783Z"
   },
   {
    "duration": 107,
    "start_time": "2024-10-27T19:26:22.795Z"
   },
   {
    "duration": 28,
    "start_time": "2024-10-27T19:26:22.904Z"
   },
   {
    "duration": 13,
    "start_time": "2024-10-27T19:26:22.934Z"
   },
   {
    "duration": 183,
    "start_time": "2024-10-27T19:26:22.949Z"
   },
   {
    "duration": 4,
    "start_time": "2024-10-27T19:26:23.134Z"
   },
   {
    "duration": 5,
    "start_time": "2024-10-27T19:26:23.140Z"
   },
   {
    "duration": 9,
    "start_time": "2024-10-27T19:26:23.148Z"
   },
   {
    "duration": 4,
    "start_time": "2024-10-27T19:26:23.158Z"
   },
   {
    "duration": 6,
    "start_time": "2024-10-27T19:26:23.164Z"
   },
   {
    "duration": 4,
    "start_time": "2024-10-27T19:26:23.172Z"
   },
   {
    "duration": 4,
    "start_time": "2024-10-27T19:26:23.178Z"
   },
   {
    "duration": 50,
    "start_time": "2024-10-27T19:26:23.184Z"
   },
   {
    "duration": 102,
    "start_time": "2024-10-27T19:26:23.236Z"
   },
   {
    "duration": 19,
    "start_time": "2024-10-27T19:26:23.340Z"
   },
   {
    "duration": 6,
    "start_time": "2024-10-27T19:26:23.361Z"
   },
   {
    "duration": 6,
    "start_time": "2024-10-27T19:26:23.368Z"
   },
   {
    "duration": 7,
    "start_time": "2024-10-27T19:26:23.376Z"
   },
   {
    "duration": 7,
    "start_time": "2024-10-27T19:26:23.385Z"
   },
   {
    "duration": 40,
    "start_time": "2024-10-27T19:26:23.393Z"
   },
   {
    "duration": 7,
    "start_time": "2024-10-27T19:26:23.435Z"
   },
   {
    "duration": 6,
    "start_time": "2024-10-27T19:26:23.444Z"
   },
   {
    "duration": 6,
    "start_time": "2024-10-27T19:26:23.456Z"
   },
   {
    "duration": 416,
    "start_time": "2024-10-27T19:26:23.463Z"
   },
   {
    "duration": 1710,
    "start_time": "2024-10-27T19:26:23.881Z"
   },
   {
    "duration": 1615,
    "start_time": "2024-10-27T19:26:25.593Z"
   },
   {
    "duration": 130,
    "start_time": "2024-10-27T19:26:27.211Z"
   },
   {
    "duration": 7,
    "start_time": "2024-10-27T19:26:27.343Z"
   },
   {
    "duration": 6,
    "start_time": "2024-10-27T19:26:27.351Z"
   },
   {
    "duration": 571,
    "start_time": "2024-10-27T19:26:27.359Z"
   },
   {
    "duration": 162,
    "start_time": "2024-10-27T19:26:27.932Z"
   },
   {
    "duration": 14,
    "start_time": "2024-10-27T19:26:28.096Z"
   },
   {
    "duration": 340,
    "start_time": "2024-10-27T19:26:28.111Z"
   },
   {
    "duration": 15,
    "start_time": "2024-10-27T19:26:28.453Z"
   },
   {
    "duration": 11,
    "start_time": "2024-10-27T19:26:28.472Z"
   },
   {
    "duration": 173,
    "start_time": "2024-10-27T19:26:28.485Z"
   },
   {
    "duration": 244,
    "start_time": "2024-10-27T19:26:28.659Z"
   },
   {
    "duration": 3,
    "start_time": "2024-10-27T19:26:28.905Z"
   },
   {
    "duration": 4,
    "start_time": "2024-10-27T19:26:28.910Z"
   },
   {
    "duration": 152,
    "start_time": "2024-10-27T19:26:28.915Z"
   },
   {
    "duration": 14491,
    "start_time": "2024-10-27T19:26:29.069Z"
   },
   {
    "duration": 4,
    "start_time": "2024-10-27T19:26:43.561Z"
   },
   {
    "duration": 59351,
    "start_time": "2024-10-27T19:26:43.567Z"
   },
   {
    "duration": 27,
    "start_time": "2024-10-27T19:27:42.920Z"
   },
   {
    "duration": 19,
    "start_time": "2024-10-27T19:27:42.949Z"
   },
   {
    "duration": 76,
    "start_time": "2024-10-27T19:27:42.970Z"
   },
   {
    "duration": 194,
    "start_time": "2024-10-27T19:27:43.048Z"
   },
   {
    "duration": 3,
    "start_time": "2024-10-27T19:27:43.244Z"
   },
   {
    "duration": 193,
    "start_time": "2024-10-27T19:27:43.249Z"
   },
   {
    "duration": 0,
    "start_time": "2024-10-27T19:27:43.445Z"
   },
   {
    "duration": 0,
    "start_time": "2024-10-27T19:27:43.445Z"
   },
   {
    "duration": 0,
    "start_time": "2024-10-27T19:27:43.447Z"
   },
   {
    "duration": 0,
    "start_time": "2024-10-27T19:27:43.447Z"
   },
   {
    "duration": 122,
    "start_time": "2024-10-27T19:28:05.722Z"
   },
   {
    "duration": 3,
    "start_time": "2024-10-27T19:28:19.227Z"
   },
   {
    "duration": 19,
    "start_time": "2024-10-27T19:28:19.803Z"
   },
   {
    "duration": 4,
    "start_time": "2024-10-27T19:28:32.844Z"
   },
   {
    "duration": 2,
    "start_time": "2024-10-27T19:28:33.688Z"
   },
   {
    "duration": 17,
    "start_time": "2024-10-27T19:28:37.762Z"
   },
   {
    "duration": 14735,
    "start_time": "2024-10-27T19:28:42.205Z"
   },
   {
    "duration": 3,
    "start_time": "2024-10-27T19:29:00.786Z"
   },
   {
    "duration": 59100,
    "start_time": "2024-10-27T19:29:06.101Z"
   },
   {
    "duration": 15,
    "start_time": "2024-10-27T19:37:42.907Z"
   },
   {
    "duration": 5,
    "start_time": "2024-10-27T19:38:06.811Z"
   },
   {
    "duration": 14,
    "start_time": "2024-10-27T19:38:07.528Z"
   },
   {
    "duration": 14,
    "start_time": "2024-10-27T19:38:22.767Z"
   },
   {
    "duration": 2,
    "start_time": "2024-10-27T19:38:30.669Z"
   },
   {
    "duration": 13,
    "start_time": "2024-10-27T19:38:33.841Z"
   },
   {
    "duration": 3,
    "start_time": "2024-10-27T19:38:53.070Z"
   },
   {
    "duration": 5,
    "start_time": "2024-10-27T19:38:54.292Z"
   },
   {
    "duration": 13,
    "start_time": "2024-10-27T19:38:55.397Z"
   },
   {
    "duration": 3,
    "start_time": "2024-10-27T19:39:01.504Z"
   },
   {
    "duration": 3,
    "start_time": "2024-10-27T19:39:04.601Z"
   },
   {
    "duration": 47,
    "start_time": "2024-10-27T19:39:05.905Z"
   },
   {
    "duration": 5,
    "start_time": "2024-10-27T19:40:20.397Z"
   },
   {
    "duration": 8,
    "start_time": "2024-10-27T19:42:13.574Z"
   },
   {
    "duration": 6,
    "start_time": "2024-10-27T19:42:15.896Z"
   },
   {
    "duration": 4,
    "start_time": "2024-10-27T19:43:05.798Z"
   },
   {
    "duration": 6,
    "start_time": "2024-10-27T19:43:56.410Z"
   },
   {
    "duration": 4,
    "start_time": "2024-10-27T19:44:02.781Z"
   },
   {
    "duration": 334,
    "start_time": "2024-10-27T19:47:14.462Z"
   },
   {
    "duration": 4,
    "start_time": "2024-10-27T19:49:24.717Z"
   },
   {
    "duration": 5,
    "start_time": "2024-10-27T19:50:27.384Z"
   },
   {
    "duration": 3,
    "start_time": "2024-10-27T19:50:33.501Z"
   },
   {
    "duration": 4,
    "start_time": "2024-10-27T19:50:37.114Z"
   },
   {
    "duration": 14,
    "start_time": "2024-10-27T19:50:48.684Z"
   },
   {
    "duration": 3,
    "start_time": "2024-10-27T19:59:15.541Z"
   },
   {
    "duration": 2,
    "start_time": "2024-10-27T19:59:17.289Z"
   },
   {
    "duration": 4,
    "start_time": "2024-10-27T19:59:18.259Z"
   },
   {
    "duration": 7,
    "start_time": "2024-10-27T19:59:19.517Z"
   },
   {
    "duration": 12,
    "start_time": "2024-10-27T19:59:20.691Z"
   },
   {
    "duration": 15,
    "start_time": "2024-10-27T19:59:24.351Z"
   },
   {
    "duration": 3,
    "start_time": "2024-10-27T19:59:38.550Z"
   },
   {
    "duration": 8,
    "start_time": "2024-10-27T19:59:39.774Z"
   },
   {
    "duration": 16,
    "start_time": "2024-10-27T19:59:40.842Z"
   },
   {
    "duration": 3,
    "start_time": "2024-10-27T19:59:46.077Z"
   },
   {
    "duration": 2,
    "start_time": "2024-10-27T19:59:46.886Z"
   },
   {
    "duration": 5,
    "start_time": "2024-10-27T19:59:47.613Z"
   },
   {
    "duration": 2777,
    "start_time": "2024-10-27T23:54:24.656Z"
   },
   {
    "duration": 648,
    "start_time": "2024-10-27T23:54:27.435Z"
   },
   {
    "duration": 22,
    "start_time": "2024-10-27T23:54:28.085Z"
   },
   {
    "duration": 29,
    "start_time": "2024-10-27T23:54:28.109Z"
   },
   {
    "duration": 170,
    "start_time": "2024-10-27T23:54:28.140Z"
   },
   {
    "duration": 31,
    "start_time": "2024-10-27T23:54:28.312Z"
   },
   {
    "duration": 10,
    "start_time": "2024-10-27T23:54:28.345Z"
   },
   {
    "duration": 102,
    "start_time": "2024-10-27T23:54:28.357Z"
   },
   {
    "duration": 21,
    "start_time": "2024-10-27T23:54:28.460Z"
   },
   {
    "duration": 13,
    "start_time": "2024-10-27T23:54:28.484Z"
   },
   {
    "duration": 189,
    "start_time": "2024-10-27T23:54:28.499Z"
   },
   {
    "duration": 6,
    "start_time": "2024-10-27T23:54:28.690Z"
   },
   {
    "duration": 4,
    "start_time": "2024-10-27T23:54:28.697Z"
   },
   {
    "duration": 28,
    "start_time": "2024-10-27T23:54:28.703Z"
   },
   {
    "duration": 5,
    "start_time": "2024-10-27T23:54:28.734Z"
   },
   {
    "duration": 7,
    "start_time": "2024-10-27T23:54:28.741Z"
   },
   {
    "duration": 3,
    "start_time": "2024-10-27T23:54:28.749Z"
   },
   {
    "duration": 5,
    "start_time": "2024-10-27T23:54:28.754Z"
   },
   {
    "duration": 4,
    "start_time": "2024-10-27T23:54:28.762Z"
   },
   {
    "duration": 127,
    "start_time": "2024-10-27T23:54:28.768Z"
   },
   {
    "duration": 19,
    "start_time": "2024-10-27T23:54:28.897Z"
   },
   {
    "duration": 15,
    "start_time": "2024-10-27T23:54:28.917Z"
   },
   {
    "duration": 5,
    "start_time": "2024-10-27T23:54:28.933Z"
   },
   {
    "duration": 7,
    "start_time": "2024-10-27T23:54:28.940Z"
   },
   {
    "duration": 7,
    "start_time": "2024-10-27T23:54:28.948Z"
   },
   {
    "duration": 7,
    "start_time": "2024-10-27T23:54:28.957Z"
   },
   {
    "duration": 6,
    "start_time": "2024-10-27T23:54:28.965Z"
   },
   {
    "duration": 4,
    "start_time": "2024-10-27T23:54:28.976Z"
   },
   {
    "duration": 50,
    "start_time": "2024-10-27T23:54:28.982Z"
   },
   {
    "duration": 476,
    "start_time": "2024-10-27T23:54:29.034Z"
   },
   {
    "duration": 1741,
    "start_time": "2024-10-27T23:54:29.512Z"
   },
   {
    "duration": 1585,
    "start_time": "2024-10-27T23:54:31.255Z"
   },
   {
    "duration": 132,
    "start_time": "2024-10-27T23:54:32.841Z"
   },
   {
    "duration": 8,
    "start_time": "2024-10-27T23:54:32.975Z"
   },
   {
    "duration": 6,
    "start_time": "2024-10-27T23:54:32.985Z"
   },
   {
    "duration": 536,
    "start_time": "2024-10-27T23:54:32.992Z"
   },
   {
    "duration": 157,
    "start_time": "2024-10-27T23:54:33.531Z"
   },
   {
    "duration": 14,
    "start_time": "2024-10-27T23:54:33.690Z"
   },
   {
    "duration": 343,
    "start_time": "2024-10-27T23:54:33.705Z"
   },
   {
    "duration": 14,
    "start_time": "2024-10-27T23:54:34.050Z"
   },
   {
    "duration": 12,
    "start_time": "2024-10-27T23:54:34.066Z"
   },
   {
    "duration": 177,
    "start_time": "2024-10-27T23:54:34.079Z"
   },
   {
    "duration": 237,
    "start_time": "2024-10-27T23:54:34.258Z"
   },
   {
    "duration": 3,
    "start_time": "2024-10-27T23:54:34.497Z"
   },
   {
    "duration": 4,
    "start_time": "2024-10-27T23:54:34.503Z"
   },
   {
    "duration": 43,
    "start_time": "2024-10-27T23:54:34.509Z"
   },
   {
    "duration": 14520,
    "start_time": "2024-10-27T23:54:34.555Z"
   },
   {
    "duration": 5,
    "start_time": "2024-10-27T23:54:49.077Z"
   },
   {
    "duration": 59207,
    "start_time": "2024-10-27T23:54:49.083Z"
   },
   {
    "duration": 19,
    "start_time": "2024-10-27T23:55:48.292Z"
   },
   {
    "duration": 28,
    "start_time": "2024-10-27T23:55:48.313Z"
   },
   {
    "duration": 110,
    "start_time": "2024-10-27T23:55:48.342Z"
   },
   {
    "duration": 188,
    "start_time": "2024-10-27T23:55:48.454Z"
   },
   {
    "duration": 7,
    "start_time": "2024-10-27T23:55:48.646Z"
   },
   {
    "duration": 80,
    "start_time": "2024-10-27T23:55:48.656Z"
   },
   {
    "duration": 5,
    "start_time": "2024-10-27T23:55:48.738Z"
   },
   {
    "duration": 3,
    "start_time": "2024-10-27T23:55:48.746Z"
   },
   {
    "duration": 4,
    "start_time": "2024-10-27T23:55:48.750Z"
   },
   {
    "duration": 5,
    "start_time": "2024-10-27T23:55:48.755Z"
   },
   {
    "duration": 9,
    "start_time": "2024-10-27T23:55:48.761Z"
   },
   {
    "duration": 60,
    "start_time": "2024-10-27T23:55:48.772Z"
   },
   {
    "duration": 3,
    "start_time": "2024-10-27T23:55:48.835Z"
   },
   {
    "duration": 5,
    "start_time": "2024-10-27T23:55:48.840Z"
   },
   {
    "duration": 3,
    "start_time": "2024-10-27T23:55:48.847Z"
   },
   {
    "duration": 3,
    "start_time": "2024-10-27T23:55:48.851Z"
   },
   {
    "duration": 82,
    "start_time": "2024-10-27T23:55:48.855Z"
   },
   {
    "duration": 5,
    "start_time": "2024-10-27T23:57:50.984Z"
   },
   {
    "duration": 3,
    "start_time": "2024-10-27T23:58:36.739Z"
   },
   {
    "duration": 5,
    "start_time": "2024-10-27T23:58:41.003Z"
   },
   {
    "duration": 5,
    "start_time": "2024-10-27T23:59:05.459Z"
   },
   {
    "duration": 10,
    "start_time": "2024-10-28T00:00:24.404Z"
   },
   {
    "duration": 14490,
    "start_time": "2024-10-28T00:06:20.413Z"
   },
   {
    "duration": 14538,
    "start_time": "2024-10-28T00:07:01.263Z"
   },
   {
    "duration": 14594,
    "start_time": "2024-10-28T00:07:58.252Z"
   },
   {
    "duration": 1722,
    "start_time": "2024-10-28T00:10:46.571Z"
   },
   {
    "duration": 7606,
    "start_time": "2024-10-28T00:13:05.927Z"
   },
   {
    "duration": 8,
    "start_time": "2024-10-28T00:17:50.745Z"
   },
   {
    "duration": 7,
    "start_time": "2024-10-28T00:18:06.748Z"
   },
   {
    "duration": 2739,
    "start_time": "2024-10-28T08:39:53.332Z"
   },
   {
    "duration": 646,
    "start_time": "2024-10-28T08:39:56.073Z"
   },
   {
    "duration": 23,
    "start_time": "2024-10-28T08:39:56.720Z"
   },
   {
    "duration": 13,
    "start_time": "2024-10-28T08:39:56.745Z"
   },
   {
    "duration": 171,
    "start_time": "2024-10-28T08:39:56.771Z"
   },
   {
    "duration": 28,
    "start_time": "2024-10-28T08:39:56.944Z"
   },
   {
    "duration": 11,
    "start_time": "2024-10-28T08:39:56.974Z"
   },
   {
    "duration": 100,
    "start_time": "2024-10-28T08:39:56.986Z"
   },
   {
    "duration": 19,
    "start_time": "2024-10-28T08:39:57.089Z"
   },
   {
    "duration": 12,
    "start_time": "2024-10-28T08:39:57.111Z"
   },
   {
    "duration": 200,
    "start_time": "2024-10-28T08:39:57.125Z"
   },
   {
    "duration": 5,
    "start_time": "2024-10-28T08:39:57.327Z"
   },
   {
    "duration": 4,
    "start_time": "2024-10-28T08:39:57.334Z"
   },
   {
    "duration": 8,
    "start_time": "2024-10-28T08:39:57.340Z"
   },
   {
    "duration": 23,
    "start_time": "2024-10-28T08:39:57.349Z"
   },
   {
    "duration": 6,
    "start_time": "2024-10-28T08:39:57.374Z"
   },
   {
    "duration": 3,
    "start_time": "2024-10-28T08:39:57.382Z"
   },
   {
    "duration": 5,
    "start_time": "2024-10-28T08:39:57.387Z"
   },
   {
    "duration": 5,
    "start_time": "2024-10-28T08:39:57.393Z"
   },
   {
    "duration": 128,
    "start_time": "2024-10-28T08:39:57.399Z"
   },
   {
    "duration": 18,
    "start_time": "2024-10-28T08:39:57.529Z"
   },
   {
    "duration": 21,
    "start_time": "2024-10-28T08:39:57.549Z"
   },
   {
    "duration": 4,
    "start_time": "2024-10-28T08:39:57.572Z"
   },
   {
    "duration": 7,
    "start_time": "2024-10-28T08:39:57.578Z"
   },
   {
    "duration": 6,
    "start_time": "2024-10-28T08:39:57.587Z"
   },
   {
    "duration": 7,
    "start_time": "2024-10-28T08:39:57.595Z"
   },
   {
    "duration": 5,
    "start_time": "2024-10-28T08:39:57.604Z"
   },
   {
    "duration": 4,
    "start_time": "2024-10-28T08:39:57.612Z"
   },
   {
    "duration": 6,
    "start_time": "2024-10-28T08:39:57.617Z"
   },
   {
    "duration": 506,
    "start_time": "2024-10-28T08:39:57.624Z"
   },
   {
    "duration": 1692,
    "start_time": "2024-10-28T08:39:58.131Z"
   },
   {
    "duration": 1564,
    "start_time": "2024-10-28T08:39:59.826Z"
   },
   {
    "duration": 132,
    "start_time": "2024-10-28T08:40:01.392Z"
   },
   {
    "duration": 7,
    "start_time": "2024-10-28T08:40:01.526Z"
   },
   {
    "duration": 7,
    "start_time": "2024-10-28T08:40:01.534Z"
   },
   {
    "duration": 619,
    "start_time": "2024-10-28T08:40:01.542Z"
   },
   {
    "duration": 151,
    "start_time": "2024-10-28T08:40:02.163Z"
   },
   {
    "duration": 14,
    "start_time": "2024-10-28T08:40:02.316Z"
   },
   {
    "duration": 318,
    "start_time": "2024-10-28T08:40:02.331Z"
   },
   {
    "duration": 23,
    "start_time": "2024-10-28T08:40:02.651Z"
   },
   {
    "duration": 10,
    "start_time": "2024-10-28T08:40:02.677Z"
   },
   {
    "duration": 163,
    "start_time": "2024-10-28T08:40:02.689Z"
   },
   {
    "duration": 232,
    "start_time": "2024-10-28T08:40:02.854Z"
   },
   {
    "duration": 4,
    "start_time": "2024-10-28T08:40:03.087Z"
   },
   {
    "duration": 2,
    "start_time": "2024-10-28T08:40:03.093Z"
   },
   {
    "duration": 25,
    "start_time": "2024-10-28T08:40:03.097Z"
   },
   {
    "duration": 1708,
    "start_time": "2024-10-28T08:40:03.123Z"
   },
   {
    "duration": 5,
    "start_time": "2024-10-28T08:40:04.833Z"
   },
   {
    "duration": 7225,
    "start_time": "2024-10-28T08:40:04.840Z"
   },
   {
    "duration": 18,
    "start_time": "2024-10-28T08:40:12.071Z"
   },
   {
    "duration": 18,
    "start_time": "2024-10-28T08:40:12.091Z"
   },
   {
    "duration": 162,
    "start_time": "2024-10-28T08:40:12.111Z"
   },
   {
    "duration": 199,
    "start_time": "2024-10-28T08:40:12.275Z"
   },
   {
    "duration": 5,
    "start_time": "2024-10-28T08:40:12.477Z"
   },
   {
    "duration": 4,
    "start_time": "2024-10-28T08:40:12.484Z"
   },
   {
    "duration": 5,
    "start_time": "2024-10-28T08:40:12.489Z"
   },
   {
    "duration": 3,
    "start_time": "2024-10-28T08:40:12.496Z"
   },
   {
    "duration": 2,
    "start_time": "2024-10-28T08:40:12.570Z"
   },
   {
    "duration": 4,
    "start_time": "2024-10-28T08:40:12.574Z"
   },
   {
    "duration": 8,
    "start_time": "2024-10-28T08:40:12.581Z"
   },
   {
    "duration": 9,
    "start_time": "2024-10-28T08:40:12.590Z"
   },
   {
    "duration": 5,
    "start_time": "2024-10-28T08:40:12.602Z"
   },
   {
    "duration": 5,
    "start_time": "2024-10-28T08:40:12.671Z"
   },
   {
    "duration": 5,
    "start_time": "2024-10-28T08:40:12.679Z"
   },
   {
    "duration": 3,
    "start_time": "2024-10-28T08:40:12.685Z"
   },
   {
    "duration": 83,
    "start_time": "2024-10-28T08:40:12.690Z"
   },
   {
    "duration": 3712,
    "start_time": "2024-10-28T08:53:18.286Z"
   },
   {
    "duration": 28,
    "start_time": "2024-10-28T08:53:35.389Z"
   },
   {
    "duration": 5325,
    "start_time": "2024-10-28T08:54:12.651Z"
   },
   {
    "duration": 8975,
    "start_time": "2024-10-28T08:54:46.003Z"
   },
   {
    "duration": 3142,
    "start_time": "2024-10-28T08:55:00.438Z"
   },
   {
    "duration": 11,
    "start_time": "2024-10-28T09:01:03.860Z"
   },
   {
    "duration": 4,
    "start_time": "2024-10-28T09:01:07.874Z"
   },
   {
    "duration": 158,
    "start_time": "2024-10-31T01:59:39.057Z"
   },
   {
    "duration": 2764,
    "start_time": "2024-10-31T01:59:43.348Z"
   },
   {
    "duration": 618,
    "start_time": "2024-10-31T01:59:46.114Z"
   },
   {
    "duration": 24,
    "start_time": "2024-10-31T01:59:46.734Z"
   },
   {
    "duration": 28,
    "start_time": "2024-10-31T01:59:46.759Z"
   },
   {
    "duration": 158,
    "start_time": "2024-10-31T01:59:46.790Z"
   },
   {
    "duration": 19,
    "start_time": "2024-10-31T01:59:46.950Z"
   },
   {
    "duration": 23,
    "start_time": "2024-10-31T01:59:46.970Z"
   },
   {
    "duration": 92,
    "start_time": "2024-10-31T01:59:46.995Z"
   },
   {
    "duration": 21,
    "start_time": "2024-10-31T01:59:47.089Z"
   },
   {
    "duration": 12,
    "start_time": "2024-10-31T01:59:47.112Z"
   },
   {
    "duration": 186,
    "start_time": "2024-10-31T01:59:47.126Z"
   },
   {
    "duration": 5,
    "start_time": "2024-10-31T01:59:47.314Z"
   },
   {
    "duration": 4,
    "start_time": "2024-10-31T01:59:47.320Z"
   },
   {
    "duration": 8,
    "start_time": "2024-10-31T01:59:47.328Z"
   },
   {
    "duration": 4,
    "start_time": "2024-10-31T01:59:47.337Z"
   },
   {
    "duration": 5,
    "start_time": "2024-10-31T01:59:47.343Z"
   },
   {
    "duration": 2,
    "start_time": "2024-10-31T01:59:47.350Z"
   },
   {
    "duration": 4,
    "start_time": "2024-10-31T01:59:47.386Z"
   },
   {
    "duration": 4,
    "start_time": "2024-10-31T01:59:47.392Z"
   },
   {
    "duration": 115,
    "start_time": "2024-10-31T01:59:47.398Z"
   },
   {
    "duration": 19,
    "start_time": "2024-10-31T01:59:47.514Z"
   },
   {
    "duration": 6,
    "start_time": "2024-10-31T01:59:47.534Z"
   },
   {
    "duration": 5,
    "start_time": "2024-10-31T01:59:47.541Z"
   },
   {
    "duration": 7,
    "start_time": "2024-10-31T01:59:47.547Z"
   },
   {
    "duration": 34,
    "start_time": "2024-10-31T01:59:47.556Z"
   },
   {
    "duration": 7,
    "start_time": "2024-10-31T01:59:47.592Z"
   },
   {
    "duration": 7,
    "start_time": "2024-10-31T01:59:47.601Z"
   },
   {
    "duration": 3,
    "start_time": "2024-10-31T01:59:47.609Z"
   },
   {
    "duration": 6,
    "start_time": "2024-10-31T01:59:47.614Z"
   },
   {
    "duration": 430,
    "start_time": "2024-10-31T01:59:47.621Z"
   },
   {
    "duration": 1704,
    "start_time": "2024-10-31T01:59:48.053Z"
   },
   {
    "duration": 1647,
    "start_time": "2024-10-31T01:59:49.760Z"
   },
   {
    "duration": 132,
    "start_time": "2024-10-31T01:59:51.409Z"
   },
   {
    "duration": 7,
    "start_time": "2024-10-31T01:59:51.543Z"
   },
   {
    "duration": 6,
    "start_time": "2024-10-31T01:59:51.551Z"
   },
   {
    "duration": 690,
    "start_time": "2024-10-31T01:59:51.559Z"
   },
   {
    "duration": 159,
    "start_time": "2024-10-31T01:59:52.251Z"
   },
   {
    "duration": 14,
    "start_time": "2024-10-31T01:59:52.412Z"
   },
   {
    "duration": 320,
    "start_time": "2024-10-31T01:59:52.428Z"
   },
   {
    "duration": 101,
    "start_time": "2024-10-31T01:59:52.750Z"
   },
   {
    "duration": 9,
    "start_time": "2024-10-31T01:59:52.855Z"
   },
   {
    "duration": 172,
    "start_time": "2024-10-31T01:59:52.866Z"
   },
   {
    "duration": 269,
    "start_time": "2024-10-31T01:59:53.040Z"
   },
   {
    "duration": 4,
    "start_time": "2024-10-31T01:59:53.311Z"
   },
   {
    "duration": 4,
    "start_time": "2024-10-31T01:59:53.316Z"
   },
   {
    "duration": 23,
    "start_time": "2024-10-31T01:59:53.322Z"
   },
   {
    "duration": 4,
    "start_time": "2024-10-31T01:59:56.694Z"
   },
   {
    "duration": 19,
    "start_time": "2024-10-31T02:00:33.712Z"
   },
   {
    "duration": 17,
    "start_time": "2024-10-31T02:00:48.924Z"
   },
   {
    "duration": 18,
    "start_time": "2024-10-31T02:02:46.016Z"
   },
   {
    "duration": 18,
    "start_time": "2024-10-31T02:02:54.370Z"
   },
   {
    "duration": 3,
    "start_time": "2024-10-31T02:04:25.207Z"
   },
   {
    "duration": 3,
    "start_time": "2024-10-31T02:34:05.743Z"
   },
   {
    "duration": 158,
    "start_time": "2024-11-03T03:46:39.186Z"
   },
   {
    "duration": 245,
    "start_time": "2024-11-10T22:30:39.629Z"
   },
   {
    "duration": 2864,
    "start_time": "2024-11-10T22:30:43.946Z"
   },
   {
    "duration": 683,
    "start_time": "2024-11-10T22:30:46.812Z"
   },
   {
    "duration": 22,
    "start_time": "2024-11-10T22:30:47.497Z"
   },
   {
    "duration": 13,
    "start_time": "2024-11-10T22:30:47.522Z"
   },
   {
    "duration": 164,
    "start_time": "2024-11-10T22:30:47.543Z"
   },
   {
    "duration": 20,
    "start_time": "2024-11-10T22:30:47.708Z"
   },
   {
    "duration": 28,
    "start_time": "2024-11-10T22:30:47.742Z"
   },
   {
    "duration": 103,
    "start_time": "2024-11-10T22:30:47.772Z"
   },
   {
    "duration": 20,
    "start_time": "2024-11-10T22:30:47.877Z"
   },
   {
    "duration": 12,
    "start_time": "2024-11-10T22:30:47.900Z"
   },
   {
    "duration": 175,
    "start_time": "2024-11-10T22:30:47.913Z"
   },
   {
    "duration": 4,
    "start_time": "2024-11-10T22:30:48.091Z"
   },
   {
    "duration": 4,
    "start_time": "2024-11-10T22:30:48.096Z"
   },
   {
    "duration": 8,
    "start_time": "2024-11-10T22:30:48.102Z"
   },
   {
    "duration": 4,
    "start_time": "2024-11-10T22:30:48.112Z"
   },
   {
    "duration": 29,
    "start_time": "2024-11-10T22:30:48.119Z"
   },
   {
    "duration": 6,
    "start_time": "2024-11-10T22:30:48.149Z"
   },
   {
    "duration": 6,
    "start_time": "2024-11-10T22:30:48.157Z"
   },
   {
    "duration": 4,
    "start_time": "2024-11-10T22:30:48.165Z"
   },
   {
    "duration": 106,
    "start_time": "2024-11-10T22:30:48.170Z"
   },
   {
    "duration": 20,
    "start_time": "2024-11-10T22:30:48.278Z"
   },
   {
    "duration": 6,
    "start_time": "2024-11-10T22:30:48.299Z"
   },
   {
    "duration": 5,
    "start_time": "2024-11-10T22:30:48.306Z"
   },
   {
    "duration": 58,
    "start_time": "2024-11-10T22:30:48.312Z"
   },
   {
    "duration": 6,
    "start_time": "2024-11-10T22:30:48.372Z"
   },
   {
    "duration": 7,
    "start_time": "2024-11-10T22:30:48.381Z"
   },
   {
    "duration": 7,
    "start_time": "2024-11-10T22:30:48.390Z"
   },
   {
    "duration": 4,
    "start_time": "2024-11-10T22:30:48.402Z"
   },
   {
    "duration": 6,
    "start_time": "2024-11-10T22:30:48.407Z"
   },
   {
    "duration": 388,
    "start_time": "2024-11-10T22:30:48.416Z"
   },
   {
    "duration": 1939,
    "start_time": "2024-11-10T22:30:48.806Z"
   },
   {
    "duration": 1676,
    "start_time": "2024-11-10T22:30:50.748Z"
   },
   {
    "duration": 149,
    "start_time": "2024-11-10T22:30:52.425Z"
   },
   {
    "duration": 7,
    "start_time": "2024-11-10T22:30:52.575Z"
   },
   {
    "duration": 5,
    "start_time": "2024-11-10T22:30:52.585Z"
   },
   {
    "duration": 539,
    "start_time": "2024-11-10T22:30:52.592Z"
   },
   {
    "duration": 170,
    "start_time": "2024-11-10T22:30:53.133Z"
   },
   {
    "duration": 15,
    "start_time": "2024-11-10T22:30:53.305Z"
   },
   {
    "duration": 336,
    "start_time": "2024-11-10T22:30:53.322Z"
   },
   {
    "duration": 20,
    "start_time": "2024-11-10T22:30:53.659Z"
   },
   {
    "duration": 11,
    "start_time": "2024-11-10T22:30:53.680Z"
   },
   {
    "duration": 188,
    "start_time": "2024-11-10T22:30:53.693Z"
   },
   {
    "duration": 231,
    "start_time": "2024-11-10T22:30:53.883Z"
   },
   {
    "duration": 4,
    "start_time": "2024-11-10T22:30:54.116Z"
   },
   {
    "duration": 2,
    "start_time": "2024-11-10T22:30:54.122Z"
   },
   {
    "duration": 543,
    "start_time": "2024-11-10T22:31:13.467Z"
   },
   {
    "duration": 23,
    "start_time": "2024-11-10T22:31:25.923Z"
   },
   {
    "duration": 3,
    "start_time": "2024-11-10T22:31:29.270Z"
   },
   {
    "duration": 571704,
    "start_time": "2024-11-10T22:32:23.931Z"
   },
   {
    "duration": 1777,
    "start_time": "2024-11-10T22:50:10.896Z"
   },
   {
    "duration": 13275,
    "start_time": "2024-11-10T22:51:03.471Z"
   },
   {
    "duration": 572258,
    "start_time": "2024-11-10T23:22:12.663Z"
   },
   {
    "duration": 13270,
    "start_time": "2024-11-10T23:32:15.247Z"
   },
   {
    "duration": 27,
    "start_time": "2024-11-10T23:39:01.299Z"
   },
   {
    "duration": 51143,
    "start_time": "2024-11-10T23:39:09.981Z"
   },
   {
    "duration": 3,
    "start_time": "2024-11-10T23:45:00.104Z"
   },
   {
    "duration": 647604,
    "start_time": "2024-11-10T23:45:35.020Z"
   },
   {
    "duration": 50861,
    "start_time": "2024-11-11T00:01:00.509Z"
   },
   {
    "duration": 57659,
    "start_time": "2024-11-11T00:02:17.039Z"
   },
   {
    "duration": 58125,
    "start_time": "2024-11-11T01:00:54.855Z"
   },
   {
    "duration": 156,
    "start_time": "2024-11-11T01:25:45.003Z"
   },
   {
    "duration": 12,
    "start_time": "2024-11-11T01:26:20.822Z"
   },
   {
    "duration": 2743,
    "start_time": "2024-11-11T01:26:26.093Z"
   },
   {
    "duration": 661,
    "start_time": "2024-11-11T01:26:28.838Z"
   },
   {
    "duration": 25,
    "start_time": "2024-11-11T01:26:29.501Z"
   },
   {
    "duration": 14,
    "start_time": "2024-11-11T01:26:29.528Z"
   },
   {
    "duration": 168,
    "start_time": "2024-11-11T01:26:29.545Z"
   },
   {
    "duration": 18,
    "start_time": "2024-11-11T01:26:29.715Z"
   },
   {
    "duration": 9,
    "start_time": "2024-11-11T01:26:29.735Z"
   },
   {
    "duration": 110,
    "start_time": "2024-11-11T01:26:29.745Z"
   },
   {
    "duration": 21,
    "start_time": "2024-11-11T01:26:29.856Z"
   },
   {
    "duration": 31,
    "start_time": "2024-11-11T01:26:29.878Z"
   },
   {
    "duration": 174,
    "start_time": "2024-11-11T01:26:29.911Z"
   },
   {
    "duration": 5,
    "start_time": "2024-11-11T01:26:30.086Z"
   },
   {
    "duration": 15,
    "start_time": "2024-11-11T01:26:30.093Z"
   },
   {
    "duration": 8,
    "start_time": "2024-11-11T01:26:30.112Z"
   },
   {
    "duration": 4,
    "start_time": "2024-11-11T01:26:30.121Z"
   },
   {
    "duration": 6,
    "start_time": "2024-11-11T01:26:30.127Z"
   },
   {
    "duration": 3,
    "start_time": "2024-11-11T01:26:30.135Z"
   },
   {
    "duration": 4,
    "start_time": "2024-11-11T01:26:30.140Z"
   },
   {
    "duration": 4,
    "start_time": "2024-11-11T01:26:30.146Z"
   },
   {
    "duration": 132,
    "start_time": "2024-11-11T01:26:30.152Z"
   },
   {
    "duration": 26,
    "start_time": "2024-11-11T01:26:30.286Z"
   },
   {
    "duration": 6,
    "start_time": "2024-11-11T01:26:30.315Z"
   },
   {
    "duration": 4,
    "start_time": "2024-11-11T01:26:30.323Z"
   },
   {
    "duration": 6,
    "start_time": "2024-11-11T01:26:30.329Z"
   },
   {
    "duration": 7,
    "start_time": "2024-11-11T01:26:30.336Z"
   },
   {
    "duration": 7,
    "start_time": "2024-11-11T01:26:30.344Z"
   },
   {
    "duration": 5,
    "start_time": "2024-11-11T01:26:30.353Z"
   },
   {
    "duration": 4,
    "start_time": "2024-11-11T01:26:30.360Z"
   },
   {
    "duration": 49,
    "start_time": "2024-11-11T01:26:30.365Z"
   },
   {
    "duration": 399,
    "start_time": "2024-11-11T01:26:30.416Z"
   },
   {
    "duration": 1697,
    "start_time": "2024-11-11T01:26:30.817Z"
   },
   {
    "duration": 1705,
    "start_time": "2024-11-11T01:26:32.516Z"
   },
   {
    "duration": 132,
    "start_time": "2024-11-11T01:26:34.223Z"
   },
   {
    "duration": 7,
    "start_time": "2024-11-11T01:26:34.357Z"
   },
   {
    "duration": 7,
    "start_time": "2024-11-11T01:26:34.366Z"
   },
   {
    "duration": 551,
    "start_time": "2024-11-11T01:26:34.375Z"
   },
   {
    "duration": 160,
    "start_time": "2024-11-11T01:26:34.929Z"
   },
   {
    "duration": 23,
    "start_time": "2024-11-11T01:26:35.091Z"
   },
   {
    "duration": 313,
    "start_time": "2024-11-11T01:26:35.116Z"
   },
   {
    "duration": 15,
    "start_time": "2024-11-11T01:26:35.430Z"
   },
   {
    "duration": 11,
    "start_time": "2024-11-11T01:26:35.449Z"
   },
   {
    "duration": 174,
    "start_time": "2024-11-11T01:26:35.461Z"
   },
   {
    "duration": 246,
    "start_time": "2024-11-11T01:26:35.637Z"
   },
   {
    "duration": 4,
    "start_time": "2024-11-11T01:26:35.885Z"
   },
   {
    "duration": 2,
    "start_time": "2024-11-11T01:26:35.892Z"
   },
   {
    "duration": 118,
    "start_time": "2024-11-11T01:26:35.909Z"
   },
   {
    "duration": 4,
    "start_time": "2024-11-11T01:26:36.029Z"
   },
   {
    "duration": 48698,
    "start_time": "2024-11-11T01:26:36.034Z"
   },
   {
    "duration": 95,
    "start_time": "2024-11-11T01:27:24.733Z"
   },
   {
    "duration": 0,
    "start_time": "2024-11-11T01:27:24.829Z"
   },
   {
    "duration": 15,
    "start_time": "2024-11-11T01:36:41.035Z"
   },
   {
    "duration": 478,
    "start_time": "2024-11-11T01:41:07.704Z"
   },
   {
    "duration": 43,
    "start_time": "2024-11-11T02:04:40.338Z"
   },
   {
    "duration": 1035,
    "start_time": "2024-11-11T02:04:52.339Z"
   },
   {
    "duration": 527,
    "start_time": "2024-11-11T02:04:53.376Z"
   },
   {
    "duration": 23,
    "start_time": "2024-11-11T02:04:53.904Z"
   },
   {
    "duration": 13,
    "start_time": "2024-11-11T02:04:53.929Z"
   },
   {
    "duration": 171,
    "start_time": "2024-11-11T02:04:53.944Z"
   },
   {
    "duration": 18,
    "start_time": "2024-11-11T02:04:54.117Z"
   },
   {
    "duration": 14,
    "start_time": "2024-11-11T02:04:54.137Z"
   },
   {
    "duration": 101,
    "start_time": "2024-11-11T02:04:54.153Z"
   },
   {
    "duration": 20,
    "start_time": "2024-11-11T02:04:54.255Z"
   },
   {
    "duration": 12,
    "start_time": "2024-11-11T02:04:54.278Z"
   },
   {
    "duration": 169,
    "start_time": "2024-11-11T02:04:54.308Z"
   },
   {
    "duration": 5,
    "start_time": "2024-11-11T02:04:54.479Z"
   },
   {
    "duration": 4,
    "start_time": "2024-11-11T02:04:54.485Z"
   },
   {
    "duration": 27,
    "start_time": "2024-11-11T02:04:54.491Z"
   },
   {
    "duration": 4,
    "start_time": "2024-11-11T02:04:54.520Z"
   },
   {
    "duration": 6,
    "start_time": "2024-11-11T02:04:54.526Z"
   },
   {
    "duration": 3,
    "start_time": "2024-11-11T02:04:54.534Z"
   },
   {
    "duration": 4,
    "start_time": "2024-11-11T02:04:54.539Z"
   },
   {
    "duration": 5,
    "start_time": "2024-11-11T02:04:54.545Z"
   },
   {
    "duration": 128,
    "start_time": "2024-11-11T02:04:54.552Z"
   },
   {
    "duration": 26,
    "start_time": "2024-11-11T02:04:54.682Z"
   },
   {
    "duration": 7,
    "start_time": "2024-11-11T02:04:54.710Z"
   },
   {
    "duration": 5,
    "start_time": "2024-11-11T02:04:54.718Z"
   },
   {
    "duration": 7,
    "start_time": "2024-11-11T02:04:54.724Z"
   },
   {
    "duration": 7,
    "start_time": "2024-11-11T02:04:54.733Z"
   },
   {
    "duration": 6,
    "start_time": "2024-11-11T02:04:54.742Z"
   },
   {
    "duration": 5,
    "start_time": "2024-11-11T02:04:54.750Z"
   },
   {
    "duration": 4,
    "start_time": "2024-11-11T02:04:54.760Z"
   },
   {
    "duration": 47,
    "start_time": "2024-11-11T02:04:54.766Z"
   },
   {
    "duration": 387,
    "start_time": "2024-11-11T02:04:54.815Z"
   },
   {
    "duration": 1715,
    "start_time": "2024-11-11T02:04:55.208Z"
   },
   {
    "duration": 1597,
    "start_time": "2024-11-11T02:04:56.925Z"
   },
   {
    "duration": 131,
    "start_time": "2024-11-11T02:04:58.523Z"
   },
   {
    "duration": 7,
    "start_time": "2024-11-11T02:04:58.656Z"
   },
   {
    "duration": 6,
    "start_time": "2024-11-11T02:04:58.665Z"
   },
   {
    "duration": 618,
    "start_time": "2024-11-11T02:04:58.673Z"
   },
   {
    "duration": 161,
    "start_time": "2024-11-11T02:04:59.294Z"
   },
   {
    "duration": 14,
    "start_time": "2024-11-11T02:04:59.457Z"
   },
   {
    "duration": 422,
    "start_time": "2024-11-11T02:04:59.473Z"
   },
   {
    "duration": 21,
    "start_time": "2024-11-11T02:04:59.897Z"
   },
   {
    "duration": 10,
    "start_time": "2024-11-11T02:04:59.920Z"
   },
   {
    "duration": 166,
    "start_time": "2024-11-11T02:04:59.932Z"
   },
   {
    "duration": 242,
    "start_time": "2024-11-11T02:05:00.100Z"
   },
   {
    "duration": 4,
    "start_time": "2024-11-11T02:05:00.344Z"
   },
   {
    "duration": 3,
    "start_time": "2024-11-11T02:05:00.350Z"
   },
   {
    "duration": 24,
    "start_time": "2024-11-11T02:05:00.355Z"
   },
   {
    "duration": 3,
    "start_time": "2024-11-11T02:05:00.381Z"
   },
   {
    "duration": 691,
    "start_time": "2024-11-11T02:05:48.812Z"
   },
   {
    "duration": 0,
    "start_time": "2024-11-11T02:05:49.504Z"
   },
   {
    "duration": 0,
    "start_time": "2024-11-11T02:05:49.509Z"
   },
   {
    "duration": 0,
    "start_time": "2024-11-11T02:05:49.510Z"
   },
   {
    "duration": 0,
    "start_time": "2024-11-11T02:05:49.511Z"
   },
   {
    "duration": 0,
    "start_time": "2024-11-11T02:05:49.513Z"
   },
   {
    "duration": 0,
    "start_time": "2024-11-11T02:05:49.514Z"
   },
   {
    "duration": 0,
    "start_time": "2024-11-11T02:05:49.516Z"
   },
   {
    "duration": 0,
    "start_time": "2024-11-11T02:05:49.517Z"
   },
   {
    "duration": 0,
    "start_time": "2024-11-11T02:05:49.518Z"
   },
   {
    "duration": 0,
    "start_time": "2024-11-11T02:05:49.520Z"
   },
   {
    "duration": 0,
    "start_time": "2024-11-11T02:05:49.521Z"
   },
   {
    "duration": 0,
    "start_time": "2024-11-11T02:05:49.523Z"
   },
   {
    "duration": 0,
    "start_time": "2024-11-11T02:05:49.524Z"
   },
   {
    "duration": 1,
    "start_time": "2024-11-11T02:05:49.526Z"
   },
   {
    "duration": 0,
    "start_time": "2024-11-11T02:05:49.528Z"
   },
   {
    "duration": 0,
    "start_time": "2024-11-11T02:05:49.529Z"
   },
   {
    "duration": 0,
    "start_time": "2024-11-11T02:05:49.531Z"
   },
   {
    "duration": 0,
    "start_time": "2024-11-11T02:05:49.532Z"
   },
   {
    "duration": 0,
    "start_time": "2024-11-11T02:05:49.533Z"
   },
   {
    "duration": 48716,
    "start_time": "2024-11-11T02:07:40.888Z"
   },
   {
    "duration": 43,
    "start_time": "2024-11-11T02:09:05.599Z"
   },
   {
    "duration": 163,
    "start_time": "2024-11-11T03:48:27.170Z"
   },
   {
    "duration": 2760,
    "start_time": "2024-11-11T03:48:33.154Z"
   },
   {
    "duration": 629,
    "start_time": "2024-11-11T03:48:35.916Z"
   },
   {
    "duration": 22,
    "start_time": "2024-11-11T03:48:36.546Z"
   },
   {
    "duration": 12,
    "start_time": "2024-11-11T03:48:36.571Z"
   },
   {
    "duration": 176,
    "start_time": "2024-11-11T03:48:36.585Z"
   },
   {
    "duration": 18,
    "start_time": "2024-11-11T03:48:36.763Z"
   },
   {
    "duration": 10,
    "start_time": "2024-11-11T03:48:36.782Z"
   },
   {
    "duration": 99,
    "start_time": "2024-11-11T03:48:36.793Z"
   },
   {
    "duration": 33,
    "start_time": "2024-11-11T03:48:36.894Z"
   },
   {
    "duration": 13,
    "start_time": "2024-11-11T03:48:36.931Z"
   },
   {
    "duration": 177,
    "start_time": "2024-11-11T03:48:36.946Z"
   },
   {
    "duration": 4,
    "start_time": "2024-11-11T03:48:37.125Z"
   },
   {
    "duration": 4,
    "start_time": "2024-11-11T03:48:37.130Z"
   },
   {
    "duration": 8,
    "start_time": "2024-11-11T03:48:37.136Z"
   },
   {
    "duration": 4,
    "start_time": "2024-11-11T03:48:37.145Z"
   },
   {
    "duration": 5,
    "start_time": "2024-11-11T03:48:37.151Z"
   },
   {
    "duration": 3,
    "start_time": "2024-11-11T03:48:37.158Z"
   },
   {
    "duration": 4,
    "start_time": "2024-11-11T03:48:37.163Z"
   },
   {
    "duration": 88,
    "start_time": "2024-11-11T03:49:06.146Z"
   },
   {
    "duration": 14,
    "start_time": "2024-11-11T03:49:17.193Z"
   },
   {
    "duration": 3,
    "start_time": "2024-11-11T03:49:54.540Z"
   },
   {
    "duration": 3,
    "start_time": "2024-11-11T03:50:44.210Z"
   },
   {
    "duration": 21,
    "start_time": "2024-11-11T03:50:55.427Z"
   },
   {
    "duration": 13,
    "start_time": "2024-11-11T03:51:01.440Z"
   },
   {
    "duration": 4,
    "start_time": "2024-11-11T03:51:46.811Z"
   },
   {
    "duration": 14,
    "start_time": "2024-11-11T03:54:04.755Z"
   },
   {
    "duration": 2,
    "start_time": "2024-11-11T03:54:20.370Z"
   },
   {
    "duration": 5,
    "start_time": "2024-11-11T03:55:38.357Z"
   },
   {
    "duration": 183,
    "start_time": "2024-11-11T03:55:55.350Z"
   },
   {
    "duration": 108,
    "start_time": "2024-11-11T03:56:06.131Z"
   },
   {
    "duration": 15,
    "start_time": "2024-11-11T04:12:31.466Z"
   },
   {
    "duration": 6,
    "start_time": "2024-11-11T04:12:36.671Z"
   },
   {
    "duration": 6,
    "start_time": "2024-11-11T04:12:44.124Z"
   },
   {
    "duration": 94,
    "start_time": "2024-11-11T04:12:53.420Z"
   },
   {
    "duration": 60,
    "start_time": "2024-11-11T04:14:28.646Z"
   },
   {
    "duration": 19,
    "start_time": "2024-11-11T04:14:29.428Z"
   },
   {
    "duration": 6,
    "start_time": "2024-11-11T04:14:31.073Z"
   },
   {
    "duration": 5,
    "start_time": "2024-11-11T04:14:31.786Z"
   },
   {
    "duration": 8,
    "start_time": "2024-11-11T04:14:35.293Z"
   },
   {
    "duration": 6,
    "start_time": "2024-11-11T04:14:42.085Z"
   },
   {
    "duration": 7,
    "start_time": "2024-11-11T04:14:42.963Z"
   },
   {
    "duration": 7,
    "start_time": "2024-11-11T04:14:47.152Z"
   },
   {
    "duration": 4,
    "start_time": "2024-11-11T04:15:00.788Z"
   },
   {
    "duration": 6,
    "start_time": "2024-11-11T04:15:01.846Z"
   },
   {
    "duration": 459,
    "start_time": "2024-11-11T04:15:17.153Z"
   },
   {
    "duration": 1716,
    "start_time": "2024-11-11T04:15:22.954Z"
   },
   {
    "duration": 1655,
    "start_time": "2024-11-11T04:15:52.637Z"
   },
   {
    "duration": 132,
    "start_time": "2024-11-11T04:15:59.787Z"
   },
   {
    "duration": 7,
    "start_time": "2024-11-11T04:16:07.137Z"
   },
   {
    "duration": 8,
    "start_time": "2024-11-11T04:16:08.850Z"
   },
   {
    "duration": 582,
    "start_time": "2024-11-11T04:16:14.917Z"
   },
   {
    "duration": 150,
    "start_time": "2024-11-11T04:16:22.587Z"
   },
   {
    "duration": 15,
    "start_time": "2024-11-11T04:17:01.019Z"
   },
   {
    "duration": 311,
    "start_time": "2024-11-11T04:17:02.741Z"
   },
   {
    "duration": 439,
    "start_time": "2024-11-11T04:17:12.379Z"
   },
   {
    "duration": 9,
    "start_time": "2024-11-11T04:19:41.063Z"
   },
   {
    "duration": 17,
    "start_time": "2024-11-11T04:19:50.507Z"
   },
   {
    "duration": 8,
    "start_time": "2024-11-11T04:20:20.153Z"
   },
   {
    "duration": 59,
    "start_time": "2024-11-11T04:20:26.698Z"
   },
   {
    "duration": 812,
    "start_time": "2024-11-11T04:21:18.544Z"
   },
   {
    "duration": 133,
    "start_time": "2024-11-11T04:22:45.855Z"
   },
   {
    "duration": 315,
    "start_time": "2024-11-11T04:22:59.079Z"
   },
   {
    "duration": 191,
    "start_time": "2024-11-11T04:23:27.465Z"
   },
   {
    "duration": 3,
    "start_time": "2024-11-11T04:23:39.265Z"
   },
   {
    "duration": 3,
    "start_time": "2024-11-11T04:23:40.323Z"
   },
   {
    "duration": 5,
    "start_time": "2024-11-11T04:26:33.127Z"
   },
   {
    "duration": 44,
    "start_time": "2024-11-11T04:27:23.651Z"
   },
   {
    "duration": 21,
    "start_time": "2024-11-11T04:28:28.895Z"
   },
   {
    "duration": 45,
    "start_time": "2024-11-11T04:33:26.382Z"
   },
   {
    "duration": 4,
    "start_time": "2024-11-11T04:34:51.081Z"
   },
   {
    "duration": 283,
    "start_time": "2024-11-11T04:38:25.954Z"
   },
   {
    "duration": 21,
    "start_time": "2024-11-11T04:41:45.594Z"
   },
   {
    "duration": 3,
    "start_time": "2024-11-11T04:41:54.531Z"
   },
   {
    "duration": 120,
    "start_time": "2024-11-11T04:43:23.723Z"
   },
   {
    "duration": 500,
    "start_time": "2024-11-11T04:43:44.870Z"
   },
   {
    "duration": 21,
    "start_time": "2024-11-11T04:43:47.158Z"
   },
   {
    "duration": 13,
    "start_time": "2024-11-11T04:43:49.793Z"
   },
   {
    "duration": 156,
    "start_time": "2024-11-11T04:43:55.109Z"
   },
   {
    "duration": 20,
    "start_time": "2024-11-11T04:43:58.778Z"
   },
   {
    "duration": 10,
    "start_time": "2024-11-11T04:44:02.077Z"
   },
   {
    "duration": 89,
    "start_time": "2024-11-11T04:44:04.086Z"
   },
   {
    "duration": 20,
    "start_time": "2024-11-11T04:44:06.062Z"
   },
   {
    "duration": 192,
    "start_time": "2024-11-11T04:44:08.582Z"
   },
   {
    "duration": 169,
    "start_time": "2024-11-11T04:44:21.012Z"
   },
   {
    "duration": 31,
    "start_time": "2024-11-11T04:44:32.836Z"
   },
   {
    "duration": 4,
    "start_time": "2024-11-11T04:44:50.383Z"
   },
   {
    "duration": 15,
    "start_time": "2024-11-11T04:45:03.055Z"
   },
   {
    "duration": 4,
    "start_time": "2024-11-11T04:45:12.887Z"
   },
   {
    "duration": 6,
    "start_time": "2024-11-11T04:45:46.647Z"
   },
   {
    "duration": 7,
    "start_time": "2024-11-11T04:46:44.143Z"
   },
   {
    "duration": 4,
    "start_time": "2024-11-11T04:47:30.553Z"
   },
   {
    "duration": 7,
    "start_time": "2024-11-11T04:48:09.175Z"
   },
   {
    "duration": 40,
    "start_time": "2024-11-11T04:48:25.957Z"
   },
   {
    "duration": 22,
    "start_time": "2024-11-11T04:48:26.688Z"
   },
   {
    "duration": 6,
    "start_time": "2024-11-11T04:48:29.394Z"
   },
   {
    "duration": 6,
    "start_time": "2024-11-11T04:48:29.911Z"
   },
   {
    "duration": 7,
    "start_time": "2024-11-11T04:48:32.029Z"
   },
   {
    "duration": 6,
    "start_time": "2024-11-11T04:48:36.176Z"
   },
   {
    "duration": 6,
    "start_time": "2024-11-11T04:48:37.248Z"
   },
   {
    "duration": 5,
    "start_time": "2024-11-11T04:48:43.737Z"
   },
   {
    "duration": 3,
    "start_time": "2024-11-11T04:48:46.674Z"
   },
   {
    "duration": 5,
    "start_time": "2024-11-11T04:48:48.412Z"
   },
   {
    "duration": 408,
    "start_time": "2024-11-11T04:48:53.310Z"
   },
   {
    "duration": 1846,
    "start_time": "2024-11-11T04:48:58.374Z"
   },
   {
    "duration": 1543,
    "start_time": "2024-11-11T04:49:06.244Z"
   },
   {
    "duration": 133,
    "start_time": "2024-11-11T04:49:11.162Z"
   },
   {
    "duration": 7,
    "start_time": "2024-11-11T04:49:16.141Z"
   },
   {
    "duration": 7,
    "start_time": "2024-11-11T04:49:18.174Z"
   },
   {
    "duration": 575,
    "start_time": "2024-11-11T04:49:21.324Z"
   },
   {
    "duration": 151,
    "start_time": "2024-11-11T04:49:27.231Z"
   },
   {
    "duration": 15,
    "start_time": "2024-11-11T04:49:44.116Z"
   },
   {
    "duration": 304,
    "start_time": "2024-11-11T04:49:45.788Z"
   },
   {
    "duration": 9,
    "start_time": "2024-11-11T04:49:52.034Z"
   },
   {
    "duration": 8,
    "start_time": "2024-11-11T04:49:55.455Z"
   },
   {
    "duration": 128,
    "start_time": "2024-11-11T04:50:07.060Z"
   },
   {
    "duration": 188,
    "start_time": "2024-11-11T04:50:12.160Z"
   },
   {
    "duration": 5,
    "start_time": "2024-11-11T04:50:18.512Z"
   },
   {
    "duration": 2,
    "start_time": "2024-11-11T04:50:19.467Z"
   },
   {
    "duration": 8,
    "start_time": "2024-11-11T04:52:24.544Z"
   },
   {
    "duration": 8,
    "start_time": "2024-11-11T04:52:38.422Z"
   },
   {
    "duration": 103,
    "start_time": "2024-11-11T04:52:47.219Z"
   },
   {
    "duration": 8,
    "start_time": "2024-11-11T04:56:26.202Z"
   },
   {
    "duration": 2,
    "start_time": "2024-11-11T04:57:29.624Z"
   },
   {
    "duration": 100,
    "start_time": "2024-11-11T04:57:58.912Z"
   },
   {
    "duration": 83,
    "start_time": "2024-11-11T04:58:27.326Z"
   },
   {
    "duration": 7,
    "start_time": "2024-11-11T04:58:49.956Z"
   },
   {
    "duration": 40,
    "start_time": "2024-11-11T04:59:10.871Z"
   },
   {
    "duration": 6,
    "start_time": "2024-11-11T04:59:20.897Z"
   },
   {
    "duration": 4,
    "start_time": "2024-11-11T04:59:48.026Z"
   },
   {
    "duration": 3,
    "start_time": "2024-11-11T05:01:33.992Z"
   },
   {
    "duration": 18,
    "start_time": "2024-11-11T05:03:53.478Z"
   },
   {
    "duration": 1001,
    "start_time": "2024-11-11T05:18:48.378Z"
   },
   {
    "duration": 515,
    "start_time": "2024-11-11T05:18:49.381Z"
   },
   {
    "duration": 27,
    "start_time": "2024-11-11T05:18:49.897Z"
   },
   {
    "duration": 13,
    "start_time": "2024-11-11T05:18:49.926Z"
   },
   {
    "duration": 176,
    "start_time": "2024-11-11T05:18:49.942Z"
   },
   {
    "duration": 18,
    "start_time": "2024-11-11T05:18:50.120Z"
   },
   {
    "duration": 9,
    "start_time": "2024-11-11T05:18:50.140Z"
   },
   {
    "duration": 105,
    "start_time": "2024-11-11T05:18:50.151Z"
   },
   {
    "duration": 19,
    "start_time": "2024-11-11T05:18:50.258Z"
   },
   {
    "duration": 16,
    "start_time": "2024-11-11T05:18:50.279Z"
   },
   {
    "duration": 175,
    "start_time": "2024-11-11T05:18:50.312Z"
   },
   {
    "duration": 4,
    "start_time": "2024-11-11T05:18:50.489Z"
   },
   {
    "duration": 4,
    "start_time": "2024-11-11T05:18:50.495Z"
   },
   {
    "duration": 8,
    "start_time": "2024-11-11T05:18:50.514Z"
   },
   {
    "duration": 4,
    "start_time": "2024-11-11T05:18:50.523Z"
   },
   {
    "duration": 6,
    "start_time": "2024-11-11T05:18:50.528Z"
   },
   {
    "duration": 4,
    "start_time": "2024-11-11T05:18:50.536Z"
   },
   {
    "duration": 5,
    "start_time": "2024-11-11T05:18:50.541Z"
   },
   {
    "duration": 4,
    "start_time": "2024-11-11T05:18:50.547Z"
   },
   {
    "duration": 5,
    "start_time": "2024-11-11T05:18:50.553Z"
   },
   {
    "duration": 5,
    "start_time": "2024-11-11T05:18:50.559Z"
   },
   {
    "duration": 105,
    "start_time": "2024-11-11T05:18:50.566Z"
   },
   {
    "duration": 21,
    "start_time": "2024-11-11T05:18:50.673Z"
   },
   {
    "duration": 18,
    "start_time": "2024-11-11T05:18:50.696Z"
   },
   {
    "duration": 5,
    "start_time": "2024-11-11T05:18:50.716Z"
   },
   {
    "duration": 5,
    "start_time": "2024-11-11T05:18:50.723Z"
   },
   {
    "duration": 4,
    "start_time": "2024-11-11T05:18:50.730Z"
   },
   {
    "duration": 6,
    "start_time": "2024-11-11T05:18:50.736Z"
   },
   {
    "duration": 5,
    "start_time": "2024-11-11T05:18:50.743Z"
   },
   {
    "duration": 4,
    "start_time": "2024-11-11T05:18:50.750Z"
   },
   {
    "duration": 5,
    "start_time": "2024-11-11T05:18:50.755Z"
   },
   {
    "duration": 406,
    "start_time": "2024-11-11T05:18:50.762Z"
   },
   {
    "duration": 1697,
    "start_time": "2024-11-11T05:18:51.170Z"
   },
   {
    "duration": 1631,
    "start_time": "2024-11-11T05:18:52.869Z"
   },
   {
    "duration": 130,
    "start_time": "2024-11-11T05:18:54.502Z"
   },
   {
    "duration": 7,
    "start_time": "2024-11-11T05:18:54.634Z"
   },
   {
    "duration": 6,
    "start_time": "2024-11-11T05:18:54.642Z"
   },
   {
    "duration": 557,
    "start_time": "2024-11-11T05:18:54.649Z"
   },
   {
    "duration": 156,
    "start_time": "2024-11-11T05:18:55.211Z"
   },
   {
    "duration": 14,
    "start_time": "2024-11-11T05:18:55.369Z"
   },
   {
    "duration": 395,
    "start_time": "2024-11-11T05:18:55.387Z"
   },
   {
    "duration": 9,
    "start_time": "2024-11-11T05:18:55.784Z"
   },
   {
    "duration": 23,
    "start_time": "2024-11-11T05:18:55.794Z"
   },
   {
    "duration": 149,
    "start_time": "2024-11-11T05:18:55.819Z"
   },
   {
    "duration": 197,
    "start_time": "2024-11-11T05:18:55.970Z"
   },
   {
    "duration": 3,
    "start_time": "2024-11-11T05:18:56.169Z"
   },
   {
    "duration": 8,
    "start_time": "2024-11-11T05:18:56.174Z"
   },
   {
    "duration": 3,
    "start_time": "2024-11-11T05:18:56.184Z"
   },
   {
    "duration": 1040,
    "start_time": "2024-11-11T05:23:18.808Z"
   },
   {
    "duration": 515,
    "start_time": "2024-11-11T05:23:19.850Z"
   },
   {
    "duration": 23,
    "start_time": "2024-11-11T05:23:20.367Z"
   },
   {
    "duration": 22,
    "start_time": "2024-11-11T05:23:20.391Z"
   },
   {
    "duration": 162,
    "start_time": "2024-11-11T05:23:20.416Z"
   },
   {
    "duration": 19,
    "start_time": "2024-11-11T05:23:20.580Z"
   },
   {
    "duration": 10,
    "start_time": "2024-11-11T05:23:20.612Z"
   },
   {
    "duration": 97,
    "start_time": "2024-11-11T05:23:20.623Z"
   },
   {
    "duration": 20,
    "start_time": "2024-11-11T05:23:20.722Z"
   },
   {
    "duration": 13,
    "start_time": "2024-11-11T05:23:20.743Z"
   },
   {
    "duration": 184,
    "start_time": "2024-11-11T05:23:20.758Z"
   },
   {
    "duration": 5,
    "start_time": "2024-11-11T05:23:20.944Z"
   },
   {
    "duration": 4,
    "start_time": "2024-11-11T05:23:20.951Z"
   },
   {
    "duration": 8,
    "start_time": "2024-11-11T05:23:20.960Z"
   },
   {
    "duration": 6,
    "start_time": "2024-11-11T05:23:20.969Z"
   },
   {
    "duration": 36,
    "start_time": "2024-11-11T05:23:20.976Z"
   },
   {
    "duration": 4,
    "start_time": "2024-11-11T05:23:21.013Z"
   },
   {
    "duration": 5,
    "start_time": "2024-11-11T05:23:21.019Z"
   },
   {
    "duration": 5,
    "start_time": "2024-11-11T05:23:21.025Z"
   },
   {
    "duration": 4,
    "start_time": "2024-11-11T05:23:21.031Z"
   },
   {
    "duration": 6,
    "start_time": "2024-11-11T05:23:21.038Z"
   },
   {
    "duration": 91,
    "start_time": "2024-11-11T05:23:21.046Z"
   },
   {
    "duration": 20,
    "start_time": "2024-11-11T05:23:21.139Z"
   },
   {
    "duration": 6,
    "start_time": "2024-11-11T05:23:21.161Z"
   },
   {
    "duration": 5,
    "start_time": "2024-11-11T05:23:21.168Z"
   },
   {
    "duration": 6,
    "start_time": "2024-11-11T05:23:21.175Z"
   },
   {
    "duration": 30,
    "start_time": "2024-11-11T05:23:21.182Z"
   },
   {
    "duration": 6,
    "start_time": "2024-11-11T05:23:21.214Z"
   },
   {
    "duration": 5,
    "start_time": "2024-11-11T05:23:21.221Z"
   },
   {
    "duration": 4,
    "start_time": "2024-11-11T05:23:21.227Z"
   },
   {
    "duration": 5,
    "start_time": "2024-11-11T05:23:21.233Z"
   },
   {
    "duration": 400,
    "start_time": "2024-11-11T05:23:21.239Z"
   },
   {
    "duration": 1724,
    "start_time": "2024-11-11T05:23:21.641Z"
   },
   {
    "duration": 1638,
    "start_time": "2024-11-11T05:23:23.367Z"
   },
   {
    "duration": 133,
    "start_time": "2024-11-11T05:23:25.007Z"
   },
   {
    "duration": 7,
    "start_time": "2024-11-11T05:23:25.143Z"
   },
   {
    "duration": 6,
    "start_time": "2024-11-11T05:23:25.151Z"
   },
   {
    "duration": 543,
    "start_time": "2024-11-11T05:23:25.159Z"
   },
   {
    "duration": 153,
    "start_time": "2024-11-11T05:23:25.704Z"
   },
   {
    "duration": 14,
    "start_time": "2024-11-11T05:23:25.859Z"
   },
   {
    "duration": 390,
    "start_time": "2024-11-11T05:23:25.878Z"
   },
   {
    "duration": 10,
    "start_time": "2024-11-11T05:23:26.270Z"
   },
   {
    "duration": 9,
    "start_time": "2024-11-11T05:23:26.282Z"
   },
   {
    "duration": 155,
    "start_time": "2024-11-11T05:23:26.293Z"
   },
   {
    "duration": 195,
    "start_time": "2024-11-11T05:23:26.450Z"
   },
   {
    "duration": 4,
    "start_time": "2024-11-11T05:23:26.647Z"
   },
   {
    "duration": 8,
    "start_time": "2024-11-11T05:23:26.653Z"
   },
   {
    "duration": 4,
    "start_time": "2024-11-11T05:23:26.662Z"
   },
   {
    "duration": 973,
    "start_time": "2024-11-11T05:26:37.987Z"
   },
   {
    "duration": 527,
    "start_time": "2024-11-11T05:26:38.962Z"
   },
   {
    "duration": 30,
    "start_time": "2024-11-11T05:26:39.492Z"
   },
   {
    "duration": 13,
    "start_time": "2024-11-11T05:26:39.524Z"
   },
   {
    "duration": 164,
    "start_time": "2024-11-11T05:26:39.540Z"
   },
   {
    "duration": 20,
    "start_time": "2024-11-11T05:26:39.706Z"
   },
   {
    "duration": 10,
    "start_time": "2024-11-11T05:26:39.728Z"
   },
   {
    "duration": 99,
    "start_time": "2024-11-11T05:26:39.740Z"
   },
   {
    "duration": 19,
    "start_time": "2024-11-11T05:26:39.841Z"
   },
   {
    "duration": 13,
    "start_time": "2024-11-11T05:26:39.862Z"
   },
   {
    "duration": 190,
    "start_time": "2024-11-11T05:26:39.876Z"
   },
   {
    "duration": 4,
    "start_time": "2024-11-11T05:26:40.068Z"
   },
   {
    "duration": 4,
    "start_time": "2024-11-11T05:26:40.074Z"
   },
   {
    "duration": 8,
    "start_time": "2024-11-11T05:26:40.082Z"
   },
   {
    "duration": 23,
    "start_time": "2024-11-11T05:26:40.091Z"
   },
   {
    "duration": 5,
    "start_time": "2024-11-11T05:26:40.115Z"
   },
   {
    "duration": 3,
    "start_time": "2024-11-11T05:26:40.122Z"
   },
   {
    "duration": 4,
    "start_time": "2024-11-11T05:26:40.127Z"
   },
   {
    "duration": 5,
    "start_time": "2024-11-11T05:26:40.133Z"
   },
   {
    "duration": 4,
    "start_time": "2024-11-11T05:26:40.140Z"
   },
   {
    "duration": 6,
    "start_time": "2024-11-11T05:26:40.145Z"
   },
   {
    "duration": 104,
    "start_time": "2024-11-11T05:26:40.153Z"
   },
   {
    "duration": 21,
    "start_time": "2024-11-11T05:26:40.259Z"
   },
   {
    "duration": 6,
    "start_time": "2024-11-11T05:26:40.282Z"
   },
   {
    "duration": 22,
    "start_time": "2024-11-11T05:26:40.290Z"
   },
   {
    "duration": 6,
    "start_time": "2024-11-11T05:26:40.314Z"
   },
   {
    "duration": 5,
    "start_time": "2024-11-11T05:26:40.321Z"
   },
   {
    "duration": 8,
    "start_time": "2024-11-11T05:26:40.328Z"
   },
   {
    "duration": 5,
    "start_time": "2024-11-11T05:26:40.338Z"
   },
   {
    "duration": 4,
    "start_time": "2024-11-11T05:26:40.345Z"
   },
   {
    "duration": 6,
    "start_time": "2024-11-11T05:26:40.350Z"
   },
   {
    "duration": 419,
    "start_time": "2024-11-11T05:26:40.358Z"
   },
   {
    "duration": 1693,
    "start_time": "2024-11-11T05:26:40.779Z"
   },
   {
    "duration": 1578,
    "start_time": "2024-11-11T05:26:42.474Z"
   },
   {
    "duration": 132,
    "start_time": "2024-11-11T05:26:44.054Z"
   },
   {
    "duration": 7,
    "start_time": "2024-11-11T05:26:44.189Z"
   },
   {
    "duration": 17,
    "start_time": "2024-11-11T05:26:44.197Z"
   },
   {
    "duration": 611,
    "start_time": "2024-11-11T05:26:44.215Z"
   },
   {
    "duration": 156,
    "start_time": "2024-11-11T05:26:44.830Z"
   },
   {
    "duration": 23,
    "start_time": "2024-11-11T05:26:44.989Z"
   },
   {
    "duration": 398,
    "start_time": "2024-11-11T05:26:45.017Z"
   },
   {
    "duration": 10,
    "start_time": "2024-11-11T05:26:45.417Z"
   },
   {
    "duration": 10,
    "start_time": "2024-11-11T05:26:45.429Z"
   },
   {
    "duration": 153,
    "start_time": "2024-11-11T05:26:45.441Z"
   },
   {
    "duration": 205,
    "start_time": "2024-11-11T05:26:45.596Z"
   },
   {
    "duration": 9,
    "start_time": "2024-11-11T05:26:45.803Z"
   },
   {
    "duration": 7,
    "start_time": "2024-11-11T05:26:45.814Z"
   },
   {
    "duration": 4,
    "start_time": "2024-11-11T05:26:55.451Z"
   },
   {
    "duration": 659740,
    "start_time": "2024-11-11T05:27:10.919Z"
   },
   {
    "duration": 53213,
    "start_time": "2024-11-11T06:06:25.363Z"
   },
   {
    "duration": 3975909,
    "start_time": "2024-11-11T06:11:04.942Z"
   },
   {
    "duration": 176188,
    "start_time": "2024-11-11T07:19:52.062Z"
   },
   {
    "duration": 319,
    "start_time": "2024-11-11T07:26:30.010Z"
   },
   {
    "duration": 12,
    "start_time": "2024-11-11T07:26:54.511Z"
   },
   {
    "duration": 12,
    "start_time": "2024-11-11T07:27:40.558Z"
   },
   {
    "duration": 125,
    "start_time": "2024-11-11T07:31:34.371Z"
   },
   {
    "duration": 3,
    "start_time": "2024-11-11T07:36:41.802Z"
   },
   {
    "duration": 3,
    "start_time": "2024-11-11T07:37:49.994Z"
   },
   {
    "duration": 3,
    "start_time": "2024-11-11T07:38:32.055Z"
   },
   {
    "duration": 4,
    "start_time": "2024-11-11T07:39:13.021Z"
   },
   {
    "duration": 13,
    "start_time": "2024-11-11T07:42:24.289Z"
   },
   {
    "duration": 3,
    "start_time": "2024-11-11T07:42:26.220Z"
   },
   {
    "duration": 12,
    "start_time": "2024-11-11T07:42:35.836Z"
   },
   {
    "duration": 3,
    "start_time": "2024-11-11T07:42:36.482Z"
   },
   {
    "duration": 11,
    "start_time": "2024-11-11T07:42:47.737Z"
   },
   {
    "duration": 253,
    "start_time": "2024-11-11T07:42:50.912Z"
   },
   {
    "duration": 28,
    "start_time": "2024-11-11T07:43:02.804Z"
   },
   {
    "duration": 5,
    "start_time": "2024-11-11T07:57:02.554Z"
   },
   {
    "duration": 175629,
    "start_time": "2024-11-11T07:57:08.897Z"
   },
   {
    "duration": 6,
    "start_time": "2024-11-11T08:02:07.922Z"
   },
   {
    "duration": 175877,
    "start_time": "2024-11-11T08:02:13.793Z"
   },
   {
    "duration": 162,
    "start_time": "2024-11-11T18:17:08.120Z"
   },
   {
    "duration": 2785,
    "start_time": "2024-11-11T18:17:16.678Z"
   },
   {
    "duration": 606,
    "start_time": "2024-11-11T18:17:19.469Z"
   },
   {
    "duration": 24,
    "start_time": "2024-11-11T18:17:20.076Z"
   },
   {
    "duration": 13,
    "start_time": "2024-11-11T18:17:20.101Z"
   },
   {
    "duration": 172,
    "start_time": "2024-11-11T18:17:20.116Z"
   },
   {
    "duration": 19,
    "start_time": "2024-11-11T18:17:20.290Z"
   },
   {
    "duration": 9,
    "start_time": "2024-11-11T18:17:20.311Z"
   },
   {
    "duration": 108,
    "start_time": "2024-11-11T18:17:20.322Z"
   },
   {
    "duration": 20,
    "start_time": "2024-11-11T18:17:20.432Z"
   },
   {
    "duration": 24,
    "start_time": "2024-11-11T18:17:20.455Z"
   },
   {
    "duration": 174,
    "start_time": "2024-11-11T18:17:20.481Z"
   },
   {
    "duration": 13,
    "start_time": "2024-11-11T18:17:20.658Z"
   },
   {
    "duration": 4,
    "start_time": "2024-11-11T18:17:20.672Z"
   },
   {
    "duration": 8,
    "start_time": "2024-11-11T18:17:20.680Z"
   },
   {
    "duration": 4,
    "start_time": "2024-11-11T18:17:20.690Z"
   },
   {
    "duration": 6,
    "start_time": "2024-11-11T18:17:20.696Z"
   },
   {
    "duration": 3,
    "start_time": "2024-11-11T18:17:20.704Z"
   },
   {
    "duration": 4,
    "start_time": "2024-11-11T18:17:20.708Z"
   },
   {
    "duration": 5,
    "start_time": "2024-11-11T18:17:20.714Z"
   },
   {
    "duration": 5,
    "start_time": "2024-11-11T18:17:20.720Z"
   },
   {
    "duration": 6,
    "start_time": "2024-11-11T18:17:20.771Z"
   },
   {
    "duration": 64,
    "start_time": "2024-11-11T18:17:20.779Z"
   },
   {
    "duration": 37,
    "start_time": "2024-11-11T18:17:20.845Z"
   },
   {
    "duration": 6,
    "start_time": "2024-11-11T18:17:20.884Z"
   },
   {
    "duration": 5,
    "start_time": "2024-11-11T18:17:20.892Z"
   },
   {
    "duration": 5,
    "start_time": "2024-11-11T18:17:20.899Z"
   },
   {
    "duration": 5,
    "start_time": "2024-11-11T18:17:20.906Z"
   },
   {
    "duration": 6,
    "start_time": "2024-11-11T18:17:20.912Z"
   },
   {
    "duration": 6,
    "start_time": "2024-11-11T18:17:20.920Z"
   },
   {
    "duration": 45,
    "start_time": "2024-11-11T18:17:20.927Z"
   },
   {
    "duration": 6,
    "start_time": "2024-11-11T18:17:20.974Z"
   },
   {
    "duration": 411,
    "start_time": "2024-11-11T18:17:20.982Z"
   },
   {
    "duration": 1715,
    "start_time": "2024-11-11T18:17:21.395Z"
   },
   {
    "duration": 1694,
    "start_time": "2024-11-11T18:17:23.113Z"
   },
   {
    "duration": 144,
    "start_time": "2024-11-11T18:17:24.809Z"
   },
   {
    "duration": 6,
    "start_time": "2024-11-11T18:17:24.955Z"
   },
   {
    "duration": 11,
    "start_time": "2024-11-11T18:17:24.963Z"
   },
   {
    "duration": 583,
    "start_time": "2024-11-11T18:17:24.976Z"
   },
   {
    "duration": 157,
    "start_time": "2024-11-11T18:17:25.561Z"
   },
   {
    "duration": 14,
    "start_time": "2024-11-11T18:17:25.721Z"
   },
   {
    "duration": 322,
    "start_time": "2024-11-11T18:17:25.740Z"
   },
   {
    "duration": 14,
    "start_time": "2024-11-11T18:17:26.063Z"
   },
   {
    "duration": 8,
    "start_time": "2024-11-11T18:17:26.079Z"
   },
   {
    "duration": 159,
    "start_time": "2024-11-11T18:17:26.089Z"
   },
   {
    "duration": 200,
    "start_time": "2024-11-11T18:17:26.250Z"
   },
   {
    "duration": 6,
    "start_time": "2024-11-11T18:17:26.452Z"
   },
   {
    "duration": 7,
    "start_time": "2024-11-11T18:17:26.471Z"
   },
   {
    "duration": 3,
    "start_time": "2024-11-11T18:17:26.480Z"
   },
   {
    "duration": 87,
    "start_time": "2024-11-11T18:17:40.553Z"
   },
   {
    "duration": 18,
    "start_time": "2024-11-11T18:18:03.144Z"
   },
   {
    "duration": 3,
    "start_time": "2024-11-11T18:18:24.541Z"
   },
   {
    "duration": 488,
    "start_time": "2024-11-11T18:18:24.547Z"
   },
   {
    "duration": 20,
    "start_time": "2024-11-11T18:18:25.037Z"
   },
   {
    "duration": 20,
    "start_time": "2024-11-11T18:18:25.059Z"
   },
   {
    "duration": 161,
    "start_time": "2024-11-11T18:18:25.081Z"
   },
   {
    "duration": 27,
    "start_time": "2024-11-11T18:18:25.244Z"
   },
   {
    "duration": 10,
    "start_time": "2024-11-11T18:18:25.273Z"
   },
   {
    "duration": 97,
    "start_time": "2024-11-11T18:18:25.284Z"
   },
   {
    "duration": 21,
    "start_time": "2024-11-11T18:18:25.383Z"
   },
   {
    "duration": 12,
    "start_time": "2024-11-11T18:18:25.406Z"
   },
   {
    "duration": 181,
    "start_time": "2024-11-11T18:18:25.421Z"
   },
   {
    "duration": 5,
    "start_time": "2024-11-11T18:18:25.604Z"
   },
   {
    "duration": 4,
    "start_time": "2024-11-11T18:18:25.610Z"
   },
   {
    "duration": 6,
    "start_time": "2024-11-11T18:18:25.616Z"
   },
   {
    "duration": 4,
    "start_time": "2024-11-11T18:18:25.624Z"
   },
   {
    "duration": 6,
    "start_time": "2024-11-11T18:18:25.629Z"
   },
   {
    "duration": 35,
    "start_time": "2024-11-11T18:18:25.636Z"
   },
   {
    "duration": 4,
    "start_time": "2024-11-11T18:18:25.674Z"
   },
   {
    "duration": 5,
    "start_time": "2024-11-11T18:18:25.680Z"
   },
   {
    "duration": 113,
    "start_time": "2024-11-11T18:18:25.686Z"
   },
   {
    "duration": 7,
    "start_time": "2024-11-11T18:18:25.801Z"
   },
   {
    "duration": 78,
    "start_time": "2024-11-11T18:18:25.809Z"
   },
   {
    "duration": 21,
    "start_time": "2024-11-11T18:18:25.889Z"
   },
   {
    "duration": 6,
    "start_time": "2024-11-11T18:18:25.912Z"
   },
   {
    "duration": 5,
    "start_time": "2024-11-11T18:18:25.920Z"
   },
   {
    "duration": 6,
    "start_time": "2024-11-11T18:18:25.926Z"
   },
   {
    "duration": 37,
    "start_time": "2024-11-11T18:18:25.934Z"
   },
   {
    "duration": 7,
    "start_time": "2024-11-11T18:18:25.973Z"
   },
   {
    "duration": 6,
    "start_time": "2024-11-11T18:18:25.985Z"
   },
   {
    "duration": 4,
    "start_time": "2024-11-11T18:18:25.992Z"
   },
   {
    "duration": 6,
    "start_time": "2024-11-11T18:18:25.998Z"
   },
   {
    "duration": 465,
    "start_time": "2024-11-11T18:18:26.006Z"
   },
   {
    "duration": 1751,
    "start_time": "2024-11-11T18:18:26.473Z"
   },
   {
    "duration": 1627,
    "start_time": "2024-11-11T18:18:28.226Z"
   },
   {
    "duration": 142,
    "start_time": "2024-11-11T18:18:29.855Z"
   },
   {
    "duration": 7,
    "start_time": "2024-11-11T18:18:29.999Z"
   },
   {
    "duration": 6,
    "start_time": "2024-11-11T18:18:30.010Z"
   },
   {
    "duration": 544,
    "start_time": "2024-11-11T18:18:30.017Z"
   },
   {
    "duration": 157,
    "start_time": "2024-11-11T18:18:30.563Z"
   },
   {
    "duration": 15,
    "start_time": "2024-11-11T18:18:30.722Z"
   },
   {
    "duration": 334,
    "start_time": "2024-11-11T18:18:30.738Z"
   },
   {
    "duration": 9,
    "start_time": "2024-11-11T18:18:31.074Z"
   },
   {
    "duration": 8,
    "start_time": "2024-11-11T18:18:31.084Z"
   },
   {
    "duration": 155,
    "start_time": "2024-11-11T18:18:31.093Z"
   },
   {
    "duration": 196,
    "start_time": "2024-11-11T18:18:31.250Z"
   },
   {
    "duration": 5,
    "start_time": "2024-11-11T18:18:31.448Z"
   },
   {
    "duration": 16,
    "start_time": "2024-11-11T18:18:31.455Z"
   },
   {
    "duration": 5,
    "start_time": "2024-11-11T18:18:31.472Z"
   },
   {
    "duration": 18,
    "start_time": "2024-11-11T18:18:59.737Z"
   },
   {
    "duration": 16,
    "start_time": "2024-11-11T18:20:19.923Z"
   },
   {
    "duration": 3,
    "start_time": "2024-11-11T18:23:07.390Z"
   },
   {
    "duration": 15,
    "start_time": "2024-11-11T18:23:08.006Z"
   },
   {
    "duration": 3,
    "start_time": "2024-11-11T18:23:17.015Z"
   },
   {
    "duration": 16,
    "start_time": "2024-11-11T18:23:23.031Z"
   },
   {
    "duration": 3,
    "start_time": "2024-11-11T18:23:46.889Z"
   },
   {
    "duration": 35683,
    "start_time": "2024-11-11T18:23:51.464Z"
   },
   {
    "duration": 3,
    "start_time": "2024-11-11T18:31:50.931Z"
   },
   {
    "duration": 2,
    "start_time": "2024-11-11T18:31:54.434Z"
   },
   {
    "duration": 3,
    "start_time": "2024-11-11T18:31:56.341Z"
   },
   {
    "duration": 177034,
    "start_time": "2024-11-11T18:31:59.950Z"
   },
   {
    "duration": 5,
    "start_time": "2024-11-11T18:35:23.953Z"
   },
   {
    "duration": 5,
    "start_time": "2024-11-11T18:41:25.951Z"
   },
   {
    "duration": 15,
    "start_time": "2024-11-11T18:41:25.957Z"
   },
   {
    "duration": 3,
    "start_time": "2024-11-11T18:41:25.974Z"
   },
   {
    "duration": 177258,
    "start_time": "2024-11-11T18:41:25.978Z"
   },
   {
    "duration": 9,
    "start_time": "2024-11-11T23:32:39.111Z"
   },
   {
    "duration": 209,
    "start_time": "2024-11-11T23:32:58.192Z"
   },
   {
    "duration": 2975,
    "start_time": "2024-11-11T23:33:02.780Z"
   },
   {
    "duration": 682,
    "start_time": "2024-11-11T23:33:05.757Z"
   },
   {
    "duration": 31,
    "start_time": "2024-11-11T23:33:06.441Z"
   },
   {
    "duration": 13,
    "start_time": "2024-11-11T23:33:06.475Z"
   },
   {
    "duration": 177,
    "start_time": "2024-11-11T23:33:06.491Z"
   },
   {
    "duration": 24,
    "start_time": "2024-11-11T23:33:06.672Z"
   },
   {
    "duration": 27,
    "start_time": "2024-11-11T23:33:06.698Z"
   },
   {
    "duration": 85,
    "start_time": "2024-11-11T23:33:06.726Z"
   },
   {
    "duration": 30,
    "start_time": "2024-11-11T23:33:06.813Z"
   },
   {
    "duration": 18,
    "start_time": "2024-11-11T23:33:06.845Z"
   },
   {
    "duration": 185,
    "start_time": "2024-11-11T23:33:06.865Z"
   },
   {
    "duration": 5,
    "start_time": "2024-11-11T23:33:07.051Z"
   },
   {
    "duration": 4,
    "start_time": "2024-11-11T23:33:07.058Z"
   },
   {
    "duration": 11,
    "start_time": "2024-11-11T23:33:07.068Z"
   },
   {
    "duration": 5,
    "start_time": "2024-11-11T23:33:07.081Z"
   },
   {
    "duration": 7,
    "start_time": "2024-11-11T23:33:07.088Z"
   },
   {
    "duration": 31,
    "start_time": "2024-11-11T23:33:07.096Z"
   },
   {
    "duration": 5,
    "start_time": "2024-11-11T23:33:07.129Z"
   },
   {
    "duration": 5,
    "start_time": "2024-11-11T23:33:07.135Z"
   },
   {
    "duration": 6,
    "start_time": "2024-11-11T23:33:07.141Z"
   },
   {
    "duration": 6,
    "start_time": "2024-11-11T23:33:07.148Z"
   },
   {
    "duration": 99,
    "start_time": "2024-11-11T23:33:07.156Z"
   },
   {
    "duration": 24,
    "start_time": "2024-11-11T23:33:07.257Z"
   },
   {
    "duration": 8,
    "start_time": "2024-11-11T23:33:07.283Z"
   },
   {
    "duration": 5,
    "start_time": "2024-11-11T23:33:07.293Z"
   },
   {
    "duration": 28,
    "start_time": "2024-11-11T23:33:07.301Z"
   },
   {
    "duration": 12,
    "start_time": "2024-11-11T23:33:07.331Z"
   },
   {
    "duration": 11,
    "start_time": "2024-11-11T23:33:07.346Z"
   },
   {
    "duration": 9,
    "start_time": "2024-11-11T23:33:07.358Z"
   },
   {
    "duration": 5,
    "start_time": "2024-11-11T23:33:07.368Z"
   },
   {
    "duration": 6,
    "start_time": "2024-11-11T23:33:07.375Z"
   },
   {
    "duration": 582,
    "start_time": "2024-11-11T23:33:07.383Z"
   },
   {
    "duration": 1832,
    "start_time": "2024-11-11T23:33:07.967Z"
   },
   {
    "duration": 1755,
    "start_time": "2024-11-11T23:33:09.801Z"
   },
   {
    "duration": 133,
    "start_time": "2024-11-11T23:33:11.559Z"
   },
   {
    "duration": 8,
    "start_time": "2024-11-11T23:33:11.694Z"
   },
   {
    "duration": 20,
    "start_time": "2024-11-11T23:33:11.704Z"
   },
   {
    "duration": 616,
    "start_time": "2024-11-11T23:33:11.726Z"
   },
   {
    "duration": 165,
    "start_time": "2024-11-11T23:33:12.344Z"
   },
   {
    "duration": 18,
    "start_time": "2024-11-11T23:33:12.511Z"
   },
   {
    "duration": 417,
    "start_time": "2024-11-11T23:33:12.534Z"
   },
   {
    "duration": 11,
    "start_time": "2024-11-11T23:33:12.954Z"
   },
   {
    "duration": 10,
    "start_time": "2024-11-11T23:33:12.967Z"
   },
   {
    "duration": 164,
    "start_time": "2024-11-11T23:33:12.980Z"
   },
   {
    "duration": 228,
    "start_time": "2024-11-11T23:33:13.148Z"
   },
   {
    "duration": 4,
    "start_time": "2024-11-11T23:33:13.378Z"
   },
   {
    "duration": 3,
    "start_time": "2024-11-11T23:33:13.384Z"
   },
   {
    "duration": 3,
    "start_time": "2024-11-11T23:33:13.389Z"
   },
   {
    "duration": 8,
    "start_time": "2024-11-11T23:33:40.792Z"
   },
   {
    "duration": 4,
    "start_time": "2024-11-11T23:33:43.209Z"
   },
   {
    "duration": 4,
    "start_time": "2024-11-11T23:34:05.443Z"
   },
   {
    "duration": 3,
    "start_time": "2024-11-11T23:34:46.274Z"
   },
   {
    "duration": 3,
    "start_time": "2024-11-11T23:34:52.375Z"
   },
   {
    "duration": 3,
    "start_time": "2024-11-11T23:35:11.076Z"
   },
   {
    "duration": 1083,
    "start_time": "2024-11-11T23:43:34.018Z"
   },
   {
    "duration": 508,
    "start_time": "2024-11-11T23:43:35.103Z"
   },
   {
    "duration": 28,
    "start_time": "2024-11-11T23:43:35.613Z"
   },
   {
    "duration": 13,
    "start_time": "2024-11-11T23:43:35.642Z"
   },
   {
    "duration": 168,
    "start_time": "2024-11-11T23:43:35.658Z"
   },
   {
    "duration": 18,
    "start_time": "2024-11-11T23:43:35.828Z"
   },
   {
    "duration": 10,
    "start_time": "2024-11-11T23:43:35.848Z"
   },
   {
    "duration": 104,
    "start_time": "2024-11-11T23:43:35.859Z"
   },
   {
    "duration": 19,
    "start_time": "2024-11-11T23:43:35.965Z"
   },
   {
    "duration": 12,
    "start_time": "2024-11-11T23:43:35.986Z"
   },
   {
    "duration": 196,
    "start_time": "2024-11-11T23:43:36.000Z"
   },
   {
    "duration": 4,
    "start_time": "2024-11-11T23:43:36.198Z"
   },
   {
    "duration": 4,
    "start_time": "2024-11-11T23:43:36.204Z"
   },
   {
    "duration": 10,
    "start_time": "2024-11-11T23:43:36.225Z"
   },
   {
    "duration": 4,
    "start_time": "2024-11-11T23:43:36.236Z"
   },
   {
    "duration": 7,
    "start_time": "2024-11-11T23:43:36.242Z"
   },
   {
    "duration": 3,
    "start_time": "2024-11-11T23:43:36.251Z"
   },
   {
    "duration": 4,
    "start_time": "2024-11-11T23:43:36.257Z"
   },
   {
    "duration": 4,
    "start_time": "2024-11-11T23:43:36.263Z"
   },
   {
    "duration": 5,
    "start_time": "2024-11-11T23:43:36.269Z"
   },
   {
    "duration": 47,
    "start_time": "2024-11-11T23:43:36.276Z"
   },
   {
    "duration": 63,
    "start_time": "2024-11-11T23:43:36.325Z"
   },
   {
    "duration": 34,
    "start_time": "2024-11-11T23:43:36.390Z"
   },
   {
    "duration": 6,
    "start_time": "2024-11-11T23:43:36.425Z"
   },
   {
    "duration": 5,
    "start_time": "2024-11-11T23:43:36.433Z"
   },
   {
    "duration": 7,
    "start_time": "2024-11-11T23:43:36.439Z"
   },
   {
    "duration": 4,
    "start_time": "2024-11-11T23:43:36.447Z"
   },
   {
    "duration": 5,
    "start_time": "2024-11-11T23:43:36.453Z"
   },
   {
    "duration": 5,
    "start_time": "2024-11-11T23:43:36.460Z"
   },
   {
    "duration": 4,
    "start_time": "2024-11-11T23:43:36.466Z"
   },
   {
    "duration": 5,
    "start_time": "2024-11-11T23:43:36.471Z"
   },
   {
    "duration": 446,
    "start_time": "2024-11-11T23:43:36.478Z"
   },
   {
    "duration": 1808,
    "start_time": "2024-11-11T23:43:36.926Z"
   },
   {
    "duration": 1576,
    "start_time": "2024-11-11T23:43:38.736Z"
   },
   {
    "duration": 138,
    "start_time": "2024-11-11T23:43:40.315Z"
   },
   {
    "duration": 7,
    "start_time": "2024-11-11T23:43:40.455Z"
   },
   {
    "duration": 7,
    "start_time": "2024-11-11T23:43:40.464Z"
   },
   {
    "duration": 542,
    "start_time": "2024-11-11T23:43:40.473Z"
   },
   {
    "duration": 160,
    "start_time": "2024-11-11T23:43:41.017Z"
   },
   {
    "duration": 27,
    "start_time": "2024-11-11T23:43:41.179Z"
   },
   {
    "duration": 398,
    "start_time": "2024-11-11T23:43:41.213Z"
   },
   {
    "duration": 16,
    "start_time": "2024-11-11T23:43:41.612Z"
   },
   {
    "duration": 8,
    "start_time": "2024-11-11T23:43:41.630Z"
   },
   {
    "duration": 151,
    "start_time": "2024-11-11T23:43:41.639Z"
   },
   {
    "duration": 194,
    "start_time": "2024-11-11T23:43:41.792Z"
   },
   {
    "duration": 4,
    "start_time": "2024-11-11T23:43:41.988Z"
   },
   {
    "duration": 3,
    "start_time": "2024-11-11T23:43:41.995Z"
   },
   {
    "duration": 3,
    "start_time": "2024-11-11T23:43:41.999Z"
   },
   {
    "duration": 26,
    "start_time": "2024-11-11T23:43:42.003Z"
   },
   {
    "duration": 3,
    "start_time": "2024-11-11T23:43:49.635Z"
   },
   {
    "duration": 140,
    "start_time": "2024-11-11T23:45:00.173Z"
   },
   {
    "duration": 110,
    "start_time": "2024-11-11T23:48:09.208Z"
   },
   {
    "duration": 7,
    "start_time": "2024-11-11T23:48:14.388Z"
   },
   {
    "duration": 16,
    "start_time": "2024-11-11T23:48:18.020Z"
   },
   {
    "duration": 6,
    "start_time": "2024-11-11T23:48:25.314Z"
   },
   {
    "duration": 6,
    "start_time": "2024-11-11T23:51:15.890Z"
   },
   {
    "duration": 16,
    "start_time": "2024-11-11T23:51:17.063Z"
   },
   {
    "duration": 8,
    "start_time": "2024-11-11T23:51:25.372Z"
   },
   {
    "duration": 16,
    "start_time": "2024-11-11T23:51:27.434Z"
   },
   {
    "duration": 7,
    "start_time": "2024-11-11T23:51:46.137Z"
   },
   {
    "duration": 4,
    "start_time": "2024-11-11T23:51:47.127Z"
   },
   {
    "duration": 4,
    "start_time": "2024-11-11T23:52:40.808Z"
   },
   {
    "duration": 41724,
    "start_time": "2024-11-11T23:52:52.628Z"
   },
   {
    "duration": 674125,
    "start_time": "2024-11-11T23:53:59.513Z"
   },
   {
    "duration": 681678,
    "start_time": "2024-11-12T00:06:46.388Z"
   },
   {
    "duration": 54663,
    "start_time": "2024-11-12T00:23:30.324Z"
   },
   {
    "duration": 2,
    "start_time": "2024-11-12T00:24:24.990Z"
   },
   {
    "duration": 2,
    "start_time": "2024-11-12T00:24:24.995Z"
   },
   {
    "duration": 8,
    "start_time": "2024-11-12T00:24:27.463Z"
   },
   {
    "duration": 4,
    "start_time": "2024-11-12T00:24:28.054Z"
   },
   {
    "duration": 1205,
    "start_time": "2024-11-12T00:24:38.826Z"
   },
   {
    "duration": 1187,
    "start_time": "2024-11-12T00:25:38.873Z"
   },
   {
    "duration": 1207,
    "start_time": "2024-11-12T00:26:34.239Z"
   },
   {
    "duration": 9,
    "start_time": "2024-11-12T00:32:22.364Z"
   },
   {
    "duration": 5,
    "start_time": "2024-11-12T00:32:34.708Z"
   },
   {
    "duration": 3,
    "start_time": "2024-11-12T00:32:36.610Z"
   },
   {
    "duration": 3,
    "start_time": "2024-11-12T00:32:43.285Z"
   },
   {
    "duration": 3,
    "start_time": "2024-11-12T00:32:43.899Z"
   },
   {
    "duration": 13,
    "start_time": "2024-11-12T00:32:46.954Z"
   },
   {
    "duration": 4,
    "start_time": "2024-11-12T00:32:48.192Z"
   },
   {
    "duration": 1040,
    "start_time": "2024-11-12T00:35:39.404Z"
   },
   {
    "duration": 534,
    "start_time": "2024-11-12T00:35:40.447Z"
   },
   {
    "duration": 25,
    "start_time": "2024-11-12T00:35:40.983Z"
   },
   {
    "duration": 23,
    "start_time": "2024-11-12T00:35:41.010Z"
   },
   {
    "duration": 176,
    "start_time": "2024-11-12T00:35:41.036Z"
   },
   {
    "duration": 27,
    "start_time": "2024-11-12T00:35:41.215Z"
   },
   {
    "duration": 13,
    "start_time": "2024-11-12T00:35:41.244Z"
   },
   {
    "duration": 121,
    "start_time": "2024-11-12T00:35:41.259Z"
   },
   {
    "duration": 23,
    "start_time": "2024-11-12T00:35:41.383Z"
   },
   {
    "duration": 22,
    "start_time": "2024-11-12T00:35:41.408Z"
   },
   {
    "duration": 179,
    "start_time": "2024-11-12T00:35:41.432Z"
   },
   {
    "duration": 10,
    "start_time": "2024-11-12T00:35:41.615Z"
   },
   {
    "duration": 8,
    "start_time": "2024-11-12T00:35:41.627Z"
   },
   {
    "duration": 10,
    "start_time": "2024-11-12T00:35:41.639Z"
   },
   {
    "duration": 5,
    "start_time": "2024-11-12T00:35:41.651Z"
   },
   {
    "duration": 7,
    "start_time": "2024-11-12T00:35:41.657Z"
   },
   {
    "duration": 4,
    "start_time": "2024-11-12T00:35:41.666Z"
   },
   {
    "duration": 5,
    "start_time": "2024-11-12T00:35:41.672Z"
   },
   {
    "duration": 5,
    "start_time": "2024-11-12T00:35:41.678Z"
   },
   {
    "duration": 43,
    "start_time": "2024-11-12T00:35:41.685Z"
   },
   {
    "duration": 6,
    "start_time": "2024-11-12T00:35:41.730Z"
   },
   {
    "duration": 66,
    "start_time": "2024-11-12T00:35:41.737Z"
   },
   {
    "duration": 24,
    "start_time": "2024-11-12T00:35:41.824Z"
   },
   {
    "duration": 6,
    "start_time": "2024-11-12T00:35:41.850Z"
   },
   {
    "duration": 5,
    "start_time": "2024-11-12T00:35:41.858Z"
   },
   {
    "duration": 7,
    "start_time": "2024-11-12T00:35:41.864Z"
   },
   {
    "duration": 6,
    "start_time": "2024-11-12T00:35:41.873Z"
   },
   {
    "duration": 42,
    "start_time": "2024-11-12T00:35:41.882Z"
   },
   {
    "duration": 7,
    "start_time": "2024-11-12T00:35:41.926Z"
   },
   {
    "duration": 5,
    "start_time": "2024-11-12T00:35:41.935Z"
   },
   {
    "duration": 6,
    "start_time": "2024-11-12T00:35:41.941Z"
   },
   {
    "duration": 415,
    "start_time": "2024-11-12T00:35:41.949Z"
   },
   {
    "duration": 1787,
    "start_time": "2024-11-12T00:35:42.366Z"
   },
   {
    "duration": 1694,
    "start_time": "2024-11-12T00:35:44.155Z"
   },
   {
    "duration": 151,
    "start_time": "2024-11-12T00:35:45.852Z"
   },
   {
    "duration": 7,
    "start_time": "2024-11-12T00:35:46.004Z"
   },
   {
    "duration": 12,
    "start_time": "2024-11-12T00:35:46.013Z"
   },
   {
    "duration": 587,
    "start_time": "2024-11-12T00:35:46.027Z"
   },
   {
    "duration": 167,
    "start_time": "2024-11-12T00:35:46.616Z"
   },
   {
    "duration": 19,
    "start_time": "2024-11-12T00:35:46.785Z"
   },
   {
    "duration": 407,
    "start_time": "2024-11-12T00:35:46.823Z"
   },
   {
    "duration": 10,
    "start_time": "2024-11-12T00:35:47.232Z"
   },
   {
    "duration": 8,
    "start_time": "2024-11-12T00:35:47.244Z"
   },
   {
    "duration": 171,
    "start_time": "2024-11-12T00:35:47.254Z"
   },
   {
    "duration": 217,
    "start_time": "2024-11-12T00:35:47.426Z"
   },
   {
    "duration": 5,
    "start_time": "2024-11-12T00:35:47.646Z"
   },
   {
    "duration": 2,
    "start_time": "2024-11-12T00:35:47.654Z"
   },
   {
    "duration": 3,
    "start_time": "2024-11-12T00:35:47.658Z"
   },
   {
    "duration": 9,
    "start_time": "2024-11-12T00:35:47.665Z"
   },
   {
    "duration": 4,
    "start_time": "2024-11-12T00:35:47.676Z"
   },
   {
    "duration": 7,
    "start_time": "2024-11-12T00:36:01.576Z"
   },
   {
    "duration": 2,
    "start_time": "2024-11-12T00:36:02.153Z"
   },
   {
    "duration": 3,
    "start_time": "2024-11-12T00:36:02.558Z"
   },
   {
    "duration": 5,
    "start_time": "2024-11-12T00:40:17.202Z"
   },
   {
    "duration": 3,
    "start_time": "2024-11-12T00:40:17.209Z"
   },
   {
    "duration": 4,
    "start_time": "2024-11-12T00:40:17.223Z"
   },
   {
    "duration": 8,
    "start_time": "2024-11-12T00:40:17.229Z"
   },
   {
    "duration": 3,
    "start_time": "2024-11-12T00:40:17.239Z"
   },
   {
    "duration": 416,
    "start_time": "2024-11-12T00:40:17.244Z"
   },
   {
    "duration": 337,
    "start_time": "2024-11-12T00:46:39.505Z"
   },
   {
    "duration": 84,
    "start_time": "2024-11-12T00:48:59.992Z"
   },
   {
    "duration": 7365268,
    "start_time": "2024-11-12T00:49:59.033Z"
   },
   {
    "duration": 54311,
    "start_time": "2024-11-12T02:54:35.902Z"
   },
   {
    "duration": 989,
    "start_time": "2024-11-12T03:02:48.385Z"
   },
   {
    "duration": 498,
    "start_time": "2024-11-12T03:02:49.377Z"
   },
   {
    "duration": 24,
    "start_time": "2024-11-12T03:02:49.878Z"
   },
   {
    "duration": 21,
    "start_time": "2024-11-12T03:02:49.904Z"
   },
   {
    "duration": 165,
    "start_time": "2024-11-12T03:02:49.929Z"
   },
   {
    "duration": 17,
    "start_time": "2024-11-12T03:02:50.096Z"
   },
   {
    "duration": 10,
    "start_time": "2024-11-12T03:02:50.123Z"
   },
   {
    "duration": 94,
    "start_time": "2024-11-12T03:02:50.134Z"
   },
   {
    "duration": 20,
    "start_time": "2024-11-12T03:02:50.230Z"
   },
   {
    "duration": 13,
    "start_time": "2024-11-12T03:02:50.252Z"
   },
   {
    "duration": 188,
    "start_time": "2024-11-12T03:02:50.266Z"
   },
   {
    "duration": 4,
    "start_time": "2024-11-12T03:02:50.456Z"
   },
   {
    "duration": 4,
    "start_time": "2024-11-12T03:02:50.462Z"
   },
   {
    "duration": 8,
    "start_time": "2024-11-12T03:02:50.470Z"
   },
   {
    "duration": 4,
    "start_time": "2024-11-12T03:02:50.480Z"
   },
   {
    "duration": 7,
    "start_time": "2024-11-12T03:02:50.485Z"
   },
   {
    "duration": 32,
    "start_time": "2024-11-12T03:02:50.493Z"
   },
   {
    "duration": 4,
    "start_time": "2024-11-12T03:02:50.527Z"
   },
   {
    "duration": 5,
    "start_time": "2024-11-12T03:02:50.532Z"
   },
   {
    "duration": 4,
    "start_time": "2024-11-12T03:02:50.538Z"
   },
   {
    "duration": 5,
    "start_time": "2024-11-12T03:02:50.544Z"
   },
   {
    "duration": 94,
    "start_time": "2024-11-12T03:02:50.551Z"
   },
   {
    "duration": 22,
    "start_time": "2024-11-12T03:02:50.647Z"
   },
   {
    "duration": 7,
    "start_time": "2024-11-12T03:02:50.670Z"
   },
   {
    "duration": 5,
    "start_time": "2024-11-12T03:02:50.678Z"
   },
   {
    "duration": 7,
    "start_time": "2024-11-12T03:02:50.685Z"
   },
   {
    "duration": 34,
    "start_time": "2024-11-12T03:02:50.693Z"
   },
   {
    "duration": 6,
    "start_time": "2024-11-12T03:02:50.728Z"
   },
   {
    "duration": 6,
    "start_time": "2024-11-12T03:02:50.737Z"
   },
   {
    "duration": 5,
    "start_time": "2024-11-12T03:02:50.744Z"
   },
   {
    "duration": 5,
    "start_time": "2024-11-12T03:02:50.750Z"
   },
   {
    "duration": 413,
    "start_time": "2024-11-12T03:02:50.757Z"
   },
   {
    "duration": 1778,
    "start_time": "2024-11-12T03:02:51.172Z"
   },
   {
    "duration": 1666,
    "start_time": "2024-11-12T03:02:52.951Z"
   },
   {
    "duration": 132,
    "start_time": "2024-11-12T03:02:54.619Z"
   },
   {
    "duration": 7,
    "start_time": "2024-11-12T03:02:54.753Z"
   },
   {
    "duration": 7,
    "start_time": "2024-11-12T03:02:54.761Z"
   },
   {
    "duration": 555,
    "start_time": "2024-11-12T03:02:54.769Z"
   },
   {
    "duration": 153,
    "start_time": "2024-11-12T03:02:55.326Z"
   },
   {
    "duration": 14,
    "start_time": "2024-11-12T03:02:55.481Z"
   },
   {
    "duration": 406,
    "start_time": "2024-11-12T03:02:55.499Z"
   },
   {
    "duration": 20,
    "start_time": "2024-11-12T03:02:55.907Z"
   },
   {
    "duration": 9,
    "start_time": "2024-11-12T03:02:55.929Z"
   },
   {
    "duration": 163,
    "start_time": "2024-11-12T03:02:55.940Z"
   },
   {
    "duration": 204,
    "start_time": "2024-11-12T03:02:56.105Z"
   },
   {
    "duration": 3,
    "start_time": "2024-11-12T03:02:56.311Z"
   },
   {
    "duration": 2,
    "start_time": "2024-11-12T03:02:56.325Z"
   },
   {
    "duration": 2,
    "start_time": "2024-11-12T03:02:56.329Z"
   },
   {
    "duration": 8,
    "start_time": "2024-11-12T03:02:56.333Z"
   },
   {
    "duration": 4,
    "start_time": "2024-11-12T03:02:56.342Z"
   },
   {
    "duration": 36414,
    "start_time": "2024-11-12T03:03:02.947Z"
   },
   {
    "duration": 0,
    "start_time": "2024-11-12T03:03:39.364Z"
   },
   {
    "duration": 4,
    "start_time": "2024-11-12T03:03:44.142Z"
   },
   {
    "duration": 3,
    "start_time": "2024-11-12T03:03:45.123Z"
   },
   {
    "duration": 3,
    "start_time": "2024-11-12T03:03:45.788Z"
   },
   {
    "duration": 10,
    "start_time": "2024-11-12T03:03:47.622Z"
   },
   {
    "duration": 3,
    "start_time": "2024-11-12T03:03:49.695Z"
   },
   {
    "duration": 118599,
    "start_time": "2024-11-12T03:03:54.577Z"
   },
   {
    "duration": 7,
    "start_time": "2024-11-12T03:07:25.612Z"
   },
   {
    "duration": 3,
    "start_time": "2024-11-12T03:07:35.327Z"
   },
   {
    "duration": 4,
    "start_time": "2024-11-12T03:11:02.510Z"
   },
   {
    "duration": 3,
    "start_time": "2024-11-12T03:11:03.187Z"
   },
   {
    "duration": 3,
    "start_time": "2024-11-12T03:11:03.722Z"
   },
   {
    "duration": 9,
    "start_time": "2024-11-12T03:11:06.277Z"
   },
   {
    "duration": 4,
    "start_time": "2024-11-12T03:11:06.961Z"
   },
   {
    "duration": 466020,
    "start_time": "2024-11-12T03:11:11.029Z"
   },
   {
    "duration": 158,
    "start_time": "2024-11-12T03:51:50.788Z"
   },
   {
    "duration": 1049,
    "start_time": "2024-11-12T03:52:23.632Z"
   },
   {
    "duration": 523,
    "start_time": "2024-11-12T03:52:24.684Z"
   },
   {
    "duration": 26,
    "start_time": "2024-11-12T03:52:25.208Z"
   },
   {
    "duration": 12,
    "start_time": "2024-11-12T03:52:25.236Z"
   },
   {
    "duration": 175,
    "start_time": "2024-11-12T03:52:25.250Z"
   },
   {
    "duration": 20,
    "start_time": "2024-11-12T03:52:25.426Z"
   },
   {
    "duration": 10,
    "start_time": "2024-11-12T03:52:25.447Z"
   },
   {
    "duration": 104,
    "start_time": "2024-11-12T03:52:25.459Z"
   },
   {
    "duration": 20,
    "start_time": "2024-11-12T03:52:25.565Z"
   },
   {
    "duration": 13,
    "start_time": "2024-11-12T03:52:25.587Z"
   },
   {
    "duration": 192,
    "start_time": "2024-11-12T03:52:25.601Z"
   },
   {
    "duration": 5,
    "start_time": "2024-11-12T03:52:25.794Z"
   },
   {
    "duration": 4,
    "start_time": "2024-11-12T03:52:25.800Z"
   },
   {
    "duration": 9,
    "start_time": "2024-11-12T03:52:25.823Z"
   },
   {
    "duration": 5,
    "start_time": "2024-11-12T03:52:25.833Z"
   },
   {
    "duration": 5,
    "start_time": "2024-11-12T03:52:25.839Z"
   },
   {
    "duration": 3,
    "start_time": "2024-11-12T03:52:25.846Z"
   },
   {
    "duration": 4,
    "start_time": "2024-11-12T03:52:25.851Z"
   },
   {
    "duration": 4,
    "start_time": "2024-11-12T03:52:25.857Z"
   },
   {
    "duration": 4,
    "start_time": "2024-11-12T03:52:25.863Z"
   },
   {
    "duration": 5,
    "start_time": "2024-11-12T03:52:25.869Z"
   },
   {
    "duration": 107,
    "start_time": "2024-11-12T03:52:25.876Z"
   },
   {
    "duration": 21,
    "start_time": "2024-11-12T03:52:25.985Z"
   },
   {
    "duration": 19,
    "start_time": "2024-11-12T03:52:26.008Z"
   },
   {
    "duration": 6,
    "start_time": "2024-11-12T03:52:26.029Z"
   },
   {
    "duration": 6,
    "start_time": "2024-11-12T03:52:26.037Z"
   },
   {
    "duration": 4,
    "start_time": "2024-11-12T03:52:26.045Z"
   },
   {
    "duration": 6,
    "start_time": "2024-11-12T03:52:26.051Z"
   },
   {
    "duration": 5,
    "start_time": "2024-11-12T03:52:26.058Z"
   },
   {
    "duration": 3,
    "start_time": "2024-11-12T03:52:26.065Z"
   },
   {
    "duration": 7,
    "start_time": "2024-11-12T03:52:26.070Z"
   },
   {
    "duration": 381,
    "start_time": "2024-11-12T03:52:26.124Z"
   },
   {
    "duration": 1755,
    "start_time": "2024-11-12T03:52:26.507Z"
   },
   {
    "duration": 1664,
    "start_time": "2024-11-12T03:52:28.264Z"
   },
   {
    "duration": 138,
    "start_time": "2024-11-12T03:52:29.931Z"
   },
   {
    "duration": 7,
    "start_time": "2024-11-12T03:52:30.071Z"
   },
   {
    "duration": 7,
    "start_time": "2024-11-12T03:52:30.079Z"
   },
   {
    "duration": 539,
    "start_time": "2024-11-12T03:52:30.088Z"
   },
   {
    "duration": 157,
    "start_time": "2024-11-12T03:52:30.629Z"
   },
   {
    "duration": 14,
    "start_time": "2024-11-12T03:52:30.787Z"
   },
   {
    "duration": 322,
    "start_time": "2024-11-12T03:52:30.806Z"
   },
   {
    "duration": 9,
    "start_time": "2024-11-12T03:52:31.130Z"
   },
   {
    "duration": 8,
    "start_time": "2024-11-12T03:52:31.142Z"
   },
   {
    "duration": 166,
    "start_time": "2024-11-12T03:52:31.151Z"
   },
   {
    "duration": 207,
    "start_time": "2024-11-12T03:52:31.319Z"
   },
   {
    "duration": 4,
    "start_time": "2024-11-12T03:52:31.528Z"
   },
   {
    "duration": 3,
    "start_time": "2024-11-12T03:52:31.534Z"
   },
   {
    "duration": 3,
    "start_time": "2024-11-12T03:52:31.539Z"
   },
   {
    "duration": 8,
    "start_time": "2024-11-12T03:52:31.544Z"
   },
   {
    "duration": 108232,
    "start_time": "2024-11-12T03:52:41.629Z"
   },
   {
    "duration": 108178,
    "start_time": "2024-11-12T03:55:21.665Z"
   },
   {
    "duration": 100,
    "start_time": "2024-11-12T04:04:07.667Z"
   },
   {
    "duration": 13,
    "start_time": "2024-11-12T04:04:20.989Z"
   },
   {
    "duration": 15,
    "start_time": "2024-11-12T04:04:23.866Z"
   },
   {
    "duration": 199,
    "start_time": "2024-11-12T04:04:41.228Z"
   },
   {
    "duration": 33,
    "start_time": "2024-11-12T04:07:54.902Z"
   },
   {
    "duration": 17,
    "start_time": "2024-11-12T04:09:27.492Z"
   },
   {
    "duration": 16,
    "start_time": "2024-11-12T04:09:48.637Z"
   },
   {
    "duration": 21,
    "start_time": "2024-11-12T04:10:07.664Z"
   },
   {
    "duration": 16,
    "start_time": "2024-11-12T04:11:09.631Z"
   },
   {
    "duration": 3,
    "start_time": "2024-11-12T04:12:56.581Z"
   },
   {
    "duration": 4,
    "start_time": "2024-11-12T04:16:20.617Z"
   },
   {
    "duration": 5,
    "start_time": "2024-11-12T04:16:26.448Z"
   },
   {
    "duration": 5,
    "start_time": "2024-11-12T04:16:37.443Z"
   },
   {
    "duration": 5,
    "start_time": "2024-11-12T04:16:47.229Z"
   },
   {
    "duration": 4,
    "start_time": "2024-11-12T04:17:21.916Z"
   },
   {
    "duration": 16,
    "start_time": "2024-11-12T04:19:23.404Z"
   },
   {
    "duration": 3,
    "start_time": "2024-11-12T04:19:29.164Z"
   },
   {
    "duration": 16,
    "start_time": "2024-11-12T04:19:48.498Z"
   },
   {
    "duration": 4,
    "start_time": "2024-11-12T04:20:24.067Z"
   },
   {
    "duration": 5,
    "start_time": "2024-11-12T04:24:12.453Z"
   },
   {
    "duration": 4,
    "start_time": "2024-11-12T04:24:14.895Z"
   },
   {
    "duration": 3,
    "start_time": "2024-11-12T04:24:15.841Z"
   },
   {
    "duration": 4,
    "start_time": "2024-11-12T04:24:17.840Z"
   },
   {
    "duration": 209,
    "start_time": "2024-11-12T04:25:08.064Z"
   },
   {
    "duration": 63,
    "start_time": "2024-11-12T04:25:34.663Z"
   },
   {
    "duration": 89,
    "start_time": "2024-11-12T04:25:45.935Z"
   },
   {
    "duration": 92,
    "start_time": "2024-11-12T04:25:56.233Z"
   },
   {
    "duration": 58,
    "start_time": "2024-11-12T04:26:53.967Z"
   },
   {
    "duration": 91,
    "start_time": "2024-11-12T04:27:39.040Z"
   },
   {
    "duration": 42,
    "start_time": "2024-11-12T04:28:46.583Z"
   },
   {
    "duration": 3,
    "start_time": "2024-11-12T04:37:25.466Z"
   },
   {
    "duration": 5,
    "start_time": "2024-11-12T04:37:39.373Z"
   },
   {
    "duration": 52,
    "start_time": "2024-11-12T04:38:01.373Z"
   },
   {
    "duration": 53,
    "start_time": "2024-11-12T04:44:45.372Z"
   },
   {
    "duration": 3,
    "start_time": "2024-11-12T04:45:12.587Z"
   },
   {
    "duration": 16,
    "start_time": "2024-11-12T04:46:54.854Z"
   },
   {
    "duration": 5,
    "start_time": "2024-11-12T04:47:05.044Z"
   },
   {
    "duration": 16,
    "start_time": "2024-11-12T04:47:07.240Z"
   },
   {
    "duration": 4,
    "start_time": "2024-11-12T04:47:13.409Z"
   },
   {
    "duration": 15,
    "start_time": "2024-11-12T04:47:25.224Z"
   },
   {
    "duration": 5,
    "start_time": "2024-11-12T04:48:07.517Z"
   },
   {
    "duration": 9,
    "start_time": "2024-11-12T04:48:52.063Z"
   },
   {
    "duration": 2731,
    "start_time": "2024-11-13T01:51:40.152Z"
   },
   {
    "duration": 601,
    "start_time": "2024-11-13T01:51:42.886Z"
   },
   {
    "duration": 26,
    "start_time": "2024-11-13T01:51:43.489Z"
   },
   {
    "duration": 13,
    "start_time": "2024-11-13T01:51:43.516Z"
   },
   {
    "duration": 169,
    "start_time": "2024-11-13T01:51:43.532Z"
   },
   {
    "duration": 18,
    "start_time": "2024-11-13T01:51:43.706Z"
   },
   {
    "duration": 10,
    "start_time": "2024-11-13T01:51:43.726Z"
   },
   {
    "duration": 99,
    "start_time": "2024-11-13T01:51:43.738Z"
   },
   {
    "duration": 19,
    "start_time": "2024-11-13T01:51:43.839Z"
   },
   {
    "duration": 16,
    "start_time": "2024-11-13T01:51:43.860Z"
   },
   {
    "duration": 184,
    "start_time": "2024-11-13T01:51:43.878Z"
   },
   {
    "duration": 4,
    "start_time": "2024-11-13T01:51:44.064Z"
   },
   {
    "duration": 4,
    "start_time": "2024-11-13T01:51:44.070Z"
   },
   {
    "duration": 28,
    "start_time": "2024-11-13T01:51:44.078Z"
   },
   {
    "duration": 5,
    "start_time": "2024-11-13T01:51:44.107Z"
   },
   {
    "duration": 5,
    "start_time": "2024-11-13T01:51:44.114Z"
   },
   {
    "duration": 4,
    "start_time": "2024-11-13T01:51:44.121Z"
   },
   {
    "duration": 5,
    "start_time": "2024-11-13T01:51:44.126Z"
   },
   {
    "duration": 5,
    "start_time": "2024-11-13T01:51:44.132Z"
   },
   {
    "duration": 5,
    "start_time": "2024-11-13T01:51:44.139Z"
   },
   {
    "duration": 9,
    "start_time": "2024-11-13T01:51:44.148Z"
   },
   {
    "duration": 105,
    "start_time": "2024-11-13T01:51:44.159Z"
   },
   {
    "duration": 20,
    "start_time": "2024-11-13T01:51:44.266Z"
   },
   {
    "duration": 18,
    "start_time": "2024-11-13T01:51:44.288Z"
   },
   {
    "duration": 4,
    "start_time": "2024-11-13T01:51:44.308Z"
   },
   {
    "duration": 6,
    "start_time": "2024-11-13T01:51:44.314Z"
   },
   {
    "duration": 4,
    "start_time": "2024-11-13T01:51:44.323Z"
   },
   {
    "duration": 7,
    "start_time": "2024-11-13T01:51:44.329Z"
   },
   {
    "duration": 6,
    "start_time": "2024-11-13T01:51:44.337Z"
   },
   {
    "duration": 4,
    "start_time": "2024-11-13T01:51:44.344Z"
   },
   {
    "duration": 5,
    "start_time": "2024-11-13T01:51:44.350Z"
   },
   {
    "duration": 469,
    "start_time": "2024-11-13T01:51:44.356Z"
   },
   {
    "duration": 1731,
    "start_time": "2024-11-13T01:51:44.828Z"
   },
   {
    "duration": 1647,
    "start_time": "2024-11-13T01:51:46.563Z"
   },
   {
    "duration": 129,
    "start_time": "2024-11-13T01:51:48.212Z"
   },
   {
    "duration": 7,
    "start_time": "2024-11-13T01:51:48.343Z"
   },
   {
    "duration": 6,
    "start_time": "2024-11-13T01:51:48.352Z"
   },
   {
    "duration": 559,
    "start_time": "2024-11-13T01:51:48.360Z"
   },
   {
    "duration": 158,
    "start_time": "2024-11-13T01:51:48.920Z"
   },
   {
    "duration": 13,
    "start_time": "2024-11-13T01:51:49.080Z"
   },
   {
    "duration": 321,
    "start_time": "2024-11-13T01:51:49.106Z"
   },
   {
    "duration": 10,
    "start_time": "2024-11-13T01:51:49.429Z"
   },
   {
    "duration": 9,
    "start_time": "2024-11-13T01:51:49.440Z"
   },
   {
    "duration": 154,
    "start_time": "2024-11-13T01:51:49.451Z"
   },
   {
    "duration": 192,
    "start_time": "2024-11-13T01:51:49.607Z"
   },
   {
    "duration": 4,
    "start_time": "2024-11-13T01:51:49.801Z"
   },
   {
    "duration": 3,
    "start_time": "2024-11-13T01:51:49.807Z"
   },
   {
    "duration": 3,
    "start_time": "2024-11-13T01:51:49.811Z"
   },
   {
    "duration": 7,
    "start_time": "2024-11-13T01:51:49.816Z"
   },
   {
    "duration": 4,
    "start_time": "2024-11-13T01:51:49.824Z"
   },
   {
    "duration": 106267,
    "start_time": "2024-11-13T01:51:49.830Z"
   },
   {
    "duration": 17,
    "start_time": "2024-11-13T01:53:36.099Z"
   },
   {
    "duration": 14,
    "start_time": "2024-11-13T01:53:36.118Z"
   },
   {
    "duration": 73,
    "start_time": "2024-11-13T01:53:36.134Z"
   },
   {
    "duration": 5,
    "start_time": "2024-11-13T01:53:36.208Z"
   },
   {
    "duration": 7,
    "start_time": "2024-11-13T01:53:36.215Z"
   },
   {
    "duration": 3,
    "start_time": "2024-11-13T01:53:36.224Z"
   },
   {
    "duration": 411,
    "start_time": "2024-11-13T02:10:06.678Z"
   },
   {
    "duration": 15,
    "start_time": "2024-11-13T03:05:04.343Z"
   },
   {
    "duration": 10,
    "start_time": "2024-11-13T03:05:40.907Z"
   },
   {
    "duration": 32,
    "start_time": "2024-11-13T03:05:59.630Z"
   },
   {
    "duration": 14,
    "start_time": "2024-11-13T03:06:08.310Z"
   },
   {
    "duration": 12,
    "start_time": "2024-11-13T03:08:04.605Z"
   },
   {
    "duration": 133909,
    "start_time": "2024-11-13T03:12:14.369Z"
   },
   {
    "duration": 8,
    "start_time": "2024-11-13T03:14:28.280Z"
   },
   {
    "duration": 28093,
    "start_time": "2024-11-13T03:16:07.517Z"
   },
   {
    "duration": 12,
    "start_time": "2024-11-13T03:16:35.612Z"
   },
   {
    "duration": 134166,
    "start_time": "2024-11-13T03:19:29.108Z"
   },
   {
    "duration": 134388,
    "start_time": "2024-11-13T03:21:53.984Z"
   },
   {
    "duration": 13,
    "start_time": "2024-11-13T03:27:07.669Z"
   },
   {
    "duration": 109,
    "start_time": "2024-11-13T03:27:27.391Z"
   },
   {
    "duration": 110,
    "start_time": "2024-11-13T03:27:55.794Z"
   },
   {
    "duration": 17,
    "start_time": "2024-11-13T03:29:25.719Z"
   },
   {
    "duration": 19,
    "start_time": "2024-11-13T03:30:12.988Z"
   },
   {
    "duration": 18,
    "start_time": "2024-11-13T03:31:02.222Z"
   },
   {
    "duration": 28,
    "start_time": "2024-11-13T03:31:28.685Z"
   },
   {
    "duration": 29,
    "start_time": "2024-11-13T03:32:08.060Z"
   },
   {
    "duration": 15,
    "start_time": "2024-11-13T03:32:26.279Z"
   },
   {
    "duration": 4,
    "start_time": "2024-11-13T03:33:28.305Z"
   },
   {
    "duration": 16,
    "start_time": "2024-11-13T03:33:32.878Z"
   },
   {
    "duration": 16,
    "start_time": "2024-11-13T03:33:57.544Z"
   },
   {
    "duration": 309,
    "start_time": "2024-11-13T03:35:41.376Z"
   },
   {
    "duration": 112,
    "start_time": "2024-11-13T03:35:53.646Z"
   },
   {
    "duration": 17,
    "start_time": "2024-11-13T03:35:56.193Z"
   },
   {
    "duration": 134026,
    "start_time": "2024-11-13T03:36:25.840Z"
   },
   {
    "duration": 16,
    "start_time": "2024-11-13T03:38:59.963Z"
   },
   {
    "duration": 15,
    "start_time": "2024-11-13T03:48:20.649Z"
   },
   {
    "duration": 5,
    "start_time": "2024-11-13T03:48:30.478Z"
   },
   {
    "duration": 15,
    "start_time": "2024-11-13T03:48:43.486Z"
   },
   {
    "duration": 14,
    "start_time": "2024-11-13T03:49:51.375Z"
   },
   {
    "duration": 15,
    "start_time": "2024-11-13T03:50:06.773Z"
   },
   {
    "duration": 1053,
    "start_time": "2024-11-13T04:06:32.026Z"
   },
   {
    "duration": 500,
    "start_time": "2024-11-13T04:06:33.081Z"
   },
   {
    "duration": 26,
    "start_time": "2024-11-13T04:06:33.582Z"
   },
   {
    "duration": 13,
    "start_time": "2024-11-13T04:06:33.610Z"
   },
   {
    "duration": 165,
    "start_time": "2024-11-13T04:06:33.626Z"
   },
   {
    "duration": 23,
    "start_time": "2024-11-13T04:06:33.793Z"
   },
   {
    "duration": 12,
    "start_time": "2024-11-13T04:06:33.817Z"
   },
   {
    "duration": 100,
    "start_time": "2024-11-13T04:06:33.831Z"
   },
   {
    "duration": 20,
    "start_time": "2024-11-13T04:06:33.932Z"
   },
   {
    "duration": 13,
    "start_time": "2024-11-13T04:06:33.953Z"
   },
   {
    "duration": 201,
    "start_time": "2024-11-13T04:06:33.968Z"
   },
   {
    "duration": 5,
    "start_time": "2024-11-13T04:06:34.171Z"
   },
   {
    "duration": 4,
    "start_time": "2024-11-13T04:06:34.178Z"
   },
   {
    "duration": 8,
    "start_time": "2024-11-13T04:06:34.204Z"
   },
   {
    "duration": 4,
    "start_time": "2024-11-13T04:06:34.213Z"
   },
   {
    "duration": 6,
    "start_time": "2024-11-13T04:06:34.219Z"
   },
   {
    "duration": 3,
    "start_time": "2024-11-13T04:06:34.227Z"
   },
   {
    "duration": 5,
    "start_time": "2024-11-13T04:06:34.232Z"
   },
   {
    "duration": 5,
    "start_time": "2024-11-13T04:06:34.238Z"
   },
   {
    "duration": 5,
    "start_time": "2024-11-13T04:06:34.244Z"
   },
   {
    "duration": 6,
    "start_time": "2024-11-13T04:06:34.250Z"
   },
   {
    "duration": 104,
    "start_time": "2024-11-13T04:06:34.257Z"
   },
   {
    "duration": 21,
    "start_time": "2024-11-13T04:06:34.362Z"
   },
   {
    "duration": 20,
    "start_time": "2024-11-13T04:06:34.385Z"
   },
   {
    "duration": 5,
    "start_time": "2024-11-13T04:06:34.406Z"
   },
   {
    "duration": 7,
    "start_time": "2024-11-13T04:06:34.413Z"
   },
   {
    "duration": 4,
    "start_time": "2024-11-13T04:06:34.423Z"
   },
   {
    "duration": 6,
    "start_time": "2024-11-13T04:06:34.429Z"
   },
   {
    "duration": 7,
    "start_time": "2024-11-13T04:06:34.436Z"
   },
   {
    "duration": 3,
    "start_time": "2024-11-13T04:06:34.445Z"
   },
   {
    "duration": 5,
    "start_time": "2024-11-13T04:06:34.449Z"
   },
   {
    "duration": 513,
    "start_time": "2024-11-13T04:06:34.456Z"
   },
   {
    "duration": 1723,
    "start_time": "2024-11-13T04:06:34.971Z"
   },
   {
    "duration": 1578,
    "start_time": "2024-11-13T04:06:36.696Z"
   },
   {
    "duration": 133,
    "start_time": "2024-11-13T04:06:38.276Z"
   },
   {
    "duration": 8,
    "start_time": "2024-11-13T04:06:38.411Z"
   },
   {
    "duration": 6,
    "start_time": "2024-11-13T04:06:38.420Z"
   },
   {
    "duration": 569,
    "start_time": "2024-11-13T04:06:38.428Z"
   },
   {
    "duration": 153,
    "start_time": "2024-11-13T04:06:38.999Z"
   },
   {
    "duration": 14,
    "start_time": "2024-11-13T04:06:39.153Z"
   },
   {
    "duration": 412,
    "start_time": "2024-11-13T04:06:39.171Z"
   },
   {
    "duration": 9,
    "start_time": "2024-11-13T04:06:39.585Z"
   },
   {
    "duration": 7,
    "start_time": "2024-11-13T04:06:39.605Z"
   },
   {
    "duration": 147,
    "start_time": "2024-11-13T04:06:39.614Z"
   },
   {
    "duration": 195,
    "start_time": "2024-11-13T04:06:39.763Z"
   },
   {
    "duration": 4,
    "start_time": "2024-11-13T04:06:39.959Z"
   },
   {
    "duration": 2,
    "start_time": "2024-11-13T04:06:39.965Z"
   },
   {
    "duration": 3,
    "start_time": "2024-11-13T04:06:39.969Z"
   },
   {
    "duration": 8,
    "start_time": "2024-11-13T04:06:39.973Z"
   },
   {
    "duration": 3,
    "start_time": "2024-11-13T04:06:40.005Z"
   },
   {
    "duration": 134388,
    "start_time": "2024-11-13T04:06:40.010Z"
   },
   {
    "duration": 0,
    "start_time": "2024-11-13T04:08:54.400Z"
   },
   {
    "duration": 0,
    "start_time": "2024-11-13T04:08:54.405Z"
   },
   {
    "duration": 0,
    "start_time": "2024-11-13T04:08:54.406Z"
   },
   {
    "duration": 0,
    "start_time": "2024-11-13T04:08:54.408Z"
   },
   {
    "duration": 0,
    "start_time": "2024-11-13T04:08:54.409Z"
   },
   {
    "duration": 0,
    "start_time": "2024-11-13T04:08:54.410Z"
   },
   {
    "duration": 0,
    "start_time": "2024-11-13T04:08:54.411Z"
   },
   {
    "duration": 133839,
    "start_time": "2024-11-13T04:13:17.814Z"
   },
   {
    "duration": 134234,
    "start_time": "2024-11-13T04:15:50.473Z"
   },
   {
    "duration": 133949,
    "start_time": "2024-11-13T04:18:55.763Z"
   },
   {
    "duration": 13,
    "start_time": "2024-11-13T04:45:45.215Z"
   },
   {
    "duration": 12,
    "start_time": "2024-11-13T04:45:45.230Z"
   },
   {
    "duration": 62,
    "start_time": "2024-11-13T04:45:45.244Z"
   },
   {
    "duration": 5,
    "start_time": "2024-11-13T04:45:45.307Z"
   },
   {
    "duration": 3,
    "start_time": "2024-11-13T04:45:45.314Z"
   },
   {
    "duration": 196,
    "start_time": "2024-11-13T04:45:45.319Z"
   },
   {
    "duration": 15,
    "start_time": "2024-11-13T04:45:45.517Z"
   },
   {
    "duration": 9,
    "start_time": "2024-11-13T09:59:12.654Z"
   },
   {
    "duration": 161,
    "start_time": "2024-11-13T15:09:56.955Z"
   },
   {
    "duration": 2738,
    "start_time": "2024-11-13T15:10:07.135Z"
   },
   {
    "duration": 628,
    "start_time": "2024-11-13T15:10:09.875Z"
   },
   {
    "duration": 22,
    "start_time": "2024-11-13T15:10:10.506Z"
   },
   {
    "duration": 13,
    "start_time": "2024-11-13T15:10:10.530Z"
   },
   {
    "duration": 169,
    "start_time": "2024-11-13T15:10:10.545Z"
   },
   {
    "duration": 19,
    "start_time": "2024-11-13T15:10:10.716Z"
   },
   {
    "duration": 9,
    "start_time": "2024-11-13T15:10:10.737Z"
   },
   {
    "duration": 108,
    "start_time": "2024-11-13T15:10:10.747Z"
   },
   {
    "duration": 19,
    "start_time": "2024-11-13T15:10:10.857Z"
   },
   {
    "duration": 17,
    "start_time": "2024-11-13T15:10:10.878Z"
   },
   {
    "duration": 183,
    "start_time": "2024-11-13T15:10:10.897Z"
   },
   {
    "duration": 6,
    "start_time": "2024-11-13T15:10:11.082Z"
   },
   {
    "duration": 4,
    "start_time": "2024-11-13T15:10:11.090Z"
   },
   {
    "duration": 8,
    "start_time": "2024-11-13T15:10:11.097Z"
   },
   {
    "duration": 4,
    "start_time": "2024-11-13T15:10:11.106Z"
   },
   {
    "duration": 5,
    "start_time": "2024-11-13T15:10:11.112Z"
   },
   {
    "duration": 4,
    "start_time": "2024-11-13T15:10:11.119Z"
   },
   {
    "duration": 4,
    "start_time": "2024-11-13T15:10:11.125Z"
   },
   {
    "duration": 5,
    "start_time": "2024-11-13T15:10:11.130Z"
   },
   {
    "duration": 5,
    "start_time": "2024-11-13T15:10:11.137Z"
   },
   {
    "duration": 6,
    "start_time": "2024-11-13T15:10:11.187Z"
   },
   {
    "duration": 63,
    "start_time": "2024-11-13T15:10:11.195Z"
   },
   {
    "duration": 37,
    "start_time": "2024-11-13T15:10:11.260Z"
   },
   {
    "duration": 6,
    "start_time": "2024-11-13T15:10:11.300Z"
   },
   {
    "duration": 5,
    "start_time": "2024-11-13T15:10:11.307Z"
   },
   {
    "duration": 6,
    "start_time": "2024-11-13T15:10:11.314Z"
   },
   {
    "duration": 4,
    "start_time": "2024-11-13T15:10:11.322Z"
   },
   {
    "duration": 6,
    "start_time": "2024-11-13T15:10:11.327Z"
   },
   {
    "duration": 6,
    "start_time": "2024-11-13T15:10:11.334Z"
   },
   {
    "duration": 4,
    "start_time": "2024-11-13T15:10:11.341Z"
   },
   {
    "duration": 46,
    "start_time": "2024-11-13T15:10:11.346Z"
   },
   {
    "duration": 378,
    "start_time": "2024-11-13T15:10:11.394Z"
   },
   {
    "duration": 1760,
    "start_time": "2024-11-13T15:10:11.774Z"
   },
   {
    "duration": 1711,
    "start_time": "2024-11-13T15:10:13.536Z"
   },
   {
    "duration": 139,
    "start_time": "2024-11-13T15:10:15.249Z"
   },
   {
    "duration": 7,
    "start_time": "2024-11-13T15:10:15.390Z"
   },
   {
    "duration": 6,
    "start_time": "2024-11-13T15:10:15.399Z"
   },
   {
    "duration": 571,
    "start_time": "2024-11-13T15:10:15.407Z"
   },
   {
    "duration": 154,
    "start_time": "2024-11-13T15:10:15.986Z"
   },
   {
    "duration": 14,
    "start_time": "2024-11-13T15:10:16.142Z"
   },
   {
    "duration": 347,
    "start_time": "2024-11-13T15:10:16.161Z"
   },
   {
    "duration": 9,
    "start_time": "2024-11-13T15:10:16.510Z"
   },
   {
    "duration": 7,
    "start_time": "2024-11-13T15:10:16.522Z"
   },
   {
    "duration": 155,
    "start_time": "2024-11-13T15:10:16.531Z"
   },
   {
    "duration": 194,
    "start_time": "2024-11-13T15:10:16.688Z"
   },
   {
    "duration": 3,
    "start_time": "2024-11-13T15:10:16.886Z"
   },
   {
    "duration": 3,
    "start_time": "2024-11-13T15:10:16.891Z"
   },
   {
    "duration": 3,
    "start_time": "2024-11-13T15:10:16.896Z"
   },
   {
    "duration": 7,
    "start_time": "2024-11-13T15:10:16.900Z"
   },
   {
    "duration": 136477,
    "start_time": "2024-11-13T15:11:31.874Z"
   },
   {
    "duration": 13,
    "start_time": "2024-11-13T15:16:41.021Z"
   },
   {
    "duration": 7,
    "start_time": "2024-11-13T15:17:50.309Z"
   },
   {
    "duration": 88,
    "start_time": "2024-11-13T15:33:52.255Z"
   },
   {
    "duration": 40,
    "start_time": "2024-11-13T15:33:58.948Z"
   },
   {
    "duration": 327,
    "start_time": "2024-11-13T15:34:23.700Z"
   },
   {
    "duration": 11,
    "start_time": "2024-11-13T15:34:46.980Z"
   },
   {
    "duration": 78,
    "start_time": "2024-11-13T15:34:49.915Z"
   },
   {
    "duration": 32,
    "start_time": "2024-11-13T15:37:13.282Z"
   },
   {
    "duration": 86,
    "start_time": "2024-11-13T15:37:55.801Z"
   },
   {
    "duration": 722,
    "start_time": "2024-11-13T15:53:11.667Z"
   },
   {
    "duration": 654,
    "start_time": "2024-11-13T15:53:18.442Z"
   },
   {
    "duration": 157,
    "start_time": "2024-11-14T03:38:26.070Z"
   },
   {
    "duration": 2745,
    "start_time": "2024-11-14T03:38:55.340Z"
   },
   {
    "duration": 591,
    "start_time": "2024-11-14T03:38:58.088Z"
   },
   {
    "duration": 23,
    "start_time": "2024-11-14T03:38:58.681Z"
   },
   {
    "duration": 13,
    "start_time": "2024-11-14T03:38:58.705Z"
   },
   {
    "duration": 171,
    "start_time": "2024-11-14T03:38:58.720Z"
   },
   {
    "duration": 21,
    "start_time": "2024-11-14T03:38:58.893Z"
   },
   {
    "duration": 12,
    "start_time": "2024-11-14T03:38:58.915Z"
   },
   {
    "duration": 106,
    "start_time": "2024-11-14T03:38:58.928Z"
   },
   {
    "duration": 18,
    "start_time": "2024-11-14T03:38:59.037Z"
   },
   {
    "duration": 20,
    "start_time": "2024-11-14T03:38:59.058Z"
   },
   {
    "duration": 179,
    "start_time": "2024-11-14T03:38:59.080Z"
   },
   {
    "duration": 11,
    "start_time": "2024-11-14T03:38:59.261Z"
   },
   {
    "duration": 6,
    "start_time": "2024-11-14T03:38:59.274Z"
   },
   {
    "duration": 7,
    "start_time": "2024-11-14T03:38:59.285Z"
   },
   {
    "duration": 4,
    "start_time": "2024-11-14T03:38:59.294Z"
   },
   {
    "duration": 6,
    "start_time": "2024-11-14T03:38:59.299Z"
   },
   {
    "duration": 3,
    "start_time": "2024-11-14T03:38:59.306Z"
   },
   {
    "duration": 4,
    "start_time": "2024-11-14T03:38:59.311Z"
   },
   {
    "duration": 5,
    "start_time": "2024-11-14T03:38:59.316Z"
   },
   {
    "duration": 50,
    "start_time": "2024-11-14T03:38:59.322Z"
   },
   {
    "duration": 6,
    "start_time": "2024-11-14T03:38:59.373Z"
   },
   {
    "duration": 64,
    "start_time": "2024-11-14T03:38:59.381Z"
   },
   {
    "duration": 44,
    "start_time": "2024-11-14T03:38:59.446Z"
   },
   {
    "duration": 8,
    "start_time": "2024-11-14T03:38:59.491Z"
   },
   {
    "duration": 6,
    "start_time": "2024-11-14T03:38:59.501Z"
   },
   {
    "duration": 5,
    "start_time": "2024-11-14T03:38:59.509Z"
   },
   {
    "duration": 4,
    "start_time": "2024-11-14T03:38:59.516Z"
   },
   {
    "duration": 6,
    "start_time": "2024-11-14T03:38:59.521Z"
   },
   {
    "duration": 6,
    "start_time": "2024-11-14T03:38:59.528Z"
   },
   {
    "duration": 37,
    "start_time": "2024-11-14T03:38:59.535Z"
   },
   {
    "duration": 5,
    "start_time": "2024-11-14T03:38:59.574Z"
   },
   {
    "duration": 390,
    "start_time": "2024-11-14T03:38:59.581Z"
   },
   {
    "duration": 1727,
    "start_time": "2024-11-14T03:38:59.973Z"
   },
   {
    "duration": 1668,
    "start_time": "2024-11-14T03:39:01.702Z"
   },
   {
    "duration": 140,
    "start_time": "2024-11-14T03:39:03.373Z"
   },
   {
    "duration": 7,
    "start_time": "2024-11-14T03:39:03.515Z"
   },
   {
    "duration": 6,
    "start_time": "2024-11-14T03:39:03.523Z"
   },
   {
    "duration": 529,
    "start_time": "2024-11-14T03:39:03.530Z"
   },
   {
    "duration": 156,
    "start_time": "2024-11-14T03:39:04.061Z"
   },
   {
    "duration": 17,
    "start_time": "2024-11-14T03:39:04.220Z"
   },
   {
    "duration": 339,
    "start_time": "2024-11-14T03:39:04.241Z"
   },
   {
    "duration": 9,
    "start_time": "2024-11-14T03:39:04.582Z"
   },
   {
    "duration": 7,
    "start_time": "2024-11-14T03:39:04.592Z"
   },
   {
    "duration": 154,
    "start_time": "2024-11-14T03:39:04.602Z"
   },
   {
    "duration": 200,
    "start_time": "2024-11-14T03:39:04.759Z"
   },
   {
    "duration": 4,
    "start_time": "2024-11-14T03:39:04.969Z"
   },
   {
    "duration": 2,
    "start_time": "2024-11-14T03:39:04.975Z"
   },
   {
    "duration": 2,
    "start_time": "2024-11-14T03:39:04.979Z"
   },
   {
    "duration": 8,
    "start_time": "2024-11-14T03:39:04.983Z"
   },
   {
    "duration": 3,
    "start_time": "2024-11-14T03:39:16.239Z"
   },
   {
    "duration": 135045,
    "start_time": "2024-11-14T03:39:29.717Z"
   },
   {
    "duration": 11,
    "start_time": "2024-11-14T03:41:44.769Z"
   },
   {
    "duration": 599,
    "start_time": "2024-11-14T03:41:44.782Z"
   },
   {
    "duration": 0,
    "start_time": "2024-11-14T03:41:45.383Z"
   },
   {
    "duration": 0,
    "start_time": "2024-11-14T03:41:45.384Z"
   },
   {
    "duration": 0,
    "start_time": "2024-11-14T03:41:45.386Z"
   },
   {
    "duration": 0,
    "start_time": "2024-11-14T03:41:45.387Z"
   },
   {
    "duration": 15,
    "start_time": "2024-11-14T03:44:10.395Z"
   },
   {
    "duration": 19,
    "start_time": "2024-11-14T03:44:19.682Z"
   },
   {
    "duration": 14,
    "start_time": "2024-11-14T03:45:39.270Z"
   },
   {
    "duration": 4,
    "start_time": "2024-11-14T03:45:41.442Z"
   },
   {
    "duration": 4,
    "start_time": "2024-11-14T03:46:28.586Z"
   },
   {
    "duration": 784,
    "start_time": "2024-11-14T03:47:09.986Z"
   },
   {
    "duration": 347,
    "start_time": "2024-11-14T03:47:18.136Z"
   },
   {
    "duration": 5,
    "start_time": "2024-11-14T03:47:57.396Z"
   },
   {
    "duration": 52178,
    "start_time": "2024-11-14T03:49:34.375Z"
   },
   {
    "duration": 4,
    "start_time": "2024-11-14T03:52:02.488Z"
   },
   {
    "duration": 5,
    "start_time": "2024-11-14T03:53:20.777Z"
   },
   {
    "duration": 3,
    "start_time": "2024-11-14T03:53:41.424Z"
   },
   {
    "duration": 5,
    "start_time": "2024-11-14T03:58:22.646Z"
   },
   {
    "duration": 3,
    "start_time": "2024-11-14T03:58:48.246Z"
   },
   {
    "duration": 4,
    "start_time": "2024-11-14T03:59:54.329Z"
   },
   {
    "duration": 4,
    "start_time": "2024-11-14T04:00:08.330Z"
   },
   {
    "duration": 4,
    "start_time": "2024-11-14T04:01:38.692Z"
   },
   {
    "duration": 499,
    "start_time": "2024-11-14T04:01:38.698Z"
   },
   {
    "duration": 22,
    "start_time": "2024-11-14T04:01:39.199Z"
   },
   {
    "duration": 13,
    "start_time": "2024-11-14T04:01:39.222Z"
   },
   {
    "duration": 168,
    "start_time": "2024-11-14T04:01:39.238Z"
   },
   {
    "duration": 18,
    "start_time": "2024-11-14T04:01:39.408Z"
   },
   {
    "duration": 10,
    "start_time": "2024-11-14T04:01:39.427Z"
   },
   {
    "duration": 125,
    "start_time": "2024-11-14T04:01:39.438Z"
   },
   {
    "duration": 23,
    "start_time": "2024-11-14T04:01:39.565Z"
   },
   {
    "duration": 12,
    "start_time": "2024-11-14T04:01:39.589Z"
   },
   {
    "duration": 179,
    "start_time": "2024-11-14T04:01:39.605Z"
   },
   {
    "duration": 5,
    "start_time": "2024-11-14T04:01:39.786Z"
   },
   {
    "duration": 4,
    "start_time": "2024-11-14T04:01:39.792Z"
   },
   {
    "duration": 7,
    "start_time": "2024-11-14T04:01:39.797Z"
   },
   {
    "duration": 3,
    "start_time": "2024-11-14T04:01:39.806Z"
   },
   {
    "duration": 5,
    "start_time": "2024-11-14T04:01:39.811Z"
   },
   {
    "duration": 3,
    "start_time": "2024-11-14T04:01:39.818Z"
   },
   {
    "duration": 48,
    "start_time": "2024-11-14T04:01:39.823Z"
   },
   {
    "duration": 5,
    "start_time": "2024-11-14T04:01:39.872Z"
   },
   {
    "duration": 4,
    "start_time": "2024-11-14T04:01:39.878Z"
   },
   {
    "duration": 6,
    "start_time": "2024-11-14T04:01:39.884Z"
   },
   {
    "duration": 81,
    "start_time": "2024-11-14T04:01:39.892Z"
   },
   {
    "duration": 22,
    "start_time": "2024-11-14T04:01:39.975Z"
   },
   {
    "duration": 10,
    "start_time": "2024-11-14T04:01:39.999Z"
   },
   {
    "duration": 18,
    "start_time": "2024-11-14T04:01:40.010Z"
   },
   {
    "duration": 6,
    "start_time": "2024-11-14T04:01:40.029Z"
   },
   {
    "duration": 4,
    "start_time": "2024-11-14T04:01:40.037Z"
   },
   {
    "duration": 29,
    "start_time": "2024-11-14T04:01:40.043Z"
   },
   {
    "duration": 5,
    "start_time": "2024-11-14T04:01:40.077Z"
   },
   {
    "duration": 4,
    "start_time": "2024-11-14T04:01:40.084Z"
   },
   {
    "duration": 6,
    "start_time": "2024-11-14T04:01:40.089Z"
   },
   {
    "duration": 445,
    "start_time": "2024-11-14T04:01:40.096Z"
   },
   {
    "duration": 1748,
    "start_time": "2024-11-14T04:01:40.543Z"
   },
   {
    "duration": 1539,
    "start_time": "2024-11-14T04:01:42.293Z"
   },
   {
    "duration": 138,
    "start_time": "2024-11-14T04:01:43.834Z"
   },
   {
    "duration": 7,
    "start_time": "2024-11-14T04:01:43.974Z"
   },
   {
    "duration": 6,
    "start_time": "2024-11-14T04:01:43.982Z"
   },
   {
    "duration": 568,
    "start_time": "2024-11-14T04:01:43.990Z"
   },
   {
    "duration": 160,
    "start_time": "2024-11-14T04:01:44.559Z"
   },
   {
    "duration": 17,
    "start_time": "2024-11-14T04:01:44.722Z"
   },
   {
    "duration": 334,
    "start_time": "2024-11-14T04:01:44.741Z"
   },
   {
    "duration": 10,
    "start_time": "2024-11-14T04:01:45.077Z"
   },
   {
    "duration": 8,
    "start_time": "2024-11-14T04:01:45.088Z"
   },
   {
    "duration": 157,
    "start_time": "2024-11-14T04:01:45.098Z"
   },
   {
    "duration": 295,
    "start_time": "2024-11-14T04:01:45.257Z"
   },
   {
    "duration": 4,
    "start_time": "2024-11-14T04:01:45.554Z"
   },
   {
    "duration": 11,
    "start_time": "2024-11-14T04:01:45.559Z"
   },
   {
    "duration": 2,
    "start_time": "2024-11-14T04:01:45.572Z"
   },
   {
    "duration": 15,
    "start_time": "2024-11-14T04:01:45.576Z"
   },
   {
    "duration": 4,
    "start_time": "2024-11-14T04:01:45.593Z"
   },
   {
    "duration": 4,
    "start_time": "2024-11-14T04:01:45.599Z"
   },
   {
    "duration": 3,
    "start_time": "2024-11-14T04:01:45.605Z"
   },
   {
    "duration": 134405,
    "start_time": "2024-11-14T04:01:45.609Z"
   },
   {
    "duration": 54,
    "start_time": "2024-11-14T04:04:00.016Z"
   },
   {
    "duration": 0,
    "start_time": "2024-11-14T04:04:00.072Z"
   },
   {
    "duration": 0,
    "start_time": "2024-11-14T04:04:00.074Z"
   },
   {
    "duration": 0,
    "start_time": "2024-11-14T04:04:00.075Z"
   },
   {
    "duration": 0,
    "start_time": "2024-11-14T04:04:00.077Z"
   },
   {
    "duration": 0,
    "start_time": "2024-11-14T04:04:00.078Z"
   },
   {
    "duration": 11,
    "start_time": "2024-11-14T04:04:56.500Z"
   },
   {
    "duration": 372,
    "start_time": "2024-11-14T04:05:04.120Z"
   },
   {
    "duration": 5,
    "start_time": "2024-11-14T04:05:07.879Z"
   },
   {
    "duration": 4,
    "start_time": "2024-11-14T04:05:10.699Z"
   },
   {
    "duration": 3,
    "start_time": "2024-11-14T04:06:14.098Z"
   },
   {
    "duration": 6,
    "start_time": "2024-11-14T04:07:45.291Z"
   },
   {
    "duration": 3,
    "start_time": "2024-11-14T04:08:02.025Z"
   },
   {
    "duration": 4,
    "start_time": "2024-11-14T04:08:13.783Z"
   },
   {
    "duration": 14,
    "start_time": "2024-11-14T04:15:46.236Z"
   },
   {
    "duration": 15,
    "start_time": "2024-11-14T04:16:05.209Z"
   },
   {
    "duration": 3,
    "start_time": "2024-11-14T04:16:06.001Z"
   },
   {
    "duration": 8,
    "start_time": "2024-11-14T04:18:53.992Z"
   },
   {
    "duration": 7,
    "start_time": "2024-11-14T04:18:59.053Z"
   },
   {
    "duration": 3,
    "start_time": "2024-11-14T04:19:13.695Z"
   },
   {
    "duration": 5,
    "start_time": "2024-11-14T04:19:15.491Z"
   },
   {
    "duration": 3,
    "start_time": "2024-11-14T04:19:18.895Z"
   },
   {
    "duration": 134036,
    "start_time": "2024-11-14T04:19:26.520Z"
   },
   {
    "duration": 12,
    "start_time": "2024-11-14T04:21:58.369Z"
   },
   {
    "duration": 699,
    "start_time": "2024-11-14T04:22:01.790Z"
   },
   {
    "duration": 5,
    "start_time": "2024-11-14T04:22:05.901Z"
   },
   {
    "duration": 6,
    "start_time": "2024-11-14T04:22:09.168Z"
   },
   {
    "duration": 462,
    "start_time": "2024-11-14T04:22:17.265Z"
   },
   {
    "duration": 15,
    "start_time": "2024-11-14T04:23:17.139Z"
   },
   {
    "duration": 14,
    "start_time": "2024-11-14T04:23:24.657Z"
   },
   {
    "duration": 15,
    "start_time": "2024-11-14T04:23:30.300Z"
   },
   {
    "duration": 7,
    "start_time": "2024-11-14T04:23:30.872Z"
   },
   {
    "duration": 6,
    "start_time": "2024-11-14T04:23:52.113Z"
   },
   {
    "duration": 3,
    "start_time": "2024-11-14T04:24:04.728Z"
   },
   {
    "duration": 3,
    "start_time": "2024-11-14T04:24:11.041Z"
   },
   {
    "duration": 40288,
    "start_time": "2024-11-14T04:28:21.692Z"
   },
   {
    "duration": 146,
    "start_time": "2024-11-14T04:31:54.318Z"
   },
   {
    "duration": 115,
    "start_time": "2024-11-14T04:32:25.155Z"
   },
   {
    "duration": 119,
    "start_time": "2024-11-14T04:32:29.608Z"
   },
   {
    "duration": 10,
    "start_time": "2024-11-14T04:49:43.941Z"
   },
   {
    "duration": 322,
    "start_time": "2024-11-14T04:53:08.159Z"
   },
   {
    "duration": 85,
    "start_time": "2024-11-14T04:55:15.130Z"
   },
   {
    "duration": 25,
    "start_time": "2024-11-14T04:55:43.586Z"
   },
   {
    "duration": 24,
    "start_time": "2024-11-14T04:55:52.062Z"
   },
   {
    "duration": 14,
    "start_time": "2024-11-14T04:57:49.399Z"
   },
   {
    "duration": 3,
    "start_time": "2024-11-14T04:58:12.446Z"
   },
   {
    "duration": 13,
    "start_time": "2024-11-14T04:58:28.543Z"
   },
   {
    "duration": 507,
    "start_time": "2024-11-14T04:58:39.785Z"
   },
   {
    "duration": 498,
    "start_time": "2024-11-14T04:58:49.595Z"
   },
   {
    "duration": 496,
    "start_time": "2024-11-14T04:59:02.084Z"
   },
   {
    "duration": 32,
    "start_time": "2024-11-14T04:59:51.382Z"
   },
   {
    "duration": 23,
    "start_time": "2024-11-14T05:00:09.069Z"
   },
   {
    "duration": 149,
    "start_time": "2024-11-14T05:11:05.486Z"
   },
   {
    "duration": 165,
    "start_time": "2024-11-14T05:11:12.323Z"
   },
   {
    "duration": 14,
    "start_time": "2024-11-14T05:12:07.781Z"
   },
   {
    "duration": 15,
    "start_time": "2024-11-14T05:12:28.720Z"
   },
   {
    "duration": 14,
    "start_time": "2024-11-14T05:12:41.837Z"
   },
   {
    "duration": 25,
    "start_time": "2024-11-14T05:13:30.643Z"
   },
   {
    "duration": 22,
    "start_time": "2024-11-14T05:13:51.251Z"
   },
   {
    "duration": 14,
    "start_time": "2024-11-14T05:14:01.260Z"
   },
   {
    "duration": 18,
    "start_time": "2024-11-14T05:14:07.382Z"
   },
   {
    "duration": 3,
    "start_time": "2024-11-14T05:16:54.526Z"
   },
   {
    "duration": 444,
    "start_time": "2024-11-14T05:16:54.531Z"
   },
   {
    "duration": 20,
    "start_time": "2024-11-14T05:16:54.978Z"
   },
   {
    "duration": 12,
    "start_time": "2024-11-14T05:16:55.000Z"
   },
   {
    "duration": 170,
    "start_time": "2024-11-14T05:16:55.014Z"
   },
   {
    "duration": 19,
    "start_time": "2024-11-14T05:16:55.185Z"
   },
   {
    "duration": 13,
    "start_time": "2024-11-14T05:16:55.206Z"
   },
   {
    "duration": 100,
    "start_time": "2024-11-14T05:16:55.220Z"
   },
   {
    "duration": 21,
    "start_time": "2024-11-14T05:16:55.324Z"
   },
   {
    "duration": 25,
    "start_time": "2024-11-14T05:16:55.347Z"
   },
   {
    "duration": 180,
    "start_time": "2024-11-14T05:16:55.374Z"
   },
   {
    "duration": 14,
    "start_time": "2024-11-14T05:16:55.556Z"
   },
   {
    "duration": 4,
    "start_time": "2024-11-14T05:16:55.572Z"
   },
   {
    "duration": 6,
    "start_time": "2024-11-14T05:16:55.578Z"
   },
   {
    "duration": 5,
    "start_time": "2024-11-14T05:16:55.586Z"
   },
   {
    "duration": 7,
    "start_time": "2024-11-14T05:16:55.592Z"
   },
   {
    "duration": 4,
    "start_time": "2024-11-14T05:16:55.600Z"
   },
   {
    "duration": 4,
    "start_time": "2024-11-14T05:16:55.605Z"
   },
   {
    "duration": 4,
    "start_time": "2024-11-14T05:16:55.612Z"
   },
   {
    "duration": 4,
    "start_time": "2024-11-14T05:16:55.618Z"
   },
   {
    "duration": 47,
    "start_time": "2024-11-14T05:16:55.624Z"
   },
   {
    "duration": 62,
    "start_time": "2024-11-14T05:16:55.674Z"
   },
   {
    "duration": 37,
    "start_time": "2024-11-14T05:16:55.738Z"
   },
   {
    "duration": 7,
    "start_time": "2024-11-14T05:16:55.780Z"
   },
   {
    "duration": 5,
    "start_time": "2024-11-14T05:16:55.789Z"
   },
   {
    "duration": 6,
    "start_time": "2024-11-14T05:16:55.796Z"
   },
   {
    "duration": 4,
    "start_time": "2024-11-14T05:16:55.804Z"
   },
   {
    "duration": 6,
    "start_time": "2024-11-14T05:16:55.810Z"
   },
   {
    "duration": 6,
    "start_time": "2024-11-14T05:16:55.817Z"
   },
   {
    "duration": 47,
    "start_time": "2024-11-14T05:16:55.825Z"
   },
   {
    "duration": 6,
    "start_time": "2024-11-14T05:16:55.874Z"
   },
   {
    "duration": 531,
    "start_time": "2024-11-14T05:16:55.881Z"
   },
   {
    "duration": 1758,
    "start_time": "2024-11-14T05:16:56.414Z"
   },
   {
    "duration": 1690,
    "start_time": "2024-11-14T05:16:58.174Z"
   },
   {
    "duration": 135,
    "start_time": "2024-11-14T05:16:59.870Z"
   },
   {
    "duration": 7,
    "start_time": "2024-11-14T05:17:00.008Z"
   },
   {
    "duration": 7,
    "start_time": "2024-11-14T05:17:00.017Z"
   },
   {
    "duration": 590,
    "start_time": "2024-11-14T05:17:00.026Z"
   },
   {
    "duration": 157,
    "start_time": "2024-11-14T05:17:00.618Z"
   },
   {
    "duration": 15,
    "start_time": "2024-11-14T05:17:00.777Z"
   },
   {
    "duration": 335,
    "start_time": "2024-11-14T05:17:00.794Z"
   },
   {
    "duration": 11,
    "start_time": "2024-11-14T05:17:01.131Z"
   },
   {
    "duration": 8,
    "start_time": "2024-11-14T05:17:01.143Z"
   },
   {
    "duration": 159,
    "start_time": "2024-11-14T05:17:01.152Z"
   },
   {
    "duration": 208,
    "start_time": "2024-11-14T05:17:01.313Z"
   },
   {
    "duration": 5,
    "start_time": "2024-11-14T05:17:01.523Z"
   },
   {
    "duration": 4,
    "start_time": "2024-11-14T05:17:01.529Z"
   },
   {
    "duration": 3,
    "start_time": "2024-11-14T05:17:01.534Z"
   },
   {
    "duration": 36,
    "start_time": "2024-11-14T05:17:01.538Z"
   },
   {
    "duration": 5,
    "start_time": "2024-11-14T05:17:01.576Z"
   },
   {
    "duration": 4,
    "start_time": "2024-11-14T05:17:01.582Z"
   },
   {
    "duration": 5,
    "start_time": "2024-11-14T05:17:01.588Z"
   },
   {
    "duration": 3,
    "start_time": "2024-11-14T05:17:01.595Z"
   },
   {
    "duration": 134871,
    "start_time": "2024-11-14T05:17:01.600Z"
   },
   {
    "duration": 12,
    "start_time": "2024-11-14T05:19:16.473Z"
   },
   {
    "duration": 603,
    "start_time": "2024-11-14T05:19:16.486Z"
   },
   {
    "duration": 87,
    "start_time": "2024-11-14T05:19:17.091Z"
   },
   {
    "duration": 6,
    "start_time": "2024-11-14T05:19:17.182Z"
   },
   {
    "duration": 141,
    "start_time": "2024-11-14T05:19:17.190Z"
   },
   {
    "duration": 49,
    "start_time": "2024-11-14T05:19:17.332Z"
   }
  ],
  "kernelspec": {
   "display_name": "Python 3 (ipykernel)",
   "language": "python",
   "name": "python3"
  },
  "language_info": {
   "codemirror_mode": {
    "name": "ipython",
    "version": 3
   },
   "file_extension": ".py",
   "mimetype": "text/x-python",
   "name": "python",
   "nbconvert_exporter": "python",
   "pygments_lexer": "ipython3",
   "version": "3.9.19"
  },
  "toc": {
   "base_numbering": 1,
   "nav_menu": {},
   "number_sections": true,
   "sideBar": true,
   "skip_h1_title": true,
   "title_cell": "Table of Contents",
   "title_sidebar": "Contents",
   "toc_cell": false,
   "toc_position": {},
   "toc_section_display": true,
   "toc_window_display": false
  }
 },
 "nbformat": 4,
 "nbformat_minor": 2
}
